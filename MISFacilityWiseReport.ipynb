{
 "cells": [
  {
   "cell_type": "code",
   "execution_count": 1,
   "id": "b6739c96",
   "metadata": {},
   "outputs": [],
   "source": [
    "import numpy as np \n",
    "import pandas as pd \n",
    "import os \n",
    "import matplotlib.pyplot as plt \n",
    "import seaborn as sns\n",
    "import missingno \n"
   ]
  },
  {
   "cell_type": "code",
   "execution_count": 2,
   "id": "2c22822a",
   "metadata": {},
   "outputs": [],
   "source": [
    "data = pd.read_excel('MISReports_VPS_ABC (version 1).xlsb.xlsx', sheet_name ='MISFacilityWiseReport')"
   ]
  },
  {
   "cell_type": "code",
   "execution_count": 3,
   "id": "a03b7de8",
   "metadata": {},
   "outputs": [
    {
     "data": {
      "text/html": [
       "<div>\n",
       "<style scoped>\n",
       "    .dataframe tbody tr th:only-of-type {\n",
       "        vertical-align: middle;\n",
       "    }\n",
       "\n",
       "    .dataframe tbody tr th {\n",
       "        vertical-align: top;\n",
       "    }\n",
       "\n",
       "    .dataframe thead th {\n",
       "        text-align: right;\n",
       "    }\n",
       "</style>\n",
       "<table border=\"1\" class=\"dataframe\">\n",
       "  <thead>\n",
       "    <tr style=\"text-align: right;\">\n",
       "      <th></th>\n",
       "      <th>CIF_ID</th>\n",
       "      <th>IMAC_ID</th>\n",
       "      <th>COUNTERPARTY_NAME</th>\n",
       "      <th>BUSINESS_SEGMENT</th>\n",
       "      <th>REGION</th>\n",
       "      <th>GROUPNAME</th>\n",
       "      <th>INDUSTRY_NAME</th>\n",
       "      <th>LEGAL_TYPE</th>\n",
       "      <th>FacilityID</th>\n",
       "      <th>MAIN_LIMIT_NAME</th>\n",
       "      <th>...</th>\n",
       "      <th>Unnamed: 13</th>\n",
       "      <th>SECURITY_DESCRIPTION</th>\n",
       "      <th>FMV</th>\n",
       "      <th>ABC_SHARE_PER</th>\n",
       "      <th>ABC_SHARE</th>\n",
       "      <th>Held</th>\n",
       "      <th>TENOR</th>\n",
       "      <th>PRICING</th>\n",
       "      <th>PRIORITY_SECTOR</th>\n",
       "      <th>SENSITIVE_SECTOR</th>\n",
       "    </tr>\n",
       "  </thead>\n",
       "  <tbody>\n",
       "    <tr>\n",
       "      <th>0</th>\n",
       "      <td>0</td>\n",
       "      <td>21087</td>\n",
       "      <td>21087-xxxxx</td>\n",
       "      <td>CB - MidCorp</td>\n",
       "      <td>NaN</td>\n",
       "      <td>NaN</td>\n",
       "      <td>(IND076) OTHER INDUSTRIES</td>\n",
       "      <td>Public Ltd. Companies (Listed)</td>\n",
       "      <td>FAC-4699</td>\n",
       "      <td>Short Term Loan Unsecured</td>\n",
       "      <td>...</td>\n",
       "      <td>NaN</td>\n",
       "      <td>P&amp;M DESC</td>\n",
       "      <td>0</td>\n",
       "      <td>1.0</td>\n",
       "      <td>0.0</td>\n",
       "      <td>No</td>\n",
       "      <td>9.0</td>\n",
       "      <td>NaN</td>\n",
       "      <td>Non Priority-Sector</td>\n",
       "      <td>NaN</td>\n",
       "    </tr>\n",
       "    <tr>\n",
       "      <th>1</th>\n",
       "      <td>0</td>\n",
       "      <td>21087</td>\n",
       "      <td>21087-xxxxx</td>\n",
       "      <td>CB - MidCorp</td>\n",
       "      <td>NaN</td>\n",
       "      <td>NaN</td>\n",
       "      <td>(IND076) OTHER INDUSTRIES</td>\n",
       "      <td>Public Ltd. Companies (Listed)</td>\n",
       "      <td>FAC-4699</td>\n",
       "      <td>Short Term Loan Unsecured</td>\n",
       "      <td>...</td>\n",
       "      <td>NaN</td>\n",
       "      <td>P&amp;M DESC</td>\n",
       "      <td>0</td>\n",
       "      <td>1.0</td>\n",
       "      <td>0.0</td>\n",
       "      <td>No</td>\n",
       "      <td>9.0</td>\n",
       "      <td>NaN</td>\n",
       "      <td>Non Priority-Sector</td>\n",
       "      <td>NaN</td>\n",
       "    </tr>\n",
       "    <tr>\n",
       "      <th>2</th>\n",
       "      <td>0</td>\n",
       "      <td>21087</td>\n",
       "      <td>21087-xxxxx</td>\n",
       "      <td>CB - MidCorp</td>\n",
       "      <td>NaN</td>\n",
       "      <td>NaN</td>\n",
       "      <td>(IND076) OTHER INDUSTRIES</td>\n",
       "      <td>Public Ltd. Companies (Listed)</td>\n",
       "      <td>FAC-4699</td>\n",
       "      <td>Short Term Loan Unsecured</td>\n",
       "      <td>...</td>\n",
       "      <td>NaN</td>\n",
       "      <td>All CAs DESC</td>\n",
       "      <td>0</td>\n",
       "      <td>1.0</td>\n",
       "      <td>0.0</td>\n",
       "      <td>No</td>\n",
       "      <td>9.0</td>\n",
       "      <td>NaN</td>\n",
       "      <td>Non Priority-Sector</td>\n",
       "      <td>NaN</td>\n",
       "    </tr>\n",
       "    <tr>\n",
       "      <th>3</th>\n",
       "      <td>0</td>\n",
       "      <td>21176</td>\n",
       "      <td>21176-xxxxx</td>\n",
       "      <td>CB - MidCorp</td>\n",
       "      <td>NaN</td>\n",
       "      <td>NaN</td>\n",
       "      <td>(IND076) OTHER INDUSTRIES</td>\n",
       "      <td>Private Ltd. Companies</td>\n",
       "      <td>FAC-3018</td>\n",
       "      <td>Working Capital Demand Loan Secured</td>\n",
       "      <td>...</td>\n",
       "      <td>NaN</td>\n",
       "      <td>Land (non Agri) DESC</td>\n",
       "      <td>0</td>\n",
       "      <td>1.0</td>\n",
       "      <td>0.0</td>\n",
       "      <td>No</td>\n",
       "      <td>17.0</td>\n",
       "      <td>NaN</td>\n",
       "      <td>Non Priority-Sector</td>\n",
       "      <td>NaN</td>\n",
       "    </tr>\n",
       "    <tr>\n",
       "      <th>4</th>\n",
       "      <td>0</td>\n",
       "      <td>21176</td>\n",
       "      <td>21176-xxxxx</td>\n",
       "      <td>CB - MidCorp</td>\n",
       "      <td>NaN</td>\n",
       "      <td>NaN</td>\n",
       "      <td>(IND076) OTHER INDUSTRIES</td>\n",
       "      <td>Private Ltd. Companies</td>\n",
       "      <td>FAC-3018</td>\n",
       "      <td>Working Capital Demand Loan Secured</td>\n",
       "      <td>...</td>\n",
       "      <td>NaN</td>\n",
       "      <td>All CAs DESC</td>\n",
       "      <td>0</td>\n",
       "      <td>1.0</td>\n",
       "      <td>0.0</td>\n",
       "      <td>No</td>\n",
       "      <td>17.0</td>\n",
       "      <td>NaN</td>\n",
       "      <td>Non Priority-Sector</td>\n",
       "      <td>NaN</td>\n",
       "    </tr>\n",
       "  </tbody>\n",
       "</table>\n",
       "<p>5 rows × 23 columns</p>\n",
       "</div>"
      ],
      "text/plain": [
       "  CIF_ID  IMAC_ID COUNTERPARTY_NAME BUSINESS_SEGMENT REGION GROUPNAME  \\\n",
       "0      0    21087       21087-xxxxx     CB - MidCorp    NaN       NaN   \n",
       "1      0    21087       21087-xxxxx     CB - MidCorp    NaN       NaN   \n",
       "2      0    21087       21087-xxxxx     CB - MidCorp    NaN       NaN   \n",
       "3      0    21176       21176-xxxxx     CB - MidCorp    NaN       NaN   \n",
       "4      0    21176       21176-xxxxx     CB - MidCorp    NaN       NaN   \n",
       "\n",
       "               INDUSTRY_NAME                      LEGAL_TYPE FacilityID  \\\n",
       "0  (IND076) OTHER INDUSTRIES  Public Ltd. Companies (Listed)   FAC-4699   \n",
       "1  (IND076) OTHER INDUSTRIES  Public Ltd. Companies (Listed)   FAC-4699   \n",
       "2  (IND076) OTHER INDUSTRIES  Public Ltd. Companies (Listed)   FAC-4699   \n",
       "3  (IND076) OTHER INDUSTRIES          Private Ltd. Companies   FAC-3018   \n",
       "4  (IND076) OTHER INDUSTRIES          Private Ltd. Companies   FAC-3018   \n",
       "\n",
       "                       MAIN_LIMIT_NAME  ... Unnamed: 13  SECURITY_DESCRIPTION  \\\n",
       "0            Short Term Loan Unsecured  ...         NaN              P&M DESC   \n",
       "1            Short Term Loan Unsecured  ...         NaN              P&M DESC   \n",
       "2            Short Term Loan Unsecured  ...         NaN          All CAs DESC   \n",
       "3  Working Capital Demand Loan Secured  ...         NaN  Land (non Agri) DESC   \n",
       "4  Working Capital Demand Loan Secured  ...         NaN          All CAs DESC   \n",
       "\n",
       "  FMV  ABC_SHARE_PER ABC_SHARE  Held  TENOR  PRICING      PRIORITY_SECTOR  \\\n",
       "0   0            1.0       0.0    No    9.0      NaN  Non Priority-Sector   \n",
       "1   0            1.0       0.0    No    9.0      NaN  Non Priority-Sector   \n",
       "2   0            1.0       0.0    No    9.0      NaN  Non Priority-Sector   \n",
       "3   0            1.0       0.0    No   17.0      NaN  Non Priority-Sector   \n",
       "4   0            1.0       0.0    No   17.0      NaN  Non Priority-Sector   \n",
       "\n",
       "   SENSITIVE_SECTOR  \n",
       "0               NaN  \n",
       "1               NaN  \n",
       "2               NaN  \n",
       "3               NaN  \n",
       "4               NaN  \n",
       "\n",
       "[5 rows x 23 columns]"
      ]
     },
     "execution_count": 3,
     "metadata": {},
     "output_type": "execute_result"
    }
   ],
   "source": [
    "data.head()"
   ]
  },
  {
   "cell_type": "code",
   "execution_count": 4,
   "id": "2b0927be",
   "metadata": {},
   "outputs": [
    {
     "name": "stdout",
     "output_type": "stream",
     "text": [
      "<class 'pandas.core.frame.DataFrame'>\n",
      "RangeIndex: 7852 entries, 0 to 7851\n",
      "Data columns (total 23 columns):\n",
      " #   Column                Non-Null Count  Dtype  \n",
      "---  ------                --------------  -----  \n",
      " 0   CIF_ID                7850 non-null   object \n",
      " 1   IMAC_ID               7852 non-null   int64  \n",
      " 2   COUNTERPARTY_NAME     7852 non-null   object \n",
      " 3   BUSINESS_SEGMENT      7831 non-null   object \n",
      " 4   REGION                6037 non-null   object \n",
      " 5   GROUPNAME             3591 non-null   object \n",
      " 6   INDUSTRY_NAME         7851 non-null   object \n",
      " 7   LEGAL_TYPE            7852 non-null   object \n",
      " 8   FacilityID            7852 non-null   object \n",
      " 9   MAIN_LIMIT_NAME       7852 non-null   object \n",
      " 10  CCY                   7852 non-null   object \n",
      " 11  AMOUNT                7852 non-null   float64\n",
      " 12  FACILITY_RATING       6020 non-null   object \n",
      " 13  Unnamed: 13           0 non-null      float64\n",
      " 14  SECURITY_DESCRIPTION  6073 non-null   object \n",
      " 15  FMV                   7852 non-null   int64  \n",
      " 16  ABC_SHARE_PER         7852 non-null   float64\n",
      " 17  ABC_SHARE             7852 non-null   float64\n",
      " 18  Held                  7852 non-null   object \n",
      " 19  TENOR                 7852 non-null   float64\n",
      " 20  PRICING               3815 non-null   object \n",
      " 21  PRIORITY_SECTOR       6384 non-null   object \n",
      " 22  SENSITIVE_SECTOR      1561 non-null   object \n",
      "dtypes: float64(5), int64(2), object(16)\n",
      "memory usage: 1.4+ MB\n"
     ]
    }
   ],
   "source": [
    "data.info()"
   ]
  },
  {
   "cell_type": "code",
   "execution_count": 5,
   "id": "e3ee7230",
   "metadata": {},
   "outputs": [
    {
     "data": {
      "text/plain": [
       "<AxesSubplot:>"
      ]
     },
     "execution_count": 5,
     "metadata": {},
     "output_type": "execute_result"
    },
    {
     "data": {
      "image/png": "[encoded data removed]",
      "text/plain": [
       "<Figure size 1800x720 with 3 Axes>"
      ]
     },
     "metadata": {
      "needs_background": "light"
     },
     "output_type": "display_data"
    }
   ],
   "source": [
    "import missingno \n",
    "missingno.bar(data)\n"
   ]
  },
  {
   "cell_type": "code",
   "execution_count": 6,
   "id": "16966908",
   "metadata": {},
   "outputs": [
    {
     "data": {
      "text/plain": [
       "CIF_ID                     2\n",
       "IMAC_ID                    0\n",
       "COUNTERPARTY_NAME          0\n",
       "BUSINESS_SEGMENT          21\n",
       "REGION                  1815\n",
       "GROUPNAME               4261\n",
       "INDUSTRY_NAME              1\n",
       "LEGAL_TYPE                 0\n",
       "FacilityID                 0\n",
       "MAIN_LIMIT_NAME            0\n",
       "CCY                        0\n",
       "AMOUNT                     0\n",
       "FACILITY_RATING         1832\n",
       "Unnamed: 13             7852\n",
       "SECURITY_DESCRIPTION    1779\n",
       "FMV                        0\n",
       "ABC_SHARE_PER              0\n",
       "ABC_SHARE                  0\n",
       "Held                       0\n",
       "TENOR                      0\n",
       "PRICING                 4037\n",
       "PRIORITY_SECTOR         1468\n",
       "SENSITIVE_SECTOR        6291\n",
       "dtype: int64"
      ]
     },
     "execution_count": 6,
     "metadata": {},
     "output_type": "execute_result"
    }
   ],
   "source": [
    "data.isna().sum()"
   ]
  },
  {
   "cell_type": "code",
   "execution_count": 7,
   "id": "abcca70c",
   "metadata": {},
   "outputs": [],
   "source": [
    "null_more_than20=data.isna().sum()/len(data)*100>20"
   ]
  },
  {
   "cell_type": "code",
   "execution_count": 8,
   "id": "a08d922f",
   "metadata": {},
   "outputs": [
    {
     "data": {
      "text/plain": [
       "CIF_ID                  False\n",
       "IMAC_ID                 False\n",
       "COUNTERPARTY_NAME       False\n",
       "BUSINESS_SEGMENT        False\n",
       "REGION                   True\n",
       "GROUPNAME                True\n",
       "INDUSTRY_NAME           False\n",
       "LEGAL_TYPE              False\n",
       "FacilityID              False\n",
       "MAIN_LIMIT_NAME         False\n",
       "CCY                     False\n",
       "AMOUNT                  False\n",
       "FACILITY_RATING          True\n",
       "Unnamed: 13              True\n",
       "SECURITY_DESCRIPTION     True\n",
       "FMV                     False\n",
       "ABC_SHARE_PER           False\n",
       "ABC_SHARE               False\n",
       "Held                    False\n",
       "TENOR                   False\n",
       "PRICING                  True\n",
       "PRIORITY_SECTOR         False\n",
       "SENSITIVE_SECTOR         True\n",
       "dtype: bool"
      ]
     },
     "execution_count": 8,
     "metadata": {},
     "output_type": "execute_result"
    }
   ],
   "source": [
    "null_more_than20"
   ]
  },
  {
   "cell_type": "code",
   "execution_count": 9,
   "id": "28386190",
   "metadata": {},
   "outputs": [],
   "source": [
    "dropping_features=null_more_than20[null_more_than20==1].index"
   ]
  },
  {
   "cell_type": "code",
   "execution_count": 10,
   "id": "856fea54",
   "metadata": {},
   "outputs": [
    {
     "data": {
      "text/plain": [
       "Index(['REGION', 'GROUPNAME', 'FACILITY_RATING', 'Unnamed: 13',\n",
       "       'SECURITY_DESCRIPTION', 'PRICING', 'SENSITIVE_SECTOR'],\n",
       "      dtype='object')"
      ]
     },
     "execution_count": 10,
     "metadata": {},
     "output_type": "execute_result"
    }
   ],
   "source": [
    "dropping_features"
   ]
  },
  {
   "cell_type": "code",
   "execution_count": 11,
   "id": "295a6a8b",
   "metadata": {},
   "outputs": [],
   "source": [
    "newdf=data.drop(dropping_features,axis=1)"
   ]
  },
  {
   "cell_type": "code",
   "execution_count": 12,
   "id": "597efe71",
   "metadata": {},
   "outputs": [
    {
     "data": {
      "text/html": [
       "<div>\n",
       "<style scoped>\n",
       "    .dataframe tbody tr th:only-of-type {\n",
       "        vertical-align: middle;\n",
       "    }\n",
       "\n",
       "    .dataframe tbody tr th {\n",
       "        vertical-align: top;\n",
       "    }\n",
       "\n",
       "    .dataframe thead th {\n",
       "        text-align: right;\n",
       "    }\n",
       "</style>\n",
       "<table border=\"1\" class=\"dataframe\">\n",
       "  <thead>\n",
       "    <tr style=\"text-align: right;\">\n",
       "      <th></th>\n",
       "      <th>CIF_ID</th>\n",
       "      <th>IMAC_ID</th>\n",
       "      <th>COUNTERPARTY_NAME</th>\n",
       "      <th>BUSINESS_SEGMENT</th>\n",
       "      <th>INDUSTRY_NAME</th>\n",
       "      <th>LEGAL_TYPE</th>\n",
       "      <th>FacilityID</th>\n",
       "      <th>MAIN_LIMIT_NAME</th>\n",
       "      <th>CCY</th>\n",
       "      <th>AMOUNT</th>\n",
       "      <th>FMV</th>\n",
       "      <th>ABC_SHARE_PER</th>\n",
       "      <th>ABC_SHARE</th>\n",
       "      <th>Held</th>\n",
       "      <th>TENOR</th>\n",
       "      <th>PRIORITY_SECTOR</th>\n",
       "    </tr>\n",
       "  </thead>\n",
       "  <tbody>\n",
       "    <tr>\n",
       "      <th>0</th>\n",
       "      <td>0</td>\n",
       "      <td>21087</td>\n",
       "      <td>21087-xxxxx</td>\n",
       "      <td>CB - MidCorp</td>\n",
       "      <td>(IND076) OTHER INDUSTRIES</td>\n",
       "      <td>Public Ltd. Companies (Listed)</td>\n",
       "      <td>FAC-4699</td>\n",
       "      <td>Short Term Loan Unsecured</td>\n",
       "      <td>INR</td>\n",
       "      <td>36.18</td>\n",
       "      <td>0</td>\n",
       "      <td>1.0</td>\n",
       "      <td>0.0</td>\n",
       "      <td>No</td>\n",
       "      <td>9.0</td>\n",
       "      <td>Non Priority-Sector</td>\n",
       "    </tr>\n",
       "    <tr>\n",
       "      <th>1</th>\n",
       "      <td>0</td>\n",
       "      <td>21087</td>\n",
       "      <td>21087-xxxxx</td>\n",
       "      <td>CB - MidCorp</td>\n",
       "      <td>(IND076) OTHER INDUSTRIES</td>\n",
       "      <td>Public Ltd. Companies (Listed)</td>\n",
       "      <td>FAC-4699</td>\n",
       "      <td>Short Term Loan Unsecured</td>\n",
       "      <td>INR</td>\n",
       "      <td>36.18</td>\n",
       "      <td>0</td>\n",
       "      <td>1.0</td>\n",
       "      <td>0.0</td>\n",
       "      <td>No</td>\n",
       "      <td>9.0</td>\n",
       "      <td>Non Priority-Sector</td>\n",
       "    </tr>\n",
       "    <tr>\n",
       "      <th>2</th>\n",
       "      <td>0</td>\n",
       "      <td>21087</td>\n",
       "      <td>21087-xxxxx</td>\n",
       "      <td>CB - MidCorp</td>\n",
       "      <td>(IND076) OTHER INDUSTRIES</td>\n",
       "      <td>Public Ltd. Companies (Listed)</td>\n",
       "      <td>FAC-4699</td>\n",
       "      <td>Short Term Loan Unsecured</td>\n",
       "      <td>INR</td>\n",
       "      <td>36.18</td>\n",
       "      <td>0</td>\n",
       "      <td>1.0</td>\n",
       "      <td>0.0</td>\n",
       "      <td>No</td>\n",
       "      <td>9.0</td>\n",
       "      <td>Non Priority-Sector</td>\n",
       "    </tr>\n",
       "    <tr>\n",
       "      <th>3</th>\n",
       "      <td>0</td>\n",
       "      <td>21176</td>\n",
       "      <td>21176-xxxxx</td>\n",
       "      <td>CB - MidCorp</td>\n",
       "      <td>(IND076) OTHER INDUSTRIES</td>\n",
       "      <td>Private Ltd. Companies</td>\n",
       "      <td>FAC-3018</td>\n",
       "      <td>Working Capital Demand Loan Secured</td>\n",
       "      <td>INR</td>\n",
       "      <td>20.00</td>\n",
       "      <td>0</td>\n",
       "      <td>1.0</td>\n",
       "      <td>0.0</td>\n",
       "      <td>No</td>\n",
       "      <td>17.0</td>\n",
       "      <td>Non Priority-Sector</td>\n",
       "    </tr>\n",
       "    <tr>\n",
       "      <th>4</th>\n",
       "      <td>0</td>\n",
       "      <td>21176</td>\n",
       "      <td>21176-xxxxx</td>\n",
       "      <td>CB - MidCorp</td>\n",
       "      <td>(IND076) OTHER INDUSTRIES</td>\n",
       "      <td>Private Ltd. Companies</td>\n",
       "      <td>FAC-3018</td>\n",
       "      <td>Working Capital Demand Loan Secured</td>\n",
       "      <td>INR</td>\n",
       "      <td>20.00</td>\n",
       "      <td>0</td>\n",
       "      <td>1.0</td>\n",
       "      <td>0.0</td>\n",
       "      <td>No</td>\n",
       "      <td>17.0</td>\n",
       "      <td>Non Priority-Sector</td>\n",
       "    </tr>\n",
       "    <tr>\n",
       "      <th>...</th>\n",
       "      <td>...</td>\n",
       "      <td>...</td>\n",
       "      <td>...</td>\n",
       "      <td>...</td>\n",
       "      <td>...</td>\n",
       "      <td>...</td>\n",
       "      <td>...</td>\n",
       "      <td>...</td>\n",
       "      <td>...</td>\n",
       "      <td>...</td>\n",
       "      <td>...</td>\n",
       "      <td>...</td>\n",
       "      <td>...</td>\n",
       "      <td>...</td>\n",
       "      <td>...</td>\n",
       "      <td>...</td>\n",
       "    </tr>\n",
       "    <tr>\n",
       "      <th>7847</th>\n",
       "      <td>0</td>\n",
       "      <td>116049</td>\n",
       "      <td>TT</td>\n",
       "      <td>C&amp;IB</td>\n",
       "      <td>(IND099) AUTO DEALER</td>\n",
       "      <td>BIS</td>\n",
       "      <td>FAC-15653</td>\n",
       "      <td>Gold metal loan</td>\n",
       "      <td>INR</td>\n",
       "      <td>0.20</td>\n",
       "      <td>0</td>\n",
       "      <td>0.0</td>\n",
       "      <td>0.0</td>\n",
       "      <td>No</td>\n",
       "      <td>24.0</td>\n",
       "      <td>NaN</td>\n",
       "    </tr>\n",
       "    <tr>\n",
       "      <th>7848</th>\n",
       "      <td>0</td>\n",
       "      <td>116049</td>\n",
       "      <td>TT</td>\n",
       "      <td>C&amp;IB</td>\n",
       "      <td>(IND099) AUTO DEALER</td>\n",
       "      <td>BIS</td>\n",
       "      <td>FAC-15671</td>\n",
       "      <td>Dealer Anchor Line</td>\n",
       "      <td>INR</td>\n",
       "      <td>0.20</td>\n",
       "      <td>0</td>\n",
       "      <td>0.0</td>\n",
       "      <td>0.0</td>\n",
       "      <td>No</td>\n",
       "      <td>24.0</td>\n",
       "      <td>NaN</td>\n",
       "    </tr>\n",
       "    <tr>\n",
       "      <th>7849</th>\n",
       "      <td>0</td>\n",
       "      <td>116049</td>\n",
       "      <td>TT</td>\n",
       "      <td>C&amp;IB</td>\n",
       "      <td>(IND099) AUTO DEALER</td>\n",
       "      <td>BIS</td>\n",
       "      <td>FAC-15729</td>\n",
       "      <td>LOC</td>\n",
       "      <td>INR</td>\n",
       "      <td>1.00</td>\n",
       "      <td>0</td>\n",
       "      <td>0.0</td>\n",
       "      <td>0.0</td>\n",
       "      <td>No</td>\n",
       "      <td>10.0</td>\n",
       "      <td>NaN</td>\n",
       "    </tr>\n",
       "    <tr>\n",
       "      <th>7850</th>\n",
       "      <td>0</td>\n",
       "      <td>116149</td>\n",
       "      <td>MUSHRAF ENTERPRISES</td>\n",
       "      <td>C&amp;IB</td>\n",
       "      <td>(IND125) WATER SUPPLY PIPE-LINE</td>\n",
       "      <td>BIS</td>\n",
       "      <td>FAC-15495</td>\n",
       "      <td>Cash Credit Secured</td>\n",
       "      <td>INR</td>\n",
       "      <td>0.10</td>\n",
       "      <td>500</td>\n",
       "      <td>0.0</td>\n",
       "      <td>0.0</td>\n",
       "      <td>No</td>\n",
       "      <td>120.0</td>\n",
       "      <td>NaN</td>\n",
       "    </tr>\n",
       "    <tr>\n",
       "      <th>7851</th>\n",
       "      <td>0</td>\n",
       "      <td>116499</td>\n",
       "      <td>ROOFTOP RESTO</td>\n",
       "      <td>C&amp;IB</td>\n",
       "      <td>(IND089) HOTELS/ RESTAURANTS/RESORTS/ QSRs</td>\n",
       "      <td>BIS</td>\n",
       "      <td>FAC-15505</td>\n",
       "      <td>Cash Credit Secured</td>\n",
       "      <td>INR</td>\n",
       "      <td>0.75</td>\n",
       "      <td>0</td>\n",
       "      <td>0.0</td>\n",
       "      <td>0.0</td>\n",
       "      <td>No</td>\n",
       "      <td>120.0</td>\n",
       "      <td>Priority-Sector</td>\n",
       "    </tr>\n",
       "  </tbody>\n",
       "</table>\n",
       "<p>7852 rows × 16 columns</p>\n",
       "</div>"
      ],
      "text/plain": [
       "     CIF_ID  IMAC_ID    COUNTERPARTY_NAME BUSINESS_SEGMENT  \\\n",
       "0         0    21087          21087-xxxxx     CB - MidCorp   \n",
       "1         0    21087          21087-xxxxx     CB - MidCorp   \n",
       "2         0    21087          21087-xxxxx     CB - MidCorp   \n",
       "3         0    21176          21176-xxxxx     CB - MidCorp   \n",
       "4         0    21176          21176-xxxxx     CB - MidCorp   \n",
       "...     ...      ...                  ...              ...   \n",
       "7847      0   116049                   TT             C&IB   \n",
       "7848      0   116049                   TT             C&IB   \n",
       "7849      0   116049                   TT             C&IB   \n",
       "7850      0   116149  MUSHRAF ENTERPRISES             C&IB   \n",
       "7851      0   116499        ROOFTOP RESTO             C&IB   \n",
       "\n",
       "                                   INDUSTRY_NAME  \\\n",
       "0                      (IND076) OTHER INDUSTRIES   \n",
       "1                      (IND076) OTHER INDUSTRIES   \n",
       "2                      (IND076) OTHER INDUSTRIES   \n",
       "3                      (IND076) OTHER INDUSTRIES   \n",
       "4                      (IND076) OTHER INDUSTRIES   \n",
       "...                                          ...   \n",
       "7847                        (IND099) AUTO DEALER   \n",
       "7848                        (IND099) AUTO DEALER   \n",
       "7849                        (IND099) AUTO DEALER   \n",
       "7850             (IND125) WATER SUPPLY PIPE-LINE   \n",
       "7851  (IND089) HOTELS/ RESTAURANTS/RESORTS/ QSRs   \n",
       "\n",
       "                          LEGAL_TYPE FacilityID  \\\n",
       "0     Public Ltd. Companies (Listed)   FAC-4699   \n",
       "1     Public Ltd. Companies (Listed)   FAC-4699   \n",
       "2     Public Ltd. Companies (Listed)   FAC-4699   \n",
       "3             Private Ltd. Companies   FAC-3018   \n",
       "4             Private Ltd. Companies   FAC-3018   \n",
       "...                              ...        ...   \n",
       "7847                             BIS  FAC-15653   \n",
       "7848                             BIS  FAC-15671   \n",
       "7849                             BIS  FAC-15729   \n",
       "7850                             BIS  FAC-15495   \n",
       "7851                             BIS  FAC-15505   \n",
       "\n",
       "                          MAIN_LIMIT_NAME  CCY  AMOUNT  FMV  ABC_SHARE_PER  \\\n",
       "0               Short Term Loan Unsecured  INR   36.18    0            1.0   \n",
       "1               Short Term Loan Unsecured  INR   36.18    0            1.0   \n",
       "2               Short Term Loan Unsecured  INR   36.18    0            1.0   \n",
       "3     Working Capital Demand Loan Secured  INR   20.00    0            1.0   \n",
       "4     Working Capital Demand Loan Secured  INR   20.00    0            1.0   \n",
       "...                                   ...  ...     ...  ...            ...   \n",
       "7847                      Gold metal loan  INR    0.20    0            0.0   \n",
       "7848                   Dealer Anchor Line  INR    0.20    0            0.0   \n",
       "7849                                  LOC  INR    1.00    0            0.0   \n",
       "7850                  Cash Credit Secured  INR    0.10  500            0.0   \n",
       "7851                  Cash Credit Secured  INR    0.75    0            0.0   \n",
       "\n",
       "      ABC_SHARE Held  TENOR      PRIORITY_SECTOR  \n",
       "0           0.0   No    9.0  Non Priority-Sector  \n",
       "1           0.0   No    9.0  Non Priority-Sector  \n",
       "2           0.0   No    9.0  Non Priority-Sector  \n",
       "3           0.0   No   17.0  Non Priority-Sector  \n",
       "4           0.0   No   17.0  Non Priority-Sector  \n",
       "...         ...  ...    ...                  ...  \n",
       "7847        0.0   No   24.0                  NaN  \n",
       "7848        0.0   No   24.0                  NaN  \n",
       "7849        0.0   No   10.0                  NaN  \n",
       "7850        0.0   No  120.0                  NaN  \n",
       "7851        0.0   No  120.0      Priority-Sector  \n",
       "\n",
       "[7852 rows x 16 columns]"
      ]
     },
     "execution_count": 12,
     "metadata": {},
     "output_type": "execute_result"
    }
   ],
   "source": [
    "newdf"
   ]
  },
  {
   "cell_type": "code",
   "execution_count": 13,
   "id": "e08cc3d2",
   "metadata": {},
   "outputs": [
    {
     "name": "stdout",
     "output_type": "stream",
     "text": [
      "<class 'pandas.core.frame.DataFrame'>\n",
      "RangeIndex: 7852 entries, 0 to 7851\n",
      "Data columns (total 16 columns):\n",
      " #   Column             Non-Null Count  Dtype  \n",
      "---  ------             --------------  -----  \n",
      " 0   CIF_ID             7850 non-null   object \n",
      " 1   IMAC_ID            7852 non-null   int64  \n",
      " 2   COUNTERPARTY_NAME  7852 non-null   object \n",
      " 3   BUSINESS_SEGMENT   7831 non-null   object \n",
      " 4   INDUSTRY_NAME      7851 non-null   object \n",
      " 5   LEGAL_TYPE         7852 non-null   object \n",
      " 6   FacilityID         7852 non-null   object \n",
      " 7   MAIN_LIMIT_NAME    7852 non-null   object \n",
      " 8   CCY                7852 non-null   object \n",
      " 9   AMOUNT             7852 non-null   float64\n",
      " 10  FMV                7852 non-null   int64  \n",
      " 11  ABC_SHARE_PER      7852 non-null   float64\n",
      " 12  ABC_SHARE          7852 non-null   float64\n",
      " 13  Held               7852 non-null   object \n",
      " 14  TENOR              7852 non-null   float64\n",
      " 15  PRIORITY_SECTOR    6384 non-null   object \n",
      "dtypes: float64(4), int64(2), object(10)\n",
      "memory usage: 981.6+ KB\n"
     ]
    }
   ],
   "source": [
    "newdf.info()"
   ]
  },
  {
   "cell_type": "code",
   "execution_count": 14,
   "id": "4a266e49",
   "metadata": {},
   "outputs": [
    {
     "data": {
      "image/png": "[encoded data removed]",
      "text/plain": [
       "<Figure size 432x288 with 1 Axes>"
      ]
     },
     "metadata": {
      "needs_background": "light"
     },
     "output_type": "display_data"
    }
   ],
   "source": [
    "plt.hist(newdf['AMOUNT'], bins=10)\n",
    "plt.title(\"AMOUNT\")\n",
    "plt.show()"
   ]
  },
  {
   "cell_type": "code",
   "execution_count": 15,
   "id": "cd2f981d",
   "metadata": {},
   "outputs": [
    {
     "data": {
      "text/plain": [
       "'CB - MidCorp'"
      ]
     },
     "execution_count": 15,
     "metadata": {},
     "output_type": "execute_result"
    }
   ],
   "source": [
    "newdf['BUSINESS_SEGMENT'].mode()[0]"
   ]
  },
  {
   "cell_type": "code",
   "execution_count": 16,
   "id": "bd7bdf09",
   "metadata": {},
   "outputs": [],
   "source": [
    "newdf['BUSINESS_SEGMENT']=newdf['BUSINESS_SEGMENT'].replace(np.nan , newdf['BUSINESS_SEGMENT'].mode()[0])"
   ]
  },
  {
   "cell_type": "code",
   "execution_count": 17,
   "id": "4054cb70",
   "metadata": {},
   "outputs": [
    {
     "data": {
      "text/plain": [
       "0"
      ]
     },
     "execution_count": 17,
     "metadata": {},
     "output_type": "execute_result"
    }
   ],
   "source": [
    "newdf['BUSINESS_SEGMENT'].isna().sum().sum()"
   ]
  },
  {
   "cell_type": "code",
   "execution_count": 18,
   "id": "fecf6c66",
   "metadata": {},
   "outputs": [],
   "source": [
    "newdf['INDUSTRY_NAME']=newdf['INDUSTRY_NAME'].replace(np.nan , newdf['INDUSTRY_NAME'].mode()[0])"
   ]
  },
  {
   "cell_type": "code",
   "execution_count": 19,
   "id": "f7b77535",
   "metadata": {},
   "outputs": [
    {
     "data": {
      "text/plain": [
       "0"
      ]
     },
     "execution_count": 19,
     "metadata": {},
     "output_type": "execute_result"
    }
   ],
   "source": [
    "newdf['INDUSTRY_NAME'].isna().sum().sum()"
   ]
  },
  {
   "cell_type": "code",
   "execution_count": 20,
   "id": "dd015ef9",
   "metadata": {},
   "outputs": [
    {
     "data": {
      "text/plain": [
       "'Non Priority-Sector'"
      ]
     },
     "execution_count": 20,
     "metadata": {},
     "output_type": "execute_result"
    }
   ],
   "source": [
    "newdf['PRIORITY_SECTOR'].mode()[0]"
   ]
  },
  {
   "cell_type": "code",
   "execution_count": 21,
   "id": "dddbe2eb",
   "metadata": {},
   "outputs": [],
   "source": [
    "newdf['PRIORITY_SECTOR']=newdf['PRIORITY_SECTOR'].replace(np.nan , newdf['PRIORITY_SECTOR'].mode()[0])"
   ]
  },
  {
   "cell_type": "code",
   "execution_count": 22,
   "id": "1ea88c34",
   "metadata": {},
   "outputs": [
    {
     "data": {
      "text/plain": [
       "0"
      ]
     },
     "execution_count": 22,
     "metadata": {},
     "output_type": "execute_result"
    }
   ],
   "source": [
    "newdf['PRIORITY_SECTOR'].isna().sum().sum()"
   ]
  },
  {
   "cell_type": "code",
   "execution_count": 23,
   "id": "b2a2ea56",
   "metadata": {},
   "outputs": [
    {
     "name": "stdout",
     "output_type": "stream",
     "text": [
      "<class 'pandas.core.frame.DataFrame'>\n",
      "RangeIndex: 7852 entries, 0 to 7851\n",
      "Data columns (total 16 columns):\n",
      " #   Column             Non-Null Count  Dtype  \n",
      "---  ------             --------------  -----  \n",
      " 0   CIF_ID             7850 non-null   object \n",
      " 1   IMAC_ID            7852 non-null   int64  \n",
      " 2   COUNTERPARTY_NAME  7852 non-null   object \n",
      " 3   BUSINESS_SEGMENT   7852 non-null   object \n",
      " 4   INDUSTRY_NAME      7852 non-null   object \n",
      " 5   LEGAL_TYPE         7852 non-null   object \n",
      " 6   FacilityID         7852 non-null   object \n",
      " 7   MAIN_LIMIT_NAME    7852 non-null   object \n",
      " 8   CCY                7852 non-null   object \n",
      " 9   AMOUNT             7852 non-null   float64\n",
      " 10  FMV                7852 non-null   int64  \n",
      " 11  ABC_SHARE_PER      7852 non-null   float64\n",
      " 12  ABC_SHARE          7852 non-null   float64\n",
      " 13  Held               7852 non-null   object \n",
      " 14  TENOR              7852 non-null   float64\n",
      " 15  PRIORITY_SECTOR    7852 non-null   object \n",
      "dtypes: float64(4), int64(2), object(10)\n",
      "memory usage: 981.6+ KB\n"
     ]
    }
   ],
   "source": [
    "newdf.info()"
   ]
  },
  {
   "cell_type": "code",
   "execution_count": 24,
   "id": "38eb81d9",
   "metadata": {
    "scrolled": true
   },
   "outputs": [
    {
     "data": {
      "text/plain": [
       "CIF_ID               2\n",
       "IMAC_ID              0\n",
       "COUNTERPARTY_NAME    0\n",
       "BUSINESS_SEGMENT     0\n",
       "INDUSTRY_NAME        0\n",
       "LEGAL_TYPE           0\n",
       "FacilityID           0\n",
       "MAIN_LIMIT_NAME      0\n",
       "CCY                  0\n",
       "AMOUNT               0\n",
       "FMV                  0\n",
       "ABC_SHARE_PER        0\n",
       "ABC_SHARE            0\n",
       "Held                 0\n",
       "TENOR                0\n",
       "PRIORITY_SECTOR      0\n",
       "dtype: int64"
      ]
     },
     "execution_count": 24,
     "metadata": {},
     "output_type": "execute_result"
    }
   ],
   "source": [
    "newdf.isna().sum()"
   ]
  },
  {
   "cell_type": "code",
   "execution_count": 25,
   "id": "1024eaf6",
   "metadata": {},
   "outputs": [],
   "source": [
    "newdf.drop(['CIF_ID','IMAC_ID'],axis=1,inplace=True)"
   ]
  },
  {
   "cell_type": "code",
   "execution_count": 26,
   "id": "e2bf22a6",
   "metadata": {},
   "outputs": [
    {
     "name": "stdout",
     "output_type": "stream",
     "text": [
      "<class 'pandas.core.frame.DataFrame'>\n",
      "RangeIndex: 7852 entries, 0 to 7851\n",
      "Data columns (total 14 columns):\n",
      " #   Column             Non-Null Count  Dtype  \n",
      "---  ------             --------------  -----  \n",
      " 0   COUNTERPARTY_NAME  7852 non-null   object \n",
      " 1   BUSINESS_SEGMENT   7852 non-null   object \n",
      " 2   INDUSTRY_NAME      7852 non-null   object \n",
      " 3   LEGAL_TYPE         7852 non-null   object \n",
      " 4   FacilityID         7852 non-null   object \n",
      " 5   MAIN_LIMIT_NAME    7852 non-null   object \n",
      " 6   CCY                7852 non-null   object \n",
      " 7   AMOUNT             7852 non-null   float64\n",
      " 8   FMV                7852 non-null   int64  \n",
      " 9   ABC_SHARE_PER      7852 non-null   float64\n",
      " 10  ABC_SHARE          7852 non-null   float64\n",
      " 11  Held               7852 non-null   object \n",
      " 12  TENOR              7852 non-null   float64\n",
      " 13  PRIORITY_SECTOR    7852 non-null   object \n",
      "dtypes: float64(4), int64(1), object(9)\n",
      "memory usage: 858.9+ KB\n"
     ]
    }
   ],
   "source": [
    "newdf.info()"
   ]
  },
  {
   "cell_type": "code",
   "execution_count": 27,
   "id": "6d9effc0",
   "metadata": {},
   "outputs": [],
   "source": [
    "newdf.drop(['FacilityID','COUNTERPARTY_NAME'],axis=1,inplace=True)"
   ]
  },
  {
   "cell_type": "code",
   "execution_count": 28,
   "id": "4798ec2f",
   "metadata": {},
   "outputs": [
    {
     "name": "stdout",
     "output_type": "stream",
     "text": [
      "<class 'pandas.core.frame.DataFrame'>\n",
      "RangeIndex: 7852 entries, 0 to 7851\n",
      "Data columns (total 12 columns):\n",
      " #   Column            Non-Null Count  Dtype  \n",
      "---  ------            --------------  -----  \n",
      " 0   BUSINESS_SEGMENT  7852 non-null   object \n",
      " 1   INDUSTRY_NAME     7852 non-null   object \n",
      " 2   LEGAL_TYPE        7852 non-null   object \n",
      " 3   MAIN_LIMIT_NAME   7852 non-null   object \n",
      " 4   CCY               7852 non-null   object \n",
      " 5   AMOUNT            7852 non-null   float64\n",
      " 6   FMV               7852 non-null   int64  \n",
      " 7   ABC_SHARE_PER     7852 non-null   float64\n",
      " 8   ABC_SHARE         7852 non-null   float64\n",
      " 9   Held              7852 non-null   object \n",
      " 10  TENOR             7852 non-null   float64\n",
      " 11  PRIORITY_SECTOR   7852 non-null   object \n",
      "dtypes: float64(4), int64(1), object(7)\n",
      "memory usage: 736.2+ KB\n"
     ]
    }
   ],
   "source": [
    "newdf.info()"
   ]
  },
  {
   "cell_type": "code",
   "execution_count": 29,
   "id": "77e34763",
   "metadata": {},
   "outputs": [],
   "source": [
    "x=newdf.drop('AMOUNT',axis=1)"
   ]
  },
  {
   "cell_type": "code",
   "execution_count": 30,
   "id": "d33b705f",
   "metadata": {},
   "outputs": [],
   "source": [
    "y=newdf['AMOUNT']"
   ]
  },
  {
   "cell_type": "code",
   "execution_count": 31,
   "id": "a5a68e7e",
   "metadata": {},
   "outputs": [
    {
     "data": {
      "text/html": [
       "<div>\n",
       "<style scoped>\n",
       "    .dataframe tbody tr th:only-of-type {\n",
       "        vertical-align: middle;\n",
       "    }\n",
       "\n",
       "    .dataframe tbody tr th {\n",
       "        vertical-align: top;\n",
       "    }\n",
       "\n",
       "    .dataframe thead th {\n",
       "        text-align: right;\n",
       "    }\n",
       "</style>\n",
       "<table border=\"1\" class=\"dataframe\">\n",
       "  <thead>\n",
       "    <tr style=\"text-align: right;\">\n",
       "      <th></th>\n",
       "      <th>BUSINESS_SEGMENT</th>\n",
       "      <th>INDUSTRY_NAME</th>\n",
       "      <th>LEGAL_TYPE</th>\n",
       "      <th>MAIN_LIMIT_NAME</th>\n",
       "      <th>CCY</th>\n",
       "      <th>FMV</th>\n",
       "      <th>ABC_SHARE_PER</th>\n",
       "      <th>ABC_SHARE</th>\n",
       "      <th>Held</th>\n",
       "      <th>TENOR</th>\n",
       "      <th>PRIORITY_SECTOR</th>\n",
       "    </tr>\n",
       "  </thead>\n",
       "  <tbody>\n",
       "    <tr>\n",
       "      <th>0</th>\n",
       "      <td>CB - MidCorp</td>\n",
       "      <td>(IND076) OTHER INDUSTRIES</td>\n",
       "      <td>Public Ltd. Companies (Listed)</td>\n",
       "      <td>Short Term Loan Unsecured</td>\n",
       "      <td>INR</td>\n",
       "      <td>0</td>\n",
       "      <td>1.0</td>\n",
       "      <td>0.0</td>\n",
       "      <td>No</td>\n",
       "      <td>9.0</td>\n",
       "      <td>Non Priority-Sector</td>\n",
       "    </tr>\n",
       "    <tr>\n",
       "      <th>1</th>\n",
       "      <td>CB - MidCorp</td>\n",
       "      <td>(IND076) OTHER INDUSTRIES</td>\n",
       "      <td>Public Ltd. Companies (Listed)</td>\n",
       "      <td>Short Term Loan Unsecured</td>\n",
       "      <td>INR</td>\n",
       "      <td>0</td>\n",
       "      <td>1.0</td>\n",
       "      <td>0.0</td>\n",
       "      <td>No</td>\n",
       "      <td>9.0</td>\n",
       "      <td>Non Priority-Sector</td>\n",
       "    </tr>\n",
       "  </tbody>\n",
       "</table>\n",
       "</div>"
      ],
      "text/plain": [
       "  BUSINESS_SEGMENT              INDUSTRY_NAME                      LEGAL_TYPE  \\\n",
       "0     CB - MidCorp  (IND076) OTHER INDUSTRIES  Public Ltd. Companies (Listed)   \n",
       "1     CB - MidCorp  (IND076) OTHER INDUSTRIES  Public Ltd. Companies (Listed)   \n",
       "\n",
       "             MAIN_LIMIT_NAME  CCY  FMV  ABC_SHARE_PER  ABC_SHARE Held  TENOR  \\\n",
       "0  Short Term Loan Unsecured  INR    0            1.0        0.0   No    9.0   \n",
       "1  Short Term Loan Unsecured  INR    0            1.0        0.0   No    9.0   \n",
       "\n",
       "       PRIORITY_SECTOR  \n",
       "0  Non Priority-Sector  \n",
       "1  Non Priority-Sector  "
      ]
     },
     "execution_count": 31,
     "metadata": {},
     "output_type": "execute_result"
    }
   ],
   "source": [
    "x.head(2)"
   ]
  },
  {
   "cell_type": "code",
   "execution_count": 32,
   "id": "c6805095",
   "metadata": {},
   "outputs": [],
   "source": [
    "x_num=x.select_dtypes(include=['float','int'])"
   ]
  },
  {
   "cell_type": "code",
   "execution_count": 33,
   "id": "0ff1c0de",
   "metadata": {},
   "outputs": [],
   "source": [
    "x_cat=x.select_dtypes(exclude=['float','int'])"
   ]
  },
  {
   "cell_type": "code",
   "execution_count": 34,
   "id": "802fba3f",
   "metadata": {},
   "outputs": [],
   "source": [
    "from sklearn import preprocessing\n",
    "label_encoder = preprocessing.LabelEncoder()"
   ]
  },
  {
   "cell_type": "code",
   "execution_count": 35,
   "id": "c36d2923",
   "metadata": {},
   "outputs": [
    {
     "data": {
      "text/html": [
       "<div>\n",
       "<style scoped>\n",
       "    .dataframe tbody tr th:only-of-type {\n",
       "        vertical-align: middle;\n",
       "    }\n",
       "\n",
       "    .dataframe tbody tr th {\n",
       "        vertical-align: top;\n",
       "    }\n",
       "\n",
       "    .dataframe thead th {\n",
       "        text-align: right;\n",
       "    }\n",
       "</style>\n",
       "<table border=\"1\" class=\"dataframe\">\n",
       "  <thead>\n",
       "    <tr style=\"text-align: right;\">\n",
       "      <th></th>\n",
       "      <th>BUSINESS_SEGMENT</th>\n",
       "      <th>INDUSTRY_NAME</th>\n",
       "      <th>LEGAL_TYPE</th>\n",
       "      <th>MAIN_LIMIT_NAME</th>\n",
       "      <th>CCY</th>\n",
       "      <th>Held</th>\n",
       "      <th>PRIORITY_SECTOR</th>\n",
       "    </tr>\n",
       "  </thead>\n",
       "  <tbody>\n",
       "    <tr>\n",
       "      <th>0</th>\n",
       "      <td>CB - MidCorp</td>\n",
       "      <td>(IND076) OTHER INDUSTRIES</td>\n",
       "      <td>Public Ltd. Companies (Listed)</td>\n",
       "      <td>Short Term Loan Unsecured</td>\n",
       "      <td>INR</td>\n",
       "      <td>No</td>\n",
       "      <td>Non Priority-Sector</td>\n",
       "    </tr>\n",
       "    <tr>\n",
       "      <th>1</th>\n",
       "      <td>CB - MidCorp</td>\n",
       "      <td>(IND076) OTHER INDUSTRIES</td>\n",
       "      <td>Public Ltd. Companies (Listed)</td>\n",
       "      <td>Short Term Loan Unsecured</td>\n",
       "      <td>INR</td>\n",
       "      <td>No</td>\n",
       "      <td>Non Priority-Sector</td>\n",
       "    </tr>\n",
       "  </tbody>\n",
       "</table>\n",
       "</div>"
      ],
      "text/plain": [
       "  BUSINESS_SEGMENT              INDUSTRY_NAME                      LEGAL_TYPE  \\\n",
       "0     CB - MidCorp  (IND076) OTHER INDUSTRIES  Public Ltd. Companies (Listed)   \n",
       "1     CB - MidCorp  (IND076) OTHER INDUSTRIES  Public Ltd. Companies (Listed)   \n",
       "\n",
       "             MAIN_LIMIT_NAME  CCY Held      PRIORITY_SECTOR  \n",
       "0  Short Term Loan Unsecured  INR   No  Non Priority-Sector  \n",
       "1  Short Term Loan Unsecured  INR   No  Non Priority-Sector  "
      ]
     },
     "execution_count": 35,
     "metadata": {},
     "output_type": "execute_result"
    }
   ],
   "source": [
    "x_cat.head(2)"
   ]
  },
  {
   "cell_type": "code",
   "execution_count": 36,
   "id": "87b39d14",
   "metadata": {},
   "outputs": [
    {
     "name": "stderr",
     "output_type": "stream",
     "text": [
      "C:\\Users\\chira\\AppData\\Local\\Temp/ipykernel_18356/1148266843.py:2: SettingWithCopyWarning: \n",
      "A value is trying to be set on a copy of a slice from a DataFrame.\n",
      "Try using .loc[row_indexer,col_indexer] = value instead\n",
      "\n",
      "See the caveats in the documentation: https://pandas.pydata.org/pandas-docs/stable/user_guide/indexing.html#returning-a-view-versus-a-copy\n",
      "  x_cat[i]=label_encoder.fit_transform(x_cat[i])\n"
     ]
    }
   ],
   "source": [
    "for i in x_cat.columns:\n",
    "    x_cat[i]=label_encoder.fit_transform(x_cat[i])\n",
    "    "
   ]
  },
  {
   "cell_type": "code",
   "execution_count": 37,
   "id": "2fd2b732",
   "metadata": {},
   "outputs": [
    {
     "data": {
      "text/html": [
       "<div>\n",
       "<style scoped>\n",
       "    .dataframe tbody tr th:only-of-type {\n",
       "        vertical-align: middle;\n",
       "    }\n",
       "\n",
       "    .dataframe tbody tr th {\n",
       "        vertical-align: top;\n",
       "    }\n",
       "\n",
       "    .dataframe thead th {\n",
       "        text-align: right;\n",
       "    }\n",
       "</style>\n",
       "<table border=\"1\" class=\"dataframe\">\n",
       "  <thead>\n",
       "    <tr style=\"text-align: right;\">\n",
       "      <th></th>\n",
       "      <th>BUSINESS_SEGMENT</th>\n",
       "      <th>INDUSTRY_NAME</th>\n",
       "      <th>LEGAL_TYPE</th>\n",
       "      <th>MAIN_LIMIT_NAME</th>\n",
       "      <th>CCY</th>\n",
       "      <th>Held</th>\n",
       "      <th>PRIORITY_SECTOR</th>\n",
       "    </tr>\n",
       "  </thead>\n",
       "  <tbody>\n",
       "    <tr>\n",
       "      <th>0</th>\n",
       "      <td>3</td>\n",
       "      <td>62</td>\n",
       "      <td>14</td>\n",
       "      <td>55</td>\n",
       "      <td>0</td>\n",
       "      <td>0</td>\n",
       "      <td>0</td>\n",
       "    </tr>\n",
       "    <tr>\n",
       "      <th>1</th>\n",
       "      <td>3</td>\n",
       "      <td>62</td>\n",
       "      <td>14</td>\n",
       "      <td>55</td>\n",
       "      <td>0</td>\n",
       "      <td>0</td>\n",
       "      <td>0</td>\n",
       "    </tr>\n",
       "  </tbody>\n",
       "</table>\n",
       "</div>"
      ],
      "text/plain": [
       "   BUSINESS_SEGMENT  INDUSTRY_NAME  LEGAL_TYPE  MAIN_LIMIT_NAME  CCY  Held  \\\n",
       "0                 3             62          14               55    0     0   \n",
       "1                 3             62          14               55    0     0   \n",
       "\n",
       "   PRIORITY_SECTOR  \n",
       "0                0  \n",
       "1                0  "
      ]
     },
     "execution_count": 37,
     "metadata": {},
     "output_type": "execute_result"
    }
   ],
   "source": [
    "x_cat.head(2)"
   ]
  },
  {
   "cell_type": "code",
   "execution_count": 38,
   "id": "2703a2ec",
   "metadata": {},
   "outputs": [
    {
     "data": {
      "text/html": [
       "<div>\n",
       "<style scoped>\n",
       "    .dataframe tbody tr th:only-of-type {\n",
       "        vertical-align: middle;\n",
       "    }\n",
       "\n",
       "    .dataframe tbody tr th {\n",
       "        vertical-align: top;\n",
       "    }\n",
       "\n",
       "    .dataframe thead th {\n",
       "        text-align: right;\n",
       "    }\n",
       "</style>\n",
       "<table border=\"1\" class=\"dataframe\">\n",
       "  <thead>\n",
       "    <tr style=\"text-align: right;\">\n",
       "      <th></th>\n",
       "      <th>FMV</th>\n",
       "      <th>ABC_SHARE_PER</th>\n",
       "      <th>ABC_SHARE</th>\n",
       "      <th>TENOR</th>\n",
       "    </tr>\n",
       "  </thead>\n",
       "  <tbody>\n",
       "    <tr>\n",
       "      <th>0</th>\n",
       "      <td>0</td>\n",
       "      <td>1.0</td>\n",
       "      <td>0.0</td>\n",
       "      <td>9.0</td>\n",
       "    </tr>\n",
       "    <tr>\n",
       "      <th>1</th>\n",
       "      <td>0</td>\n",
       "      <td>1.0</td>\n",
       "      <td>0.0</td>\n",
       "      <td>9.0</td>\n",
       "    </tr>\n",
       "  </tbody>\n",
       "</table>\n",
       "</div>"
      ],
      "text/plain": [
       "   FMV  ABC_SHARE_PER  ABC_SHARE  TENOR\n",
       "0    0            1.0        0.0    9.0\n",
       "1    0            1.0        0.0    9.0"
      ]
     },
     "execution_count": 38,
     "metadata": {},
     "output_type": "execute_result"
    }
   ],
   "source": [
    "x_num.head(2)"
   ]
  },
  {
   "cell_type": "code",
   "execution_count": 39,
   "id": "f5d4f53f",
   "metadata": {},
   "outputs": [],
   "source": [
    "def decoding(colmns):\n",
    "    c_list=list(newdf[colmns])\n",
    "    c_value=label_encoder.fit_transform(c_list)\n",
    "    c_keys=label_encoder.inverse_transform(c_value)\n",
    "    mergeLists_c = dict(zip( c_value,c_keys))\n",
    "    print(mergeLists_c)\n"
   ]
  },
  {
   "cell_type": "code",
   "execution_count": 40,
   "id": "f14bf4d4",
   "metadata": {},
   "outputs": [
    {
     "name": "stdout",
     "output_type": "stream",
     "text": [
      "{3: 'CB - MidCorp', 2: 'C&IB', 6: 'MFIs', 4: 'CB SME', 7: 'MNC', 9: 'NEB', 5: 'FIGU', 1: 'AGRI WHOLESALE', 0: 'AGRI RETAIL', 10: 'RETAIL BR BKG', 11: 'SUPPLY CHAIN', 8: 'MSME'}\n"
     ]
    }
   ],
   "source": [
    "decoding('BUSINESS_SEGMENT')"
   ]
  },
  {
   "cell_type": "code",
   "execution_count": 41,
   "id": "3539db61",
   "metadata": {},
   "outputs": [
    {
     "name": "stdout",
     "output_type": "stream",
     "text": [
      "{62: '(IND076) OTHER INDUSTRIES', 80: '(IND095) MEDIA/ ENTERTAINMENT/ ADVERTISING', 61: '(IND075) DIVERSIFIED', 41: '(IND046) CONSTRUCTION- OTHERS', 37: '(IND042) GEMS/ JEWELLERY - MFG.', 3: '(IND004) EDIBLE OILS & VANASPATI', 27: '(IND032) CEMENT', 132: '(IND174) SMALL FINANCE BANKS', 25: '(IND029) RUBBER/ PLASTIC & PRODUCTS', 28: '(IND033) IRON & STEEL', 24: '(IND028) CHEMICALS', 71: '(IND086) PROFESSIONAL SERVICES- AUDIT/ LEGAL/ CONSULTING/OTHERS', 18: '(IND022) PAPER & PRODUCTS', 15: '(IND019) OTHER TEXTILES', 20: '(IND024) PETROLEUM (EXCL. OIL STORAGE/ PIPELINE/ LNG)', 33: '(IND038) ENGINEERING-SPECIALIZED/ OTHERS', 58: '(IND072) INFRASTRUCTURE- OTHERS', 68: '(IND083) NBFC- Others', 83: '(IND098) LARGE FORMAT RETAIL', 36: '(IND041) AUTOMOBILE - OTHERS', 44: '(IND049) ROAD/ TUNNEL/ BRIDGES (BOT, BOOT)', 22: '(IND026) PHARMACEUTICAL', 39: '(IND044) CONTRACTORS- ROADS/ IRRIGATION/ MUNICIPALITIES', 69: '(IND084) FINANCIAL SERVICES', 63: '(IND077) NBFC-MFI', 78: '(IND093) LOGISTICS/ WAREHOUSING', 97: '(IND112) TRADER- OTHERS', 38: '(IND043) CONTRACTORS - BUILDING RESIDENTIAL/ COMMERCIAL/ INDUSTRIAL', 81: '(IND096) TRANSPORT OPERATORS', 66: '(IND080) NBFC-Gold', 74: '(IND089) HOTELS/ RESTAURANTS/RESORTS/ QSRs', 35: '(IND040) AUTO ANCILIARIES', 12: '(IND013) COTTON TEXTILES', 31: '(IND036) ENGINEERING-HEAVY ELECTRIC GOODS/ LARGE COMPONENTS', 40: '(IND045) CONTRACTORS- EPC/ SPECIALIZED JOBS', 64: '(IND078) NBFC- AFCs/IFCs', 7: '(IND008) FOOD PROCESSING - OTHERS', 59: '(IND073) REAL-ESTATE DEVELOPERS', 72: '(IND087) FACILITY MANAGEMENT SERVICES', 53: '(IND067) TELECOMMUNICATION (FIXED NETWORK)', 2: '(IND003) SUGAR', 21: '(IND025) FERTILIZER (NON-INFRA)', 91: '(IND106) TRADER- CHEMICALS/ POLYMERS/ LUBRICANTS/ PETROL-PUMPS', 117: '(IND152) TYRES', 88: '(IND103) TRADER- CONSUMER GOODS', 29: '(IND034) OTHER METALS', 23: '(IND027) PETROCHEMICALS', 67: '(IND082) NBFC-CIC', 46: '(IND052) PORTS - INCLUDING CAPITAL DREDGING', 118: '(IND153) PACKAGING FILM/ PACKAGING MATERIALS', 77: '(IND092) HOSPITALS -NON-INFRA/ DIAGNOSTIC SERVICES/ TPAs', 92: '(IND107) TRADER- COAL', 107: '(IND133) POST HARVEST STORAGE INFRASTRUCTURE FOR AGRICULTURE AND HORTICULTURAL PRODUCE INCLUDING COLD STORAGE', 49: '(IND060) POWER- NON-CONVENTIONAL ENERGY', 50: '(IND062) GAS/LNG/OIL STORAGE', 70: '(IND085) COMPUTER SERVICES', 96: '(IND111) TRADER- GEMS & JEWELLERY', 125: '(IND162) MINING SUPPORT SERVICES', 65: '(IND079) NBFC- HFCs', 30: '(IND035) ENGINEERING-ELECTRONIC GOODS', 73: '(IND088) EDUCATIONAL SERVICES & INSTITUTES', 5: '(IND006) COFFEE', 6: '(IND007) DAIRY/ DAIRY PRODUCTS', 4: '(IND005) TEA', 47: '(IND056) POWER GENERATION -PRIVATE', 82: '(IND097) OTHER SERVICES', 119: '(IND154) CABLES COPPER/ OPTIC/ SPECIALRY/ ELECTRIC SWITCHGEAR/ COMPONENTS', 95: '(IND110) TRADER- IRON & STEEL', 60: '(IND074) SHIPBUILDING', 19: '(IND023) COAL PRODUCTS & NUCLEAR FUELS', 105: '(IND126) TELECOMMUNICATION & TELECOM SERVICES', 94: '(IND109) TRADER- CEMENT/ CERAMICS/ TILES/ SANITARYWARE', 122: '(IND158) BPO/ KPO/ IT ENABLED SERVICES', 76: '(IND091) TRAVEL & TOURISM', 102: '(IND123) POWER DISTRIBUTION -PRIVATE', 13: '(IND014) COTTON SPINNING/ YARN', 110: '(IND140) FOOD PROCESSING - FRUIT/ VEG', 42: '(IND047) AVIATION SERVICES', 114: '(IND147) PESTICIDES/ AGROCHEMICALS', 11: '(IND012) OTHER BEVERAGES', 123: '(IND159) CLINICAL/ LAB/ PHARMA RESEARCH', 10: '(IND011) NON-ALCOHOLIC BEVERAGES', 1: '(IND002) MINING - OTHERS', 90: '(IND105) TRADER - MEDICAL GOODS', 32: '(IND037) ENGINEERING-MECHANICAL/ MFG MACHINERY/ CAPITAL GOODS', 112: '(IND144) PHARMA - MEDICAL CONSUMABLES', 116: '(IND149) ENGINEERING - MOBILES/ IT INCL. DESIGN OR MFG', 98: '(IND117) OTHER RESIDUARY', 16: '(IND020) LEATHER & PRODUCTS', 128: '(IND166) TRADER - AGRI COMMODITIES', 129: '(IND167) TRADER - IT PERIPHERALS/ COMPUTERS/ MOBILES', 99: '(IND118) PROPERTY LEASING SERVICES', 120: '(IND155) DIGITAL PAYMENTS/ TRANSACTION WALLETS/ SERVICES', 130: '(IND169) FISHING/ AQUACULTURE', 127: '(IND164) AGRI SUPPORT SERVICES', 48: '(IND059) POWER TRANSMISSION - PRIVATE', 86: '(IND101) TRADER- APPAREL', 124: '(IND161) RECYCLING/ SCRAP/ WASTE PROCESSING', 43: '(IND048) RAILWAYS-TRACK,TUNNEL,VIADUCTS,BRIDGES', 0: '(IND001) MINING - COAL', 108: '(IND136) COLD CHAIN', 17: '(IND021) WOOD & PRODUCTS', 111: '(IND143) APPAREL MANUFACTURERS', 100: '(IND120) FMCG', 56: '(IND070) HOSPITALS - PROJECT LENDING,CONSTRUCTION', 34: '(IND039) AUTO OEMS', 55: '(IND069) EDUCATIONAL INSTITUTIONS - PROJECT LENDING,CONSTRUCTION', 84: '(IND099) AUTO DEALER', 79: '(IND094) SHIPPING', 115: '(IND148) METAL PRODUCTS', 113: '(IND146) PAINTS/ DYES/ PIGMENTS/ VARNISHES', 14: '(IND015) JUTE TEXTILES', 93: '(IND108) TRADER- FERTILIZER', 75: '(IND090) WELLNESS/ GYMS/ SPAs', 121: '(IND156) BROKERS - CAPITAL MARKETS', 131: '(IND171) POULTRY', 52: '(IND066) IRRIGATION - DAMS,CHANNELS,EMBANKMENTS', 85: '(IND100) TRADER - KIRANA/ GROCERY STORE', 89: '(IND104) TRADER- ELECTRICAL GOODS', 54: '(IND068) TELECOMMUNICATION TOWERS', 109: '(IND139) FOOD PROCESSING - RICE/  FLOUR/ DAL MILL/ MASALA/ STARCH', 87: '(IND102) TRADER- INDUSTRIAL GOODS', 106: '(IND129) COMMON INFRASTRUCTURE FOR INDUSTRIAL PARKS, SEZ', 9: '(IND010) ALCOHOLIC BEVERAGES', 101: '(IND122) POWER DISTRIBUTION - STATE GOVT PSUs', 57: '(IND071) HOTELS (3 OR MORE STARS) IN RURAL,SEMI URBAN AREAS - PROJECT LENDING,CONSTRUCTION', 51: '(IND064) WATER TREATMENT PLANTS', 45: '(IND050) AIRPORT', 26: '(IND030) GLASS', 104: '(IND125) WATER SUPPLY PIPE-LINE', 8: '(IND009) TOBACCO/ TOBACCO PRODUCTS', 126: '(IND163) SUPPORT - OIL/ GAS EXTRACTION', 103: '(IND124) GAS PIPE-LINE'}\n"
     ]
    }
   ],
   "source": [
    "decoding('INDUSTRY_NAME')"
   ]
  },
  {
   "cell_type": "code",
   "execution_count": 42,
   "id": "a5871ef7",
   "metadata": {},
   "outputs": [],
   "source": [
    "x_num_cat=pd.concat([x_num,x_cat],axis=1)"
   ]
  },
  {
   "cell_type": "code",
   "execution_count": 43,
   "id": "3c1450ee",
   "metadata": {},
   "outputs": [
    {
     "data": {
      "text/html": [
       "<div>\n",
       "<style scoped>\n",
       "    .dataframe tbody tr th:only-of-type {\n",
       "        vertical-align: middle;\n",
       "    }\n",
       "\n",
       "    .dataframe tbody tr th {\n",
       "        vertical-align: top;\n",
       "    }\n",
       "\n",
       "    .dataframe thead th {\n",
       "        text-align: right;\n",
       "    }\n",
       "</style>\n",
       "<table border=\"1\" class=\"dataframe\">\n",
       "  <thead>\n",
       "    <tr style=\"text-align: right;\">\n",
       "      <th></th>\n",
       "      <th>FMV</th>\n",
       "      <th>ABC_SHARE_PER</th>\n",
       "      <th>ABC_SHARE</th>\n",
       "      <th>TENOR</th>\n",
       "      <th>BUSINESS_SEGMENT</th>\n",
       "      <th>INDUSTRY_NAME</th>\n",
       "      <th>LEGAL_TYPE</th>\n",
       "      <th>MAIN_LIMIT_NAME</th>\n",
       "      <th>CCY</th>\n",
       "      <th>Held</th>\n",
       "      <th>PRIORITY_SECTOR</th>\n",
       "    </tr>\n",
       "  </thead>\n",
       "  <tbody>\n",
       "    <tr>\n",
       "      <th>0</th>\n",
       "      <td>0</td>\n",
       "      <td>1.0</td>\n",
       "      <td>0.0</td>\n",
       "      <td>9.0</td>\n",
       "      <td>3</td>\n",
       "      <td>62</td>\n",
       "      <td>14</td>\n",
       "      <td>55</td>\n",
       "      <td>0</td>\n",
       "      <td>0</td>\n",
       "      <td>0</td>\n",
       "    </tr>\n",
       "    <tr>\n",
       "      <th>1</th>\n",
       "      <td>0</td>\n",
       "      <td>1.0</td>\n",
       "      <td>0.0</td>\n",
       "      <td>9.0</td>\n",
       "      <td>3</td>\n",
       "      <td>62</td>\n",
       "      <td>14</td>\n",
       "      <td>55</td>\n",
       "      <td>0</td>\n",
       "      <td>0</td>\n",
       "      <td>0</td>\n",
       "    </tr>\n",
       "    <tr>\n",
       "      <th>2</th>\n",
       "      <td>0</td>\n",
       "      <td>1.0</td>\n",
       "      <td>0.0</td>\n",
       "      <td>9.0</td>\n",
       "      <td>3</td>\n",
       "      <td>62</td>\n",
       "      <td>14</td>\n",
       "      <td>55</td>\n",
       "      <td>0</td>\n",
       "      <td>0</td>\n",
       "      <td>0</td>\n",
       "    </tr>\n",
       "    <tr>\n",
       "      <th>3</th>\n",
       "      <td>0</td>\n",
       "      <td>1.0</td>\n",
       "      <td>0.0</td>\n",
       "      <td>17.0</td>\n",
       "      <td>3</td>\n",
       "      <td>62</td>\n",
       "      <td>12</td>\n",
       "      <td>65</td>\n",
       "      <td>0</td>\n",
       "      <td>0</td>\n",
       "      <td>0</td>\n",
       "    </tr>\n",
       "    <tr>\n",
       "      <th>4</th>\n",
       "      <td>0</td>\n",
       "      <td>1.0</td>\n",
       "      <td>0.0</td>\n",
       "      <td>17.0</td>\n",
       "      <td>3</td>\n",
       "      <td>62</td>\n",
       "      <td>12</td>\n",
       "      <td>65</td>\n",
       "      <td>0</td>\n",
       "      <td>0</td>\n",
       "      <td>0</td>\n",
       "    </tr>\n",
       "    <tr>\n",
       "      <th>...</th>\n",
       "      <td>...</td>\n",
       "      <td>...</td>\n",
       "      <td>...</td>\n",
       "      <td>...</td>\n",
       "      <td>...</td>\n",
       "      <td>...</td>\n",
       "      <td>...</td>\n",
       "      <td>...</td>\n",
       "      <td>...</td>\n",
       "      <td>...</td>\n",
       "      <td>...</td>\n",
       "    </tr>\n",
       "    <tr>\n",
       "      <th>7847</th>\n",
       "      <td>0</td>\n",
       "      <td>0.0</td>\n",
       "      <td>0.0</td>\n",
       "      <td>24.0</td>\n",
       "      <td>2</td>\n",
       "      <td>84</td>\n",
       "      <td>0</td>\n",
       "      <td>23</td>\n",
       "      <td>0</td>\n",
       "      <td>0</td>\n",
       "      <td>0</td>\n",
       "    </tr>\n",
       "    <tr>\n",
       "      <th>7848</th>\n",
       "      <td>0</td>\n",
       "      <td>0.0</td>\n",
       "      <td>0.0</td>\n",
       "      <td>24.0</td>\n",
       "      <td>2</td>\n",
       "      <td>84</td>\n",
       "      <td>0</td>\n",
       "      <td>15</td>\n",
       "      <td>0</td>\n",
       "      <td>0</td>\n",
       "      <td>0</td>\n",
       "    </tr>\n",
       "    <tr>\n",
       "      <th>7849</th>\n",
       "      <td>0</td>\n",
       "      <td>0.0</td>\n",
       "      <td>0.0</td>\n",
       "      <td>10.0</td>\n",
       "      <td>2</td>\n",
       "      <td>84</td>\n",
       "      <td>0</td>\n",
       "      <td>32</td>\n",
       "      <td>0</td>\n",
       "      <td>0</td>\n",
       "      <td>0</td>\n",
       "    </tr>\n",
       "    <tr>\n",
       "      <th>7850</th>\n",
       "      <td>500</td>\n",
       "      <td>0.0</td>\n",
       "      <td>0.0</td>\n",
       "      <td>120.0</td>\n",
       "      <td>2</td>\n",
       "      <td>104</td>\n",
       "      <td>0</td>\n",
       "      <td>12</td>\n",
       "      <td>0</td>\n",
       "      <td>0</td>\n",
       "      <td>0</td>\n",
       "    </tr>\n",
       "    <tr>\n",
       "      <th>7851</th>\n",
       "      <td>0</td>\n",
       "      <td>0.0</td>\n",
       "      <td>0.0</td>\n",
       "      <td>120.0</td>\n",
       "      <td>2</td>\n",
       "      <td>74</td>\n",
       "      <td>0</td>\n",
       "      <td>12</td>\n",
       "      <td>0</td>\n",
       "      <td>0</td>\n",
       "      <td>1</td>\n",
       "    </tr>\n",
       "  </tbody>\n",
       "</table>\n",
       "<p>7852 rows × 11 columns</p>\n",
       "</div>"
      ],
      "text/plain": [
       "      FMV  ABC_SHARE_PER  ABC_SHARE  TENOR  BUSINESS_SEGMENT  INDUSTRY_NAME  \\\n",
       "0       0            1.0        0.0    9.0                 3             62   \n",
       "1       0            1.0        0.0    9.0                 3             62   \n",
       "2       0            1.0        0.0    9.0                 3             62   \n",
       "3       0            1.0        0.0   17.0                 3             62   \n",
       "4       0            1.0        0.0   17.0                 3             62   \n",
       "...   ...            ...        ...    ...               ...            ...   \n",
       "7847    0            0.0        0.0   24.0                 2             84   \n",
       "7848    0            0.0        0.0   24.0                 2             84   \n",
       "7849    0            0.0        0.0   10.0                 2             84   \n",
       "7850  500            0.0        0.0  120.0                 2            104   \n",
       "7851    0            0.0        0.0  120.0                 2             74   \n",
       "\n",
       "      LEGAL_TYPE  MAIN_LIMIT_NAME  CCY  Held  PRIORITY_SECTOR  \n",
       "0             14               55    0     0                0  \n",
       "1             14               55    0     0                0  \n",
       "2             14               55    0     0                0  \n",
       "3             12               65    0     0                0  \n",
       "4             12               65    0     0                0  \n",
       "...          ...              ...  ...   ...              ...  \n",
       "7847           0               23    0     0                0  \n",
       "7848           0               15    0     0                0  \n",
       "7849           0               32    0     0                0  \n",
       "7850           0               12    0     0                0  \n",
       "7851           0               12    0     0                1  \n",
       "\n",
       "[7852 rows x 11 columns]"
      ]
     },
     "execution_count": 43,
     "metadata": {},
     "output_type": "execute_result"
    }
   ],
   "source": [
    "x_num_cat"
   ]
  },
  {
   "cell_type": "code",
   "execution_count": 44,
   "id": "8a6ccb96",
   "metadata": {},
   "outputs": [],
   "source": [
    "from sklearn.model_selection import train_test_split\n",
    "\n",
    "X_train, X_test, y_train, y_test = train_test_split(x_num_cat, y, test_size = 0.3, random_state = 0)\n"
   ]
  },
  {
   "cell_type": "code",
   "execution_count": 45,
   "id": "df0dd99d",
   "metadata": {},
   "outputs": [
    {
     "data": {
      "text/plain": [
       "((5496, 11), (5496,))"
      ]
     },
     "execution_count": 45,
     "metadata": {},
     "output_type": "execute_result"
    }
   ],
   "source": [
    "X_train.shape,y_train.shape"
   ]
  },
  {
   "cell_type": "code",
   "execution_count": 46,
   "id": "c7223206",
   "metadata": {},
   "outputs": [
    {
     "data": {
      "text/plain": [
       "((2356, 11), (2356,))"
      ]
     },
     "execution_count": 46,
     "metadata": {},
     "output_type": "execute_result"
    }
   ],
   "source": [
    "X_test.shape , y_test.shape"
   ]
  },
  {
   "cell_type": "code",
   "execution_count": 47,
   "id": "994099c6",
   "metadata": {},
   "outputs": [],
   "source": [
    "from sklearn.linear_model import LinearRegression"
   ]
  },
  {
   "cell_type": "code",
   "execution_count": 48,
   "id": "0ce1eef2",
   "metadata": {},
   "outputs": [],
   "source": [
    "lr = LinearRegression()"
   ]
  },
  {
   "cell_type": "code",
   "execution_count": 49,
   "id": "59bbe730",
   "metadata": {},
   "outputs": [
    {
     "data": {
      "text/plain": [
       "LinearRegression()"
      ]
     },
     "execution_count": 49,
     "metadata": {},
     "output_type": "execute_result"
    }
   ],
   "source": [
    "lr.fit(X_train,y_train)"
   ]
  },
  {
   "cell_type": "code",
   "execution_count": 50,
   "id": "93372f3e",
   "metadata": {},
   "outputs": [],
   "source": [
    "y_pred = lr.predict(X_test)"
   ]
  },
  {
   "cell_type": "code",
   "execution_count": 51,
   "id": "f238d4f6",
   "metadata": {},
   "outputs": [
    {
     "data": {
      "text/plain": [
       "array([ 0., 30.,  4., ..., 48.,  5.,  0.])"
      ]
     },
     "execution_count": 51,
     "metadata": {},
     "output_type": "execute_result"
    }
   ],
   "source": [
    "y_test.values"
   ]
  },
  {
   "cell_type": "code",
   "execution_count": 52,
   "id": "bcb39de3",
   "metadata": {},
   "outputs": [
    {
     "data": {
      "text/plain": [
       "array([ 6.67213703, 25.52180453, 28.54161577, ..., 42.69459318,\n",
       "       19.38779676, 23.52171351])"
      ]
     },
     "execution_count": 52,
     "metadata": {},
     "output_type": "execute_result"
    }
   ],
   "source": [
    "y_pred"
   ]
  },
  {
   "cell_type": "code",
   "execution_count": 53,
   "id": "f6fec860",
   "metadata": {},
   "outputs": [],
   "source": [
    "from sklearn.metrics import mean_absolute_error,mean_squared_error,r2_score"
   ]
  },
  {
   "cell_type": "code",
   "execution_count": 54,
   "id": "dcfdfc21",
   "metadata": {},
   "outputs": [
    {
     "name": "stdout",
     "output_type": "stream",
     "text": [
      "MAE 27.698871015894753\n"
     ]
    }
   ],
   "source": [
    "print(\"MAE\",mean_absolute_error(y_test,y_pred))"
   ]
  },
  {
   "cell_type": "code",
   "execution_count": 55,
   "id": "289568d1",
   "metadata": {},
   "outputs": [
    {
     "name": "stdout",
     "output_type": "stream",
     "text": [
      "MSE 6212.207319260648\n"
     ]
    }
   ],
   "source": [
    "print(\"MSE\",mean_squared_error(y_test,y_pred))"
   ]
  },
  {
   "cell_type": "code",
   "execution_count": 56,
   "id": "fd873fea",
   "metadata": {},
   "outputs": [
    {
     "data": {
      "text/plain": [
       "6212.207319260648"
      ]
     },
     "execution_count": 56,
     "metadata": {},
     "output_type": "execute_result"
    }
   ],
   "source": [
    "mse=mean_squared_error(y_test,y_pred)\n",
    "mse"
   ]
  },
  {
   "cell_type": "code",
   "execution_count": 57,
   "id": "4197f13c",
   "metadata": {},
   "outputs": [
    {
     "name": "stdout",
     "output_type": "stream",
     "text": [
      "RMSE 78.8175571764353\n"
     ]
    }
   ],
   "source": [
    "print(\"RMSE\",np.sqrt(mse))"
   ]
  },
  {
   "cell_type": "markdown",
   "id": "d7b85998",
   "metadata": {},
   "source": [
    " it depends on the dependent variable. The unit of RMSE is same as dependent variable. \n",
    " If your data has a range of 0 to 100000 then RMSE value of 3000 is small, \n",
    " but if the range goes from 0 to 1, it is pretty huge. \n",
    " Try to play with other input variables, and compare your RMSE values. The smaller the RMSE value, the better the model.\n",
    "\n",
    "Also, try to compare your RMSE values of both training and testing data. If they are almost similar, your model is good. If the RMSE for the testing data is much higher than that of the training data, it is likely that you've badly over fit the data."
   ]
  },
  {
   "cell_type": "code",
   "execution_count": null,
   "id": "b0ad3528",
   "metadata": {},
   "outputs": [],
   "source": []
  }
 ],
 "metadata": {
  "kernelspec": {
   "display_name": "Python 3 (ipykernel)",
   "language": "python",
   "name": "python3"
  },
  "language_info": {
   "codemirror_mode": {
    "name": "ipython",
    "version": 3
   },
   "file_extension": ".py",
   "mimetype": "text/x-python",
   "name": "python",
   "nbconvert_exporter": "python",
   "pygments_lexer": "ipython3",
   "version": "3.9.7"
  }
 },
 "nbformat": 4,
 "nbformat_minor": 5
}
