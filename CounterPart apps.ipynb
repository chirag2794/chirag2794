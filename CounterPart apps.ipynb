{
 "cells": [
  {
   "cell_type": "code",
   "execution_count": 1,
   "id": "428e1dd1",
   "metadata": {},
   "outputs": [],
   "source": [
    "import numpy as np\n",
    "import pandas as pd\n",
    "import matplotlib.pyplot as plt\n",
    "import seaborn as sns"
   ]
  },
  {
   "cell_type": "code",
   "execution_count": 2,
   "id": "f1e28183",
   "metadata": {},
   "outputs": [],
   "source": [
    "data=pd.read_excel(\"CounterPartyApplicationData.xlsx\")"
   ]
  },
  {
   "cell_type": "code",
   "execution_count": 3,
   "id": "6fbeabb1",
   "metadata": {},
   "outputs": [
    {
     "data": {
      "text/plain": [
       "(15577, 71)"
      ]
     },
     "execution_count": 3,
     "metadata": {},
     "output_type": "execute_result"
    }
   ],
   "source": [
    "data.shape"
   ]
  },
  {
   "cell_type": "code",
   "execution_count": 4,
   "id": "34c79b7e",
   "metadata": {},
   "outputs": [
    {
     "data": {
      "text/html": [
       "<div>\n",
       "<style scoped>\n",
       "    .dataframe tbody tr th:only-of-type {\n",
       "        vertical-align: middle;\n",
       "    }\n",
       "\n",
       "    .dataframe tbody tr th {\n",
       "        vertical-align: top;\n",
       "    }\n",
       "\n",
       "    .dataframe thead th {\n",
       "        text-align: right;\n",
       "    }\n",
       "</style>\n",
       "<table border=\"1\" class=\"dataframe\">\n",
       "  <thead>\n",
       "    <tr style=\"text-align: right;\">\n",
       "      <th></th>\n",
       "      <th>CounterPartyName</th>\n",
       "      <th>IMAC_ID</th>\n",
       "      <th>CIF_ID</th>\n",
       "      <th>DepartmentName</th>\n",
       "      <th>CustomerRM</th>\n",
       "      <th>App_ID</th>\n",
       "      <th>WorkflowName</th>\n",
       "      <th>PurposeOfCAM</th>\n",
       "      <th>DateOfApproval</th>\n",
       "      <th>GroupName</th>\n",
       "      <th>...</th>\n",
       "      <th>TotalFundedOutStanding</th>\n",
       "      <th>TotalNonFundedSanctioned</th>\n",
       "      <th>TotalNonFundedOutStanding</th>\n",
       "      <th>GrandTotalSanctioned</th>\n",
       "      <th>GrandTotalOutStanding</th>\n",
       "      <th>FacilityRating</th>\n",
       "      <th>MoratoriumDays</th>\n",
       "      <th>ATNW</th>\n",
       "      <th>TNW</th>\n",
       "      <th>EBITDAPer</th>\n",
       "    </tr>\n",
       "  </thead>\n",
       "  <tbody>\n",
       "    <tr>\n",
       "      <th>0</th>\n",
       "      <td>100048-xxxxx</td>\n",
       "      <td>100048</td>\n",
       "      <td>20132126</td>\n",
       "      <td>C&amp;IB</td>\n",
       "      <td>05483_F  05483_L</td>\n",
       "      <td>APP-3474</td>\n",
       "      <td>APPWF_CIB</td>\n",
       "      <td>NTB Custom</td>\n",
       "      <td>2018-02-22 11:16:24.940</td>\n",
       "      <td>10841-xxxxx</td>\n",
       "      <td>...</td>\n",
       "      <td>0</td>\n",
       "      <td>3000000</td>\n",
       "      <td>0</td>\n",
       "      <td>3000000</td>\n",
       "      <td>0</td>\n",
       "      <td>ABC-6</td>\n",
       "      <td>NaN</td>\n",
       "      <td>0.0</td>\n",
       "      <td>0.0</td>\n",
       "      <td>0.0</td>\n",
       "    </tr>\n",
       "    <tr>\n",
       "      <th>1</th>\n",
       "      <td>100048-xxxxx</td>\n",
       "      <td>100048</td>\n",
       "      <td>20132126</td>\n",
       "      <td>C&amp;IB</td>\n",
       "      <td>05483_F  05483_L</td>\n",
       "      <td>APP-3474</td>\n",
       "      <td>APPWF_CIB</td>\n",
       "      <td>NTB Custom</td>\n",
       "      <td>2018-02-22 11:16:24.940</td>\n",
       "      <td>10841-xxxxx</td>\n",
       "      <td>...</td>\n",
       "      <td>0</td>\n",
       "      <td>3000000</td>\n",
       "      <td>0</td>\n",
       "      <td>3000000</td>\n",
       "      <td>0</td>\n",
       "      <td>ABC-6</td>\n",
       "      <td>NaN</td>\n",
       "      <td>0.0</td>\n",
       "      <td>0.0</td>\n",
       "      <td>0.0</td>\n",
       "    </tr>\n",
       "    <tr>\n",
       "      <th>2</th>\n",
       "      <td>100048-xxxxx</td>\n",
       "      <td>100048</td>\n",
       "      <td>20132126</td>\n",
       "      <td>C&amp;IB</td>\n",
       "      <td>05483_F  05483_L</td>\n",
       "      <td>APP-3474</td>\n",
       "      <td>APPWF_CIB</td>\n",
       "      <td>NTB Custom</td>\n",
       "      <td>2018-02-22 11:16:24.940</td>\n",
       "      <td>10841-xxxxx</td>\n",
       "      <td>...</td>\n",
       "      <td>0</td>\n",
       "      <td>0</td>\n",
       "      <td>0</td>\n",
       "      <td>0</td>\n",
       "      <td>0</td>\n",
       "      <td>NaN</td>\n",
       "      <td>NaN</td>\n",
       "      <td>0.0</td>\n",
       "      <td>0.0</td>\n",
       "      <td>0.0</td>\n",
       "    </tr>\n",
       "    <tr>\n",
       "      <th>3</th>\n",
       "      <td>100048-xxxxx</td>\n",
       "      <td>100048</td>\n",
       "      <td>20132126</td>\n",
       "      <td>C&amp;IB</td>\n",
       "      <td>05483_F  05483_L</td>\n",
       "      <td>APP-3767</td>\n",
       "      <td>APPWF_CIB</td>\n",
       "      <td>NTB Custom</td>\n",
       "      <td>2018-04-24 10:51:53.020</td>\n",
       "      <td>10841-xxxxx</td>\n",
       "      <td>...</td>\n",
       "      <td>0</td>\n",
       "      <td>150000000</td>\n",
       "      <td>0</td>\n",
       "      <td>150000000</td>\n",
       "      <td>0</td>\n",
       "      <td>ABC-7A</td>\n",
       "      <td>NaN</td>\n",
       "      <td>0.0</td>\n",
       "      <td>0.0</td>\n",
       "      <td>0.0</td>\n",
       "    </tr>\n",
       "    <tr>\n",
       "      <th>4</th>\n",
       "      <td>100048-xxxxx</td>\n",
       "      <td>100048</td>\n",
       "      <td>20132126</td>\n",
       "      <td>C&amp;IB</td>\n",
       "      <td>05483_F  05483_L</td>\n",
       "      <td>APP-3767</td>\n",
       "      <td>APPWF_CIB</td>\n",
       "      <td>NTB Custom</td>\n",
       "      <td>2018-04-24 10:51:53.020</td>\n",
       "      <td>10841-xxxxx</td>\n",
       "      <td>...</td>\n",
       "      <td>0</td>\n",
       "      <td>150000000</td>\n",
       "      <td>0</td>\n",
       "      <td>150000000</td>\n",
       "      <td>0</td>\n",
       "      <td>ABC-7A</td>\n",
       "      <td>NaN</td>\n",
       "      <td>0.0</td>\n",
       "      <td>0.0</td>\n",
       "      <td>0.0</td>\n",
       "    </tr>\n",
       "  </tbody>\n",
       "</table>\n",
       "<p>5 rows × 71 columns</p>\n",
       "</div>"
      ],
      "text/plain": [
       "  CounterPartyName  IMAC_ID    CIF_ID DepartmentName        CustomerRM  \\\n",
       "0     100048-xxxxx   100048  20132126           C&IB  05483_F  05483_L   \n",
       "1     100048-xxxxx   100048  20132126           C&IB  05483_F  05483_L   \n",
       "2     100048-xxxxx   100048  20132126           C&IB  05483_F  05483_L   \n",
       "3     100048-xxxxx   100048  20132126           C&IB  05483_F  05483_L   \n",
       "4     100048-xxxxx   100048  20132126           C&IB  05483_F  05483_L   \n",
       "\n",
       "     App_ID WorkflowName PurposeOfCAM          DateOfApproval    GroupName  \\\n",
       "0  APP-3474    APPWF_CIB   NTB Custom 2018-02-22 11:16:24.940  10841-xxxxx   \n",
       "1  APP-3474    APPWF_CIB   NTB Custom 2018-02-22 11:16:24.940  10841-xxxxx   \n",
       "2  APP-3474    APPWF_CIB   NTB Custom 2018-02-22 11:16:24.940  10841-xxxxx   \n",
       "3  APP-3767    APPWF_CIB   NTB Custom 2018-04-24 10:51:53.020  10841-xxxxx   \n",
       "4  APP-3767    APPWF_CIB   NTB Custom 2018-04-24 10:51:53.020  10841-xxxxx   \n",
       "\n",
       "   ... TotalFundedOutStanding TotalNonFundedSanctioned  \\\n",
       "0  ...                      0                  3000000   \n",
       "1  ...                      0                  3000000   \n",
       "2  ...                      0                        0   \n",
       "3  ...                      0                150000000   \n",
       "4  ...                      0                150000000   \n",
       "\n",
       "  TotalNonFundedOutStanding GrandTotalSanctioned GrandTotalOutStanding  \\\n",
       "0                         0              3000000                     0   \n",
       "1                         0              3000000                     0   \n",
       "2                         0                    0                     0   \n",
       "3                         0            150000000                     0   \n",
       "4                         0            150000000                     0   \n",
       "\n",
       "  FacilityRating MoratoriumDays ATNW  TNW EBITDAPer  \n",
       "0          ABC-6            NaN  0.0  0.0       0.0  \n",
       "1          ABC-6            NaN  0.0  0.0       0.0  \n",
       "2            NaN            NaN  0.0  0.0       0.0  \n",
       "3         ABC-7A            NaN  0.0  0.0       0.0  \n",
       "4         ABC-7A            NaN  0.0  0.0       0.0  \n",
       "\n",
       "[5 rows x 71 columns]"
      ]
     },
     "execution_count": 4,
     "metadata": {},
     "output_type": "execute_result"
    }
   ],
   "source": [
    "data.head(5)"
   ]
  },
  {
   "cell_type": "code",
   "execution_count": 5,
   "id": "980b1e9e",
   "metadata": {},
   "outputs": [],
   "source": [
    "cols=data.columns"
   ]
  },
  {
   "cell_type": "code",
   "execution_count": 6,
   "id": "e5794e3f",
   "metadata": {},
   "outputs": [
    {
     "data": {
      "text/plain": [
       "Index(['CounterPartyName', 'IMAC_ID', 'CIF_ID', 'DepartmentName', 'CustomerRM',\n",
       "       'App_ID', 'WorkflowName', 'PurposeOfCAM', 'DateOfApproval', 'GroupName',\n",
       "       'GroupID', 'CCY', 'BaseUnit', 'CustomerSince', 'Industry',\n",
       "       'EWS_AL_WLDateOfSanction', 'EWS_AL_WLPresent', 'SanctionDueDate',\n",
       "       'InternalRating', 'RatingAgency', 'LongTermRating', 'ShortTermRating',\n",
       "       'Outlook', 'RatingDate', 'UWSDeviation', 'TOMDeviation', 'AMLGrade',\n",
       "       'ApplicationRating', 'AuditYear', 'FinancialRisk', 'BusinessRisk',\n",
       "       'IndustryRisk', 'ManagementRisk', 'BasicBorrowerRiskScore',\n",
       "       'ProjectRisk', 'BorrowerRIskScoreWithProject', 'ConductOfAccount',\n",
       "       'ApprovingAuthority', 'ActuallyApprovedBy', 'OverrideYorN',\n",
       "       'OverrideReason', 'ApproverName', 'ApproverComment',\n",
       "       'ApproverTimeStamp', 'UFCEProvisionAssessment', 'CRILCStatus',\n",
       "       'OrignalRating', 'OverRideRating', 'Justification',\n",
       "       'ProposedBankingArrangement', 'FacilityId', 'FacilityType',\n",
       "       'FacilitySubtype', 'ParentFAC_ID', 'Tenor', 'SanctionedAmount',\n",
       "       'OutStandingAmount', 'Classification', 'DirectIndirect',\n",
       "       'IsCashBackCollateral', 'TotalFundedSanctioned',\n",
       "       'TotalFundedOutStanding', 'TotalNonFundedSanctioned',\n",
       "       'TotalNonFundedOutStanding', 'GrandTotalSanctioned',\n",
       "       'GrandTotalOutStanding', 'FacilityRating', 'MoratoriumDays', 'ATNW',\n",
       "       'TNW', 'EBITDAPer'],\n",
       "      dtype='object')"
      ]
     },
     "execution_count": 6,
     "metadata": {},
     "output_type": "execute_result"
    }
   ],
   "source": [
    "cols"
   ]
  },
  {
   "cell_type": "code",
   "execution_count": 7,
   "id": "9624b8c7",
   "metadata": {},
   "outputs": [
    {
     "name": "stdout",
     "output_type": "stream",
     "text": [
      "<class 'pandas.core.frame.DataFrame'>\n",
      "RangeIndex: 15577 entries, 0 to 15576\n",
      "Data columns (total 71 columns):\n",
      " #   Column                        Non-Null Count  Dtype         \n",
      "---  ------                        --------------  -----         \n",
      " 0   CounterPartyName              15577 non-null  object        \n",
      " 1   IMAC_ID                       15577 non-null  int64         \n",
      " 2   CIF_ID                        14239 non-null  object        \n",
      " 3   DepartmentName                15577 non-null  object        \n",
      " 4   CustomerRM                    14620 non-null  object        \n",
      " 5   App_ID                        15577 non-null  object        \n",
      " 6   WorkflowName                  15577 non-null  object        \n",
      " 7   PurposeOfCAM                  10041 non-null  object        \n",
      " 8   DateOfApproval                15577 non-null  datetime64[ns]\n",
      " 9   GroupName                     6627 non-null   object        \n",
      " 10  GroupID                       6627 non-null   object        \n",
      " 11  CCY                           15577 non-null  object        \n",
      " 12  BaseUnit                      10089 non-null  object        \n",
      " 13  CustomerSince                 14322 non-null  object        \n",
      " 14  Industry                      15572 non-null  object        \n",
      " 15  EWS_AL_WLDateOfSanction       1023 non-null   object        \n",
      " 16  EWS_AL_WLPresent              3394 non-null   object        \n",
      " 17  SanctionDueDate               15577 non-null  datetime64[ns]\n",
      " 18  InternalRating                14290 non-null  object        \n",
      " 19  RatingAgency                  6329 non-null   object        \n",
      " 20  LongTermRating                6139 non-null   object        \n",
      " 21  ShortTermRating               4524 non-null   object        \n",
      " 22  Outlook                       6151 non-null   object        \n",
      " 23  RatingDate                    6329 non-null   object        \n",
      " 24  UWSDeviation                  15577 non-null  object        \n",
      " 25  TOMDeviation                  15577 non-null  object        \n",
      " 26  AMLGrade                      9006 non-null   object        \n",
      " 27  ApplicationRating             14290 non-null  object        \n",
      " 28  AuditYear                     12196 non-null  float64       \n",
      " 29  FinancialRisk                 15577 non-null  float64       \n",
      " 30  BusinessRisk                  15577 non-null  float64       \n",
      " 31  IndustryRisk                  15577 non-null  float64       \n",
      " 32  ManagementRisk                15577 non-null  float64       \n",
      " 33  BasicBorrowerRiskScore        15577 non-null  float64       \n",
      " 34  ProjectRisk                   15577 non-null  float64       \n",
      " 35  BorrowerRIskScoreWithProject  15577 non-null  float64       \n",
      " 36  ConductOfAccount              15577 non-null  float64       \n",
      " 37  ApprovingAuthority            10089 non-null  object        \n",
      " 38  ActuallyApprovedBy            66 non-null     object        \n",
      " 39  OverrideYorN                  15577 non-null  object        \n",
      " 40  OverrideReason                15137 non-null  object        \n",
      " 41  ApproverName                  5318 non-null   object        \n",
      " 42  ApproverComment               4819 non-null   object        \n",
      " 43  ApproverTimeStamp             5318 non-null   object        \n",
      " 44  UFCEProvisionAssessment       0 non-null      float64       \n",
      " 45  CRILCStatus                   2846 non-null   object        \n",
      " 46  OrignalRating                 12255 non-null  object        \n",
      " 47  OverRideRating                11927 non-null  object        \n",
      " 48  Justification                 3343 non-null   object        \n",
      " 49  ProposedBankingArrangement    8007 non-null   object        \n",
      " 50  FacilityId                    14271 non-null  object        \n",
      " 51  FacilityType                  14271 non-null  object        \n",
      " 52  FacilitySubtype               14271 non-null  object        \n",
      " 53  ParentFAC_ID                  6585 non-null   object        \n",
      " 54  Tenor                         14271 non-null  object        \n",
      " 55  SanctionedAmount              15577 non-null  float64       \n",
      " 56  OutStandingAmount             15577 non-null  int64         \n",
      " 57  Classification                14271 non-null  object        \n",
      " 58  DirectIndirect                14271 non-null  object        \n",
      " 59  IsCashBackCollateral          14271 non-null  object        \n",
      " 60  TotalFundedSanctioned         15577 non-null  int64         \n",
      " 61  TotalFundedOutStanding        15577 non-null  int64         \n",
      " 62  TotalNonFundedSanctioned      15577 non-null  int64         \n",
      " 63  TotalNonFundedOutStanding     15577 non-null  int64         \n",
      " 64  GrandTotalSanctioned          15577 non-null  int64         \n",
      " 65  GrandTotalOutStanding         15577 non-null  int64         \n",
      " 66  FacilityRating                8857 non-null   object        \n",
      " 67  MoratoriumDays                6871 non-null   float64       \n",
      " 68  ATNW                          15577 non-null  float64       \n",
      " 69  TNW                           15577 non-null  float64       \n",
      " 70  EBITDAPer                     15577 non-null  float64       \n",
      "dtypes: datetime64[ns](2), float64(15), int64(8), object(46)\n",
      "memory usage: 8.4+ MB\n"
     ]
    }
   ],
   "source": [
    "data.info()"
   ]
  },
  {
   "cell_type": "code",
   "execution_count": 8,
   "id": "c32027cc",
   "metadata": {},
   "outputs": [
    {
     "data": {
      "text/plain": [
       "CounterPartyName       0\n",
       "IMAC_ID                0\n",
       "CIF_ID              1338\n",
       "DepartmentName         0\n",
       "CustomerRM           957\n",
       "                    ... \n",
       "FacilityRating      6720\n",
       "MoratoriumDays      8706\n",
       "ATNW                   0\n",
       "TNW                    0\n",
       "EBITDAPer              0\n",
       "Length: 71, dtype: int64"
      ]
     },
     "execution_count": 8,
     "metadata": {},
     "output_type": "execute_result"
    }
   ],
   "source": [
    "data.isnull().sum()"
   ]
  },
  {
   "cell_type": "code",
   "execution_count": 9,
   "id": "48861a91",
   "metadata": {},
   "outputs": [
    {
     "data": {
      "text/plain": [
       "261514"
      ]
     },
     "execution_count": 9,
     "metadata": {},
     "output_type": "execute_result"
    }
   ],
   "source": [
    "data.isnull().sum().sum()"
   ]
  },
  {
   "cell_type": "code",
   "execution_count": 10,
   "id": "acc96115",
   "metadata": {},
   "outputs": [
    {
     "data": {
      "text/plain": [
       "CounterPartyName     0.000000\n",
       "IMAC_ID              0.000000\n",
       "CIF_ID               8.589587\n",
       "DepartmentName       0.000000\n",
       "CustomerRM           6.143673\n",
       "                      ...    \n",
       "FacilityRating      43.140528\n",
       "MoratoriumDays      55.890094\n",
       "ATNW                 0.000000\n",
       "TNW                  0.000000\n",
       "EBITDAPer            0.000000\n",
       "Length: 71, dtype: float64"
      ]
     },
     "execution_count": 10,
     "metadata": {},
     "output_type": "execute_result"
    }
   ],
   "source": [
    "data.isnull().sum()/len(data)*100"
   ]
  },
  {
   "cell_type": "code",
   "execution_count": 11,
   "id": "4043a1f2",
   "metadata": {},
   "outputs": [],
   "source": [
    "null_morethan_20=data.isnull().sum()/len(data)*100 > 20"
   ]
  },
  {
   "cell_type": "code",
   "execution_count": 12,
   "id": "cd163936",
   "metadata": {},
   "outputs": [
    {
     "data": {
      "text/plain": [
       "CounterPartyName    False\n",
       "IMAC_ID             False\n",
       "CIF_ID              False\n",
       "DepartmentName      False\n",
       "CustomerRM          False\n",
       "                    ...  \n",
       "FacilityRating       True\n",
       "MoratoriumDays       True\n",
       "ATNW                False\n",
       "TNW                 False\n",
       "EBITDAPer           False\n",
       "Length: 71, dtype: bool"
      ]
     },
     "execution_count": 12,
     "metadata": {},
     "output_type": "execute_result"
    }
   ],
   "source": [
    "null_morethan_20"
   ]
  },
  {
   "cell_type": "code",
   "execution_count": 13,
   "id": "d5f230da",
   "metadata": {},
   "outputs": [],
   "source": [
    "dropping_features=null_morethan_20[null_morethan_20==1].index"
   ]
  },
  {
   "cell_type": "code",
   "execution_count": 14,
   "id": "7783400b",
   "metadata": {},
   "outputs": [
    {
     "data": {
      "text/plain": [
       "Index(['PurposeOfCAM', 'GroupName', 'GroupID', 'BaseUnit',\n",
       "       'EWS_AL_WLDateOfSanction', 'EWS_AL_WLPresent', 'RatingAgency',\n",
       "       'LongTermRating', 'ShortTermRating', 'Outlook', 'RatingDate',\n",
       "       'AMLGrade', 'AuditYear', 'ApprovingAuthority', 'ActuallyApprovedBy',\n",
       "       'ApproverName', 'ApproverComment', 'ApproverTimeStamp',\n",
       "       'UFCEProvisionAssessment', 'CRILCStatus', 'OrignalRating',\n",
       "       'OverRideRating', 'Justification', 'ProposedBankingArrangement',\n",
       "       'ParentFAC_ID', 'FacilityRating', 'MoratoriumDays'],\n",
       "      dtype='object')"
      ]
     },
     "execution_count": 14,
     "metadata": {},
     "output_type": "execute_result"
    }
   ],
   "source": [
    "dropping_features"
   ]
  },
  {
   "cell_type": "code",
   "execution_count": 15,
   "id": "2ce14cec",
   "metadata": {},
   "outputs": [
    {
     "name": "stdout",
     "output_type": "stream",
     "text": [
      "<class 'pandas.core.frame.DataFrame'>\n",
      "RangeIndex: 15577 entries, 0 to 15576\n",
      "Data columns (total 71 columns):\n",
      " #   Column                        Non-Null Count  Dtype         \n",
      "---  ------                        --------------  -----         \n",
      " 0   CounterPartyName              15577 non-null  object        \n",
      " 1   IMAC_ID                       15577 non-null  int64         \n",
      " 2   CIF_ID                        14239 non-null  object        \n",
      " 3   DepartmentName                15577 non-null  object        \n",
      " 4   CustomerRM                    14620 non-null  object        \n",
      " 5   App_ID                        15577 non-null  object        \n",
      " 6   WorkflowName                  15577 non-null  object        \n",
      " 7   PurposeOfCAM                  10041 non-null  object        \n",
      " 8   DateOfApproval                15577 non-null  datetime64[ns]\n",
      " 9   GroupName                     6627 non-null   object        \n",
      " 10  GroupID                       6627 non-null   object        \n",
      " 11  CCY                           15577 non-null  object        \n",
      " 12  BaseUnit                      10089 non-null  object        \n",
      " 13  CustomerSince                 14322 non-null  object        \n",
      " 14  Industry                      15572 non-null  object        \n",
      " 15  EWS_AL_WLDateOfSanction       1023 non-null   object        \n",
      " 16  EWS_AL_WLPresent              3394 non-null   object        \n",
      " 17  SanctionDueDate               15577 non-null  datetime64[ns]\n",
      " 18  InternalRating                14290 non-null  object        \n",
      " 19  RatingAgency                  6329 non-null   object        \n",
      " 20  LongTermRating                6139 non-null   object        \n",
      " 21  ShortTermRating               4524 non-null   object        \n",
      " 22  Outlook                       6151 non-null   object        \n",
      " 23  RatingDate                    6329 non-null   object        \n",
      " 24  UWSDeviation                  15577 non-null  object        \n",
      " 25  TOMDeviation                  15577 non-null  object        \n",
      " 26  AMLGrade                      9006 non-null   object        \n",
      " 27  ApplicationRating             14290 non-null  object        \n",
      " 28  AuditYear                     12196 non-null  float64       \n",
      " 29  FinancialRisk                 15577 non-null  float64       \n",
      " 30  BusinessRisk                  15577 non-null  float64       \n",
      " 31  IndustryRisk                  15577 non-null  float64       \n",
      " 32  ManagementRisk                15577 non-null  float64       \n",
      " 33  BasicBorrowerRiskScore        15577 non-null  float64       \n",
      " 34  ProjectRisk                   15577 non-null  float64       \n",
      " 35  BorrowerRIskScoreWithProject  15577 non-null  float64       \n",
      " 36  ConductOfAccount              15577 non-null  float64       \n",
      " 37  ApprovingAuthority            10089 non-null  object        \n",
      " 38  ActuallyApprovedBy            66 non-null     object        \n",
      " 39  OverrideYorN                  15577 non-null  object        \n",
      " 40  OverrideReason                15137 non-null  object        \n",
      " 41  ApproverName                  5318 non-null   object        \n",
      " 42  ApproverComment               4819 non-null   object        \n",
      " 43  ApproverTimeStamp             5318 non-null   object        \n",
      " 44  UFCEProvisionAssessment       0 non-null      float64       \n",
      " 45  CRILCStatus                   2846 non-null   object        \n",
      " 46  OrignalRating                 12255 non-null  object        \n",
      " 47  OverRideRating                11927 non-null  object        \n",
      " 48  Justification                 3343 non-null   object        \n",
      " 49  ProposedBankingArrangement    8007 non-null   object        \n",
      " 50  FacilityId                    14271 non-null  object        \n",
      " 51  FacilityType                  14271 non-null  object        \n",
      " 52  FacilitySubtype               14271 non-null  object        \n",
      " 53  ParentFAC_ID                  6585 non-null   object        \n",
      " 54  Tenor                         14271 non-null  object        \n",
      " 55  SanctionedAmount              15577 non-null  float64       \n",
      " 56  OutStandingAmount             15577 non-null  int64         \n",
      " 57  Classification                14271 non-null  object        \n",
      " 58  DirectIndirect                14271 non-null  object        \n",
      " 59  IsCashBackCollateral          14271 non-null  object        \n",
      " 60  TotalFundedSanctioned         15577 non-null  int64         \n",
      " 61  TotalFundedOutStanding        15577 non-null  int64         \n",
      " 62  TotalNonFundedSanctioned      15577 non-null  int64         \n",
      " 63  TotalNonFundedOutStanding     15577 non-null  int64         \n",
      " 64  GrandTotalSanctioned          15577 non-null  int64         \n",
      " 65  GrandTotalOutStanding         15577 non-null  int64         \n",
      " 66  FacilityRating                8857 non-null   object        \n",
      " 67  MoratoriumDays                6871 non-null   float64       \n",
      " 68  ATNW                          15577 non-null  float64       \n",
      " 69  TNW                           15577 non-null  float64       \n",
      " 70  EBITDAPer                     15577 non-null  float64       \n",
      "dtypes: datetime64[ns](2), float64(15), int64(8), object(46)\n",
      "memory usage: 8.4+ MB\n"
     ]
    }
   ],
   "source": [
    "data.info()"
   ]
  },
  {
   "cell_type": "code",
   "execution_count": 16,
   "id": "c13ce354",
   "metadata": {},
   "outputs": [
    {
     "data": {
      "text/plain": [
       "(15577, 71)"
      ]
     },
     "execution_count": 16,
     "metadata": {},
     "output_type": "execute_result"
    }
   ],
   "source": [
    "data.shape"
   ]
  },
  {
   "cell_type": "code",
   "execution_count": 17,
   "id": "79053293",
   "metadata": {},
   "outputs": [
    {
     "data": {
      "text/plain": [
       "No     13535\n",
       "Yes      736\n",
       "Name: IsCashBackCollateral, dtype: int64"
      ]
     },
     "execution_count": 17,
     "metadata": {},
     "output_type": "execute_result"
    }
   ],
   "source": [
    "data.IsCashBackCollateral.value_counts()"
   ]
  },
  {
   "cell_type": "code",
   "execution_count": 18,
   "id": "4bfc22c1",
   "metadata": {},
   "outputs": [
    {
     "data": {
      "text/plain": [
       "<AxesSubplot:>"
      ]
     },
     "execution_count": 18,
     "metadata": {},
     "output_type": "execute_result"
    },
    {
     "data": {
      "image/png": "[encoded data removed]",
      "text/plain": [
       "<Figure size 432x288 with 1 Axes>"
      ]
     },
     "metadata": {
      "needs_background": "light"
     },
     "output_type": "display_data"
    }
   ],
   "source": [
    "data.IsCashBackCollateral.value_counts().plot(kind='bar')"
   ]
  },
  {
   "cell_type": "code",
   "execution_count": 19,
   "id": "c1232bda",
   "metadata": {},
   "outputs": [
    {
     "name": "stderr",
     "output_type": "stream",
     "text": [
      "C:\\Users\\SANJEE~1\\AppData\\Local\\Temp/ipykernel_13068/2907719068.py:1: FutureWarning: Indexing with multiple keys (implicitly converted to a tuple of keys) will be deprecated, use a list instead.\n",
      "  data2=data.groupby(\"IsCashBackCollateral\")['TotalFundedSanctioned',\"TotalFundedOutStanding\",\"TotalNonFundedSanctioned\",\"TotalNonFundedOutStanding\"].sum()\n"
     ]
    }
   ],
   "source": [
    "data2=data.groupby(\"IsCashBackCollateral\")['TotalFundedSanctioned',\"TotalFundedOutStanding\",\"TotalNonFundedSanctioned\",\"TotalNonFundedOutStanding\"].sum()"
   ]
  },
  {
   "cell_type": "code",
   "execution_count": 20,
   "id": "0137468a",
   "metadata": {},
   "outputs": [
    {
     "data": {
      "text/html": [
       "<div>\n",
       "<style scoped>\n",
       "    .dataframe tbody tr th:only-of-type {\n",
       "        vertical-align: middle;\n",
       "    }\n",
       "\n",
       "    .dataframe tbody tr th {\n",
       "        vertical-align: top;\n",
       "    }\n",
       "\n",
       "    .dataframe thead th {\n",
       "        text-align: right;\n",
       "    }\n",
       "</style>\n",
       "<table border=\"1\" class=\"dataframe\">\n",
       "  <thead>\n",
       "    <tr style=\"text-align: right;\">\n",
       "      <th></th>\n",
       "      <th>TotalFundedSanctioned</th>\n",
       "      <th>TotalFundedOutStanding</th>\n",
       "      <th>TotalNonFundedSanctioned</th>\n",
       "      <th>TotalNonFundedOutStanding</th>\n",
       "    </tr>\n",
       "    <tr>\n",
       "      <th>IsCashBackCollateral</th>\n",
       "      <th></th>\n",
       "      <th></th>\n",
       "      <th></th>\n",
       "      <th></th>\n",
       "    </tr>\n",
       "  </thead>\n",
       "  <tbody>\n",
       "    <tr>\n",
       "      <th>No</th>\n",
       "      <td>9375736938949</td>\n",
       "      <td>1594474351000</td>\n",
       "      <td>4554185988950</td>\n",
       "      <td>365442269000</td>\n",
       "    </tr>\n",
       "    <tr>\n",
       "      <th>Yes</th>\n",
       "      <td>407914404045</td>\n",
       "      <td>63468406000</td>\n",
       "      <td>188357108030</td>\n",
       "      <td>36961083500</td>\n",
       "    </tr>\n",
       "  </tbody>\n",
       "</table>\n",
       "</div>"
      ],
      "text/plain": [
       "                      TotalFundedSanctioned  TotalFundedOutStanding  \\\n",
       "IsCashBackCollateral                                                  \n",
       "No                            9375736938949           1594474351000   \n",
       "Yes                            407914404045             63468406000   \n",
       "\n",
       "                      TotalNonFundedSanctioned  TotalNonFundedOutStanding  \n",
       "IsCashBackCollateral                                                       \n",
       "No                               4554185988950               365442269000  \n",
       "Yes                               188357108030                36961083500  "
      ]
     },
     "execution_count": 20,
     "metadata": {},
     "output_type": "execute_result"
    }
   ],
   "source": [
    "data2"
   ]
  },
  {
   "cell_type": "code",
   "execution_count": 21,
   "id": "7a81ce1d",
   "metadata": {},
   "outputs": [
    {
     "data": {
      "text/plain": [
       "<AxesSubplot:xlabel='IsCashBackCollateral'>"
      ]
     },
     "execution_count": 21,
     "metadata": {},
     "output_type": "execute_result"
    },
    {
     "data": {
      "image/png": "[encoded data removed]",
      "text/plain": [
       "<Figure size 432x288 with 1 Axes>"
      ]
     },
     "metadata": {
      "needs_background": "light"
     },
     "output_type": "display_data"
    }
   ],
   "source": [
    "data2.plot(kind='bar')"
   ]
  },
  {
   "cell_type": "code",
   "execution_count": 22,
   "id": "9297c55a",
   "metadata": {},
   "outputs": [
    {
     "data": {
      "text/html": [
       "<div>\n",
       "<style scoped>\n",
       "    .dataframe tbody tr th:only-of-type {\n",
       "        vertical-align: middle;\n",
       "    }\n",
       "\n",
       "    .dataframe tbody tr th {\n",
       "        vertical-align: top;\n",
       "    }\n",
       "\n",
       "    .dataframe thead th {\n",
       "        text-align: right;\n",
       "    }\n",
       "</style>\n",
       "<table border=\"1\" class=\"dataframe\">\n",
       "  <thead>\n",
       "    <tr style=\"text-align: right;\">\n",
       "      <th></th>\n",
       "      <th>CounterPartyName</th>\n",
       "      <th>IMAC_ID</th>\n",
       "      <th>CIF_ID</th>\n",
       "      <th>DepartmentName</th>\n",
       "      <th>CustomerRM</th>\n",
       "      <th>App_ID</th>\n",
       "      <th>WorkflowName</th>\n",
       "      <th>PurposeOfCAM</th>\n",
       "      <th>DateOfApproval</th>\n",
       "      <th>GroupName</th>\n",
       "      <th>...</th>\n",
       "      <th>TotalFundedOutStanding</th>\n",
       "      <th>TotalNonFundedSanctioned</th>\n",
       "      <th>TotalNonFundedOutStanding</th>\n",
       "      <th>GrandTotalSanctioned</th>\n",
       "      <th>GrandTotalOutStanding</th>\n",
       "      <th>FacilityRating</th>\n",
       "      <th>MoratoriumDays</th>\n",
       "      <th>ATNW</th>\n",
       "      <th>TNW</th>\n",
       "      <th>EBITDAPer</th>\n",
       "    </tr>\n",
       "  </thead>\n",
       "  <tbody>\n",
       "    <tr>\n",
       "      <th>0</th>\n",
       "      <td>100048-xxxxx</td>\n",
       "      <td>100048</td>\n",
       "      <td>20132126</td>\n",
       "      <td>C&amp;IB</td>\n",
       "      <td>05483_F  05483_L</td>\n",
       "      <td>APP-3474</td>\n",
       "      <td>APPWF_CIB</td>\n",
       "      <td>NTB Custom</td>\n",
       "      <td>2018-02-22 11:16:24.940</td>\n",
       "      <td>10841-xxxxx</td>\n",
       "      <td>...</td>\n",
       "      <td>0</td>\n",
       "      <td>3000000</td>\n",
       "      <td>0</td>\n",
       "      <td>3000000</td>\n",
       "      <td>0</td>\n",
       "      <td>ABC-6</td>\n",
       "      <td>NaN</td>\n",
       "      <td>0.0</td>\n",
       "      <td>0.0</td>\n",
       "      <td>0.0</td>\n",
       "    </tr>\n",
       "  </tbody>\n",
       "</table>\n",
       "<p>1 rows × 71 columns</p>\n",
       "</div>"
      ],
      "text/plain": [
       "  CounterPartyName  IMAC_ID    CIF_ID DepartmentName        CustomerRM  \\\n",
       "0     100048-xxxxx   100048  20132126           C&IB  05483_F  05483_L   \n",
       "\n",
       "     App_ID WorkflowName PurposeOfCAM          DateOfApproval    GroupName  \\\n",
       "0  APP-3474    APPWF_CIB   NTB Custom 2018-02-22 11:16:24.940  10841-xxxxx   \n",
       "\n",
       "   ... TotalFundedOutStanding TotalNonFundedSanctioned  \\\n",
       "0  ...                      0                  3000000   \n",
       "\n",
       "  TotalNonFundedOutStanding GrandTotalSanctioned GrandTotalOutStanding  \\\n",
       "0                         0              3000000                     0   \n",
       "\n",
       "  FacilityRating MoratoriumDays ATNW  TNW EBITDAPer  \n",
       "0          ABC-6            NaN  0.0  0.0       0.0  \n",
       "\n",
       "[1 rows x 71 columns]"
      ]
     },
     "execution_count": 22,
     "metadata": {},
     "output_type": "execute_result"
    }
   ],
   "source": [
    "data.head(1)"
   ]
  },
  {
   "cell_type": "code",
   "execution_count": 23,
   "id": "c23a9f88",
   "metadata": {},
   "outputs": [
    {
     "data": {
      "text/html": [
       "<div>\n",
       "<style scoped>\n",
       "    .dataframe tbody tr th:only-of-type {\n",
       "        vertical-align: middle;\n",
       "    }\n",
       "\n",
       "    .dataframe tbody tr th {\n",
       "        vertical-align: top;\n",
       "    }\n",
       "\n",
       "    .dataframe thead th {\n",
       "        text-align: right;\n",
       "    }\n",
       "</style>\n",
       "<table border=\"1\" class=\"dataframe\">\n",
       "  <thead>\n",
       "    <tr style=\"text-align: right;\">\n",
       "      <th></th>\n",
       "      <th>CounterPartyName</th>\n",
       "      <th>TotalFundedOutStanding</th>\n",
       "    </tr>\n",
       "  </thead>\n",
       "  <tbody>\n",
       "    <tr>\n",
       "      <th>12598</th>\n",
       "      <td>75645-xxxxx</td>\n",
       "      <td>5824700000</td>\n",
       "    </tr>\n",
       "    <tr>\n",
       "      <th>12603</th>\n",
       "      <td>75645-xxxxx</td>\n",
       "      <td>5824700000</td>\n",
       "    </tr>\n",
       "    <tr>\n",
       "      <th>12602</th>\n",
       "      <td>75645-xxxxx</td>\n",
       "      <td>5824700000</td>\n",
       "    </tr>\n",
       "    <tr>\n",
       "      <th>12601</th>\n",
       "      <td>75645-xxxxx</td>\n",
       "      <td>5824700000</td>\n",
       "    </tr>\n",
       "    <tr>\n",
       "      <th>12600</th>\n",
       "      <td>75645-xxxxx</td>\n",
       "      <td>5824700000</td>\n",
       "    </tr>\n",
       "    <tr>\n",
       "      <th>...</th>\n",
       "      <td>...</td>\n",
       "      <td>...</td>\n",
       "    </tr>\n",
       "    <tr>\n",
       "      <th>1566</th>\n",
       "      <td>21831-xxxxx</td>\n",
       "      <td>20000</td>\n",
       "    </tr>\n",
       "    <tr>\n",
       "      <th>1563</th>\n",
       "      <td>21831-xxxxx</td>\n",
       "      <td>20000</td>\n",
       "    </tr>\n",
       "    <tr>\n",
       "      <th>1565</th>\n",
       "      <td>21831-xxxxx</td>\n",
       "      <td>20000</td>\n",
       "    </tr>\n",
       "    <tr>\n",
       "      <th>1560</th>\n",
       "      <td>21831-xxxxx</td>\n",
       "      <td>20000</td>\n",
       "    </tr>\n",
       "    <tr>\n",
       "      <th>1562</th>\n",
       "      <td>21831-xxxxx</td>\n",
       "      <td>20000</td>\n",
       "    </tr>\n",
       "  </tbody>\n",
       "</table>\n",
       "<p>3323 rows × 2 columns</p>\n",
       "</div>"
      ],
      "text/plain": [
       "      CounterPartyName  TotalFundedOutStanding\n",
       "12598      75645-xxxxx              5824700000\n",
       "12603      75645-xxxxx              5824700000\n",
       "12602      75645-xxxxx              5824700000\n",
       "12601      75645-xxxxx              5824700000\n",
       "12600      75645-xxxxx              5824700000\n",
       "...                ...                     ...\n",
       "1566       21831-xxxxx                   20000\n",
       "1563       21831-xxxxx                   20000\n",
       "1565       21831-xxxxx                   20000\n",
       "1560       21831-xxxxx                   20000\n",
       "1562       21831-xxxxx                   20000\n",
       "\n",
       "[3323 rows x 2 columns]"
      ]
     },
     "execution_count": 23,
     "metadata": {},
     "output_type": "execute_result"
    }
   ],
   "source": [
    "data.loc[data['TotalFundedOutStanding'] >0 , ['CounterPartyName','TotalFundedOutStanding']].sort_values(by='TotalFundedOutStanding',ascending =False)"
   ]
  },
  {
   "cell_type": "code",
   "execution_count": 24,
   "id": "171da9a1",
   "metadata": {},
   "outputs": [
    {
     "data": {
      "text/html": [
       "<div>\n",
       "<style scoped>\n",
       "    .dataframe tbody tr th:only-of-type {\n",
       "        vertical-align: middle;\n",
       "    }\n",
       "\n",
       "    .dataframe tbody tr th {\n",
       "        vertical-align: top;\n",
       "    }\n",
       "\n",
       "    .dataframe thead th {\n",
       "        text-align: right;\n",
       "    }\n",
       "</style>\n",
       "<table border=\"1\" class=\"dataframe\">\n",
       "  <thead>\n",
       "    <tr style=\"text-align: right;\">\n",
       "      <th></th>\n",
       "      <th>CounterPartyName</th>\n",
       "      <th>TotalNonFundedOutStanding</th>\n",
       "    </tr>\n",
       "  </thead>\n",
       "  <tbody>\n",
       "    <tr>\n",
       "      <th>4025</th>\n",
       "      <td>28517-xxxxx</td>\n",
       "      <td>4120000000</td>\n",
       "    </tr>\n",
       "    <tr>\n",
       "      <th>4026</th>\n",
       "      <td>28517-xxxxx</td>\n",
       "      <td>4120000000</td>\n",
       "    </tr>\n",
       "    <tr>\n",
       "      <th>4020</th>\n",
       "      <td>28517-xxxxx</td>\n",
       "      <td>4120000000</td>\n",
       "    </tr>\n",
       "    <tr>\n",
       "      <th>4021</th>\n",
       "      <td>28517-xxxxx</td>\n",
       "      <td>4120000000</td>\n",
       "    </tr>\n",
       "    <tr>\n",
       "      <th>4022</th>\n",
       "      <td>28517-xxxxx</td>\n",
       "      <td>4120000000</td>\n",
       "    </tr>\n",
       "    <tr>\n",
       "      <th>...</th>\n",
       "      <td>...</td>\n",
       "      <td>...</td>\n",
       "    </tr>\n",
       "    <tr>\n",
       "      <th>5288</th>\n",
       "      <td>32128-xxxxx</td>\n",
       "      <td>100000</td>\n",
       "    </tr>\n",
       "    <tr>\n",
       "      <th>5289</th>\n",
       "      <td>32128-xxxxx</td>\n",
       "      <td>100000</td>\n",
       "    </tr>\n",
       "    <tr>\n",
       "      <th>5290</th>\n",
       "      <td>32128-xxxxx</td>\n",
       "      <td>100000</td>\n",
       "    </tr>\n",
       "    <tr>\n",
       "      <th>5291</th>\n",
       "      <td>32128-xxxxx</td>\n",
       "      <td>100000</td>\n",
       "    </tr>\n",
       "    <tr>\n",
       "      <th>5292</th>\n",
       "      <td>32128-xxxxx</td>\n",
       "      <td>100000</td>\n",
       "    </tr>\n",
       "  </tbody>\n",
       "</table>\n",
       "<p>1630 rows × 2 columns</p>\n",
       "</div>"
      ],
      "text/plain": [
       "     CounterPartyName  TotalNonFundedOutStanding\n",
       "4025      28517-xxxxx                 4120000000\n",
       "4026      28517-xxxxx                 4120000000\n",
       "4020      28517-xxxxx                 4120000000\n",
       "4021      28517-xxxxx                 4120000000\n",
       "4022      28517-xxxxx                 4120000000\n",
       "...               ...                        ...\n",
       "5288      32128-xxxxx                     100000\n",
       "5289      32128-xxxxx                     100000\n",
       "5290      32128-xxxxx                     100000\n",
       "5291      32128-xxxxx                     100000\n",
       "5292      32128-xxxxx                     100000\n",
       "\n",
       "[1630 rows x 2 columns]"
      ]
     },
     "execution_count": 24,
     "metadata": {},
     "output_type": "execute_result"
    }
   ],
   "source": [
    "data.loc[data['TotalNonFundedOutStanding'] >0 , ['CounterPartyName','TotalNonFundedOutStanding']].sort_values(by='TotalNonFundedOutStanding',ascending =False)"
   ]
  },
  {
   "cell_type": "code",
   "execution_count": 25,
   "id": "81b65007",
   "metadata": {},
   "outputs": [
    {
     "data": {
      "text/html": [
       "<div>\n",
       "<style scoped>\n",
       "    .dataframe tbody tr th:only-of-type {\n",
       "        vertical-align: middle;\n",
       "    }\n",
       "\n",
       "    .dataframe tbody tr th {\n",
       "        vertical-align: top;\n",
       "    }\n",
       "\n",
       "    .dataframe thead th {\n",
       "        text-align: right;\n",
       "    }\n",
       "</style>\n",
       "<table border=\"1\" class=\"dataframe\">\n",
       "  <thead>\n",
       "    <tr style=\"text-align: right;\">\n",
       "      <th></th>\n",
       "      <th>CounterPartyName</th>\n",
       "      <th>GrandTotalOutStanding</th>\n",
       "    </tr>\n",
       "  </thead>\n",
       "  <tbody>\n",
       "    <tr>\n",
       "      <th>12598</th>\n",
       "      <td>75645-xxxxx</td>\n",
       "      <td>5824700000</td>\n",
       "    </tr>\n",
       "    <tr>\n",
       "      <th>12599</th>\n",
       "      <td>75645-xxxxx</td>\n",
       "      <td>5824700000</td>\n",
       "    </tr>\n",
       "    <tr>\n",
       "      <th>12601</th>\n",
       "      <td>75645-xxxxx</td>\n",
       "      <td>5824700000</td>\n",
       "    </tr>\n",
       "    <tr>\n",
       "      <th>12602</th>\n",
       "      <td>75645-xxxxx</td>\n",
       "      <td>5824700000</td>\n",
       "    </tr>\n",
       "    <tr>\n",
       "      <th>12603</th>\n",
       "      <td>75645-xxxxx</td>\n",
       "      <td>5824700000</td>\n",
       "    </tr>\n",
       "    <tr>\n",
       "      <th>...</th>\n",
       "      <td>...</td>\n",
       "      <td>...</td>\n",
       "    </tr>\n",
       "    <tr>\n",
       "      <th>15183</th>\n",
       "      <td>95700-xxxxx</td>\n",
       "      <td>1000000</td>\n",
       "    </tr>\n",
       "    <tr>\n",
       "      <th>15180</th>\n",
       "      <td>95700-xxxxx</td>\n",
       "      <td>1000000</td>\n",
       "    </tr>\n",
       "    <tr>\n",
       "      <th>12085</th>\n",
       "      <td>72394-xxxxx</td>\n",
       "      <td>500000</td>\n",
       "    </tr>\n",
       "    <tr>\n",
       "      <th>12084</th>\n",
       "      <td>72394-xxxxx</td>\n",
       "      <td>500000</td>\n",
       "    </tr>\n",
       "    <tr>\n",
       "      <th>12083</th>\n",
       "      <td>72394-xxxxx</td>\n",
       "      <td>500000</td>\n",
       "    </tr>\n",
       "  </tbody>\n",
       "</table>\n",
       "<p>3903 rows × 2 columns</p>\n",
       "</div>"
      ],
      "text/plain": [
       "      CounterPartyName  GrandTotalOutStanding\n",
       "12598      75645-xxxxx             5824700000\n",
       "12599      75645-xxxxx             5824700000\n",
       "12601      75645-xxxxx             5824700000\n",
       "12602      75645-xxxxx             5824700000\n",
       "12603      75645-xxxxx             5824700000\n",
       "...                ...                    ...\n",
       "15183      95700-xxxxx                1000000\n",
       "15180      95700-xxxxx                1000000\n",
       "12085      72394-xxxxx                 500000\n",
       "12084      72394-xxxxx                 500000\n",
       "12083      72394-xxxxx                 500000\n",
       "\n",
       "[3903 rows x 2 columns]"
      ]
     },
     "execution_count": 25,
     "metadata": {},
     "output_type": "execute_result"
    }
   ],
   "source": [
    "data.loc[data['GrandTotalOutStanding'] >0 , ['CounterPartyName','GrandTotalOutStanding']].sort_values(by='GrandTotalOutStanding',ascending =False)"
   ]
  },
  {
   "cell_type": "code",
   "execution_count": 26,
   "id": "09ce6eb4",
   "metadata": {},
   "outputs": [],
   "source": [
    "#which department has highest outstanding"
   ]
  },
  {
   "cell_type": "code",
   "execution_count": 27,
   "id": "8c68dd22",
   "metadata": {},
   "outputs": [],
   "source": [
    "dpt_outst=data.groupby('DepartmentName')['GrandTotalOutStanding'].sum()"
   ]
  },
  {
   "cell_type": "code",
   "execution_count": 28,
   "id": "3ea979e8",
   "metadata": {},
   "outputs": [],
   "source": [
    "dpt_outst=dpt_outst.reset_index()"
   ]
  },
  {
   "cell_type": "code",
   "execution_count": 29,
   "id": "1be69522",
   "metadata": {},
   "outputs": [
    {
     "data": {
      "text/html": [
       "<div>\n",
       "<style scoped>\n",
       "    .dataframe tbody tr th:only-of-type {\n",
       "        vertical-align: middle;\n",
       "    }\n",
       "\n",
       "    .dataframe tbody tr th {\n",
       "        vertical-align: top;\n",
       "    }\n",
       "\n",
       "    .dataframe thead th {\n",
       "        text-align: right;\n",
       "    }\n",
       "</style>\n",
       "<table border=\"1\" class=\"dataframe\">\n",
       "  <thead>\n",
       "    <tr style=\"text-align: right;\">\n",
       "      <th></th>\n",
       "      <th>DepartmentName</th>\n",
       "      <th>GrandTotalOutStanding</th>\n",
       "    </tr>\n",
       "  </thead>\n",
       "  <tbody>\n",
       "    <tr>\n",
       "      <th>2</th>\n",
       "      <td>C&amp;IB</td>\n",
       "      <td>1502010584000</td>\n",
       "    </tr>\n",
       "    <tr>\n",
       "      <th>3</th>\n",
       "      <td>COMMERCIAL BANKING - MID CORPORATE</td>\n",
       "      <td>268235982500</td>\n",
       "    </tr>\n",
       "    <tr>\n",
       "      <th>4</th>\n",
       "      <td>COMMERCIAL BANKING - SME</td>\n",
       "      <td>125413140000</td>\n",
       "    </tr>\n",
       "    <tr>\n",
       "      <th>7</th>\n",
       "      <td>MFIs</td>\n",
       "      <td>88635200000</td>\n",
       "    </tr>\n",
       "    <tr>\n",
       "      <th>5</th>\n",
       "      <td>FINANCIAL INSTITUTIONS GROUP</td>\n",
       "      <td>70382100000</td>\n",
       "    </tr>\n",
       "    <tr>\n",
       "      <th>6</th>\n",
       "      <td>GB</td>\n",
       "      <td>2675000000</td>\n",
       "    </tr>\n",
       "    <tr>\n",
       "      <th>8</th>\n",
       "      <td>MNC</td>\n",
       "      <td>1431300000</td>\n",
       "    </tr>\n",
       "    <tr>\n",
       "      <th>9</th>\n",
       "      <td>MSME</td>\n",
       "      <td>812000000</td>\n",
       "    </tr>\n",
       "    <tr>\n",
       "      <th>10</th>\n",
       "      <td>NEB</td>\n",
       "      <td>443000000</td>\n",
       "    </tr>\n",
       "    <tr>\n",
       "      <th>1</th>\n",
       "      <td>AGRI WHOLESALE</td>\n",
       "      <td>276829000</td>\n",
       "    </tr>\n",
       "    <tr>\n",
       "      <th>12</th>\n",
       "      <td>SUPPLY CHAIN FINANCE</td>\n",
       "      <td>27974000</td>\n",
       "    </tr>\n",
       "    <tr>\n",
       "      <th>0</th>\n",
       "      <td>AGRI RETAIL</td>\n",
       "      <td>3000000</td>\n",
       "    </tr>\n",
       "    <tr>\n",
       "      <th>11</th>\n",
       "      <td>RETAIL BRANCH BANKING</td>\n",
       "      <td>0</td>\n",
       "    </tr>\n",
       "  </tbody>\n",
       "</table>\n",
       "</div>"
      ],
      "text/plain": [
       "                        DepartmentName  GrandTotalOutStanding\n",
       "2                                 C&IB          1502010584000\n",
       "3   COMMERCIAL BANKING - MID CORPORATE           268235982500\n",
       "4             COMMERCIAL BANKING - SME           125413140000\n",
       "7                                 MFIs            88635200000\n",
       "5         FINANCIAL INSTITUTIONS GROUP            70382100000\n",
       "6                                   GB             2675000000\n",
       "8                                  MNC             1431300000\n",
       "9                                 MSME              812000000\n",
       "10                                 NEB              443000000\n",
       "1                       AGRI WHOLESALE              276829000\n",
       "12                SUPPLY CHAIN FINANCE               27974000\n",
       "0                          AGRI RETAIL                3000000\n",
       "11               RETAIL BRANCH BANKING                      0"
      ]
     },
     "execution_count": 29,
     "metadata": {},
     "output_type": "execute_result"
    }
   ],
   "source": [
    "dpt_outst=dpt_outst.sort_values(by='GrandTotalOutStanding',ascending=False)\n",
    "dpt_outst"
   ]
  },
  {
   "cell_type": "code",
   "execution_count": 30,
   "id": "f9df0361",
   "metadata": {},
   "outputs": [
    {
     "data": {
      "text/plain": [
       "(array([ 0,  1,  2,  3,  4,  5,  6,  7,  8,  9, 10, 11, 12]),\n",
       " [Text(0, 0, 'C&IB'),\n",
       "  Text(1, 0, 'COMMERCIAL BANKING - MID CORPORATE'),\n",
       "  Text(2, 0, 'COMMERCIAL BANKING - SME'),\n",
       "  Text(3, 0, 'MFIs'),\n",
       "  Text(4, 0, 'FINANCIAL INSTITUTIONS GROUP'),\n",
       "  Text(5, 0, 'GB'),\n",
       "  Text(6, 0, 'MNC'),\n",
       "  Text(7, 0, 'MSME'),\n",
       "  Text(8, 0, 'NEB'),\n",
       "  Text(9, 0, 'AGRI WHOLESALE'),\n",
       "  Text(10, 0, 'SUPPLY CHAIN FINANCE'),\n",
       "  Text(11, 0, 'AGRI RETAIL'),\n",
       "  Text(12, 0, 'RETAIL BRANCH BANKING')])"
      ]
     },
     "execution_count": 30,
     "metadata": {},
     "output_type": "execute_result"
    },
    {
     "data": {
      "image/png": "[encoded data removed]",
      "text/plain": [
       "<Figure size 720x720 with 1 Axes>"
      ]
     },
     "metadata": {
      "needs_background": "light"
     },
     "output_type": "display_data"
    }
   ],
   "source": [
    "plt.figure(figsize=(10,10))\n",
    "sns.barplot(x='DepartmentName',y='GrandTotalOutStanding',data=dpt_outst)\n",
    "plt.xticks(rotation=90)"
   ]
  },
  {
   "cell_type": "code",
   "execution_count": 31,
   "id": "b3ec3872",
   "metadata": {},
   "outputs": [
    {
     "data": {
      "text/html": [
       "<div>\n",
       "<style scoped>\n",
       "    .dataframe tbody tr th:only-of-type {\n",
       "        vertical-align: middle;\n",
       "    }\n",
       "\n",
       "    .dataframe tbody tr th {\n",
       "        vertical-align: top;\n",
       "    }\n",
       "\n",
       "    .dataframe thead th {\n",
       "        text-align: right;\n",
       "    }\n",
       "</style>\n",
       "<table border=\"1\" class=\"dataframe\">\n",
       "  <thead>\n",
       "    <tr style=\"text-align: right;\">\n",
       "      <th></th>\n",
       "      <th>CounterPartyName</th>\n",
       "      <th>IMAC_ID</th>\n",
       "      <th>CIF_ID</th>\n",
       "      <th>DepartmentName</th>\n",
       "      <th>CustomerRM</th>\n",
       "      <th>App_ID</th>\n",
       "      <th>WorkflowName</th>\n",
       "      <th>PurposeOfCAM</th>\n",
       "      <th>DateOfApproval</th>\n",
       "      <th>GroupName</th>\n",
       "      <th>...</th>\n",
       "      <th>TotalFundedOutStanding</th>\n",
       "      <th>TotalNonFundedSanctioned</th>\n",
       "      <th>TotalNonFundedOutStanding</th>\n",
       "      <th>GrandTotalSanctioned</th>\n",
       "      <th>GrandTotalOutStanding</th>\n",
       "      <th>FacilityRating</th>\n",
       "      <th>MoratoriumDays</th>\n",
       "      <th>ATNW</th>\n",
       "      <th>TNW</th>\n",
       "      <th>EBITDAPer</th>\n",
       "    </tr>\n",
       "  </thead>\n",
       "  <tbody>\n",
       "    <tr>\n",
       "      <th>0</th>\n",
       "      <td>100048-xxxxx</td>\n",
       "      <td>100048</td>\n",
       "      <td>20132126</td>\n",
       "      <td>C&amp;IB</td>\n",
       "      <td>05483_F  05483_L</td>\n",
       "      <td>APP-3474</td>\n",
       "      <td>APPWF_CIB</td>\n",
       "      <td>NTB Custom</td>\n",
       "      <td>2018-02-22 11:16:24.940</td>\n",
       "      <td>10841-xxxxx</td>\n",
       "      <td>...</td>\n",
       "      <td>0</td>\n",
       "      <td>3000000</td>\n",
       "      <td>0</td>\n",
       "      <td>3000000</td>\n",
       "      <td>0</td>\n",
       "      <td>ABC-6</td>\n",
       "      <td>NaN</td>\n",
       "      <td>0.0</td>\n",
       "      <td>0.0</td>\n",
       "      <td>0.0</td>\n",
       "    </tr>\n",
       "  </tbody>\n",
       "</table>\n",
       "<p>1 rows × 71 columns</p>\n",
       "</div>"
      ],
      "text/plain": [
       "  CounterPartyName  IMAC_ID    CIF_ID DepartmentName        CustomerRM  \\\n",
       "0     100048-xxxxx   100048  20132126           C&IB  05483_F  05483_L   \n",
       "\n",
       "     App_ID WorkflowName PurposeOfCAM          DateOfApproval    GroupName  \\\n",
       "0  APP-3474    APPWF_CIB   NTB Custom 2018-02-22 11:16:24.940  10841-xxxxx   \n",
       "\n",
       "   ... TotalFundedOutStanding TotalNonFundedSanctioned  \\\n",
       "0  ...                      0                  3000000   \n",
       "\n",
       "  TotalNonFundedOutStanding GrandTotalSanctioned GrandTotalOutStanding  \\\n",
       "0                         0              3000000                     0   \n",
       "\n",
       "  FacilityRating MoratoriumDays ATNW  TNW EBITDAPer  \n",
       "0          ABC-6            NaN  0.0  0.0       0.0  \n",
       "\n",
       "[1 rows x 71 columns]"
      ]
     },
     "execution_count": 31,
     "metadata": {},
     "output_type": "execute_result"
    }
   ],
   "source": [
    "data.head(1)"
   ]
  },
  {
   "cell_type": "code",
   "execution_count": 32,
   "id": "b6ee72ed",
   "metadata": {},
   "outputs": [
    {
     "data": {
      "text/plain": [
       "APPWF_CIB     5328\n",
       "APPWF_MME     3791\n",
       "APPWF_SME     2773\n",
       "SFCAWF_CIB     970\n",
       "SFCAWF_MME     567\n",
       "APPWF_IFI      545\n",
       "APPWF_FIG      497\n",
       "SFCAWF_SME     472\n",
       "APPWF_AGRI     296\n",
       "APPWF_G&J      163\n",
       "SFCAWF_FIG      51\n",
       "APPWF_GB        29\n",
       "SFCAWF_IFI      25\n",
       "APPWF_MNC       20\n",
       "APPWF_SCF       19\n",
       "SFCAWF_G&J      16\n",
       "SFCAWF_SCF       8\n",
       "SFCAWF_MNC       4\n",
       "SFCAWF_GB        3\n",
       "Name: WorkflowName, dtype: int64"
      ]
     },
     "execution_count": 32,
     "metadata": {},
     "output_type": "execute_result"
    }
   ],
   "source": [
    "data['WorkflowName'].value_counts()"
   ]
  },
  {
   "cell_type": "code",
   "execution_count": 33,
   "id": "5fb25c2b",
   "metadata": {},
   "outputs": [],
   "source": [
    "workflow_sanc=data.groupby('WorkflowName')['GrandTotalSanctioned'].sum()"
   ]
  },
  {
   "cell_type": "code",
   "execution_count": 34,
   "id": "790d3016",
   "metadata": {},
   "outputs": [],
   "source": [
    "wfdata=pd.DataFrame(workflow_sanc).reset_index()"
   ]
  },
  {
   "cell_type": "code",
   "execution_count": 35,
   "id": "ff000ab3",
   "metadata": {},
   "outputs": [],
   "source": [
    "wfdata.sort_values('GrandTotalSanctioned',ascending=False,inplace=True)"
   ]
  },
  {
   "cell_type": "code",
   "execution_count": 36,
   "id": "fc4d5e66",
   "metadata": {},
   "outputs": [
    {
     "data": {
      "text/plain": [
       "(array([ 0,  1,  2,  3,  4,  5,  6,  7,  8,  9, 10, 11, 12, 13, 14, 15, 16,\n",
       "        17, 18]),\n",
       " [Text(0, 0, 'APPWF_CIB'),\n",
       "  Text(1, 0, 'APPWF_MME'),\n",
       "  Text(2, 0, 'SFCAWF_CIB'),\n",
       "  Text(3, 0, 'APPWF_FIG'),\n",
       "  Text(4, 0, 'APPWF_IFI'),\n",
       "  Text(5, 0, 'APPWF_SME'),\n",
       "  Text(6, 0, 'SFCAWF_MME'),\n",
       "  Text(7, 0, 'SFCAWF_FIG'),\n",
       "  Text(8, 0, 'SFCAWF_SME'),\n",
       "  Text(9, 0, 'APPWF_G&J'),\n",
       "  Text(10, 0, 'APPWF_AGRI'),\n",
       "  Text(11, 0, 'APPWF_GB'),\n",
       "  Text(12, 0, 'APPWF_MNC'),\n",
       "  Text(13, 0, 'SFCAWF_IFI'),\n",
       "  Text(14, 0, 'SFCAWF_G&J'),\n",
       "  Text(15, 0, 'SFCAWF_GB'),\n",
       "  Text(16, 0, 'SFCAWF_MNC'),\n",
       "  Text(17, 0, 'APPWF_SCF'),\n",
       "  Text(18, 0, 'SFCAWF_SCF')])"
      ]
     },
     "execution_count": 36,
     "metadata": {},
     "output_type": "execute_result"
    },
    {
     "data": {
      "image/png": "[encoded data removed]",
      "text/plain": [
       "<Figure size 720x720 with 1 Axes>"
      ]
     },
     "metadata": {
      "needs_background": "light"
     },
     "output_type": "display_data"
    }
   ],
   "source": [
    "plt.figure(figsize=(10,10))\n",
    "\n",
    "sns.barplot(x='WorkflowName',y='GrandTotalSanctioned',data=wfdata)\n",
    "\n",
    "plt.xticks(rotation=45)"
   ]
  },
  {
   "cell_type": "code",
   "execution_count": 37,
   "id": "a0893579",
   "metadata": {},
   "outputs": [],
   "source": [
    "df=pd.read_excel(\"CounterPartyApplicationData.xlsx\")"
   ]
  },
  {
   "cell_type": "code",
   "execution_count": 38,
   "id": "b9254f44",
   "metadata": {},
   "outputs": [
    {
     "data": {
      "text/html": [
       "<div>\n",
       "<style scoped>\n",
       "    .dataframe tbody tr th:only-of-type {\n",
       "        vertical-align: middle;\n",
       "    }\n",
       "\n",
       "    .dataframe tbody tr th {\n",
       "        vertical-align: top;\n",
       "    }\n",
       "\n",
       "    .dataframe thead th {\n",
       "        text-align: right;\n",
       "    }\n",
       "</style>\n",
       "<table border=\"1\" class=\"dataframe\">\n",
       "  <thead>\n",
       "    <tr style=\"text-align: right;\">\n",
       "      <th></th>\n",
       "      <th>CounterPartyName</th>\n",
       "      <th>IMAC_ID</th>\n",
       "      <th>CIF_ID</th>\n",
       "      <th>DepartmentName</th>\n",
       "      <th>CustomerRM</th>\n",
       "      <th>App_ID</th>\n",
       "      <th>WorkflowName</th>\n",
       "      <th>PurposeOfCAM</th>\n",
       "      <th>DateOfApproval</th>\n",
       "      <th>GroupName</th>\n",
       "      <th>...</th>\n",
       "      <th>TotalFundedOutStanding</th>\n",
       "      <th>TotalNonFundedSanctioned</th>\n",
       "      <th>TotalNonFundedOutStanding</th>\n",
       "      <th>GrandTotalSanctioned</th>\n",
       "      <th>GrandTotalOutStanding</th>\n",
       "      <th>FacilityRating</th>\n",
       "      <th>MoratoriumDays</th>\n",
       "      <th>ATNW</th>\n",
       "      <th>TNW</th>\n",
       "      <th>EBITDAPer</th>\n",
       "    </tr>\n",
       "  </thead>\n",
       "  <tbody>\n",
       "    <tr>\n",
       "      <th>0</th>\n",
       "      <td>100048-xxxxx</td>\n",
       "      <td>100048</td>\n",
       "      <td>20132126</td>\n",
       "      <td>C&amp;IB</td>\n",
       "      <td>05483_F  05483_L</td>\n",
       "      <td>APP-3474</td>\n",
       "      <td>APPWF_CIB</td>\n",
       "      <td>NTB Custom</td>\n",
       "      <td>2018-02-22 11:16:24.940</td>\n",
       "      <td>10841-xxxxx</td>\n",
       "      <td>...</td>\n",
       "      <td>0</td>\n",
       "      <td>3000000</td>\n",
       "      <td>0</td>\n",
       "      <td>3000000</td>\n",
       "      <td>0</td>\n",
       "      <td>ABC-6</td>\n",
       "      <td>NaN</td>\n",
       "      <td>0.0</td>\n",
       "      <td>0.0</td>\n",
       "      <td>0.0</td>\n",
       "    </tr>\n",
       "    <tr>\n",
       "      <th>1</th>\n",
       "      <td>100048-xxxxx</td>\n",
       "      <td>100048</td>\n",
       "      <td>20132126</td>\n",
       "      <td>C&amp;IB</td>\n",
       "      <td>05483_F  05483_L</td>\n",
       "      <td>APP-3474</td>\n",
       "      <td>APPWF_CIB</td>\n",
       "      <td>NTB Custom</td>\n",
       "      <td>2018-02-22 11:16:24.940</td>\n",
       "      <td>10841-xxxxx</td>\n",
       "      <td>...</td>\n",
       "      <td>0</td>\n",
       "      <td>3000000</td>\n",
       "      <td>0</td>\n",
       "      <td>3000000</td>\n",
       "      <td>0</td>\n",
       "      <td>ABC-6</td>\n",
       "      <td>NaN</td>\n",
       "      <td>0.0</td>\n",
       "      <td>0.0</td>\n",
       "      <td>0.0</td>\n",
       "    </tr>\n",
       "    <tr>\n",
       "      <th>2</th>\n",
       "      <td>100048-xxxxx</td>\n",
       "      <td>100048</td>\n",
       "      <td>20132126</td>\n",
       "      <td>C&amp;IB</td>\n",
       "      <td>05483_F  05483_L</td>\n",
       "      <td>APP-3474</td>\n",
       "      <td>APPWF_CIB</td>\n",
       "      <td>NTB Custom</td>\n",
       "      <td>2018-02-22 11:16:24.940</td>\n",
       "      <td>10841-xxxxx</td>\n",
       "      <td>...</td>\n",
       "      <td>0</td>\n",
       "      <td>0</td>\n",
       "      <td>0</td>\n",
       "      <td>0</td>\n",
       "      <td>0</td>\n",
       "      <td>NaN</td>\n",
       "      <td>NaN</td>\n",
       "      <td>0.0</td>\n",
       "      <td>0.0</td>\n",
       "      <td>0.0</td>\n",
       "    </tr>\n",
       "    <tr>\n",
       "      <th>3</th>\n",
       "      <td>100048-xxxxx</td>\n",
       "      <td>100048</td>\n",
       "      <td>20132126</td>\n",
       "      <td>C&amp;IB</td>\n",
       "      <td>05483_F  05483_L</td>\n",
       "      <td>APP-3767</td>\n",
       "      <td>APPWF_CIB</td>\n",
       "      <td>NTB Custom</td>\n",
       "      <td>2018-04-24 10:51:53.020</td>\n",
       "      <td>10841-xxxxx</td>\n",
       "      <td>...</td>\n",
       "      <td>0</td>\n",
       "      <td>150000000</td>\n",
       "      <td>0</td>\n",
       "      <td>150000000</td>\n",
       "      <td>0</td>\n",
       "      <td>ABC-7A</td>\n",
       "      <td>NaN</td>\n",
       "      <td>0.0</td>\n",
       "      <td>0.0</td>\n",
       "      <td>0.0</td>\n",
       "    </tr>\n",
       "    <tr>\n",
       "      <th>4</th>\n",
       "      <td>100048-xxxxx</td>\n",
       "      <td>100048</td>\n",
       "      <td>20132126</td>\n",
       "      <td>C&amp;IB</td>\n",
       "      <td>05483_F  05483_L</td>\n",
       "      <td>APP-3767</td>\n",
       "      <td>APPWF_CIB</td>\n",
       "      <td>NTB Custom</td>\n",
       "      <td>2018-04-24 10:51:53.020</td>\n",
       "      <td>10841-xxxxx</td>\n",
       "      <td>...</td>\n",
       "      <td>0</td>\n",
       "      <td>150000000</td>\n",
       "      <td>0</td>\n",
       "      <td>150000000</td>\n",
       "      <td>0</td>\n",
       "      <td>ABC-7A</td>\n",
       "      <td>NaN</td>\n",
       "      <td>0.0</td>\n",
       "      <td>0.0</td>\n",
       "      <td>0.0</td>\n",
       "    </tr>\n",
       "  </tbody>\n",
       "</table>\n",
       "<p>5 rows × 71 columns</p>\n",
       "</div>"
      ],
      "text/plain": [
       "  CounterPartyName  IMAC_ID    CIF_ID DepartmentName        CustomerRM  \\\n",
       "0     100048-xxxxx   100048  20132126           C&IB  05483_F  05483_L   \n",
       "1     100048-xxxxx   100048  20132126           C&IB  05483_F  05483_L   \n",
       "2     100048-xxxxx   100048  20132126           C&IB  05483_F  05483_L   \n",
       "3     100048-xxxxx   100048  20132126           C&IB  05483_F  05483_L   \n",
       "4     100048-xxxxx   100048  20132126           C&IB  05483_F  05483_L   \n",
       "\n",
       "     App_ID WorkflowName PurposeOfCAM          DateOfApproval    GroupName  \\\n",
       "0  APP-3474    APPWF_CIB   NTB Custom 2018-02-22 11:16:24.940  10841-xxxxx   \n",
       "1  APP-3474    APPWF_CIB   NTB Custom 2018-02-22 11:16:24.940  10841-xxxxx   \n",
       "2  APP-3474    APPWF_CIB   NTB Custom 2018-02-22 11:16:24.940  10841-xxxxx   \n",
       "3  APP-3767    APPWF_CIB   NTB Custom 2018-04-24 10:51:53.020  10841-xxxxx   \n",
       "4  APP-3767    APPWF_CIB   NTB Custom 2018-04-24 10:51:53.020  10841-xxxxx   \n",
       "\n",
       "   ... TotalFundedOutStanding TotalNonFundedSanctioned  \\\n",
       "0  ...                      0                  3000000   \n",
       "1  ...                      0                  3000000   \n",
       "2  ...                      0                        0   \n",
       "3  ...                      0                150000000   \n",
       "4  ...                      0                150000000   \n",
       "\n",
       "  TotalNonFundedOutStanding GrandTotalSanctioned GrandTotalOutStanding  \\\n",
       "0                         0              3000000                     0   \n",
       "1                         0              3000000                     0   \n",
       "2                         0                    0                     0   \n",
       "3                         0            150000000                     0   \n",
       "4                         0            150000000                     0   \n",
       "\n",
       "  FacilityRating MoratoriumDays ATNW  TNW EBITDAPer  \n",
       "0          ABC-6            NaN  0.0  0.0       0.0  \n",
       "1          ABC-6            NaN  0.0  0.0       0.0  \n",
       "2            NaN            NaN  0.0  0.0       0.0  \n",
       "3         ABC-7A            NaN  0.0  0.0       0.0  \n",
       "4         ABC-7A            NaN  0.0  0.0       0.0  \n",
       "\n",
       "[5 rows x 71 columns]"
      ]
     },
     "execution_count": 38,
     "metadata": {},
     "output_type": "execute_result"
    }
   ],
   "source": [
    "df.head()"
   ]
  },
  {
   "cell_type": "code",
   "execution_count": 39,
   "id": "fbdd5b17",
   "metadata": {},
   "outputs": [
    {
     "name": "stdout",
     "output_type": "stream",
     "text": [
      "<class 'pandas.core.frame.DataFrame'>\n",
      "RangeIndex: 15577 entries, 0 to 15576\n",
      "Data columns (total 71 columns):\n",
      " #   Column                        Non-Null Count  Dtype         \n",
      "---  ------                        --------------  -----         \n",
      " 0   CounterPartyName              15577 non-null  object        \n",
      " 1   IMAC_ID                       15577 non-null  int64         \n",
      " 2   CIF_ID                        14239 non-null  object        \n",
      " 3   DepartmentName                15577 non-null  object        \n",
      " 4   CustomerRM                    14620 non-null  object        \n",
      " 5   App_ID                        15577 non-null  object        \n",
      " 6   WorkflowName                  15577 non-null  object        \n",
      " 7   PurposeOfCAM                  10041 non-null  object        \n",
      " 8   DateOfApproval                15577 non-null  datetime64[ns]\n",
      " 9   GroupName                     6627 non-null   object        \n",
      " 10  GroupID                       6627 non-null   object        \n",
      " 11  CCY                           15577 non-null  object        \n",
      " 12  BaseUnit                      10089 non-null  object        \n",
      " 13  CustomerSince                 14322 non-null  object        \n",
      " 14  Industry                      15572 non-null  object        \n",
      " 15  EWS_AL_WLDateOfSanction       1023 non-null   object        \n",
      " 16  EWS_AL_WLPresent              3394 non-null   object        \n",
      " 17  SanctionDueDate               15577 non-null  datetime64[ns]\n",
      " 18  InternalRating                14290 non-null  object        \n",
      " 19  RatingAgency                  6329 non-null   object        \n",
      " 20  LongTermRating                6139 non-null   object        \n",
      " 21  ShortTermRating               4524 non-null   object        \n",
      " 22  Outlook                       6151 non-null   object        \n",
      " 23  RatingDate                    6329 non-null   object        \n",
      " 24  UWSDeviation                  15577 non-null  object        \n",
      " 25  TOMDeviation                  15577 non-null  object        \n",
      " 26  AMLGrade                      9006 non-null   object        \n",
      " 27  ApplicationRating             14290 non-null  object        \n",
      " 28  AuditYear                     12196 non-null  float64       \n",
      " 29  FinancialRisk                 15577 non-null  float64       \n",
      " 30  BusinessRisk                  15577 non-null  float64       \n",
      " 31  IndustryRisk                  15577 non-null  float64       \n",
      " 32  ManagementRisk                15577 non-null  float64       \n",
      " 33  BasicBorrowerRiskScore        15577 non-null  float64       \n",
      " 34  ProjectRisk                   15577 non-null  float64       \n",
      " 35  BorrowerRIskScoreWithProject  15577 non-null  float64       \n",
      " 36  ConductOfAccount              15577 non-null  float64       \n",
      " 37  ApprovingAuthority            10089 non-null  object        \n",
      " 38  ActuallyApprovedBy            66 non-null     object        \n",
      " 39  OverrideYorN                  15577 non-null  object        \n",
      " 40  OverrideReason                15137 non-null  object        \n",
      " 41  ApproverName                  5318 non-null   object        \n",
      " 42  ApproverComment               4819 non-null   object        \n",
      " 43  ApproverTimeStamp             5318 non-null   object        \n",
      " 44  UFCEProvisionAssessment       0 non-null      float64       \n",
      " 45  CRILCStatus                   2846 non-null   object        \n",
      " 46  OrignalRating                 12255 non-null  object        \n",
      " 47  OverRideRating                11927 non-null  object        \n",
      " 48  Justification                 3343 non-null   object        \n",
      " 49  ProposedBankingArrangement    8007 non-null   object        \n",
      " 50  FacilityId                    14271 non-null  object        \n",
      " 51  FacilityType                  14271 non-null  object        \n",
      " 52  FacilitySubtype               14271 non-null  object        \n",
      " 53  ParentFAC_ID                  6585 non-null   object        \n",
      " 54  Tenor                         14271 non-null  object        \n",
      " 55  SanctionedAmount              15577 non-null  float64       \n",
      " 56  OutStandingAmount             15577 non-null  int64         \n",
      " 57  Classification                14271 non-null  object        \n",
      " 58  DirectIndirect                14271 non-null  object        \n",
      " 59  IsCashBackCollateral          14271 non-null  object        \n",
      " 60  TotalFundedSanctioned         15577 non-null  int64         \n",
      " 61  TotalFundedOutStanding        15577 non-null  int64         \n",
      " 62  TotalNonFundedSanctioned      15577 non-null  int64         \n",
      " 63  TotalNonFundedOutStanding     15577 non-null  int64         \n",
      " 64  GrandTotalSanctioned          15577 non-null  int64         \n",
      " 65  GrandTotalOutStanding         15577 non-null  int64         \n",
      " 66  FacilityRating                8857 non-null   object        \n",
      " 67  MoratoriumDays                6871 non-null   float64       \n",
      " 68  ATNW                          15577 non-null  float64       \n",
      " 69  TNW                           15577 non-null  float64       \n",
      " 70  EBITDAPer                     15577 non-null  float64       \n",
      "dtypes: datetime64[ns](2), float64(15), int64(8), object(46)\n",
      "memory usage: 8.4+ MB\n"
     ]
    }
   ],
   "source": [
    "df.info()"
   ]
  },
  {
   "cell_type": "code",
   "execution_count": 40,
   "id": "84dfd798",
   "metadata": {},
   "outputs": [
    {
     "data": {
      "text/plain": [
       "14526194439974"
      ]
     },
     "execution_count": 40,
     "metadata": {},
     "output_type": "execute_result"
    }
   ],
   "source": [
    "df['GrandTotalSanctioned'].sum()"
   ]
  },
  {
   "cell_type": "code",
   "execution_count": 41,
   "id": "aa7dfce1",
   "metadata": {},
   "outputs": [
    {
     "data": {
      "text/plain": [
       "2060346109500"
      ]
     },
     "execution_count": 41,
     "metadata": {},
     "output_type": "execute_result"
    }
   ],
   "source": [
    "df['GrandTotalOutStanding'].sum()"
   ]
  },
  {
   "cell_type": "code",
   "execution_count": 42,
   "id": "2e15adce",
   "metadata": {},
   "outputs": [
    {
     "data": {
      "text/plain": [
       "12465848330474"
      ]
     },
     "execution_count": 42,
     "metadata": {},
     "output_type": "execute_result"
    }
   ],
   "source": [
    "14526194439974-2060346109500"
   ]
  },
  {
   "cell_type": "code",
   "execution_count": 43,
   "id": "36973ad9",
   "metadata": {},
   "outputs": [
    {
     "data": {
      "text/plain": [
       "6571"
      ]
     },
     "execution_count": 43,
     "metadata": {},
     "output_type": "execute_result"
    }
   ],
   "source": [
    "df['AMLGrade'].isnull().sum()"
   ]
  },
  {
   "cell_type": "code",
   "execution_count": 44,
   "id": "81df5c7b",
   "metadata": {},
   "outputs": [
    {
     "name": "stderr",
     "output_type": "stream",
     "text": [
      "C:\\Users\\SANJEE~1\\AppData\\Local\\Temp/ipykernel_13068/2053783239.py:1: FutureWarning: Indexing with multiple keys (implicitly converted to a tuple of keys) will be deprecated, use a list instead.\n",
      "  df1=df.groupby('AMLGrade')['GrandTotalSanctioned','GrandTotalOutStanding'].sum().reset_index()\n"
     ]
    }
   ],
   "source": [
    "df1=df.groupby('AMLGrade')['GrandTotalSanctioned','GrandTotalOutStanding'].sum().reset_index()"
   ]
  },
  {
   "cell_type": "code",
   "execution_count": 45,
   "id": "45f398f9",
   "metadata": {},
   "outputs": [
    {
     "data": {
      "text/html": [
       "<div>\n",
       "<style scoped>\n",
       "    .dataframe tbody tr th:only-of-type {\n",
       "        vertical-align: middle;\n",
       "    }\n",
       "\n",
       "    .dataframe tbody tr th {\n",
       "        vertical-align: top;\n",
       "    }\n",
       "\n",
       "    .dataframe thead th {\n",
       "        text-align: right;\n",
       "    }\n",
       "</style>\n",
       "<table border=\"1\" class=\"dataframe\">\n",
       "  <thead>\n",
       "    <tr style=\"text-align: right;\">\n",
       "      <th></th>\n",
       "      <th>AMLGrade</th>\n",
       "      <th>GrandTotalSanctioned</th>\n",
       "      <th>GrandTotalOutStanding</th>\n",
       "    </tr>\n",
       "  </thead>\n",
       "  <tbody>\n",
       "    <tr>\n",
       "      <th>0</th>\n",
       "      <td>High</td>\n",
       "      <td>992084725000</td>\n",
       "      <td>240237000000</td>\n",
       "    </tr>\n",
       "    <tr>\n",
       "      <th>1</th>\n",
       "      <td>Low</td>\n",
       "      <td>7247326434365</td>\n",
       "      <td>1674810149500</td>\n",
       "    </tr>\n",
       "    <tr>\n",
       "      <th>2</th>\n",
       "      <td>Medium</td>\n",
       "      <td>899680650003</td>\n",
       "      <td>61647374000</td>\n",
       "    </tr>\n",
       "  </tbody>\n",
       "</table>\n",
       "</div>"
      ],
      "text/plain": [
       "  AMLGrade  GrandTotalSanctioned  GrandTotalOutStanding\n",
       "0     High          992084725000           240237000000\n",
       "1      Low         7247326434365          1674810149500\n",
       "2   Medium          899680650003            61647374000"
      ]
     },
     "execution_count": 45,
     "metadata": {},
     "output_type": "execute_result"
    }
   ],
   "source": [
    "df1"
   ]
  },
  {
   "cell_type": "code",
   "execution_count": 46,
   "id": "a7948d80",
   "metadata": {},
   "outputs": [
    {
     "data": {
      "text/plain": [
       "9139091809368"
      ]
     },
     "execution_count": 46,
     "metadata": {},
     "output_type": "execute_result"
    }
   ],
   "source": [
    "df1['GrandTotalSanctioned'].sum()"
   ]
  },
  {
   "cell_type": "code",
   "execution_count": 47,
   "id": "e2ef0a76",
   "metadata": {},
   "outputs": [
    {
     "data": {
      "text/plain": [
       "5387102630606"
      ]
     },
     "execution_count": 47,
     "metadata": {},
     "output_type": "execute_result"
    }
   ],
   "source": [
    "14526194439974-9139091809368"
   ]
  },
  {
   "cell_type": "code",
   "execution_count": 48,
   "id": "3559e5df",
   "metadata": {},
   "outputs": [
    {
     "data": {
      "text/plain": [
       "1976694523500"
      ]
     },
     "execution_count": 48,
     "metadata": {},
     "output_type": "execute_result"
    }
   ],
   "source": [
    "df1['GrandTotalOutStanding'].sum()"
   ]
  },
  {
   "cell_type": "code",
   "execution_count": 49,
   "id": "ebe11b8f",
   "metadata": {},
   "outputs": [
    {
     "data": {
      "text/plain": [
       "83651586000"
      ]
     },
     "execution_count": 49,
     "metadata": {},
     "output_type": "execute_result"
    }
   ],
   "source": [
    "2060346109500-1976694523500"
   ]
  },
  {
   "cell_type": "code",
   "execution_count": 50,
   "id": "7d03bdf5",
   "metadata": {},
   "outputs": [
    {
     "data": {
      "text/plain": [
       "array(['Low', 'Medium', 'High', nan], dtype=object)"
      ]
     },
     "execution_count": 50,
     "metadata": {},
     "output_type": "execute_result"
    }
   ],
   "source": [
    "df['AMLGrade'].unique()"
   ]
  },
  {
   "cell_type": "code",
   "execution_count": 51,
   "id": "a001c7d3",
   "metadata": {},
   "outputs": [
    {
     "data": {
      "text/plain": [
       "0    Low\n",
       "dtype: object"
      ]
     },
     "execution_count": 51,
     "metadata": {},
     "output_type": "execute_result"
    }
   ],
   "source": [
    "x=df['AMLGrade'].mode()\n",
    "x"
   ]
  },
  {
   "cell_type": "code",
   "execution_count": 52,
   "id": "cc6fff9f",
   "metadata": {},
   "outputs": [],
   "source": [
    "df['AMLGrade1']=df['AMLGrade'].fillna('Low')"
   ]
  },
  {
   "cell_type": "code",
   "execution_count": 53,
   "id": "b65c5d9a",
   "metadata": {},
   "outputs": [
    {
     "data": {
      "text/html": [
       "<div>\n",
       "<style scoped>\n",
       "    .dataframe tbody tr th:only-of-type {\n",
       "        vertical-align: middle;\n",
       "    }\n",
       "\n",
       "    .dataframe tbody tr th {\n",
       "        vertical-align: top;\n",
       "    }\n",
       "\n",
       "    .dataframe thead th {\n",
       "        text-align: right;\n",
       "    }\n",
       "</style>\n",
       "<table border=\"1\" class=\"dataframe\">\n",
       "  <thead>\n",
       "    <tr style=\"text-align: right;\">\n",
       "      <th></th>\n",
       "      <th>CounterPartyName</th>\n",
       "      <th>IMAC_ID</th>\n",
       "      <th>CIF_ID</th>\n",
       "      <th>DepartmentName</th>\n",
       "      <th>CustomerRM</th>\n",
       "      <th>App_ID</th>\n",
       "      <th>WorkflowName</th>\n",
       "      <th>PurposeOfCAM</th>\n",
       "      <th>DateOfApproval</th>\n",
       "      <th>GroupName</th>\n",
       "      <th>...</th>\n",
       "      <th>TotalNonFundedSanctioned</th>\n",
       "      <th>TotalNonFundedOutStanding</th>\n",
       "      <th>GrandTotalSanctioned</th>\n",
       "      <th>GrandTotalOutStanding</th>\n",
       "      <th>FacilityRating</th>\n",
       "      <th>MoratoriumDays</th>\n",
       "      <th>ATNW</th>\n",
       "      <th>TNW</th>\n",
       "      <th>EBITDAPer</th>\n",
       "      <th>AMLGrade1</th>\n",
       "    </tr>\n",
       "  </thead>\n",
       "  <tbody>\n",
       "    <tr>\n",
       "      <th>0</th>\n",
       "      <td>100048-xxxxx</td>\n",
       "      <td>100048</td>\n",
       "      <td>20132126</td>\n",
       "      <td>C&amp;IB</td>\n",
       "      <td>05483_F  05483_L</td>\n",
       "      <td>APP-3474</td>\n",
       "      <td>APPWF_CIB</td>\n",
       "      <td>NTB Custom</td>\n",
       "      <td>2018-02-22 11:16:24.940</td>\n",
       "      <td>10841-xxxxx</td>\n",
       "      <td>...</td>\n",
       "      <td>3000000</td>\n",
       "      <td>0</td>\n",
       "      <td>3000000</td>\n",
       "      <td>0</td>\n",
       "      <td>ABC-6</td>\n",
       "      <td>NaN</td>\n",
       "      <td>0.0</td>\n",
       "      <td>0.0</td>\n",
       "      <td>0.0</td>\n",
       "      <td>Low</td>\n",
       "    </tr>\n",
       "    <tr>\n",
       "      <th>1</th>\n",
       "      <td>100048-xxxxx</td>\n",
       "      <td>100048</td>\n",
       "      <td>20132126</td>\n",
       "      <td>C&amp;IB</td>\n",
       "      <td>05483_F  05483_L</td>\n",
       "      <td>APP-3474</td>\n",
       "      <td>APPWF_CIB</td>\n",
       "      <td>NTB Custom</td>\n",
       "      <td>2018-02-22 11:16:24.940</td>\n",
       "      <td>10841-xxxxx</td>\n",
       "      <td>...</td>\n",
       "      <td>3000000</td>\n",
       "      <td>0</td>\n",
       "      <td>3000000</td>\n",
       "      <td>0</td>\n",
       "      <td>ABC-6</td>\n",
       "      <td>NaN</td>\n",
       "      <td>0.0</td>\n",
       "      <td>0.0</td>\n",
       "      <td>0.0</td>\n",
       "      <td>Low</td>\n",
       "    </tr>\n",
       "    <tr>\n",
       "      <th>2</th>\n",
       "      <td>100048-xxxxx</td>\n",
       "      <td>100048</td>\n",
       "      <td>20132126</td>\n",
       "      <td>C&amp;IB</td>\n",
       "      <td>05483_F  05483_L</td>\n",
       "      <td>APP-3474</td>\n",
       "      <td>APPWF_CIB</td>\n",
       "      <td>NTB Custom</td>\n",
       "      <td>2018-02-22 11:16:24.940</td>\n",
       "      <td>10841-xxxxx</td>\n",
       "      <td>...</td>\n",
       "      <td>0</td>\n",
       "      <td>0</td>\n",
       "      <td>0</td>\n",
       "      <td>0</td>\n",
       "      <td>NaN</td>\n",
       "      <td>NaN</td>\n",
       "      <td>0.0</td>\n",
       "      <td>0.0</td>\n",
       "      <td>0.0</td>\n",
       "      <td>Low</td>\n",
       "    </tr>\n",
       "    <tr>\n",
       "      <th>3</th>\n",
       "      <td>100048-xxxxx</td>\n",
       "      <td>100048</td>\n",
       "      <td>20132126</td>\n",
       "      <td>C&amp;IB</td>\n",
       "      <td>05483_F  05483_L</td>\n",
       "      <td>APP-3767</td>\n",
       "      <td>APPWF_CIB</td>\n",
       "      <td>NTB Custom</td>\n",
       "      <td>2018-04-24 10:51:53.020</td>\n",
       "      <td>10841-xxxxx</td>\n",
       "      <td>...</td>\n",
       "      <td>150000000</td>\n",
       "      <td>0</td>\n",
       "      <td>150000000</td>\n",
       "      <td>0</td>\n",
       "      <td>ABC-7A</td>\n",
       "      <td>NaN</td>\n",
       "      <td>0.0</td>\n",
       "      <td>0.0</td>\n",
       "      <td>0.0</td>\n",
       "      <td>Low</td>\n",
       "    </tr>\n",
       "    <tr>\n",
       "      <th>4</th>\n",
       "      <td>100048-xxxxx</td>\n",
       "      <td>100048</td>\n",
       "      <td>20132126</td>\n",
       "      <td>C&amp;IB</td>\n",
       "      <td>05483_F  05483_L</td>\n",
       "      <td>APP-3767</td>\n",
       "      <td>APPWF_CIB</td>\n",
       "      <td>NTB Custom</td>\n",
       "      <td>2018-04-24 10:51:53.020</td>\n",
       "      <td>10841-xxxxx</td>\n",
       "      <td>...</td>\n",
       "      <td>150000000</td>\n",
       "      <td>0</td>\n",
       "      <td>150000000</td>\n",
       "      <td>0</td>\n",
       "      <td>ABC-7A</td>\n",
       "      <td>NaN</td>\n",
       "      <td>0.0</td>\n",
       "      <td>0.0</td>\n",
       "      <td>0.0</td>\n",
       "      <td>Low</td>\n",
       "    </tr>\n",
       "  </tbody>\n",
       "</table>\n",
       "<p>5 rows × 72 columns</p>\n",
       "</div>"
      ],
      "text/plain": [
       "  CounterPartyName  IMAC_ID    CIF_ID DepartmentName        CustomerRM  \\\n",
       "0     100048-xxxxx   100048  20132126           C&IB  05483_F  05483_L   \n",
       "1     100048-xxxxx   100048  20132126           C&IB  05483_F  05483_L   \n",
       "2     100048-xxxxx   100048  20132126           C&IB  05483_F  05483_L   \n",
       "3     100048-xxxxx   100048  20132126           C&IB  05483_F  05483_L   \n",
       "4     100048-xxxxx   100048  20132126           C&IB  05483_F  05483_L   \n",
       "\n",
       "     App_ID WorkflowName PurposeOfCAM          DateOfApproval    GroupName  \\\n",
       "0  APP-3474    APPWF_CIB   NTB Custom 2018-02-22 11:16:24.940  10841-xxxxx   \n",
       "1  APP-3474    APPWF_CIB   NTB Custom 2018-02-22 11:16:24.940  10841-xxxxx   \n",
       "2  APP-3474    APPWF_CIB   NTB Custom 2018-02-22 11:16:24.940  10841-xxxxx   \n",
       "3  APP-3767    APPWF_CIB   NTB Custom 2018-04-24 10:51:53.020  10841-xxxxx   \n",
       "4  APP-3767    APPWF_CIB   NTB Custom 2018-04-24 10:51:53.020  10841-xxxxx   \n",
       "\n",
       "   ... TotalNonFundedSanctioned TotalNonFundedOutStanding  \\\n",
       "0  ...                  3000000                         0   \n",
       "1  ...                  3000000                         0   \n",
       "2  ...                        0                         0   \n",
       "3  ...                150000000                         0   \n",
       "4  ...                150000000                         0   \n",
       "\n",
       "  GrandTotalSanctioned GrandTotalOutStanding FacilityRating MoratoriumDays  \\\n",
       "0              3000000                     0          ABC-6            NaN   \n",
       "1              3000000                     0          ABC-6            NaN   \n",
       "2                    0                     0            NaN            NaN   \n",
       "3            150000000                     0         ABC-7A            NaN   \n",
       "4            150000000                     0         ABC-7A            NaN   \n",
       "\n",
       "  ATNW  TNW EBITDAPer AMLGrade1  \n",
       "0  0.0  0.0       0.0       Low  \n",
       "1  0.0  0.0       0.0       Low  \n",
       "2  0.0  0.0       0.0       Low  \n",
       "3  0.0  0.0       0.0       Low  \n",
       "4  0.0  0.0       0.0       Low  \n",
       "\n",
       "[5 rows x 72 columns]"
      ]
     },
     "execution_count": 53,
     "metadata": {},
     "output_type": "execute_result"
    }
   ],
   "source": [
    "df.head()"
   ]
  },
  {
   "cell_type": "code",
   "execution_count": 54,
   "id": "ebe0eab1",
   "metadata": {},
   "outputs": [
    {
     "data": {
      "text/html": [
       "<div>\n",
       "<style scoped>\n",
       "    .dataframe tbody tr th:only-of-type {\n",
       "        vertical-align: middle;\n",
       "    }\n",
       "\n",
       "    .dataframe tbody tr th {\n",
       "        vertical-align: top;\n",
       "    }\n",
       "\n",
       "    .dataframe thead th {\n",
       "        text-align: right;\n",
       "    }\n",
       "</style>\n",
       "<table border=\"1\" class=\"dataframe\">\n",
       "  <thead>\n",
       "    <tr style=\"text-align: right;\">\n",
       "      <th></th>\n",
       "      <th>AMLGrade</th>\n",
       "      <th>AMLGrade1</th>\n",
       "    </tr>\n",
       "  </thead>\n",
       "  <tbody>\n",
       "    <tr>\n",
       "      <th>0</th>\n",
       "      <td>Low</td>\n",
       "      <td>Low</td>\n",
       "    </tr>\n",
       "    <tr>\n",
       "      <th>1</th>\n",
       "      <td>Low</td>\n",
       "      <td>Low</td>\n",
       "    </tr>\n",
       "    <tr>\n",
       "      <th>2</th>\n",
       "      <td>Low</td>\n",
       "      <td>Low</td>\n",
       "    </tr>\n",
       "    <tr>\n",
       "      <th>3</th>\n",
       "      <td>Low</td>\n",
       "      <td>Low</td>\n",
       "    </tr>\n",
       "    <tr>\n",
       "      <th>4</th>\n",
       "      <td>Low</td>\n",
       "      <td>Low</td>\n",
       "    </tr>\n",
       "  </tbody>\n",
       "</table>\n",
       "</div>"
      ],
      "text/plain": [
       "  AMLGrade AMLGrade1\n",
       "0      Low       Low\n",
       "1      Low       Low\n",
       "2      Low       Low\n",
       "3      Low       Low\n",
       "4      Low       Low"
      ]
     },
     "execution_count": 54,
     "metadata": {},
     "output_type": "execute_result"
    }
   ],
   "source": [
    "df[['AMLGrade','AMLGrade1']].head()"
   ]
  },
  {
   "cell_type": "code",
   "execution_count": 55,
   "id": "e576bef5",
   "metadata": {},
   "outputs": [
    {
     "data": {
      "text/plain": [
       "array(['Low', 'Medium', 'High'], dtype=object)"
      ]
     },
     "execution_count": 55,
     "metadata": {},
     "output_type": "execute_result"
    }
   ],
   "source": [
    "df['AMLGrade1'].unique()"
   ]
  },
  {
   "cell_type": "code",
   "execution_count": 56,
   "id": "505e4932",
   "metadata": {},
   "outputs": [
    {
     "name": "stderr",
     "output_type": "stream",
     "text": [
      "C:\\Users\\SANJEE~1\\AppData\\Local\\Temp/ipykernel_13068/2861852405.py:1: FutureWarning: Indexing with multiple keys (implicitly converted to a tuple of keys) will be deprecated, use a list instead.\n",
      "  df2=df.groupby('AMLGrade1')['GrandTotalSanctioned','GrandTotalOutStanding'].sum().reset_index()\n"
     ]
    }
   ],
   "source": [
    "df2=df.groupby('AMLGrade1')['GrandTotalSanctioned','GrandTotalOutStanding'].sum().reset_index()"
   ]
  },
  {
   "cell_type": "code",
   "execution_count": 57,
   "id": "0f3c8748",
   "metadata": {},
   "outputs": [
    {
     "data": {
      "text/html": [
       "<div>\n",
       "<style scoped>\n",
       "    .dataframe tbody tr th:only-of-type {\n",
       "        vertical-align: middle;\n",
       "    }\n",
       "\n",
       "    .dataframe tbody tr th {\n",
       "        vertical-align: top;\n",
       "    }\n",
       "\n",
       "    .dataframe thead th {\n",
       "        text-align: right;\n",
       "    }\n",
       "</style>\n",
       "<table border=\"1\" class=\"dataframe\">\n",
       "  <thead>\n",
       "    <tr style=\"text-align: right;\">\n",
       "      <th></th>\n",
       "      <th>AMLGrade1</th>\n",
       "      <th>GrandTotalSanctioned</th>\n",
       "      <th>GrandTotalOutStanding</th>\n",
       "    </tr>\n",
       "  </thead>\n",
       "  <tbody>\n",
       "    <tr>\n",
       "      <th>0</th>\n",
       "      <td>High</td>\n",
       "      <td>992084725000</td>\n",
       "      <td>240237000000</td>\n",
       "    </tr>\n",
       "    <tr>\n",
       "      <th>1</th>\n",
       "      <td>Low</td>\n",
       "      <td>12634429064971</td>\n",
       "      <td>1758461735500</td>\n",
       "    </tr>\n",
       "    <tr>\n",
       "      <th>2</th>\n",
       "      <td>Medium</td>\n",
       "      <td>899680650003</td>\n",
       "      <td>61647374000</td>\n",
       "    </tr>\n",
       "  </tbody>\n",
       "</table>\n",
       "</div>"
      ],
      "text/plain": [
       "  AMLGrade1  GrandTotalSanctioned  GrandTotalOutStanding\n",
       "0      High          992084725000           240237000000\n",
       "1       Low        12634429064971          1758461735500\n",
       "2    Medium          899680650003            61647374000"
      ]
     },
     "execution_count": 57,
     "metadata": {},
     "output_type": "execute_result"
    }
   ],
   "source": [
    "df2"
   ]
  },
  {
   "cell_type": "code",
   "execution_count": 58,
   "id": "f5cb4b05",
   "metadata": {},
   "outputs": [
    {
     "data": {
      "text/html": [
       "<div>\n",
       "<style scoped>\n",
       "    .dataframe tbody tr th:only-of-type {\n",
       "        vertical-align: middle;\n",
       "    }\n",
       "\n",
       "    .dataframe tbody tr th {\n",
       "        vertical-align: top;\n",
       "    }\n",
       "\n",
       "    .dataframe thead th {\n",
       "        text-align: right;\n",
       "    }\n",
       "</style>\n",
       "<table border=\"1\" class=\"dataframe\">\n",
       "  <thead>\n",
       "    <tr style=\"text-align: right;\">\n",
       "      <th></th>\n",
       "      <th>AMLGrade</th>\n",
       "      <th>GrandTotalSanctioned</th>\n",
       "      <th>GrandTotalOutStanding</th>\n",
       "    </tr>\n",
       "  </thead>\n",
       "  <tbody>\n",
       "    <tr>\n",
       "      <th>0</th>\n",
       "      <td>High</td>\n",
       "      <td>992084725000</td>\n",
       "      <td>240237000000</td>\n",
       "    </tr>\n",
       "    <tr>\n",
       "      <th>1</th>\n",
       "      <td>Low</td>\n",
       "      <td>7247326434365</td>\n",
       "      <td>1674810149500</td>\n",
       "    </tr>\n",
       "    <tr>\n",
       "      <th>2</th>\n",
       "      <td>Medium</td>\n",
       "      <td>899680650003</td>\n",
       "      <td>61647374000</td>\n",
       "    </tr>\n",
       "  </tbody>\n",
       "</table>\n",
       "</div>"
      ],
      "text/plain": [
       "  AMLGrade  GrandTotalSanctioned  GrandTotalOutStanding\n",
       "0     High          992084725000           240237000000\n",
       "1      Low         7247326434365          1674810149500\n",
       "2   Medium          899680650003            61647374000"
      ]
     },
     "execution_count": 58,
     "metadata": {},
     "output_type": "execute_result"
    }
   ],
   "source": [
    "df1"
   ]
  },
  {
   "cell_type": "code",
   "execution_count": 59,
   "id": "6acd34a1",
   "metadata": {},
   "outputs": [
    {
     "data": {
      "text/plain": [
       "14526194439974"
      ]
     },
     "execution_count": 59,
     "metadata": {},
     "output_type": "execute_result"
    }
   ],
   "source": [
    "df2['GrandTotalSanctioned'].sum()"
   ]
  },
  {
   "cell_type": "code",
   "execution_count": 60,
   "id": "c75384ef",
   "metadata": {},
   "outputs": [
    {
     "data": {
      "text/plain": [
       "-5387102630606"
      ]
     },
     "execution_count": 60,
     "metadata": {},
     "output_type": "execute_result"
    }
   ],
   "source": [
    "df1['GrandTotalSanctioned'].sum()-df2['GrandTotalSanctioned'].sum()"
   ]
  },
  {
   "cell_type": "code",
   "execution_count": 61,
   "id": "db00e309",
   "metadata": {},
   "outputs": [
    {
     "data": {
      "text/plain": [
       "2060346109500"
      ]
     },
     "execution_count": 61,
     "metadata": {},
     "output_type": "execute_result"
    }
   ],
   "source": [
    "df2['GrandTotalOutStanding'].sum()"
   ]
  },
  {
   "cell_type": "code",
   "execution_count": 62,
   "id": "ffd87ff4",
   "metadata": {},
   "outputs": [
    {
     "data": {
      "text/plain": [
       "83651586000"
      ]
     },
     "execution_count": 62,
     "metadata": {},
     "output_type": "execute_result"
    }
   ],
   "source": [
    "df2['GrandTotalOutStanding'].sum()-df1['GrandTotalOutStanding'].sum()"
   ]
  },
  {
   "cell_type": "code",
   "execution_count": 63,
   "id": "da247b28",
   "metadata": {},
   "outputs": [
    {
     "data": {
      "text/html": [
       "<div>\n",
       "<style scoped>\n",
       "    .dataframe tbody tr th:only-of-type {\n",
       "        vertical-align: middle;\n",
       "    }\n",
       "\n",
       "    .dataframe tbody tr th {\n",
       "        vertical-align: top;\n",
       "    }\n",
       "\n",
       "    .dataframe thead th {\n",
       "        text-align: right;\n",
       "    }\n",
       "</style>\n",
       "<table border=\"1\" class=\"dataframe\">\n",
       "  <thead>\n",
       "    <tr style=\"text-align: right;\">\n",
       "      <th></th>\n",
       "      <th>CounterPartyName</th>\n",
       "      <th>IMAC_ID</th>\n",
       "      <th>CIF_ID</th>\n",
       "      <th>DepartmentName</th>\n",
       "      <th>CustomerRM</th>\n",
       "      <th>App_ID</th>\n",
       "      <th>WorkflowName</th>\n",
       "      <th>PurposeOfCAM</th>\n",
       "      <th>DateOfApproval</th>\n",
       "      <th>GroupName</th>\n",
       "      <th>...</th>\n",
       "      <th>TotalNonFundedSanctioned</th>\n",
       "      <th>TotalNonFundedOutStanding</th>\n",
       "      <th>GrandTotalSanctioned</th>\n",
       "      <th>GrandTotalOutStanding</th>\n",
       "      <th>FacilityRating</th>\n",
       "      <th>MoratoriumDays</th>\n",
       "      <th>ATNW</th>\n",
       "      <th>TNW</th>\n",
       "      <th>EBITDAPer</th>\n",
       "      <th>AMLGrade1</th>\n",
       "    </tr>\n",
       "  </thead>\n",
       "  <tbody>\n",
       "    <tr>\n",
       "      <th>0</th>\n",
       "      <td>100048-xxxxx</td>\n",
       "      <td>100048</td>\n",
       "      <td>20132126</td>\n",
       "      <td>C&amp;IB</td>\n",
       "      <td>05483_F  05483_L</td>\n",
       "      <td>APP-3474</td>\n",
       "      <td>APPWF_CIB</td>\n",
       "      <td>NTB Custom</td>\n",
       "      <td>2018-02-22 11:16:24.940</td>\n",
       "      <td>10841-xxxxx</td>\n",
       "      <td>...</td>\n",
       "      <td>3000000</td>\n",
       "      <td>0</td>\n",
       "      <td>3000000</td>\n",
       "      <td>0</td>\n",
       "      <td>ABC-6</td>\n",
       "      <td>NaN</td>\n",
       "      <td>0.0</td>\n",
       "      <td>0.0</td>\n",
       "      <td>0.0</td>\n",
       "      <td>Low</td>\n",
       "    </tr>\n",
       "    <tr>\n",
       "      <th>1</th>\n",
       "      <td>100048-xxxxx</td>\n",
       "      <td>100048</td>\n",
       "      <td>20132126</td>\n",
       "      <td>C&amp;IB</td>\n",
       "      <td>05483_F  05483_L</td>\n",
       "      <td>APP-3474</td>\n",
       "      <td>APPWF_CIB</td>\n",
       "      <td>NTB Custom</td>\n",
       "      <td>2018-02-22 11:16:24.940</td>\n",
       "      <td>10841-xxxxx</td>\n",
       "      <td>...</td>\n",
       "      <td>3000000</td>\n",
       "      <td>0</td>\n",
       "      <td>3000000</td>\n",
       "      <td>0</td>\n",
       "      <td>ABC-6</td>\n",
       "      <td>NaN</td>\n",
       "      <td>0.0</td>\n",
       "      <td>0.0</td>\n",
       "      <td>0.0</td>\n",
       "      <td>Low</td>\n",
       "    </tr>\n",
       "  </tbody>\n",
       "</table>\n",
       "<p>2 rows × 72 columns</p>\n",
       "</div>"
      ],
      "text/plain": [
       "  CounterPartyName  IMAC_ID    CIF_ID DepartmentName        CustomerRM  \\\n",
       "0     100048-xxxxx   100048  20132126           C&IB  05483_F  05483_L   \n",
       "1     100048-xxxxx   100048  20132126           C&IB  05483_F  05483_L   \n",
       "\n",
       "     App_ID WorkflowName PurposeOfCAM          DateOfApproval    GroupName  \\\n",
       "0  APP-3474    APPWF_CIB   NTB Custom 2018-02-22 11:16:24.940  10841-xxxxx   \n",
       "1  APP-3474    APPWF_CIB   NTB Custom 2018-02-22 11:16:24.940  10841-xxxxx   \n",
       "\n",
       "   ... TotalNonFundedSanctioned TotalNonFundedOutStanding  \\\n",
       "0  ...                  3000000                         0   \n",
       "1  ...                  3000000                         0   \n",
       "\n",
       "  GrandTotalSanctioned GrandTotalOutStanding FacilityRating MoratoriumDays  \\\n",
       "0              3000000                     0          ABC-6            NaN   \n",
       "1              3000000                     0          ABC-6            NaN   \n",
       "\n",
       "  ATNW  TNW EBITDAPer AMLGrade1  \n",
       "0  0.0  0.0       0.0       Low  \n",
       "1  0.0  0.0       0.0       Low  \n",
       "\n",
       "[2 rows x 72 columns]"
      ]
     },
     "execution_count": 63,
     "metadata": {},
     "output_type": "execute_result"
    }
   ],
   "source": [
    "df.head(2)"
   ]
  },
  {
   "cell_type": "code",
   "execution_count": 64,
   "id": "81ccf754",
   "metadata": {},
   "outputs": [
    {
     "data": {
      "text/plain": [
       "8007"
      ]
     },
     "execution_count": 64,
     "metadata": {},
     "output_type": "execute_result"
    }
   ],
   "source": [
    "df['ProposedBankingArrangement'].count()"
   ]
  },
  {
   "cell_type": "code",
   "execution_count": 65,
   "id": "904557b5",
   "metadata": {},
   "outputs": [
    {
     "data": {
      "text/plain": [
       "array(['Sole', 'Consortium', nan, 'Multiple Arrangement',\n",
       "       'Multiple Arrangement and Consortium',\n",
       "       'Sole and Multiple Arrangement', 'Sole and Consortium'],\n",
       "      dtype=object)"
      ]
     },
     "execution_count": 65,
     "metadata": {},
     "output_type": "execute_result"
    }
   ],
   "source": [
    "df['ProposedBankingArrangement'].unique()"
   ]
  },
  {
   "cell_type": "code",
   "execution_count": 66,
   "id": "9bc7c80b",
   "metadata": {},
   "outputs": [
    {
     "data": {
      "text/plain": [
       "'Multiple Arrangement'"
      ]
     },
     "execution_count": 66,
     "metadata": {},
     "output_type": "execute_result"
    }
   ],
   "source": [
    "df['ProposedBankingArrangement'].mode()[0]"
   ]
  },
  {
   "cell_type": "code",
   "execution_count": 67,
   "id": "fb531eaa",
   "metadata": {},
   "outputs": [
    {
     "data": {
      "text/plain": [
       "7570"
      ]
     },
     "execution_count": 67,
     "metadata": {},
     "output_type": "execute_result"
    }
   ],
   "source": [
    "df['ProposedBankingArrangement'].isna().sum()"
   ]
  },
  {
   "cell_type": "code",
   "execution_count": 68,
   "id": "e4ae22f0",
   "metadata": {},
   "outputs": [
    {
     "data": {
      "text/plain": [
       "8179038275280"
      ]
     },
     "execution_count": 68,
     "metadata": {},
     "output_type": "execute_result"
    }
   ],
   "source": [
    "df.groupby(\"ProposedBankingArrangement\")['GrandTotalSanctioned'].sum().sum()"
   ]
  },
  {
   "cell_type": "code",
   "execution_count": 69,
   "id": "ae667285",
   "metadata": {},
   "outputs": [
    {
     "data": {
      "text/plain": [
       "1912179874500"
      ]
     },
     "execution_count": 69,
     "metadata": {},
     "output_type": "execute_result"
    }
   ],
   "source": [
    "df.groupby(\"ProposedBankingArrangement\")['GrandTotalOutStanding'].sum().sum()"
   ]
  },
  {
   "cell_type": "code",
   "execution_count": 70,
   "id": "0ea879c4",
   "metadata": {},
   "outputs": [],
   "source": [
    "df['ProposedBankingArrangement1']=df['ProposedBankingArrangement'].fillna(df['ProposedBankingArrangement'].mode()[0])"
   ]
  },
  {
   "cell_type": "code",
   "execution_count": 71,
   "id": "0b2f9abd",
   "metadata": {},
   "outputs": [
    {
     "data": {
      "text/html": [
       "<div>\n",
       "<style scoped>\n",
       "    .dataframe tbody tr th:only-of-type {\n",
       "        vertical-align: middle;\n",
       "    }\n",
       "\n",
       "    .dataframe tbody tr th {\n",
       "        vertical-align: top;\n",
       "    }\n",
       "\n",
       "    .dataframe thead th {\n",
       "        text-align: right;\n",
       "    }\n",
       "</style>\n",
       "<table border=\"1\" class=\"dataframe\">\n",
       "  <thead>\n",
       "    <tr style=\"text-align: right;\">\n",
       "      <th></th>\n",
       "      <th>CounterPartyName</th>\n",
       "      <th>IMAC_ID</th>\n",
       "      <th>CIF_ID</th>\n",
       "      <th>DepartmentName</th>\n",
       "      <th>CustomerRM</th>\n",
       "      <th>App_ID</th>\n",
       "      <th>WorkflowName</th>\n",
       "      <th>PurposeOfCAM</th>\n",
       "      <th>DateOfApproval</th>\n",
       "      <th>GroupName</th>\n",
       "      <th>...</th>\n",
       "      <th>TotalNonFundedOutStanding</th>\n",
       "      <th>GrandTotalSanctioned</th>\n",
       "      <th>GrandTotalOutStanding</th>\n",
       "      <th>FacilityRating</th>\n",
       "      <th>MoratoriumDays</th>\n",
       "      <th>ATNW</th>\n",
       "      <th>TNW</th>\n",
       "      <th>EBITDAPer</th>\n",
       "      <th>AMLGrade1</th>\n",
       "      <th>ProposedBankingArrangement1</th>\n",
       "    </tr>\n",
       "  </thead>\n",
       "  <tbody>\n",
       "    <tr>\n",
       "      <th>0</th>\n",
       "      <td>100048-xxxxx</td>\n",
       "      <td>100048</td>\n",
       "      <td>20132126</td>\n",
       "      <td>C&amp;IB</td>\n",
       "      <td>05483_F  05483_L</td>\n",
       "      <td>APP-3474</td>\n",
       "      <td>APPWF_CIB</td>\n",
       "      <td>NTB Custom</td>\n",
       "      <td>2018-02-22 11:16:24.940</td>\n",
       "      <td>10841-xxxxx</td>\n",
       "      <td>...</td>\n",
       "      <td>0</td>\n",
       "      <td>3000000</td>\n",
       "      <td>0</td>\n",
       "      <td>ABC-6</td>\n",
       "      <td>NaN</td>\n",
       "      <td>0.0</td>\n",
       "      <td>0.0</td>\n",
       "      <td>0.0</td>\n",
       "      <td>Low</td>\n",
       "      <td>Sole</td>\n",
       "    </tr>\n",
       "    <tr>\n",
       "      <th>1</th>\n",
       "      <td>100048-xxxxx</td>\n",
       "      <td>100048</td>\n",
       "      <td>20132126</td>\n",
       "      <td>C&amp;IB</td>\n",
       "      <td>05483_F  05483_L</td>\n",
       "      <td>APP-3474</td>\n",
       "      <td>APPWF_CIB</td>\n",
       "      <td>NTB Custom</td>\n",
       "      <td>2018-02-22 11:16:24.940</td>\n",
       "      <td>10841-xxxxx</td>\n",
       "      <td>...</td>\n",
       "      <td>0</td>\n",
       "      <td>3000000</td>\n",
       "      <td>0</td>\n",
       "      <td>ABC-6</td>\n",
       "      <td>NaN</td>\n",
       "      <td>0.0</td>\n",
       "      <td>0.0</td>\n",
       "      <td>0.0</td>\n",
       "      <td>Low</td>\n",
       "      <td>Sole</td>\n",
       "    </tr>\n",
       "  </tbody>\n",
       "</table>\n",
       "<p>2 rows × 73 columns</p>\n",
       "</div>"
      ],
      "text/plain": [
       "  CounterPartyName  IMAC_ID    CIF_ID DepartmentName        CustomerRM  \\\n",
       "0     100048-xxxxx   100048  20132126           C&IB  05483_F  05483_L   \n",
       "1     100048-xxxxx   100048  20132126           C&IB  05483_F  05483_L   \n",
       "\n",
       "     App_ID WorkflowName PurposeOfCAM          DateOfApproval    GroupName  \\\n",
       "0  APP-3474    APPWF_CIB   NTB Custom 2018-02-22 11:16:24.940  10841-xxxxx   \n",
       "1  APP-3474    APPWF_CIB   NTB Custom 2018-02-22 11:16:24.940  10841-xxxxx   \n",
       "\n",
       "   ... TotalNonFundedOutStanding GrandTotalSanctioned GrandTotalOutStanding  \\\n",
       "0  ...                         0              3000000                     0   \n",
       "1  ...                         0              3000000                     0   \n",
       "\n",
       "  FacilityRating MoratoriumDays ATNW  TNW EBITDAPer AMLGrade1  \\\n",
       "0          ABC-6            NaN  0.0  0.0       0.0       Low   \n",
       "1          ABC-6            NaN  0.0  0.0       0.0       Low   \n",
       "\n",
       "  ProposedBankingArrangement1  \n",
       "0                        Sole  \n",
       "1                        Sole  \n",
       "\n",
       "[2 rows x 73 columns]"
      ]
     },
     "execution_count": 71,
     "metadata": {},
     "output_type": "execute_result"
    }
   ],
   "source": [
    "df.head(2)"
   ]
  },
  {
   "cell_type": "code",
   "execution_count": 72,
   "id": "110bb178",
   "metadata": {},
   "outputs": [
    {
     "data": {
      "text/plain": [
       "array(['Sole', 'Consortium', 'Multiple Arrangement',\n",
       "       'Multiple Arrangement and Consortium',\n",
       "       'Sole and Multiple Arrangement', 'Sole and Consortium'],\n",
       "      dtype=object)"
      ]
     },
     "execution_count": 72,
     "metadata": {},
     "output_type": "execute_result"
    }
   ],
   "source": [
    "df['ProposedBankingArrangement1'].unique()"
   ]
  },
  {
   "cell_type": "code",
   "execution_count": 73,
   "id": "71ff301f",
   "metadata": {},
   "outputs": [
    {
     "data": {
      "text/plain": [
       "Multiple Arrangement                   11859\n",
       "Sole                                    1802\n",
       "Consortium                              1746\n",
       "Multiple Arrangement and Consortium      126\n",
       "Sole and Consortium                       30\n",
       "Sole and Multiple Arrangement             14\n",
       "Name: ProposedBankingArrangement1, dtype: int64"
      ]
     },
     "execution_count": 73,
     "metadata": {},
     "output_type": "execute_result"
    }
   ],
   "source": [
    "df['ProposedBankingArrangement1'].value_counts()"
   ]
  },
  {
   "cell_type": "code",
   "execution_count": 74,
   "id": "345f99d3",
   "metadata": {},
   "outputs": [
    {
     "data": {
      "text/plain": [
       "15577"
      ]
     },
     "execution_count": 74,
     "metadata": {},
     "output_type": "execute_result"
    }
   ],
   "source": [
    "df['ProposedBankingArrangement1'].value_counts().sum()"
   ]
  },
  {
   "cell_type": "code",
   "execution_count": 75,
   "id": "6aac62e9",
   "metadata": {},
   "outputs": [
    {
     "data": {
      "text/plain": [
       "14526194439974"
      ]
     },
     "execution_count": 75,
     "metadata": {},
     "output_type": "execute_result"
    }
   ],
   "source": [
    "df.groupby(\"ProposedBankingArrangement1\")['GrandTotalSanctioned'].sum().sum()"
   ]
  },
  {
   "cell_type": "code",
   "execution_count": 76,
   "id": "45a81df3",
   "metadata": {},
   "outputs": [
    {
     "data": {
      "text/plain": [
       "2060346109500"
      ]
     },
     "execution_count": 76,
     "metadata": {},
     "output_type": "execute_result"
    }
   ],
   "source": [
    "df.groupby(\"ProposedBankingArrangement1\")['GrandTotalOutStanding'].sum().sum()"
   ]
  },
  {
   "cell_type": "code",
   "execution_count": 77,
   "id": "761d93de",
   "metadata": {},
   "outputs": [
    {
     "data": {
      "text/plain": [
       "(array([0, 1, 2]),\n",
       " [Text(0, 0, 'Low'), Text(1, 0, 'Medium'), Text(2, 0, 'High')])"
      ]
     },
     "execution_count": 77,
     "metadata": {},
     "output_type": "execute_result"
    },
    {
     "data": {
      "image/png": "[encoded data removed]",
      "text/plain": [
       "<Figure size 360x360 with 1 Axes>"
      ]
     },
     "metadata": {
      "needs_background": "light"
     },
     "output_type": "display_data"
    }
   ],
   "source": [
    "plt.figure(figsize=(5,5))\n",
    "sns.barplot(x='AMLGrade1',y='GrandTotalSanctioned', data=df)\n",
    "plt.xticks(rotation=0)"
   ]
  },
  {
   "cell_type": "code",
   "execution_count": 78,
   "id": "e5cc9b15",
   "metadata": {},
   "outputs": [
    {
     "data": {
      "text/plain": [
       "(array([0, 1, 2]),\n",
       " [Text(0, 0, 'Low'), Text(1, 0, 'Medium'), Text(2, 0, 'High')])"
      ]
     },
     "execution_count": 78,
     "metadata": {},
     "output_type": "execute_result"
    },
    {
     "data": {
      "image/png": "[encoded data removed]",
      "text/plain": [
       "<Figure size 360x360 with 1 Axes>"
      ]
     },
     "metadata": {
      "needs_background": "light"
     },
     "output_type": "display_data"
    }
   ],
   "source": [
    "plt.figure(figsize=(5,5))\n",
    "sns.barplot(x='AMLGrade',y='GrandTotalSanctioned', data=df)\n",
    "plt.xticks(rotation=0)"
   ]
  },
  {
   "cell_type": "code",
   "execution_count": 79,
   "id": "eebb3890",
   "metadata": {},
   "outputs": [
    {
     "data": {
      "text/plain": [
       "(array([0, 1, 2]),\n",
       " [Text(0, 0, 'Low'), Text(1, 0, 'Medium'), Text(2, 0, 'High')])"
      ]
     },
     "execution_count": 79,
     "metadata": {},
     "output_type": "execute_result"
    },
    {
     "data": {
      "image/png": "[encoded data removed]",
      "text/plain": [
       "<Figure size 360x360 with 1 Axes>"
      ]
     },
     "metadata": {
      "needs_background": "light"
     },
     "output_type": "display_data"
    }
   ],
   "source": [
    "plt.figure(figsize=(5,5))\n",
    "sns.barplot(x='AMLGrade1',y='GrandTotalOutStanding', data=df)\n",
    "plt.xticks(rotation=0)"
   ]
  },
  {
   "cell_type": "code",
   "execution_count": 80,
   "id": "7a6b9a0a",
   "metadata": {},
   "outputs": [
    {
     "data": {
      "text/plain": [
       "(array([0, 1, 2]),\n",
       " [Text(0, 0, 'Low'), Text(1, 0, 'Medium'), Text(2, 0, 'High')])"
      ]
     },
     "execution_count": 80,
     "metadata": {},
     "output_type": "execute_result"
    },
    {
     "data": {
      "image/png": "[encoded data removed]",
      "text/plain": [
       "<Figure size 360x360 with 1 Axes>"
      ]
     },
     "metadata": {
      "needs_background": "light"
     },
     "output_type": "display_data"
    }
   ],
   "source": [
    "plt.figure(figsize=(5,5))\n",
    "sns.barplot(x='AMLGrade',y='GrandTotalOutStanding', data=df)\n",
    "plt.xticks(rotation=0)"
   ]
  },
  {
   "cell_type": "code",
   "execution_count": 81,
   "id": "8e5d86d8",
   "metadata": {},
   "outputs": [
    {
     "data": {
      "text/plain": [
       "(array([0, 1, 2, 3, 4, 5]),\n",
       " [Text(0, 0, 'Sole'),\n",
       "  Text(1, 0, 'Consortium'),\n",
       "  Text(2, 0, 'Multiple Arrangement'),\n",
       "  Text(3, 0, 'Multiple Arrangement and Consortium'),\n",
       "  Text(4, 0, 'Sole and Multiple Arrangement'),\n",
       "  Text(5, 0, 'Sole and Consortium')])"
      ]
     },
     "execution_count": 81,
     "metadata": {},
     "output_type": "execute_result"
    },
    {
     "data": {
      "image/png": "[encoded data removed]",
      "text/plain": [
       "<Figure size 360x360 with 1 Axes>"
      ]
     },
     "metadata": {
      "needs_background": "light"
     },
     "output_type": "display_data"
    }
   ],
   "source": [
    "plt.figure(figsize=(5,5))\n",
    "sns.barplot(x='ProposedBankingArrangement',y='GrandTotalSanctioned', data=df)\n",
    "plt.xticks(rotation=45)"
   ]
  },
  {
   "cell_type": "code",
   "execution_count": 82,
   "id": "1bf22346",
   "metadata": {},
   "outputs": [
    {
     "data": {
      "text/plain": [
       "(array([0, 1, 2, 3, 4, 5]),\n",
       " [Text(0, 0, 'Sole'),\n",
       "  Text(1, 0, 'Consortium'),\n",
       "  Text(2, 0, 'Multiple Arrangement'),\n",
       "  Text(3, 0, 'Multiple Arrangement and Consortium'),\n",
       "  Text(4, 0, 'Sole and Multiple Arrangement'),\n",
       "  Text(5, 0, 'Sole and Consortium')])"
      ]
     },
     "execution_count": 82,
     "metadata": {},
     "output_type": "execute_result"
    },
    {
     "data": {
      "image/png": "[encoded data removed]",
      "text/plain": [
       "<Figure size 360x360 with 1 Axes>"
      ]
     },
     "metadata": {
      "needs_background": "light"
     },
     "output_type": "display_data"
    }
   ],
   "source": [
    "plt.figure(figsize=(5,5))\n",
    "sns.barplot(x='ProposedBankingArrangement',y='GrandTotalOutStanding', data=df)\n",
    "plt.xticks(rotation=45)"
   ]
  },
  {
   "cell_type": "code",
   "execution_count": 83,
   "id": "4baefeab",
   "metadata": {},
   "outputs": [
    {
     "data": {
      "text/plain": [
       "(array([0, 1, 2, 3, 4, 5]),\n",
       " [Text(0, 0, 'Sole'),\n",
       "  Text(1, 0, 'Consortium'),\n",
       "  Text(2, 0, 'Multiple Arrangement'),\n",
       "  Text(3, 0, 'Multiple Arrangement and Consortium'),\n",
       "  Text(4, 0, 'Sole and Multiple Arrangement'),\n",
       "  Text(5, 0, 'Sole and Consortium')])"
      ]
     },
     "execution_count": 83,
     "metadata": {},
     "output_type": "execute_result"
    },
    {
     "data": {
      "image/png": "[encoded data removed]",
      "text/plain": [
       "<Figure size 360x360 with 1 Axes>"
      ]
     },
     "metadata": {
      "needs_background": "light"
     },
     "output_type": "display_data"
    }
   ],
   "source": [
    "plt.figure(figsize=(5,5))\n",
    "sns.barplot(x='ProposedBankingArrangement1',y='GrandTotalOutStanding', data=df)\n",
    "plt.xticks(rotation=45)"
   ]
  },
  {
   "cell_type": "code",
   "execution_count": 84,
   "id": "1d385fda",
   "metadata": {},
   "outputs": [
    {
     "data": {
      "text/plain": [
       "(array([0, 1, 2, 3, 4, 5]),\n",
       " [Text(0, 0, 'Sole'),\n",
       "  Text(1, 0, 'Consortium'),\n",
       "  Text(2, 0, 'Multiple Arrangement'),\n",
       "  Text(3, 0, 'Multiple Arrangement and Consortium'),\n",
       "  Text(4, 0, 'Sole and Multiple Arrangement'),\n",
       "  Text(5, 0, 'Sole and Consortium')])"
      ]
     },
     "execution_count": 84,
     "metadata": {},
     "output_type": "execute_result"
    },
    {
     "data": {
      "image/png": "[encoded data removed]",
      "text/plain": [
       "<Figure size 360x360 with 1 Axes>"
      ]
     },
     "metadata": {
      "needs_background": "light"
     },
     "output_type": "display_data"
    }
   ],
   "source": [
    "plt.figure(figsize=(5,5))\n",
    "sns.barplot(x='ProposedBankingArrangement1',y='GrandTotalSanctioned', data=df)\n",
    "plt.xticks(rotation=45)"
   ]
  },
  {
   "cell_type": "code",
   "execution_count": 85,
   "id": "8f17b22e",
   "metadata": {},
   "outputs": [
    {
     "data": {
      "text/plain": [
       "Index(['CounterPartyName', 'IMAC_ID', 'CIF_ID', 'DepartmentName', 'CustomerRM',\n",
       "       'App_ID', 'WorkflowName', 'PurposeOfCAM', 'DateOfApproval', 'GroupName',\n",
       "       'GroupID', 'CCY', 'BaseUnit', 'CustomerSince', 'Industry',\n",
       "       'EWS_AL_WLDateOfSanction', 'EWS_AL_WLPresent', 'SanctionDueDate',\n",
       "       'InternalRating', 'RatingAgency', 'LongTermRating', 'ShortTermRating',\n",
       "       'Outlook', 'RatingDate', 'UWSDeviation', 'TOMDeviation', 'AMLGrade',\n",
       "       'ApplicationRating', 'AuditYear', 'FinancialRisk', 'BusinessRisk',\n",
       "       'IndustryRisk', 'ManagementRisk', 'BasicBorrowerRiskScore',\n",
       "       'ProjectRisk', 'BorrowerRIskScoreWithProject', 'ConductOfAccount',\n",
       "       'ApprovingAuthority', 'ActuallyApprovedBy', 'OverrideYorN',\n",
       "       'OverrideReason', 'ApproverName', 'ApproverComment',\n",
       "       'ApproverTimeStamp', 'UFCEProvisionAssessment', 'CRILCStatus',\n",
       "       'OrignalRating', 'OverRideRating', 'Justification',\n",
       "       'ProposedBankingArrangement', 'FacilityId', 'FacilityType',\n",
       "       'FacilitySubtype', 'ParentFAC_ID', 'Tenor', 'SanctionedAmount',\n",
       "       'OutStandingAmount', 'Classification', 'DirectIndirect',\n",
       "       'IsCashBackCollateral', 'TotalFundedSanctioned',\n",
       "       'TotalFundedOutStanding', 'TotalNonFundedSanctioned',\n",
       "       'TotalNonFundedOutStanding', 'GrandTotalSanctioned',\n",
       "       'GrandTotalOutStanding', 'FacilityRating', 'MoratoriumDays', 'ATNW',\n",
       "       'TNW', 'EBITDAPer', 'AMLGrade1', 'ProposedBankingArrangement1'],\n",
       "      dtype='object')"
      ]
     },
     "execution_count": 85,
     "metadata": {},
     "output_type": "execute_result"
    }
   ],
   "source": [
    "df.columns "
   ]
  },
  {
   "cell_type": "code",
   "execution_count": 86,
   "id": "2fb6abcc",
   "metadata": {},
   "outputs": [
    {
     "data": {
      "text/plain": [
       "ABC-7A     3704\n",
       "ABC-6      2954\n",
       "ABC-5      2181\n",
       "UnRated    1984\n",
       "ABC-7B     1295\n",
       "ABC-4       871\n",
       "ABC-3       598\n",
       "ABC-8       199\n",
       "ABC-CB      183\n",
       "ABC-2       145\n",
       "ABC-1       119\n",
       "ABC-9        39\n",
       "ABC-10       18\n",
       "Name: InternalRating, dtype: int64"
      ]
     },
     "execution_count": 86,
     "metadata": {},
     "output_type": "execute_result"
    }
   ],
   "source": [
    "df.InternalRating.value_counts()"
   ]
  },
  {
   "cell_type": "code",
   "execution_count": 87,
   "id": "98bf29cf",
   "metadata": {},
   "outputs": [
    {
     "data": {
      "text/plain": [
       "13"
      ]
     },
     "execution_count": 87,
     "metadata": {},
     "output_type": "execute_result"
    }
   ],
   "source": [
    "df.InternalRating.nunique()"
   ]
  },
  {
   "cell_type": "code",
   "execution_count": 88,
   "id": "ab0c3081",
   "metadata": {},
   "outputs": [
    {
     "data": {
      "text/plain": [
       "1287"
      ]
     },
     "execution_count": 88,
     "metadata": {},
     "output_type": "execute_result"
    }
   ],
   "source": [
    "df.InternalRating.isna().sum()"
   ]
  },
  {
   "cell_type": "code",
   "execution_count": 89,
   "id": "59f14620",
   "metadata": {},
   "outputs": [
    {
     "data": {
      "text/plain": [
       "InternalRating\n",
       "ABC-6      3136116150000\n",
       "ABC-7A     2524699517162\n",
       "ABC-5      2412960400093\n",
       "ABC-4      1888165100000\n",
       "ABC-3      1285322300000\n",
       "UnRated     951066141000\n",
       "ABC-7B      597880154113\n",
       "ABC-1       288316000000\n",
       "ABC-2       269600000000\n",
       "ABC-8        30609203000\n",
       "ABC-10       17037500000\n",
       "ABC-CB       12549275000\n",
       "ABC-9         1966900000\n",
       "Name: GrandTotalSanctioned, dtype: int64"
      ]
     },
     "execution_count": 89,
     "metadata": {},
     "output_type": "execute_result"
    }
   ],
   "source": [
    "df.groupby('InternalRating')['GrandTotalSanctioned'].sum().sort_values(ascending=False)"
   ]
  },
  {
   "cell_type": "code",
   "execution_count": 90,
   "id": "f26be712",
   "metadata": {},
   "outputs": [
    {
     "data": {
      "text/plain": [
       "0    ABC-7A\n",
       "dtype: object"
      ]
     },
     "execution_count": 90,
     "metadata": {},
     "output_type": "execute_result"
    }
   ],
   "source": [
    "df.InternalRating.mode()"
   ]
  },
  {
   "cell_type": "code",
   "execution_count": 91,
   "id": "4a9efa58",
   "metadata": {},
   "outputs": [
    {
     "data": {
      "text/plain": [
       "13416288640368"
      ]
     },
     "execution_count": 91,
     "metadata": {},
     "output_type": "execute_result"
    }
   ],
   "source": [
    "df.groupby('InternalRating')['GrandTotalSanctioned'].sum().sum()"
   ]
  },
  {
   "cell_type": "code",
   "execution_count": 92,
   "id": "77feaf58",
   "metadata": {},
   "outputs": [],
   "source": [
    "df['InternalRating1']=df['InternalRating'].fillna(df['InternalRating'].mode()[0])"
   ]
  },
  {
   "cell_type": "code",
   "execution_count": 93,
   "id": "df440878",
   "metadata": {},
   "outputs": [
    {
     "data": {
      "text/plain": [
       "ABC-7A     4991\n",
       "ABC-6      2954\n",
       "ABC-5      2181\n",
       "UnRated    1984\n",
       "ABC-7B     1295\n",
       "ABC-4       871\n",
       "ABC-3       598\n",
       "ABC-8       199\n",
       "ABC-CB      183\n",
       "ABC-2       145\n",
       "ABC-1       119\n",
       "ABC-9        39\n",
       "ABC-10       18\n",
       "Name: InternalRating1, dtype: int64"
      ]
     },
     "execution_count": 93,
     "metadata": {},
     "output_type": "execute_result"
    }
   ],
   "source": [
    "df['InternalRating1'].value_counts()"
   ]
  },
  {
   "cell_type": "code",
   "execution_count": 94,
   "id": "3d25313c",
   "metadata": {},
   "outputs": [
    {
     "data": {
      "text/plain": [
       "0"
      ]
     },
     "execution_count": 94,
     "metadata": {},
     "output_type": "execute_result"
    }
   ],
   "source": [
    "df['InternalRating1'].isna().sum()"
   ]
  },
  {
   "cell_type": "code",
   "execution_count": 95,
   "id": "6bdebba0",
   "metadata": {},
   "outputs": [
    {
     "data": {
      "text/plain": [
       "InternalRating1\n",
       "ABC-7A     3634605316768\n",
       "ABC-6      3136116150000\n",
       "ABC-5      2412960400093\n",
       "ABC-4      1888165100000\n",
       "ABC-3      1285322300000\n",
       "UnRated     951066141000\n",
       "ABC-7B      597880154113\n",
       "ABC-1       288316000000\n",
       "ABC-2       269600000000\n",
       "ABC-8        30609203000\n",
       "ABC-10       17037500000\n",
       "ABC-CB       12549275000\n",
       "ABC-9         1966900000\n",
       "Name: GrandTotalSanctioned, dtype: int64"
      ]
     },
     "execution_count": 95,
     "metadata": {},
     "output_type": "execute_result"
    }
   ],
   "source": [
    "df.groupby('InternalRating1')['GrandTotalSanctioned'].sum().sort_values(ascending=False)"
   ]
  },
  {
   "cell_type": "code",
   "execution_count": 96,
   "id": "5b2e9791",
   "metadata": {},
   "outputs": [
    {
     "data": {
      "text/plain": [
       "14526194439974"
      ]
     },
     "execution_count": 96,
     "metadata": {},
     "output_type": "execute_result"
    }
   ],
   "source": [
    "df.groupby('InternalRating1')['GrandTotalSanctioned'].sum().sum()"
   ]
  },
  {
   "cell_type": "code",
   "execution_count": 97,
   "id": "6fbf4c07",
   "metadata": {},
   "outputs": [],
   "source": [
    "df['InternalRating2']=df['InternalRating'].ffill(axis='rows')"
   ]
  },
  {
   "cell_type": "code",
   "execution_count": 98,
   "id": "3ca7e3e9",
   "metadata": {},
   "outputs": [
    {
     "data": {
      "text/plain": [
       "ABC-7A     3964\n",
       "ABC-6      3149\n",
       "ABC-5      2428\n",
       "UnRated    2278\n",
       "ABC-7B     1449\n",
       "ABC-4       892\n",
       "ABC-3       622\n",
       "ABC-8       238\n",
       "ABC-CB      194\n",
       "ABC-2       148\n",
       "ABC-1       146\n",
       "ABC-9        41\n",
       "ABC-10       28\n",
       "Name: InternalRating2, dtype: int64"
      ]
     },
     "execution_count": 98,
     "metadata": {},
     "output_type": "execute_result"
    }
   ],
   "source": [
    "df['InternalRating2'].value_counts()"
   ]
  },
  {
   "cell_type": "code",
   "execution_count": 99,
   "id": "db811281",
   "metadata": {},
   "outputs": [
    {
     "data": {
      "text/plain": [
       "InternalRating2\n",
       "ABC-6      3407594035300\n",
       "ABC-7A     2729569317162\n",
       "ABC-5      2570747600093\n",
       "ABC-4      1894835600000\n",
       "ABC-3      1321387300000\n",
       "UnRated    1211021855306\n",
       "ABC-7B      684544754113\n",
       "ABC-1       300706000000\n",
       "ABC-2       270320000000\n",
       "ABC-10       61759500000\n",
       "ABC-8        53892203000\n",
       "ABC-CB       16769375000\n",
       "ABC-9         3046900000\n",
       "Name: GrandTotalSanctioned, dtype: int64"
      ]
     },
     "execution_count": 99,
     "metadata": {},
     "output_type": "execute_result"
    }
   ],
   "source": [
    "df.groupby('InternalRating2')['GrandTotalSanctioned'].sum().sort_values(ascending=False)"
   ]
  },
  {
   "cell_type": "code",
   "execution_count": 100,
   "id": "fabe7e70",
   "metadata": {},
   "outputs": [
    {
     "data": {
      "text/plain": [
       "14526194439974"
      ]
     },
     "execution_count": 100,
     "metadata": {},
     "output_type": "execute_result"
    }
   ],
   "source": [
    "df.groupby('InternalRating2')['GrandTotalSanctioned'].sum().sum()"
   ]
  },
  {
   "cell_type": "code",
   "execution_count": 101,
   "id": "6e59ebed",
   "metadata": {},
   "outputs": [
    {
     "data": {
      "text/plain": [
       "InternalRating\n",
       "ABC-7A     552928651500\n",
       "ABC-4      509676800000\n",
       "ABC-5      388915400000\n",
       "ABC-6      302430600000\n",
       "ABC-7B     124004590000\n",
       "ABC-3      111648500000\n",
       "ABC-2       47959500000\n",
       "UnRated     18214374000\n",
       "ABC-8        3094994000\n",
       "ABC-CB        761400000\n",
       "ABC-1         418100000\n",
       "ABC-9         293200000\n",
       "ABC-10                0\n",
       "Name: GrandTotalOutStanding, dtype: int64"
      ]
     },
     "execution_count": 101,
     "metadata": {},
     "output_type": "execute_result"
    }
   ],
   "source": [
    "df.groupby('InternalRating')['GrandTotalOutStanding'].sum().sort_values(ascending=False)"
   ]
  },
  {
   "cell_type": "code",
   "execution_count": 102,
   "id": "a5091534",
   "metadata": {},
   "outputs": [
    {
     "data": {
      "text/plain": [
       "InternalRating1\n",
       "ABC-7A     552928651500\n",
       "ABC-4      509676800000\n",
       "ABC-5      388915400000\n",
       "ABC-6      302430600000\n",
       "ABC-7B     124004590000\n",
       "ABC-3      111648500000\n",
       "ABC-2       47959500000\n",
       "UnRated     18214374000\n",
       "ABC-8        3094994000\n",
       "ABC-CB        761400000\n",
       "ABC-1         418100000\n",
       "ABC-9         293200000\n",
       "ABC-10                0\n",
       "Name: GrandTotalOutStanding, dtype: int64"
      ]
     },
     "execution_count": 102,
     "metadata": {},
     "output_type": "execute_result"
    }
   ],
   "source": [
    "df.groupby('InternalRating1')['GrandTotalOutStanding'].sum().sort_values(ascending=False)"
   ]
  },
  {
   "cell_type": "code",
   "execution_count": 103,
   "id": "79545c98",
   "metadata": {},
   "outputs": [
    {
     "data": {
      "text/plain": [
       "InternalRating2\n",
       "ABC-7A     552928651500\n",
       "ABC-4      509676800000\n",
       "ABC-5      388915400000\n",
       "ABC-6      302430600000\n",
       "ABC-7B     124004590000\n",
       "ABC-3      111648500000\n",
       "ABC-2       47959500000\n",
       "UnRated     18214374000\n",
       "ABC-8        3094994000\n",
       "ABC-CB        761400000\n",
       "ABC-1         418100000\n",
       "ABC-9         293200000\n",
       "ABC-10                0\n",
       "Name: GrandTotalOutStanding, dtype: int64"
      ]
     },
     "execution_count": 103,
     "metadata": {},
     "output_type": "execute_result"
    }
   ],
   "source": [
    "df.groupby('InternalRating2')['GrandTotalOutStanding'].sum().sort_values(ascending=False)"
   ]
  },
  {
   "cell_type": "code",
   "execution_count": 104,
   "id": "e91a6782",
   "metadata": {},
   "outputs": [
    {
     "data": {
      "text/plain": [
       "2060346109500"
      ]
     },
     "execution_count": 104,
     "metadata": {},
     "output_type": "execute_result"
    }
   ],
   "source": [
    "df.groupby('InternalRating2')['GrandTotalOutStanding'].sum().sum()       #fill by ffill"
   ]
  },
  {
   "cell_type": "code",
   "execution_count": 105,
   "id": "39c765ae",
   "metadata": {},
   "outputs": [
    {
     "data": {
      "text/plain": [
       "2060346109500"
      ]
     },
     "execution_count": 105,
     "metadata": {},
     "output_type": "execute_result"
    }
   ],
   "source": [
    "df.groupby('InternalRating1')['GrandTotalOutStanding'].sum().sum()        #fill by mode"
   ]
  },
  {
   "cell_type": "code",
   "execution_count": 106,
   "id": "6ca391ed",
   "metadata": {},
   "outputs": [
    {
     "data": {
      "text/plain": [
       "2060346109500"
      ]
     },
     "execution_count": 106,
     "metadata": {},
     "output_type": "execute_result"
    }
   ],
   "source": [
    "df.groupby('InternalRating')['GrandTotalOutStanding'].sum().sum()            # having null"
   ]
  },
  {
   "cell_type": "code",
   "execution_count": 107,
   "id": "f2d6f64a",
   "metadata": {},
   "outputs": [
    {
     "data": {
      "text/plain": [
       "14526194439974"
      ]
     },
     "execution_count": 107,
     "metadata": {},
     "output_type": "execute_result"
    }
   ],
   "source": [
    "df.groupby('InternalRating2')['GrandTotalSanctioned'].sum().sum()"
   ]
  },
  {
   "cell_type": "code",
   "execution_count": 108,
   "id": "a6d9ea3e",
   "metadata": {},
   "outputs": [
    {
     "data": {
      "text/plain": [
       "14526194439974"
      ]
     },
     "execution_count": 108,
     "metadata": {},
     "output_type": "execute_result"
    }
   ],
   "source": [
    "df.groupby('InternalRating1')['GrandTotalSanctioned'].sum().sum()"
   ]
  },
  {
   "cell_type": "code",
   "execution_count": 109,
   "id": "0bc46e0a",
   "metadata": {},
   "outputs": [
    {
     "data": {
      "text/plain": [
       "13416288640368"
      ]
     },
     "execution_count": 109,
     "metadata": {},
     "output_type": "execute_result"
    }
   ],
   "source": [
    "df.groupby('InternalRating')['GrandTotalSanctioned'].sum().sum()"
   ]
  },
  {
   "cell_type": "code",
   "execution_count": 110,
   "id": "bbe94932",
   "metadata": {},
   "outputs": [
    {
     "data": {
      "text/plain": [
       "0.00     4944\n",
       "10.00     753\n",
       "4.31      140\n",
       "2.25      106\n",
       "1.77       90\n",
       "         ... \n",
       "6.15        1\n",
       "8.39        1\n",
       "4.28        1\n",
       "3.89        1\n",
       "9.66        1\n",
       "Name: FinancialRisk, Length: 511, dtype: int64"
      ]
     },
     "execution_count": 110,
     "metadata": {},
     "output_type": "execute_result"
    }
   ],
   "source": [
    "df.FinancialRisk.value_counts()"
   ]
  },
  {
   "cell_type": "code",
   "execution_count": 111,
   "id": "ea59b1ad",
   "metadata": {},
   "outputs": [
    {
     "data": {
      "text/plain": [
       "0"
      ]
     },
     "execution_count": 111,
     "metadata": {},
     "output_type": "execute_result"
    }
   ],
   "source": [
    "df.FinancialRisk.isna().sum().sum()"
   ]
  },
  {
   "cell_type": "code",
   "execution_count": 112,
   "id": "0ffca2fd",
   "metadata": {},
   "outputs": [
    {
     "data": {
      "text/plain": [
       "511"
      ]
     },
     "execution_count": 112,
     "metadata": {},
     "output_type": "execute_result"
    }
   ],
   "source": [
    "df.FinancialRisk.nunique()"
   ]
  },
  {
   "cell_type": "code",
   "execution_count": 113,
   "id": "68f44055",
   "metadata": {},
   "outputs": [
    {
     "data": {
      "text/plain": [
       "FinancialRisk\n",
       "0.00     3227961209379\n",
       "10.00     881193200000\n",
       "4.31      611389000000\n",
       "5.91      410600000000\n",
       "7.01      392114000000\n",
       "             ...      \n",
       "6.73                 0\n",
       "2.71                 0\n",
       "1.52                 0\n",
       "6.11                 0\n",
       "3.31                 0\n",
       "Name: GrandTotalSanctioned, Length: 511, dtype: int64"
      ]
     },
     "execution_count": 113,
     "metadata": {},
     "output_type": "execute_result"
    }
   ],
   "source": [
    "df.groupby('FinancialRisk').GrandTotalSanctioned.sum().sort_values(ascending=False)"
   ]
  },
  {
   "cell_type": "code",
   "execution_count": 114,
   "id": "59520acd",
   "metadata": {},
   "outputs": [
    {
     "data": {
      "text/plain": [
       "FinancialRisk\n",
       "0.00     344634084500\n",
       "4.31     292543600000\n",
       "10.00    152418251000\n",
       "8.77      90880000000\n",
       "5.58      57117000000\n",
       "             ...     \n",
       "5.68                0\n",
       "5.59                0\n",
       "1.00                0\n",
       "5.57                0\n",
       "1.09                0\n",
       "Name: GrandTotalOutStanding, Length: 511, dtype: int64"
      ]
     },
     "execution_count": 114,
     "metadata": {},
     "output_type": "execute_result"
    }
   ],
   "source": [
    "df.groupby('FinancialRisk').GrandTotalOutStanding.sum().sort_values(ascending=False)"
   ]
  },
  {
   "cell_type": "code",
   "execution_count": 115,
   "id": "6c17ae07",
   "metadata": {},
   "outputs": [
    {
     "data": {
      "text/plain": [
       "2060346109500"
      ]
     },
     "execution_count": 115,
     "metadata": {},
     "output_type": "execute_result"
    }
   ],
   "source": [
    "df.groupby('InternalRating')['GrandTotalOutStanding'].sum().sum()"
   ]
  },
  {
   "cell_type": "code",
   "execution_count": 116,
   "id": "cda544cf",
   "metadata": {},
   "outputs": [
    {
     "data": {
      "text/plain": [
       "1287"
      ]
     },
     "execution_count": 116,
     "metadata": {},
     "output_type": "execute_result"
    }
   ],
   "source": [
    "df.InternalRating.isna().sum()"
   ]
  },
  {
   "cell_type": "code",
   "execution_count": 117,
   "id": "26a30125",
   "metadata": {},
   "outputs": [
    {
     "data": {
      "text/plain": [
       "0"
      ]
     },
     "execution_count": 117,
     "metadata": {},
     "output_type": "execute_result"
    }
   ],
   "source": [
    "df.InternalRating1.isna().sum()"
   ]
  },
  {
   "cell_type": "code",
   "execution_count": 118,
   "id": "7c167e17",
   "metadata": {},
   "outputs": [
    {
     "data": {
      "text/plain": [
       "0"
      ]
     },
     "execution_count": 118,
     "metadata": {},
     "output_type": "execute_result"
    }
   ],
   "source": [
    "df.GrandTotalOutStanding.isna().sum()"
   ]
  },
  {
   "cell_type": "code",
   "execution_count": 119,
   "id": "5a6d1f28",
   "metadata": {},
   "outputs": [
    {
     "data": {
      "text/plain": [
       "2060346109500"
      ]
     },
     "execution_count": 119,
     "metadata": {},
     "output_type": "execute_result"
    }
   ],
   "source": [
    "df.groupby('InternalRating1')['GrandTotalOutStanding'].sum().sum()"
   ]
  },
  {
   "cell_type": "code",
   "execution_count": 120,
   "id": "3870894a",
   "metadata": {},
   "outputs": [
    {
     "data": {
      "text/plain": [
       "11674"
      ]
     },
     "execution_count": 120,
     "metadata": {},
     "output_type": "execute_result"
    }
   ],
   "source": [
    "df[(df.GrandTotalOutStanding==0)]['GrandTotalOutStanding'].count()"
   ]
  },
  {
   "cell_type": "code",
   "execution_count": 121,
   "id": "df60a356",
   "metadata": {},
   "outputs": [],
   "source": [
    "count_app='df.xlsx'"
   ]
  },
  {
   "cell_type": "code",
   "execution_count": 122,
   "id": "b996ff08",
   "metadata": {},
   "outputs": [],
   "source": [
    "import os"
   ]
  },
  {
   "cell_type": "code",
   "execution_count": 123,
   "id": "d3c99760",
   "metadata": {},
   "outputs": [
    {
     "data": {
      "text/plain": [
       "'C:\\\\Users\\\\Sanjeev Dungdung\\\\rishab sir'"
      ]
     },
     "execution_count": 123,
     "metadata": {},
     "output_type": "execute_result"
    }
   ],
   "source": [
    "os.getcwd()"
   ]
  },
  {
   "cell_type": "code",
   "execution_count": 124,
   "id": "11ad90e2",
   "metadata": {},
   "outputs": [],
   "source": [
    "cpa=pd.read_excel('df.xlsx')"
   ]
  },
  {
   "cell_type": "code",
   "execution_count": 125,
   "id": "4b679e4e",
   "metadata": {},
   "outputs": [
    {
     "data": {
      "text/html": [
       "<div>\n",
       "<style scoped>\n",
       "    .dataframe tbody tr th:only-of-type {\n",
       "        vertical-align: middle;\n",
       "    }\n",
       "\n",
       "    .dataframe tbody tr th {\n",
       "        vertical-align: top;\n",
       "    }\n",
       "\n",
       "    .dataframe thead th {\n",
       "        text-align: right;\n",
       "    }\n",
       "</style>\n",
       "<table border=\"1\" class=\"dataframe\">\n",
       "  <thead>\n",
       "    <tr style=\"text-align: right;\">\n",
       "      <th></th>\n",
       "      <th>Unnamed: 0</th>\n",
       "      <th>CounterPartyName</th>\n",
       "      <th>IMAC_ID</th>\n",
       "      <th>CIF_ID</th>\n",
       "      <th>DepartmentName</th>\n",
       "      <th>CustomerRM</th>\n",
       "      <th>App_ID</th>\n",
       "      <th>WorkflowName</th>\n",
       "      <th>PurposeOfCAM</th>\n",
       "      <th>DateOfApproval</th>\n",
       "      <th>...</th>\n",
       "      <th>GrandTotalOutStanding</th>\n",
       "      <th>FacilityRating</th>\n",
       "      <th>MoratoriumDays</th>\n",
       "      <th>ATNW</th>\n",
       "      <th>TNW</th>\n",
       "      <th>EBITDAPer</th>\n",
       "      <th>AMLGrade1</th>\n",
       "      <th>ProposedBankingArrangement1</th>\n",
       "      <th>InternalRating1</th>\n",
       "      <th>InternalRating2</th>\n",
       "    </tr>\n",
       "  </thead>\n",
       "  <tbody>\n",
       "    <tr>\n",
       "      <th>0</th>\n",
       "      <td>0</td>\n",
       "      <td>100048-xxxxx</td>\n",
       "      <td>100048</td>\n",
       "      <td>20132126</td>\n",
       "      <td>C&amp;IB</td>\n",
       "      <td>05483_F  05483_L</td>\n",
       "      <td>APP-3474</td>\n",
       "      <td>APPWF_CIB</td>\n",
       "      <td>NTB Custom</td>\n",
       "      <td>2018-02-22 11:16:24.940</td>\n",
       "      <td>...</td>\n",
       "      <td>0</td>\n",
       "      <td>ABC-6</td>\n",
       "      <td>NaN</td>\n",
       "      <td>0.0</td>\n",
       "      <td>0.0</td>\n",
       "      <td>0.0</td>\n",
       "      <td>Low</td>\n",
       "      <td>Sole</td>\n",
       "      <td>UnRated</td>\n",
       "      <td>UnRated</td>\n",
       "    </tr>\n",
       "    <tr>\n",
       "      <th>1</th>\n",
       "      <td>1</td>\n",
       "      <td>100048-xxxxx</td>\n",
       "      <td>100048</td>\n",
       "      <td>20132126</td>\n",
       "      <td>C&amp;IB</td>\n",
       "      <td>05483_F  05483_L</td>\n",
       "      <td>APP-3474</td>\n",
       "      <td>APPWF_CIB</td>\n",
       "      <td>NTB Custom</td>\n",
       "      <td>2018-02-22 11:16:24.940</td>\n",
       "      <td>...</td>\n",
       "      <td>0</td>\n",
       "      <td>ABC-6</td>\n",
       "      <td>NaN</td>\n",
       "      <td>0.0</td>\n",
       "      <td>0.0</td>\n",
       "      <td>0.0</td>\n",
       "      <td>Low</td>\n",
       "      <td>Sole</td>\n",
       "      <td>UnRated</td>\n",
       "      <td>UnRated</td>\n",
       "    </tr>\n",
       "    <tr>\n",
       "      <th>2</th>\n",
       "      <td>2</td>\n",
       "      <td>100048-xxxxx</td>\n",
       "      <td>100048</td>\n",
       "      <td>20132126</td>\n",
       "      <td>C&amp;IB</td>\n",
       "      <td>05483_F  05483_L</td>\n",
       "      <td>APP-3474</td>\n",
       "      <td>APPWF_CIB</td>\n",
       "      <td>NTB Custom</td>\n",
       "      <td>2018-02-22 11:16:24.940</td>\n",
       "      <td>...</td>\n",
       "      <td>0</td>\n",
       "      <td>NaN</td>\n",
       "      <td>NaN</td>\n",
       "      <td>0.0</td>\n",
       "      <td>0.0</td>\n",
       "      <td>0.0</td>\n",
       "      <td>Low</td>\n",
       "      <td>Sole</td>\n",
       "      <td>UnRated</td>\n",
       "      <td>UnRated</td>\n",
       "    </tr>\n",
       "    <tr>\n",
       "      <th>3</th>\n",
       "      <td>3</td>\n",
       "      <td>100048-xxxxx</td>\n",
       "      <td>100048</td>\n",
       "      <td>20132126</td>\n",
       "      <td>C&amp;IB</td>\n",
       "      <td>05483_F  05483_L</td>\n",
       "      <td>APP-3767</td>\n",
       "      <td>APPWF_CIB</td>\n",
       "      <td>NTB Custom</td>\n",
       "      <td>2018-04-24 10:51:53.020</td>\n",
       "      <td>...</td>\n",
       "      <td>0</td>\n",
       "      <td>ABC-7A</td>\n",
       "      <td>NaN</td>\n",
       "      <td>0.0</td>\n",
       "      <td>0.0</td>\n",
       "      <td>0.0</td>\n",
       "      <td>Low</td>\n",
       "      <td>Sole</td>\n",
       "      <td>ABC-7A</td>\n",
       "      <td>ABC-7A</td>\n",
       "    </tr>\n",
       "    <tr>\n",
       "      <th>4</th>\n",
       "      <td>4</td>\n",
       "      <td>100048-xxxxx</td>\n",
       "      <td>100048</td>\n",
       "      <td>20132126</td>\n",
       "      <td>C&amp;IB</td>\n",
       "      <td>05483_F  05483_L</td>\n",
       "      <td>APP-3767</td>\n",
       "      <td>APPWF_CIB</td>\n",
       "      <td>NTB Custom</td>\n",
       "      <td>2018-04-24 10:51:53.020</td>\n",
       "      <td>...</td>\n",
       "      <td>0</td>\n",
       "      <td>ABC-7A</td>\n",
       "      <td>NaN</td>\n",
       "      <td>0.0</td>\n",
       "      <td>0.0</td>\n",
       "      <td>0.0</td>\n",
       "      <td>Low</td>\n",
       "      <td>Sole</td>\n",
       "      <td>ABC-7A</td>\n",
       "      <td>ABC-7A</td>\n",
       "    </tr>\n",
       "  </tbody>\n",
       "</table>\n",
       "<p>5 rows × 76 columns</p>\n",
       "</div>"
      ],
      "text/plain": [
       "   Unnamed: 0 CounterPartyName  IMAC_ID    CIF_ID DepartmentName  \\\n",
       "0           0     100048-xxxxx   100048  20132126           C&IB   \n",
       "1           1     100048-xxxxx   100048  20132126           C&IB   \n",
       "2           2     100048-xxxxx   100048  20132126           C&IB   \n",
       "3           3     100048-xxxxx   100048  20132126           C&IB   \n",
       "4           4     100048-xxxxx   100048  20132126           C&IB   \n",
       "\n",
       "         CustomerRM    App_ID WorkflowName PurposeOfCAM  \\\n",
       "0  05483_F  05483_L  APP-3474    APPWF_CIB   NTB Custom   \n",
       "1  05483_F  05483_L  APP-3474    APPWF_CIB   NTB Custom   \n",
       "2  05483_F  05483_L  APP-3474    APPWF_CIB   NTB Custom   \n",
       "3  05483_F  05483_L  APP-3767    APPWF_CIB   NTB Custom   \n",
       "4  05483_F  05483_L  APP-3767    APPWF_CIB   NTB Custom   \n",
       "\n",
       "           DateOfApproval  ... GrandTotalOutStanding FacilityRating  \\\n",
       "0 2018-02-22 11:16:24.940  ...                     0          ABC-6   \n",
       "1 2018-02-22 11:16:24.940  ...                     0          ABC-6   \n",
       "2 2018-02-22 11:16:24.940  ...                     0            NaN   \n",
       "3 2018-04-24 10:51:53.020  ...                     0         ABC-7A   \n",
       "4 2018-04-24 10:51:53.020  ...                     0         ABC-7A   \n",
       "\n",
       "  MoratoriumDays ATNW  TNW EBITDAPer AMLGrade1 ProposedBankingArrangement1  \\\n",
       "0            NaN  0.0  0.0       0.0       Low                        Sole   \n",
       "1            NaN  0.0  0.0       0.0       Low                        Sole   \n",
       "2            NaN  0.0  0.0       0.0       Low                        Sole   \n",
       "3            NaN  0.0  0.0       0.0       Low                        Sole   \n",
       "4            NaN  0.0  0.0       0.0       Low                        Sole   \n",
       "\n",
       "  InternalRating1 InternalRating2  \n",
       "0         UnRated         UnRated  \n",
       "1         UnRated         UnRated  \n",
       "2         UnRated         UnRated  \n",
       "3          ABC-7A          ABC-7A  \n",
       "4          ABC-7A          ABC-7A  \n",
       "\n",
       "[5 rows x 76 columns]"
      ]
     },
     "execution_count": 125,
     "metadata": {},
     "output_type": "execute_result"
    }
   ],
   "source": [
    "cpa.head()"
   ]
  },
  {
   "cell_type": "code",
   "execution_count": 126,
   "id": "d56d9a19",
   "metadata": {},
   "outputs": [
    {
     "data": {
      "text/html": [
       "<div>\n",
       "<style scoped>\n",
       "    .dataframe tbody tr th:only-of-type {\n",
       "        vertical-align: middle;\n",
       "    }\n",
       "\n",
       "    .dataframe tbody tr th {\n",
       "        vertical-align: top;\n",
       "    }\n",
       "\n",
       "    .dataframe thead th {\n",
       "        text-align: right;\n",
       "    }\n",
       "</style>\n",
       "<table border=\"1\" class=\"dataframe\">\n",
       "  <thead>\n",
       "    <tr style=\"text-align: right;\">\n",
       "      <th></th>\n",
       "      <th>CounterPartyName</th>\n",
       "      <th>IMAC_ID</th>\n",
       "      <th>CIF_ID</th>\n",
       "      <th>DepartmentName</th>\n",
       "      <th>CustomerRM</th>\n",
       "      <th>App_ID</th>\n",
       "      <th>WorkflowName</th>\n",
       "      <th>PurposeOfCAM</th>\n",
       "      <th>DateOfApproval</th>\n",
       "      <th>GroupName</th>\n",
       "      <th>...</th>\n",
       "      <th>GrandTotalOutStanding</th>\n",
       "      <th>FacilityRating</th>\n",
       "      <th>MoratoriumDays</th>\n",
       "      <th>ATNW</th>\n",
       "      <th>TNW</th>\n",
       "      <th>EBITDAPer</th>\n",
       "      <th>AMLGrade1</th>\n",
       "      <th>ProposedBankingArrangement1</th>\n",
       "      <th>InternalRating1</th>\n",
       "      <th>InternalRating2</th>\n",
       "    </tr>\n",
       "  </thead>\n",
       "  <tbody>\n",
       "    <tr>\n",
       "      <th>0</th>\n",
       "      <td>100048-xxxxx</td>\n",
       "      <td>100048</td>\n",
       "      <td>20132126</td>\n",
       "      <td>C&amp;IB</td>\n",
       "      <td>05483_F  05483_L</td>\n",
       "      <td>APP-3474</td>\n",
       "      <td>APPWF_CIB</td>\n",
       "      <td>NTB Custom</td>\n",
       "      <td>2018-02-22 11:16:24.940</td>\n",
       "      <td>10841-xxxxx</td>\n",
       "      <td>...</td>\n",
       "      <td>0</td>\n",
       "      <td>ABC-6</td>\n",
       "      <td>NaN</td>\n",
       "      <td>0.0</td>\n",
       "      <td>0.0</td>\n",
       "      <td>0.0</td>\n",
       "      <td>Low</td>\n",
       "      <td>Sole</td>\n",
       "      <td>UnRated</td>\n",
       "      <td>UnRated</td>\n",
       "    </tr>\n",
       "    <tr>\n",
       "      <th>1</th>\n",
       "      <td>100048-xxxxx</td>\n",
       "      <td>100048</td>\n",
       "      <td>20132126</td>\n",
       "      <td>C&amp;IB</td>\n",
       "      <td>05483_F  05483_L</td>\n",
       "      <td>APP-3474</td>\n",
       "      <td>APPWF_CIB</td>\n",
       "      <td>NTB Custom</td>\n",
       "      <td>2018-02-22 11:16:24.940</td>\n",
       "      <td>10841-xxxxx</td>\n",
       "      <td>...</td>\n",
       "      <td>0</td>\n",
       "      <td>ABC-6</td>\n",
       "      <td>NaN</td>\n",
       "      <td>0.0</td>\n",
       "      <td>0.0</td>\n",
       "      <td>0.0</td>\n",
       "      <td>Low</td>\n",
       "      <td>Sole</td>\n",
       "      <td>UnRated</td>\n",
       "      <td>UnRated</td>\n",
       "    </tr>\n",
       "  </tbody>\n",
       "</table>\n",
       "<p>2 rows × 75 columns</p>\n",
       "</div>"
      ],
      "text/plain": [
       "  CounterPartyName  IMAC_ID    CIF_ID DepartmentName        CustomerRM  \\\n",
       "0     100048-xxxxx   100048  20132126           C&IB  05483_F  05483_L   \n",
       "1     100048-xxxxx   100048  20132126           C&IB  05483_F  05483_L   \n",
       "\n",
       "     App_ID WorkflowName PurposeOfCAM          DateOfApproval    GroupName  \\\n",
       "0  APP-3474    APPWF_CIB   NTB Custom 2018-02-22 11:16:24.940  10841-xxxxx   \n",
       "1  APP-3474    APPWF_CIB   NTB Custom 2018-02-22 11:16:24.940  10841-xxxxx   \n",
       "\n",
       "   ... GrandTotalOutStanding FacilityRating MoratoriumDays ATNW  TNW  \\\n",
       "0  ...                     0          ABC-6            NaN  0.0  0.0   \n",
       "1  ...                     0          ABC-6            NaN  0.0  0.0   \n",
       "\n",
       "  EBITDAPer AMLGrade1 ProposedBankingArrangement1 InternalRating1  \\\n",
       "0       0.0       Low                        Sole         UnRated   \n",
       "1       0.0       Low                        Sole         UnRated   \n",
       "\n",
       "  InternalRating2  \n",
       "0         UnRated  \n",
       "1         UnRated  \n",
       "\n",
       "[2 rows x 75 columns]"
      ]
     },
     "execution_count": 126,
     "metadata": {},
     "output_type": "execute_result"
    }
   ],
   "source": [
    "df.head(2)"
   ]
  },
  {
   "cell_type": "code",
   "execution_count": 127,
   "id": "b96c7707",
   "metadata": {},
   "outputs": [
    {
     "data": {
      "text/plain": [
       "DepartmentName\n",
       "AGRI RETAIL                              8\n",
       "AGRI WHOLESALE                         217\n",
       "C&IB                                  6433\n",
       "COMMERCIAL BANKING - MID CORPORATE    4420\n",
       "COMMERCIAL BANKING - SME              3263\n",
       "FINANCIAL INSTITUTIONS GROUP           382\n",
       "GB                                      88\n",
       "MFIs                                   556\n",
       "MNC                                     95\n",
       "MSME                                    26\n",
       "NEB                                     26\n",
       "RETAIL BRANCH BANKING                    1\n",
       "SUPPLY CHAIN FINANCE                    62\n",
       "Name: WorkflowName, dtype: int64"
      ]
     },
     "execution_count": 127,
     "metadata": {},
     "output_type": "execute_result"
    }
   ],
   "source": [
    "df.groupby('DepartmentName').WorkflowName.count()"
   ]
  },
  {
   "cell_type": "code",
   "execution_count": 128,
   "id": "42c21c56",
   "metadata": {},
   "outputs": [
    {
     "data": {
      "text/plain": [
       "DepartmentName                      WorkflowName\n",
       "AGRI RETAIL                         APPWF_AGRI         4\n",
       "                                    APPWF_CIB          4\n",
       "AGRI WHOLESALE                      APPWF_AGRI       217\n",
       "C&IB                                APPWF_AGRI         8\n",
       "                                    APPWF_CIB       5175\n",
       "                                    APPWF_FIG         98\n",
       "                                    APPWF_G&J         90\n",
       "                                    APPWF_IFI         42\n",
       "                                    APPWF_MME         20\n",
       "                                    APPWF_SME          2\n",
       "                                    SFCAWF_CIB       949\n",
       "                                    SFCAWF_FIG        33\n",
       "                                    SFCAWF_G&J        16\n",
       "COMMERCIAL BANKING - MID CORPORATE  APPWF_AGRI        32\n",
       "                                    APPWF_CIB         10\n",
       "                                    APPWF_FIG          2\n",
       "                                    APPWF_G&J         49\n",
       "                                    APPWF_MME       3694\n",
       "                                    APPWF_SME         72\n",
       "                                    SFCAWF_MME       561\n",
       "COMMERCIAL BANKING - SME            APPWF_AGRI        35\n",
       "                                    APPWF_FIG         29\n",
       "                                    APPWF_G&J         24\n",
       "                                    APPWF_MME         28\n",
       "                                    APPWF_SME       2681\n",
       "                                    SFCAWF_SME       466\n",
       "FINANCIAL INSTITUTIONS GROUP        APPWF_CIB         24\n",
       "                                    APPWF_FIG        274\n",
       "                                    APPWF_IFI         79\n",
       "                                    SFCAWF_FIG         5\n",
       "GB                                  APPWF_CIB         40\n",
       "                                    APPWF_GB          29\n",
       "                                    APPWF_MME          7\n",
       "                                    APPWF_SME          5\n",
       "                                    SFCAWF_CIB         4\n",
       "                                    SFCAWF_GB          3\n",
       "MFIs                                APPWF_CIB          1\n",
       "                                    APPWF_FIG         94\n",
       "                                    APPWF_IFI        420\n",
       "                                    APPWF_SME          3\n",
       "                                    SFCAWF_FIG        13\n",
       "                                    SFCAWF_IFI        25\n",
       "MNC                                 APPWF_CIB         35\n",
       "                                    APPWF_IFI          4\n",
       "                                    APPWF_MME         12\n",
       "                                    APPWF_MNC         20\n",
       "                                    APPWF_SME         10\n",
       "                                    SFCAWF_CIB         4\n",
       "                                    SFCAWF_MNC         4\n",
       "                                    SFCAWF_SME         6\n",
       "MSME                                APPWF_CIB         26\n",
       "NEB                                 APPWF_MME         20\n",
       "                                    SFCAWF_MME         6\n",
       "RETAIL BRANCH BANKING               APPWF_CIB          1\n",
       "SUPPLY CHAIN FINANCE                APPWF_CIB         12\n",
       "                                    APPWF_MME         10\n",
       "                                    APPWF_SCF         19\n",
       "                                    SFCAWF_CIB        13\n",
       "                                    SFCAWF_SCF         8\n",
       "Name: CounterPartyName, dtype: int64"
      ]
     },
     "execution_count": 128,
     "metadata": {},
     "output_type": "execute_result"
    }
   ],
   "source": [
    "df.groupby(['DepartmentName','WorkflowName']).CounterPartyName.count()"
   ]
  },
  {
   "cell_type": "code",
   "execution_count": 129,
   "id": "5a3be9be",
   "metadata": {},
   "outputs": [
    {
     "data": {
      "text/html": [
       "<div>\n",
       "<style scoped>\n",
       "    .dataframe tbody tr th:only-of-type {\n",
       "        vertical-align: middle;\n",
       "    }\n",
       "\n",
       "    .dataframe tbody tr th {\n",
       "        vertical-align: top;\n",
       "    }\n",
       "\n",
       "    .dataframe thead tr th {\n",
       "        text-align: left;\n",
       "    }\n",
       "\n",
       "    .dataframe thead tr:last-of-type th {\n",
       "        text-align: right;\n",
       "    }\n",
       "</style>\n",
       "<table border=\"1\" class=\"dataframe\">\n",
       "  <thead>\n",
       "    <tr>\n",
       "      <th></th>\n",
       "      <th colspan=\"10\" halign=\"left\">AMLGrade</th>\n",
       "      <th>...</th>\n",
       "      <th colspan=\"10\" halign=\"left\">UWSDeviation</th>\n",
       "    </tr>\n",
       "    <tr>\n",
       "      <th>WorkflowName</th>\n",
       "      <th>APPWF_AGRI</th>\n",
       "      <th>APPWF_CIB</th>\n",
       "      <th>APPWF_FIG</th>\n",
       "      <th>APPWF_G&amp;J</th>\n",
       "      <th>APPWF_GB</th>\n",
       "      <th>APPWF_IFI</th>\n",
       "      <th>APPWF_MME</th>\n",
       "      <th>APPWF_MNC</th>\n",
       "      <th>APPWF_SCF</th>\n",
       "      <th>APPWF_SME</th>\n",
       "      <th>...</th>\n",
       "      <th>APPWF_SME</th>\n",
       "      <th>SFCAWF_CIB</th>\n",
       "      <th>SFCAWF_FIG</th>\n",
       "      <th>SFCAWF_G&amp;J</th>\n",
       "      <th>SFCAWF_GB</th>\n",
       "      <th>SFCAWF_IFI</th>\n",
       "      <th>SFCAWF_MME</th>\n",
       "      <th>SFCAWF_MNC</th>\n",
       "      <th>SFCAWF_SCF</th>\n",
       "      <th>SFCAWF_SME</th>\n",
       "    </tr>\n",
       "    <tr>\n",
       "      <th>DepartmentName</th>\n",
       "      <th></th>\n",
       "      <th></th>\n",
       "      <th></th>\n",
       "      <th></th>\n",
       "      <th></th>\n",
       "      <th></th>\n",
       "      <th></th>\n",
       "      <th></th>\n",
       "      <th></th>\n",
       "      <th></th>\n",
       "      <th></th>\n",
       "      <th></th>\n",
       "      <th></th>\n",
       "      <th></th>\n",
       "      <th></th>\n",
       "      <th></th>\n",
       "      <th></th>\n",
       "      <th></th>\n",
       "      <th></th>\n",
       "      <th></th>\n",
       "      <th></th>\n",
       "    </tr>\n",
       "  </thead>\n",
       "  <tbody>\n",
       "    <tr>\n",
       "      <th>AGRI RETAIL</th>\n",
       "      <td>4.0</td>\n",
       "      <td>4.0</td>\n",
       "      <td>NaN</td>\n",
       "      <td>NaN</td>\n",
       "      <td>NaN</td>\n",
       "      <td>NaN</td>\n",
       "      <td>NaN</td>\n",
       "      <td>NaN</td>\n",
       "      <td>NaN</td>\n",
       "      <td>NaN</td>\n",
       "      <td>...</td>\n",
       "      <td>NaN</td>\n",
       "      <td>NaN</td>\n",
       "      <td>NaN</td>\n",
       "      <td>NaN</td>\n",
       "      <td>NaN</td>\n",
       "      <td>NaN</td>\n",
       "      <td>NaN</td>\n",
       "      <td>NaN</td>\n",
       "      <td>NaN</td>\n",
       "      <td>NaN</td>\n",
       "    </tr>\n",
       "    <tr>\n",
       "      <th>AGRI WHOLESALE</th>\n",
       "      <td>217.0</td>\n",
       "      <td>NaN</td>\n",
       "      <td>NaN</td>\n",
       "      <td>NaN</td>\n",
       "      <td>NaN</td>\n",
       "      <td>NaN</td>\n",
       "      <td>NaN</td>\n",
       "      <td>NaN</td>\n",
       "      <td>NaN</td>\n",
       "      <td>NaN</td>\n",
       "      <td>...</td>\n",
       "      <td>NaN</td>\n",
       "      <td>NaN</td>\n",
       "      <td>NaN</td>\n",
       "      <td>NaN</td>\n",
       "      <td>NaN</td>\n",
       "      <td>NaN</td>\n",
       "      <td>NaN</td>\n",
       "      <td>NaN</td>\n",
       "      <td>NaN</td>\n",
       "      <td>NaN</td>\n",
       "    </tr>\n",
       "    <tr>\n",
       "      <th>C&amp;IB</th>\n",
       "      <td>8.0</td>\n",
       "      <td>5175.0</td>\n",
       "      <td>98.0</td>\n",
       "      <td>90.0</td>\n",
       "      <td>NaN</td>\n",
       "      <td>42.0</td>\n",
       "      <td>20.0</td>\n",
       "      <td>NaN</td>\n",
       "      <td>NaN</td>\n",
       "      <td>2.0</td>\n",
       "      <td>...</td>\n",
       "      <td>2.0</td>\n",
       "      <td>949.0</td>\n",
       "      <td>33.0</td>\n",
       "      <td>16.0</td>\n",
       "      <td>NaN</td>\n",
       "      <td>NaN</td>\n",
       "      <td>NaN</td>\n",
       "      <td>NaN</td>\n",
       "      <td>NaN</td>\n",
       "      <td>NaN</td>\n",
       "    </tr>\n",
       "    <tr>\n",
       "      <th>COMMERCIAL BANKING - MID CORPORATE</th>\n",
       "      <td>32.0</td>\n",
       "      <td>10.0</td>\n",
       "      <td>2.0</td>\n",
       "      <td>49.0</td>\n",
       "      <td>NaN</td>\n",
       "      <td>NaN</td>\n",
       "      <td>3694.0</td>\n",
       "      <td>NaN</td>\n",
       "      <td>NaN</td>\n",
       "      <td>72.0</td>\n",
       "      <td>...</td>\n",
       "      <td>72.0</td>\n",
       "      <td>NaN</td>\n",
       "      <td>NaN</td>\n",
       "      <td>NaN</td>\n",
       "      <td>NaN</td>\n",
       "      <td>NaN</td>\n",
       "      <td>561.0</td>\n",
       "      <td>NaN</td>\n",
       "      <td>NaN</td>\n",
       "      <td>NaN</td>\n",
       "    </tr>\n",
       "    <tr>\n",
       "      <th>COMMERCIAL BANKING - SME</th>\n",
       "      <td>35.0</td>\n",
       "      <td>NaN</td>\n",
       "      <td>29.0</td>\n",
       "      <td>24.0</td>\n",
       "      <td>NaN</td>\n",
       "      <td>NaN</td>\n",
       "      <td>28.0</td>\n",
       "      <td>NaN</td>\n",
       "      <td>NaN</td>\n",
       "      <td>2681.0</td>\n",
       "      <td>...</td>\n",
       "      <td>2681.0</td>\n",
       "      <td>NaN</td>\n",
       "      <td>NaN</td>\n",
       "      <td>NaN</td>\n",
       "      <td>NaN</td>\n",
       "      <td>NaN</td>\n",
       "      <td>NaN</td>\n",
       "      <td>NaN</td>\n",
       "      <td>NaN</td>\n",
       "      <td>466.0</td>\n",
       "    </tr>\n",
       "    <tr>\n",
       "      <th>FINANCIAL INSTITUTIONS GROUP</th>\n",
       "      <td>NaN</td>\n",
       "      <td>24.0</td>\n",
       "      <td>274.0</td>\n",
       "      <td>NaN</td>\n",
       "      <td>NaN</td>\n",
       "      <td>79.0</td>\n",
       "      <td>NaN</td>\n",
       "      <td>NaN</td>\n",
       "      <td>NaN</td>\n",
       "      <td>NaN</td>\n",
       "      <td>...</td>\n",
       "      <td>NaN</td>\n",
       "      <td>NaN</td>\n",
       "      <td>5.0</td>\n",
       "      <td>NaN</td>\n",
       "      <td>NaN</td>\n",
       "      <td>NaN</td>\n",
       "      <td>NaN</td>\n",
       "      <td>NaN</td>\n",
       "      <td>NaN</td>\n",
       "      <td>NaN</td>\n",
       "    </tr>\n",
       "    <tr>\n",
       "      <th>GB</th>\n",
       "      <td>NaN</td>\n",
       "      <td>40.0</td>\n",
       "      <td>NaN</td>\n",
       "      <td>NaN</td>\n",
       "      <td>29.0</td>\n",
       "      <td>NaN</td>\n",
       "      <td>7.0</td>\n",
       "      <td>NaN</td>\n",
       "      <td>NaN</td>\n",
       "      <td>5.0</td>\n",
       "      <td>...</td>\n",
       "      <td>5.0</td>\n",
       "      <td>4.0</td>\n",
       "      <td>NaN</td>\n",
       "      <td>NaN</td>\n",
       "      <td>3.0</td>\n",
       "      <td>NaN</td>\n",
       "      <td>NaN</td>\n",
       "      <td>NaN</td>\n",
       "      <td>NaN</td>\n",
       "      <td>NaN</td>\n",
       "    </tr>\n",
       "    <tr>\n",
       "      <th>MFIs</th>\n",
       "      <td>NaN</td>\n",
       "      <td>1.0</td>\n",
       "      <td>94.0</td>\n",
       "      <td>NaN</td>\n",
       "      <td>NaN</td>\n",
       "      <td>420.0</td>\n",
       "      <td>NaN</td>\n",
       "      <td>NaN</td>\n",
       "      <td>NaN</td>\n",
       "      <td>3.0</td>\n",
       "      <td>...</td>\n",
       "      <td>3.0</td>\n",
       "      <td>NaN</td>\n",
       "      <td>13.0</td>\n",
       "      <td>NaN</td>\n",
       "      <td>NaN</td>\n",
       "      <td>25.0</td>\n",
       "      <td>NaN</td>\n",
       "      <td>NaN</td>\n",
       "      <td>NaN</td>\n",
       "      <td>NaN</td>\n",
       "    </tr>\n",
       "    <tr>\n",
       "      <th>MNC</th>\n",
       "      <td>NaN</td>\n",
       "      <td>35.0</td>\n",
       "      <td>NaN</td>\n",
       "      <td>NaN</td>\n",
       "      <td>NaN</td>\n",
       "      <td>4.0</td>\n",
       "      <td>12.0</td>\n",
       "      <td>20.0</td>\n",
       "      <td>NaN</td>\n",
       "      <td>10.0</td>\n",
       "      <td>...</td>\n",
       "      <td>10.0</td>\n",
       "      <td>4.0</td>\n",
       "      <td>NaN</td>\n",
       "      <td>NaN</td>\n",
       "      <td>NaN</td>\n",
       "      <td>NaN</td>\n",
       "      <td>NaN</td>\n",
       "      <td>4.0</td>\n",
       "      <td>NaN</td>\n",
       "      <td>6.0</td>\n",
       "    </tr>\n",
       "    <tr>\n",
       "      <th>MSME</th>\n",
       "      <td>NaN</td>\n",
       "      <td>26.0</td>\n",
       "      <td>NaN</td>\n",
       "      <td>NaN</td>\n",
       "      <td>NaN</td>\n",
       "      <td>NaN</td>\n",
       "      <td>NaN</td>\n",
       "      <td>NaN</td>\n",
       "      <td>NaN</td>\n",
       "      <td>NaN</td>\n",
       "      <td>...</td>\n",
       "      <td>NaN</td>\n",
       "      <td>NaN</td>\n",
       "      <td>NaN</td>\n",
       "      <td>NaN</td>\n",
       "      <td>NaN</td>\n",
       "      <td>NaN</td>\n",
       "      <td>NaN</td>\n",
       "      <td>NaN</td>\n",
       "      <td>NaN</td>\n",
       "      <td>NaN</td>\n",
       "    </tr>\n",
       "    <tr>\n",
       "      <th>NEB</th>\n",
       "      <td>NaN</td>\n",
       "      <td>NaN</td>\n",
       "      <td>NaN</td>\n",
       "      <td>NaN</td>\n",
       "      <td>NaN</td>\n",
       "      <td>NaN</td>\n",
       "      <td>20.0</td>\n",
       "      <td>NaN</td>\n",
       "      <td>NaN</td>\n",
       "      <td>NaN</td>\n",
       "      <td>...</td>\n",
       "      <td>NaN</td>\n",
       "      <td>NaN</td>\n",
       "      <td>NaN</td>\n",
       "      <td>NaN</td>\n",
       "      <td>NaN</td>\n",
       "      <td>NaN</td>\n",
       "      <td>6.0</td>\n",
       "      <td>NaN</td>\n",
       "      <td>NaN</td>\n",
       "      <td>NaN</td>\n",
       "    </tr>\n",
       "    <tr>\n",
       "      <th>RETAIL BRANCH BANKING</th>\n",
       "      <td>NaN</td>\n",
       "      <td>1.0</td>\n",
       "      <td>NaN</td>\n",
       "      <td>NaN</td>\n",
       "      <td>NaN</td>\n",
       "      <td>NaN</td>\n",
       "      <td>NaN</td>\n",
       "      <td>NaN</td>\n",
       "      <td>NaN</td>\n",
       "      <td>NaN</td>\n",
       "      <td>...</td>\n",
       "      <td>NaN</td>\n",
       "      <td>NaN</td>\n",
       "      <td>NaN</td>\n",
       "      <td>NaN</td>\n",
       "      <td>NaN</td>\n",
       "      <td>NaN</td>\n",
       "      <td>NaN</td>\n",
       "      <td>NaN</td>\n",
       "      <td>NaN</td>\n",
       "      <td>NaN</td>\n",
       "    </tr>\n",
       "    <tr>\n",
       "      <th>SUPPLY CHAIN FINANCE</th>\n",
       "      <td>NaN</td>\n",
       "      <td>12.0</td>\n",
       "      <td>NaN</td>\n",
       "      <td>NaN</td>\n",
       "      <td>NaN</td>\n",
       "      <td>NaN</td>\n",
       "      <td>10.0</td>\n",
       "      <td>NaN</td>\n",
       "      <td>19.0</td>\n",
       "      <td>NaN</td>\n",
       "      <td>...</td>\n",
       "      <td>NaN</td>\n",
       "      <td>13.0</td>\n",
       "      <td>NaN</td>\n",
       "      <td>NaN</td>\n",
       "      <td>NaN</td>\n",
       "      <td>NaN</td>\n",
       "      <td>NaN</td>\n",
       "      <td>NaN</td>\n",
       "      <td>8.0</td>\n",
       "      <td>NaN</td>\n",
       "    </tr>\n",
       "  </tbody>\n",
       "</table>\n",
       "<p>13 rows × 1387 columns</p>\n",
       "</div>"
      ],
      "text/plain": [
       "                                     AMLGrade                                \\\n",
       "WorkflowName                       APPWF_AGRI APPWF_CIB APPWF_FIG APPWF_G&J   \n",
       "DepartmentName                                                                \n",
       "AGRI RETAIL                               4.0       4.0       NaN       NaN   \n",
       "AGRI WHOLESALE                          217.0       NaN       NaN       NaN   \n",
       "C&IB                                      8.0    5175.0      98.0      90.0   \n",
       "COMMERCIAL BANKING - MID CORPORATE       32.0      10.0       2.0      49.0   \n",
       "COMMERCIAL BANKING - SME                 35.0       NaN      29.0      24.0   \n",
       "FINANCIAL INSTITUTIONS GROUP              NaN      24.0     274.0       NaN   \n",
       "GB                                        NaN      40.0       NaN       NaN   \n",
       "MFIs                                      NaN       1.0      94.0       NaN   \n",
       "MNC                                       NaN      35.0       NaN       NaN   \n",
       "MSME                                      NaN      26.0       NaN       NaN   \n",
       "NEB                                       NaN       NaN       NaN       NaN   \n",
       "RETAIL BRANCH BANKING                     NaN       1.0       NaN       NaN   \n",
       "SUPPLY CHAIN FINANCE                      NaN      12.0       NaN       NaN   \n",
       "\n",
       "                                                                           \\\n",
       "WorkflowName                       APPWF_GB APPWF_IFI APPWF_MME APPWF_MNC   \n",
       "DepartmentName                                                              \n",
       "AGRI RETAIL                             NaN       NaN       NaN       NaN   \n",
       "AGRI WHOLESALE                          NaN       NaN       NaN       NaN   \n",
       "C&IB                                    NaN      42.0      20.0       NaN   \n",
       "COMMERCIAL BANKING - MID CORPORATE      NaN       NaN    3694.0       NaN   \n",
       "COMMERCIAL BANKING - SME                NaN       NaN      28.0       NaN   \n",
       "FINANCIAL INSTITUTIONS GROUP            NaN      79.0       NaN       NaN   \n",
       "GB                                     29.0       NaN       7.0       NaN   \n",
       "MFIs                                    NaN     420.0       NaN       NaN   \n",
       "MNC                                     NaN       4.0      12.0      20.0   \n",
       "MSME                                    NaN       NaN       NaN       NaN   \n",
       "NEB                                     NaN       NaN      20.0       NaN   \n",
       "RETAIL BRANCH BANKING                   NaN       NaN       NaN       NaN   \n",
       "SUPPLY CHAIN FINANCE                    NaN       NaN      10.0       NaN   \n",
       "\n",
       "                                                        ... UWSDeviation  \\\n",
       "WorkflowName                       APPWF_SCF APPWF_SME  ...    APPWF_SME   \n",
       "DepartmentName                                          ...                \n",
       "AGRI RETAIL                              NaN       NaN  ...          NaN   \n",
       "AGRI WHOLESALE                           NaN       NaN  ...          NaN   \n",
       "C&IB                                     NaN       2.0  ...          2.0   \n",
       "COMMERCIAL BANKING - MID CORPORATE       NaN      72.0  ...         72.0   \n",
       "COMMERCIAL BANKING - SME                 NaN    2681.0  ...       2681.0   \n",
       "FINANCIAL INSTITUTIONS GROUP             NaN       NaN  ...          NaN   \n",
       "GB                                       NaN       5.0  ...          5.0   \n",
       "MFIs                                     NaN       3.0  ...          3.0   \n",
       "MNC                                      NaN      10.0  ...         10.0   \n",
       "MSME                                     NaN       NaN  ...          NaN   \n",
       "NEB                                      NaN       NaN  ...          NaN   \n",
       "RETAIL BRANCH BANKING                    NaN       NaN  ...          NaN   \n",
       "SUPPLY CHAIN FINANCE                    19.0       NaN  ...          NaN   \n",
       "\n",
       "                                                                               \\\n",
       "WorkflowName                       SFCAWF_CIB SFCAWF_FIG SFCAWF_G&J SFCAWF_GB   \n",
       "DepartmentName                                                                  \n",
       "AGRI RETAIL                               NaN        NaN        NaN       NaN   \n",
       "AGRI WHOLESALE                            NaN        NaN        NaN       NaN   \n",
       "C&IB                                    949.0       33.0       16.0       NaN   \n",
       "COMMERCIAL BANKING - MID CORPORATE        NaN        NaN        NaN       NaN   \n",
       "COMMERCIAL BANKING - SME                  NaN        NaN        NaN       NaN   \n",
       "FINANCIAL INSTITUTIONS GROUP              NaN        5.0        NaN       NaN   \n",
       "GB                                        4.0        NaN        NaN       3.0   \n",
       "MFIs                                      NaN       13.0        NaN       NaN   \n",
       "MNC                                       4.0        NaN        NaN       NaN   \n",
       "MSME                                      NaN        NaN        NaN       NaN   \n",
       "NEB                                       NaN        NaN        NaN       NaN   \n",
       "RETAIL BRANCH BANKING                     NaN        NaN        NaN       NaN   \n",
       "SUPPLY CHAIN FINANCE                     13.0        NaN        NaN       NaN   \n",
       "\n",
       "                                                                     \\\n",
       "WorkflowName                       SFCAWF_IFI SFCAWF_MME SFCAWF_MNC   \n",
       "DepartmentName                                                        \n",
       "AGRI RETAIL                               NaN        NaN        NaN   \n",
       "AGRI WHOLESALE                            NaN        NaN        NaN   \n",
       "C&IB                                      NaN        NaN        NaN   \n",
       "COMMERCIAL BANKING - MID CORPORATE        NaN      561.0        NaN   \n",
       "COMMERCIAL BANKING - SME                  NaN        NaN        NaN   \n",
       "FINANCIAL INSTITUTIONS GROUP              NaN        NaN        NaN   \n",
       "GB                                        NaN        NaN        NaN   \n",
       "MFIs                                     25.0        NaN        NaN   \n",
       "MNC                                       NaN        NaN        4.0   \n",
       "MSME                                      NaN        NaN        NaN   \n",
       "NEB                                       NaN        6.0        NaN   \n",
       "RETAIL BRANCH BANKING                     NaN        NaN        NaN   \n",
       "SUPPLY CHAIN FINANCE                      NaN        NaN        NaN   \n",
       "\n",
       "                                                          \n",
       "WorkflowName                       SFCAWF_SCF SFCAWF_SME  \n",
       "DepartmentName                                            \n",
       "AGRI RETAIL                               NaN        NaN  \n",
       "AGRI WHOLESALE                            NaN        NaN  \n",
       "C&IB                                      NaN        NaN  \n",
       "COMMERCIAL BANKING - MID CORPORATE        NaN        NaN  \n",
       "COMMERCIAL BANKING - SME                  NaN      466.0  \n",
       "FINANCIAL INSTITUTIONS GROUP              NaN        NaN  \n",
       "GB                                        NaN        NaN  \n",
       "MFIs                                      NaN        NaN  \n",
       "MNC                                       NaN        6.0  \n",
       "MSME                                      NaN        NaN  \n",
       "NEB                                       NaN        NaN  \n",
       "RETAIL BRANCH BANKING                     NaN        NaN  \n",
       "SUPPLY CHAIN FINANCE                      8.0        NaN  \n",
       "\n",
       "[13 rows x 1387 columns]"
      ]
     },
     "execution_count": 129,
     "metadata": {},
     "output_type": "execute_result"
    }
   ],
   "source": [
    "pd.pivot_table(df,  index=['DepartmentName'],\n",
    "                     columns=['WorkflowName'],aggfunc=np.size)"
   ]
  },
  {
   "cell_type": "code",
   "execution_count": 130,
   "id": "9aaf2e4a",
   "metadata": {},
   "outputs": [
    {
     "data": {
      "text/html": [
       "<div>\n",
       "<style scoped>\n",
       "    .dataframe tbody tr th:only-of-type {\n",
       "        vertical-align: middle;\n",
       "    }\n",
       "\n",
       "    .dataframe tbody tr th {\n",
       "        vertical-align: top;\n",
       "    }\n",
       "\n",
       "    .dataframe thead th {\n",
       "        text-align: right;\n",
       "    }\n",
       "</style>\n",
       "<table border=\"1\" class=\"dataframe\">\n",
       "  <thead>\n",
       "    <tr style=\"text-align: right;\">\n",
       "      <th>WorkflowName</th>\n",
       "      <th>APPWF_AGRI</th>\n",
       "      <th>APPWF_CIB</th>\n",
       "      <th>APPWF_FIG</th>\n",
       "      <th>APPWF_G&amp;J</th>\n",
       "      <th>APPWF_GB</th>\n",
       "      <th>APPWF_IFI</th>\n",
       "      <th>APPWF_MME</th>\n",
       "      <th>APPWF_MNC</th>\n",
       "      <th>APPWF_SCF</th>\n",
       "      <th>APPWF_SME</th>\n",
       "      <th>SFCAWF_CIB</th>\n",
       "      <th>SFCAWF_FIG</th>\n",
       "      <th>SFCAWF_G&amp;J</th>\n",
       "      <th>SFCAWF_GB</th>\n",
       "      <th>SFCAWF_IFI</th>\n",
       "      <th>SFCAWF_MME</th>\n",
       "      <th>SFCAWF_MNC</th>\n",
       "      <th>SFCAWF_SCF</th>\n",
       "      <th>SFCAWF_SME</th>\n",
       "      <th>Total</th>\n",
       "    </tr>\n",
       "    <tr>\n",
       "      <th>DepartmentName</th>\n",
       "      <th></th>\n",
       "      <th></th>\n",
       "      <th></th>\n",
       "      <th></th>\n",
       "      <th></th>\n",
       "      <th></th>\n",
       "      <th></th>\n",
       "      <th></th>\n",
       "      <th></th>\n",
       "      <th></th>\n",
       "      <th></th>\n",
       "      <th></th>\n",
       "      <th></th>\n",
       "      <th></th>\n",
       "      <th></th>\n",
       "      <th></th>\n",
       "      <th></th>\n",
       "      <th></th>\n",
       "      <th></th>\n",
       "      <th></th>\n",
       "    </tr>\n",
       "  </thead>\n",
       "  <tbody>\n",
       "    <tr>\n",
       "      <th>AGRI RETAIL</th>\n",
       "      <td>4</td>\n",
       "      <td>4</td>\n",
       "      <td>0</td>\n",
       "      <td>0</td>\n",
       "      <td>0</td>\n",
       "      <td>0</td>\n",
       "      <td>0</td>\n",
       "      <td>0</td>\n",
       "      <td>0</td>\n",
       "      <td>0</td>\n",
       "      <td>0</td>\n",
       "      <td>0</td>\n",
       "      <td>0</td>\n",
       "      <td>0</td>\n",
       "      <td>0</td>\n",
       "      <td>0</td>\n",
       "      <td>0</td>\n",
       "      <td>0</td>\n",
       "      <td>0</td>\n",
       "      <td>8</td>\n",
       "    </tr>\n",
       "    <tr>\n",
       "      <th>AGRI WHOLESALE</th>\n",
       "      <td>217</td>\n",
       "      <td>0</td>\n",
       "      <td>0</td>\n",
       "      <td>0</td>\n",
       "      <td>0</td>\n",
       "      <td>0</td>\n",
       "      <td>0</td>\n",
       "      <td>0</td>\n",
       "      <td>0</td>\n",
       "      <td>0</td>\n",
       "      <td>0</td>\n",
       "      <td>0</td>\n",
       "      <td>0</td>\n",
       "      <td>0</td>\n",
       "      <td>0</td>\n",
       "      <td>0</td>\n",
       "      <td>0</td>\n",
       "      <td>0</td>\n",
       "      <td>0</td>\n",
       "      <td>217</td>\n",
       "    </tr>\n",
       "    <tr>\n",
       "      <th>C&amp;IB</th>\n",
       "      <td>8</td>\n",
       "      <td>5175</td>\n",
       "      <td>98</td>\n",
       "      <td>90</td>\n",
       "      <td>0</td>\n",
       "      <td>42</td>\n",
       "      <td>20</td>\n",
       "      <td>0</td>\n",
       "      <td>0</td>\n",
       "      <td>2</td>\n",
       "      <td>949</td>\n",
       "      <td>33</td>\n",
       "      <td>16</td>\n",
       "      <td>0</td>\n",
       "      <td>0</td>\n",
       "      <td>0</td>\n",
       "      <td>0</td>\n",
       "      <td>0</td>\n",
       "      <td>0</td>\n",
       "      <td>6433</td>\n",
       "    </tr>\n",
       "    <tr>\n",
       "      <th>COMMERCIAL BANKING - MID CORPORATE</th>\n",
       "      <td>32</td>\n",
       "      <td>10</td>\n",
       "      <td>2</td>\n",
       "      <td>49</td>\n",
       "      <td>0</td>\n",
       "      <td>0</td>\n",
       "      <td>3694</td>\n",
       "      <td>0</td>\n",
       "      <td>0</td>\n",
       "      <td>72</td>\n",
       "      <td>0</td>\n",
       "      <td>0</td>\n",
       "      <td>0</td>\n",
       "      <td>0</td>\n",
       "      <td>0</td>\n",
       "      <td>561</td>\n",
       "      <td>0</td>\n",
       "      <td>0</td>\n",
       "      <td>0</td>\n",
       "      <td>4420</td>\n",
       "    </tr>\n",
       "    <tr>\n",
       "      <th>COMMERCIAL BANKING - SME</th>\n",
       "      <td>35</td>\n",
       "      <td>0</td>\n",
       "      <td>29</td>\n",
       "      <td>24</td>\n",
       "      <td>0</td>\n",
       "      <td>0</td>\n",
       "      <td>28</td>\n",
       "      <td>0</td>\n",
       "      <td>0</td>\n",
       "      <td>2681</td>\n",
       "      <td>0</td>\n",
       "      <td>0</td>\n",
       "      <td>0</td>\n",
       "      <td>0</td>\n",
       "      <td>0</td>\n",
       "      <td>0</td>\n",
       "      <td>0</td>\n",
       "      <td>0</td>\n",
       "      <td>466</td>\n",
       "      <td>3263</td>\n",
       "    </tr>\n",
       "    <tr>\n",
       "      <th>FINANCIAL INSTITUTIONS GROUP</th>\n",
       "      <td>0</td>\n",
       "      <td>24</td>\n",
       "      <td>274</td>\n",
       "      <td>0</td>\n",
       "      <td>0</td>\n",
       "      <td>79</td>\n",
       "      <td>0</td>\n",
       "      <td>0</td>\n",
       "      <td>0</td>\n",
       "      <td>0</td>\n",
       "      <td>0</td>\n",
       "      <td>5</td>\n",
       "      <td>0</td>\n",
       "      <td>0</td>\n",
       "      <td>0</td>\n",
       "      <td>0</td>\n",
       "      <td>0</td>\n",
       "      <td>0</td>\n",
       "      <td>0</td>\n",
       "      <td>382</td>\n",
       "    </tr>\n",
       "    <tr>\n",
       "      <th>GB</th>\n",
       "      <td>0</td>\n",
       "      <td>40</td>\n",
       "      <td>0</td>\n",
       "      <td>0</td>\n",
       "      <td>29</td>\n",
       "      <td>0</td>\n",
       "      <td>7</td>\n",
       "      <td>0</td>\n",
       "      <td>0</td>\n",
       "      <td>5</td>\n",
       "      <td>4</td>\n",
       "      <td>0</td>\n",
       "      <td>0</td>\n",
       "      <td>3</td>\n",
       "      <td>0</td>\n",
       "      <td>0</td>\n",
       "      <td>0</td>\n",
       "      <td>0</td>\n",
       "      <td>0</td>\n",
       "      <td>88</td>\n",
       "    </tr>\n",
       "    <tr>\n",
       "      <th>MFIs</th>\n",
       "      <td>0</td>\n",
       "      <td>1</td>\n",
       "      <td>94</td>\n",
       "      <td>0</td>\n",
       "      <td>0</td>\n",
       "      <td>420</td>\n",
       "      <td>0</td>\n",
       "      <td>0</td>\n",
       "      <td>0</td>\n",
       "      <td>3</td>\n",
       "      <td>0</td>\n",
       "      <td>13</td>\n",
       "      <td>0</td>\n",
       "      <td>0</td>\n",
       "      <td>25</td>\n",
       "      <td>0</td>\n",
       "      <td>0</td>\n",
       "      <td>0</td>\n",
       "      <td>0</td>\n",
       "      <td>556</td>\n",
       "    </tr>\n",
       "    <tr>\n",
       "      <th>MNC</th>\n",
       "      <td>0</td>\n",
       "      <td>35</td>\n",
       "      <td>0</td>\n",
       "      <td>0</td>\n",
       "      <td>0</td>\n",
       "      <td>4</td>\n",
       "      <td>12</td>\n",
       "      <td>20</td>\n",
       "      <td>0</td>\n",
       "      <td>10</td>\n",
       "      <td>4</td>\n",
       "      <td>0</td>\n",
       "      <td>0</td>\n",
       "      <td>0</td>\n",
       "      <td>0</td>\n",
       "      <td>0</td>\n",
       "      <td>4</td>\n",
       "      <td>0</td>\n",
       "      <td>6</td>\n",
       "      <td>95</td>\n",
       "    </tr>\n",
       "    <tr>\n",
       "      <th>MSME</th>\n",
       "      <td>0</td>\n",
       "      <td>26</td>\n",
       "      <td>0</td>\n",
       "      <td>0</td>\n",
       "      <td>0</td>\n",
       "      <td>0</td>\n",
       "      <td>0</td>\n",
       "      <td>0</td>\n",
       "      <td>0</td>\n",
       "      <td>0</td>\n",
       "      <td>0</td>\n",
       "      <td>0</td>\n",
       "      <td>0</td>\n",
       "      <td>0</td>\n",
       "      <td>0</td>\n",
       "      <td>0</td>\n",
       "      <td>0</td>\n",
       "      <td>0</td>\n",
       "      <td>0</td>\n",
       "      <td>26</td>\n",
       "    </tr>\n",
       "    <tr>\n",
       "      <th>NEB</th>\n",
       "      <td>0</td>\n",
       "      <td>0</td>\n",
       "      <td>0</td>\n",
       "      <td>0</td>\n",
       "      <td>0</td>\n",
       "      <td>0</td>\n",
       "      <td>20</td>\n",
       "      <td>0</td>\n",
       "      <td>0</td>\n",
       "      <td>0</td>\n",
       "      <td>0</td>\n",
       "      <td>0</td>\n",
       "      <td>0</td>\n",
       "      <td>0</td>\n",
       "      <td>0</td>\n",
       "      <td>6</td>\n",
       "      <td>0</td>\n",
       "      <td>0</td>\n",
       "      <td>0</td>\n",
       "      <td>26</td>\n",
       "    </tr>\n",
       "    <tr>\n",
       "      <th>RETAIL BRANCH BANKING</th>\n",
       "      <td>0</td>\n",
       "      <td>1</td>\n",
       "      <td>0</td>\n",
       "      <td>0</td>\n",
       "      <td>0</td>\n",
       "      <td>0</td>\n",
       "      <td>0</td>\n",
       "      <td>0</td>\n",
       "      <td>0</td>\n",
       "      <td>0</td>\n",
       "      <td>0</td>\n",
       "      <td>0</td>\n",
       "      <td>0</td>\n",
       "      <td>0</td>\n",
       "      <td>0</td>\n",
       "      <td>0</td>\n",
       "      <td>0</td>\n",
       "      <td>0</td>\n",
       "      <td>0</td>\n",
       "      <td>1</td>\n",
       "    </tr>\n",
       "    <tr>\n",
       "      <th>SUPPLY CHAIN FINANCE</th>\n",
       "      <td>0</td>\n",
       "      <td>12</td>\n",
       "      <td>0</td>\n",
       "      <td>0</td>\n",
       "      <td>0</td>\n",
       "      <td>0</td>\n",
       "      <td>10</td>\n",
       "      <td>0</td>\n",
       "      <td>19</td>\n",
       "      <td>0</td>\n",
       "      <td>13</td>\n",
       "      <td>0</td>\n",
       "      <td>0</td>\n",
       "      <td>0</td>\n",
       "      <td>0</td>\n",
       "      <td>0</td>\n",
       "      <td>0</td>\n",
       "      <td>8</td>\n",
       "      <td>0</td>\n",
       "      <td>62</td>\n",
       "    </tr>\n",
       "    <tr>\n",
       "      <th>Total</th>\n",
       "      <td>296</td>\n",
       "      <td>5328</td>\n",
       "      <td>497</td>\n",
       "      <td>163</td>\n",
       "      <td>29</td>\n",
       "      <td>545</td>\n",
       "      <td>3791</td>\n",
       "      <td>20</td>\n",
       "      <td>19</td>\n",
       "      <td>2773</td>\n",
       "      <td>970</td>\n",
       "      <td>51</td>\n",
       "      <td>16</td>\n",
       "      <td>3</td>\n",
       "      <td>25</td>\n",
       "      <td>567</td>\n",
       "      <td>4</td>\n",
       "      <td>8</td>\n",
       "      <td>472</td>\n",
       "      <td>15577</td>\n",
       "    </tr>\n",
       "  </tbody>\n",
       "</table>\n",
       "</div>"
      ],
      "text/plain": [
       "WorkflowName                        APPWF_AGRI  APPWF_CIB  APPWF_FIG  \\\n",
       "DepartmentName                                                         \n",
       "AGRI RETAIL                                  4          4          0   \n",
       "AGRI WHOLESALE                             217          0          0   \n",
       "C&IB                                         8       5175         98   \n",
       "COMMERCIAL BANKING - MID CORPORATE          32         10          2   \n",
       "COMMERCIAL BANKING - SME                    35          0         29   \n",
       "FINANCIAL INSTITUTIONS GROUP                 0         24        274   \n",
       "GB                                           0         40          0   \n",
       "MFIs                                         0          1         94   \n",
       "MNC                                          0         35          0   \n",
       "MSME                                         0         26          0   \n",
       "NEB                                          0          0          0   \n",
       "RETAIL BRANCH BANKING                        0          1          0   \n",
       "SUPPLY CHAIN FINANCE                         0         12          0   \n",
       "Total                                      296       5328        497   \n",
       "\n",
       "WorkflowName                        APPWF_G&J  APPWF_GB  APPWF_IFI  APPWF_MME  \\\n",
       "DepartmentName                                                                  \n",
       "AGRI RETAIL                                 0         0          0          0   \n",
       "AGRI WHOLESALE                              0         0          0          0   \n",
       "C&IB                                       90         0         42         20   \n",
       "COMMERCIAL BANKING - MID CORPORATE         49         0          0       3694   \n",
       "COMMERCIAL BANKING - SME                   24         0          0         28   \n",
       "FINANCIAL INSTITUTIONS GROUP                0         0         79          0   \n",
       "GB                                          0        29          0          7   \n",
       "MFIs                                        0         0        420          0   \n",
       "MNC                                         0         0          4         12   \n",
       "MSME                                        0         0          0          0   \n",
       "NEB                                         0         0          0         20   \n",
       "RETAIL BRANCH BANKING                       0         0          0          0   \n",
       "SUPPLY CHAIN FINANCE                        0         0          0         10   \n",
       "Total                                     163        29        545       3791   \n",
       "\n",
       "WorkflowName                        APPWF_MNC  APPWF_SCF  APPWF_SME  \\\n",
       "DepartmentName                                                        \n",
       "AGRI RETAIL                                 0          0          0   \n",
       "AGRI WHOLESALE                              0          0          0   \n",
       "C&IB                                        0          0          2   \n",
       "COMMERCIAL BANKING - MID CORPORATE          0          0         72   \n",
       "COMMERCIAL BANKING - SME                    0          0       2681   \n",
       "FINANCIAL INSTITUTIONS GROUP                0          0          0   \n",
       "GB                                          0          0          5   \n",
       "MFIs                                        0          0          3   \n",
       "MNC                                        20          0         10   \n",
       "MSME                                        0          0          0   \n",
       "NEB                                         0          0          0   \n",
       "RETAIL BRANCH BANKING                       0          0          0   \n",
       "SUPPLY CHAIN FINANCE                        0         19          0   \n",
       "Total                                      20         19       2773   \n",
       "\n",
       "WorkflowName                        SFCAWF_CIB  SFCAWF_FIG  SFCAWF_G&J  \\\n",
       "DepartmentName                                                           \n",
       "AGRI RETAIL                                  0           0           0   \n",
       "AGRI WHOLESALE                               0           0           0   \n",
       "C&IB                                       949          33          16   \n",
       "COMMERCIAL BANKING - MID CORPORATE           0           0           0   \n",
       "COMMERCIAL BANKING - SME                     0           0           0   \n",
       "FINANCIAL INSTITUTIONS GROUP                 0           5           0   \n",
       "GB                                           4           0           0   \n",
       "MFIs                                         0          13           0   \n",
       "MNC                                          4           0           0   \n",
       "MSME                                         0           0           0   \n",
       "NEB                                          0           0           0   \n",
       "RETAIL BRANCH BANKING                        0           0           0   \n",
       "SUPPLY CHAIN FINANCE                        13           0           0   \n",
       "Total                                      970          51          16   \n",
       "\n",
       "WorkflowName                        SFCAWF_GB  SFCAWF_IFI  SFCAWF_MME  \\\n",
       "DepartmentName                                                          \n",
       "AGRI RETAIL                                 0           0           0   \n",
       "AGRI WHOLESALE                              0           0           0   \n",
       "C&IB                                        0           0           0   \n",
       "COMMERCIAL BANKING - MID CORPORATE          0           0         561   \n",
       "COMMERCIAL BANKING - SME                    0           0           0   \n",
       "FINANCIAL INSTITUTIONS GROUP                0           0           0   \n",
       "GB                                          3           0           0   \n",
       "MFIs                                        0          25           0   \n",
       "MNC                                         0           0           0   \n",
       "MSME                                        0           0           0   \n",
       "NEB                                         0           0           6   \n",
       "RETAIL BRANCH BANKING                       0           0           0   \n",
       "SUPPLY CHAIN FINANCE                        0           0           0   \n",
       "Total                                       3          25         567   \n",
       "\n",
       "WorkflowName                        SFCAWF_MNC  SFCAWF_SCF  SFCAWF_SME  Total  \n",
       "DepartmentName                                                                 \n",
       "AGRI RETAIL                                  0           0           0      8  \n",
       "AGRI WHOLESALE                               0           0           0    217  \n",
       "C&IB                                         0           0           0   6433  \n",
       "COMMERCIAL BANKING - MID CORPORATE           0           0           0   4420  \n",
       "COMMERCIAL BANKING - SME                     0           0         466   3263  \n",
       "FINANCIAL INSTITUTIONS GROUP                 0           0           0    382  \n",
       "GB                                           0           0           0     88  \n",
       "MFIs                                         0           0           0    556  \n",
       "MNC                                          4           0           6     95  \n",
       "MSME                                         0           0           0     26  \n",
       "NEB                                          0           0           0     26  \n",
       "RETAIL BRANCH BANKING                        0           0           0      1  \n",
       "SUPPLY CHAIN FINANCE                         0           8           0     62  \n",
       "Total                                        4           8         472  15577  "
      ]
     },
     "execution_count": 130,
     "metadata": {},
     "output_type": "execute_result"
    }
   ],
   "source": [
    "pd.crosstab(df.DepartmentName, df.WorkflowName, margins=True, margins_name=\"Total\")\n"
   ]
  },
  {
   "cell_type": "code",
   "execution_count": 131,
   "id": "84928609",
   "metadata": {},
   "outputs": [
    {
     "data": {
      "text/html": [
       "<div>\n",
       "<style scoped>\n",
       "    .dataframe tbody tr th:only-of-type {\n",
       "        vertical-align: middle;\n",
       "    }\n",
       "\n",
       "    .dataframe tbody tr th {\n",
       "        vertical-align: top;\n",
       "    }\n",
       "\n",
       "    .dataframe thead th {\n",
       "        text-align: right;\n",
       "    }\n",
       "</style>\n",
       "<table border=\"1\" class=\"dataframe\">\n",
       "  <thead>\n",
       "    <tr style=\"text-align: right;\">\n",
       "      <th></th>\n",
       "      <th>CounterPartyName</th>\n",
       "      <th>IMAC_ID</th>\n",
       "      <th>CIF_ID</th>\n",
       "      <th>DepartmentName</th>\n",
       "      <th>CustomerRM</th>\n",
       "      <th>App_ID</th>\n",
       "      <th>WorkflowName</th>\n",
       "      <th>PurposeOfCAM</th>\n",
       "      <th>DateOfApproval</th>\n",
       "      <th>GroupName</th>\n",
       "      <th>...</th>\n",
       "      <th>GrandTotalOutStanding</th>\n",
       "      <th>FacilityRating</th>\n",
       "      <th>MoratoriumDays</th>\n",
       "      <th>ATNW</th>\n",
       "      <th>TNW</th>\n",
       "      <th>EBITDAPer</th>\n",
       "      <th>AMLGrade1</th>\n",
       "      <th>ProposedBankingArrangement1</th>\n",
       "      <th>InternalRating1</th>\n",
       "      <th>InternalRating2</th>\n",
       "    </tr>\n",
       "  </thead>\n",
       "  <tbody>\n",
       "    <tr>\n",
       "      <th>0</th>\n",
       "      <td>100048-xxxxx</td>\n",
       "      <td>100048</td>\n",
       "      <td>20132126</td>\n",
       "      <td>C&amp;IB</td>\n",
       "      <td>05483_F  05483_L</td>\n",
       "      <td>APP-3474</td>\n",
       "      <td>APPWF_CIB</td>\n",
       "      <td>NTB Custom</td>\n",
       "      <td>2018-02-22 11:16:24.940</td>\n",
       "      <td>10841-xxxxx</td>\n",
       "      <td>...</td>\n",
       "      <td>0</td>\n",
       "      <td>ABC-6</td>\n",
       "      <td>NaN</td>\n",
       "      <td>0.0</td>\n",
       "      <td>0.0</td>\n",
       "      <td>0.0</td>\n",
       "      <td>Low</td>\n",
       "      <td>Sole</td>\n",
       "      <td>UnRated</td>\n",
       "      <td>UnRated</td>\n",
       "    </tr>\n",
       "    <tr>\n",
       "      <th>1</th>\n",
       "      <td>100048-xxxxx</td>\n",
       "      <td>100048</td>\n",
       "      <td>20132126</td>\n",
       "      <td>C&amp;IB</td>\n",
       "      <td>05483_F  05483_L</td>\n",
       "      <td>APP-3474</td>\n",
       "      <td>APPWF_CIB</td>\n",
       "      <td>NTB Custom</td>\n",
       "      <td>2018-02-22 11:16:24.940</td>\n",
       "      <td>10841-xxxxx</td>\n",
       "      <td>...</td>\n",
       "      <td>0</td>\n",
       "      <td>ABC-6</td>\n",
       "      <td>NaN</td>\n",
       "      <td>0.0</td>\n",
       "      <td>0.0</td>\n",
       "      <td>0.0</td>\n",
       "      <td>Low</td>\n",
       "      <td>Sole</td>\n",
       "      <td>UnRated</td>\n",
       "      <td>UnRated</td>\n",
       "    </tr>\n",
       "    <tr>\n",
       "      <th>2</th>\n",
       "      <td>100048-xxxxx</td>\n",
       "      <td>100048</td>\n",
       "      <td>20132126</td>\n",
       "      <td>C&amp;IB</td>\n",
       "      <td>05483_F  05483_L</td>\n",
       "      <td>APP-3474</td>\n",
       "      <td>APPWF_CIB</td>\n",
       "      <td>NTB Custom</td>\n",
       "      <td>2018-02-22 11:16:24.940</td>\n",
       "      <td>10841-xxxxx</td>\n",
       "      <td>...</td>\n",
       "      <td>0</td>\n",
       "      <td>NaN</td>\n",
       "      <td>NaN</td>\n",
       "      <td>0.0</td>\n",
       "      <td>0.0</td>\n",
       "      <td>0.0</td>\n",
       "      <td>Low</td>\n",
       "      <td>Sole</td>\n",
       "      <td>UnRated</td>\n",
       "      <td>UnRated</td>\n",
       "    </tr>\n",
       "    <tr>\n",
       "      <th>3</th>\n",
       "      <td>100048-xxxxx</td>\n",
       "      <td>100048</td>\n",
       "      <td>20132126</td>\n",
       "      <td>C&amp;IB</td>\n",
       "      <td>05483_F  05483_L</td>\n",
       "      <td>APP-3767</td>\n",
       "      <td>APPWF_CIB</td>\n",
       "      <td>NTB Custom</td>\n",
       "      <td>2018-04-24 10:51:53.020</td>\n",
       "      <td>10841-xxxxx</td>\n",
       "      <td>...</td>\n",
       "      <td>0</td>\n",
       "      <td>ABC-7A</td>\n",
       "      <td>NaN</td>\n",
       "      <td>0.0</td>\n",
       "      <td>0.0</td>\n",
       "      <td>0.0</td>\n",
       "      <td>Low</td>\n",
       "      <td>Sole</td>\n",
       "      <td>ABC-7A</td>\n",
       "      <td>ABC-7A</td>\n",
       "    </tr>\n",
       "    <tr>\n",
       "      <th>4</th>\n",
       "      <td>100048-xxxxx</td>\n",
       "      <td>100048</td>\n",
       "      <td>20132126</td>\n",
       "      <td>C&amp;IB</td>\n",
       "      <td>05483_F  05483_L</td>\n",
       "      <td>APP-3767</td>\n",
       "      <td>APPWF_CIB</td>\n",
       "      <td>NTB Custom</td>\n",
       "      <td>2018-04-24 10:51:53.020</td>\n",
       "      <td>10841-xxxxx</td>\n",
       "      <td>...</td>\n",
       "      <td>0</td>\n",
       "      <td>ABC-7A</td>\n",
       "      <td>NaN</td>\n",
       "      <td>0.0</td>\n",
       "      <td>0.0</td>\n",
       "      <td>0.0</td>\n",
       "      <td>Low</td>\n",
       "      <td>Sole</td>\n",
       "      <td>ABC-7A</td>\n",
       "      <td>ABC-7A</td>\n",
       "    </tr>\n",
       "  </tbody>\n",
       "</table>\n",
       "<p>5 rows × 75 columns</p>\n",
       "</div>"
      ],
      "text/plain": [
       "  CounterPartyName  IMAC_ID    CIF_ID DepartmentName        CustomerRM  \\\n",
       "0     100048-xxxxx   100048  20132126           C&IB  05483_F  05483_L   \n",
       "1     100048-xxxxx   100048  20132126           C&IB  05483_F  05483_L   \n",
       "2     100048-xxxxx   100048  20132126           C&IB  05483_F  05483_L   \n",
       "3     100048-xxxxx   100048  20132126           C&IB  05483_F  05483_L   \n",
       "4     100048-xxxxx   100048  20132126           C&IB  05483_F  05483_L   \n",
       "\n",
       "     App_ID WorkflowName PurposeOfCAM          DateOfApproval    GroupName  \\\n",
       "0  APP-3474    APPWF_CIB   NTB Custom 2018-02-22 11:16:24.940  10841-xxxxx   \n",
       "1  APP-3474    APPWF_CIB   NTB Custom 2018-02-22 11:16:24.940  10841-xxxxx   \n",
       "2  APP-3474    APPWF_CIB   NTB Custom 2018-02-22 11:16:24.940  10841-xxxxx   \n",
       "3  APP-3767    APPWF_CIB   NTB Custom 2018-04-24 10:51:53.020  10841-xxxxx   \n",
       "4  APP-3767    APPWF_CIB   NTB Custom 2018-04-24 10:51:53.020  10841-xxxxx   \n",
       "\n",
       "   ... GrandTotalOutStanding FacilityRating MoratoriumDays ATNW  TNW  \\\n",
       "0  ...                     0          ABC-6            NaN  0.0  0.0   \n",
       "1  ...                     0          ABC-6            NaN  0.0  0.0   \n",
       "2  ...                     0            NaN            NaN  0.0  0.0   \n",
       "3  ...                     0         ABC-7A            NaN  0.0  0.0   \n",
       "4  ...                     0         ABC-7A            NaN  0.0  0.0   \n",
       "\n",
       "  EBITDAPer AMLGrade1 ProposedBankingArrangement1 InternalRating1  \\\n",
       "0       0.0       Low                        Sole         UnRated   \n",
       "1       0.0       Low                        Sole         UnRated   \n",
       "2       0.0       Low                        Sole         UnRated   \n",
       "3       0.0       Low                        Sole          ABC-7A   \n",
       "4       0.0       Low                        Sole          ABC-7A   \n",
       "\n",
       "  InternalRating2  \n",
       "0         UnRated  \n",
       "1         UnRated  \n",
       "2         UnRated  \n",
       "3          ABC-7A  \n",
       "4          ABC-7A  \n",
       "\n",
       "[5 rows x 75 columns]"
      ]
     },
     "execution_count": 131,
     "metadata": {},
     "output_type": "execute_result"
    }
   ],
   "source": [
    "df.head()"
   ]
  },
  {
   "cell_type": "code",
   "execution_count": 132,
   "id": "6fc4d65b",
   "metadata": {},
   "outputs": [
    {
     "data": {
      "text/plain": [
       "array(['100048-xxxxx', '100049-xxxxx', '100148-xxxxx', ..., '99748-xxxxx',\n",
       "       '99798-xxxxx', '99999-xxxxx'], dtype=object)"
      ]
     },
     "execution_count": 132,
     "metadata": {},
     "output_type": "execute_result"
    }
   ],
   "source": [
    "df.CounterPartyName.unique()"
   ]
  },
  {
   "cell_type": "code",
   "execution_count": 133,
   "id": "47fe0d6d",
   "metadata": {},
   "outputs": [
    {
     "data": {
      "text/plain": [
       "1737"
      ]
     },
     "execution_count": 133,
     "metadata": {},
     "output_type": "execute_result"
    }
   ],
   "source": [
    "df.CounterPartyName.nunique()"
   ]
  },
  {
   "cell_type": "code",
   "execution_count": 134,
   "id": "403af2f7",
   "metadata": {},
   "outputs": [
    {
     "data": {
      "text/plain": [
       "CCY\n",
       "EUR        2\n",
       "INR    15511\n",
       "USD       64\n",
       "Name: CounterPartyName, dtype: int64"
      ]
     },
     "execution_count": 134,
     "metadata": {},
     "output_type": "execute_result"
    }
   ],
   "source": [
    "df.groupby('CCY').CounterPartyName.count()"
   ]
  },
  {
   "cell_type": "code",
   "execution_count": 135,
   "id": "f38594dd",
   "metadata": {
    "scrolled": true
   },
   "outputs": [
    {
     "data": {
      "text/plain": [
       "CounterPartyName\n",
       "100048-xxxxx    22\n",
       "100049-xxxxx    15\n",
       "100148-xxxxx     5\n",
       "100198-xxxxx     3\n",
       "100248-xxxxx     6\n",
       "                ..\n",
       "TEST             2\n",
       "TEST 1           2\n",
       "TEST 2          10\n",
       "TEST 3           2\n",
       "TT               4\n",
       "Name: CCY, Length: 1737, dtype: int64"
      ]
     },
     "execution_count": 135,
     "metadata": {},
     "output_type": "execute_result"
    }
   ],
   "source": [
    "df.groupby('CounterPartyName').CCY.count()"
   ]
  },
  {
   "cell_type": "code",
   "execution_count": 137,
   "id": "6df7ee1c",
   "metadata": {},
   "outputs": [
    {
     "data": {
      "text/plain": [
       "Index(['CounterPartyName', 'IMAC_ID', 'CIF_ID', 'DepartmentName', 'CustomerRM',\n",
       "       'App_ID', 'WorkflowName', 'PurposeOfCAM', 'DateOfApproval', 'GroupName',\n",
       "       'GroupID', 'CCY', 'BaseUnit', 'CustomerSince', 'Industry',\n",
       "       'EWS_AL_WLDateOfSanction', 'EWS_AL_WLPresent', 'SanctionDueDate',\n",
       "       'InternalRating', 'RatingAgency', 'LongTermRating', 'ShortTermRating',\n",
       "       'Outlook', 'RatingDate', 'UWSDeviation', 'TOMDeviation', 'AMLGrade',\n",
       "       'ApplicationRating', 'AuditYear', 'FinancialRisk', 'BusinessRisk',\n",
       "       'IndustryRisk', 'ManagementRisk', 'BasicBorrowerRiskScore',\n",
       "       'ProjectRisk', 'BorrowerRIskScoreWithProject', 'ConductOfAccount',\n",
       "       'ApprovingAuthority', 'ActuallyApprovedBy', 'OverrideYorN',\n",
       "       'OverrideReason', 'ApproverName', 'ApproverComment',\n",
       "       'ApproverTimeStamp', 'UFCEProvisionAssessment', 'CRILCStatus',\n",
       "       'OrignalRating', 'OverRideRating', 'Justification',\n",
       "       'ProposedBankingArrangement', 'FacilityId', 'FacilityType',\n",
       "       'FacilitySubtype', 'ParentFAC_ID', 'Tenor', 'SanctionedAmount',\n",
       "       'OutStandingAmount', 'Classification', 'DirectIndirect',\n",
       "       'IsCashBackCollateral', 'TotalFundedSanctioned',\n",
       "       'TotalFundedOutStanding', 'TotalNonFundedSanctioned',\n",
       "       'TotalNonFundedOutStanding', 'GrandTotalSanctioned',\n",
       "       'GrandTotalOutStanding', 'FacilityRating', 'MoratoriumDays', 'ATNW',\n",
       "       'TNW', 'EBITDAPer', 'AMLGrade1', 'ProposedBankingArrangement1',\n",
       "       'InternalRating1', 'InternalRating2'],\n",
       "      dtype='object')"
      ]
     },
     "execution_count": 137,
     "metadata": {},
     "output_type": "execute_result"
    }
   ],
   "source": [
    "df.columns"
   ]
  },
  {
   "cell_type": "code",
   "execution_count": 140,
   "id": "fe324c1b",
   "metadata": {},
   "outputs": [
    {
     "data": {
      "text/plain": [
       "135"
      ]
     },
     "execution_count": 140,
     "metadata": {},
     "output_type": "execute_result"
    }
   ],
   "source": [
    "df.Industry.nunique()"
   ]
  },
  {
   "cell_type": "code",
   "execution_count": 142,
   "id": "84a3cf5b",
   "metadata": {},
   "outputs": [
    {
     "data": {
      "text/plain": [
       "15572"
      ]
     },
     "execution_count": 142,
     "metadata": {},
     "output_type": "execute_result"
    }
   ],
   "source": [
    "df.Industry.count()"
   ]
  },
  {
   "cell_type": "code",
   "execution_count": 144,
   "id": "72abeb93",
   "metadata": {},
   "outputs": [
    {
     "data": {
      "text/plain": [
       "74"
      ]
     },
     "execution_count": 144,
     "metadata": {},
     "output_type": "execute_result"
    }
   ],
   "source": [
    "df.FacilitySubtype.nunique()"
   ]
  },
  {
   "cell_type": "code",
   "execution_count": 145,
   "id": "1715d3ff",
   "metadata": {},
   "outputs": [
    {
     "data": {
      "text/plain": [
       "14271"
      ]
     },
     "execution_count": 145,
     "metadata": {},
     "output_type": "execute_result"
    }
   ],
   "source": [
    "df.FacilitySubtype.count()"
   ]
  },
  {
   "cell_type": "code",
   "execution_count": null,
   "id": "2a168f70",
   "metadata": {},
   "outputs": [],
   "source": []
  }
 ],
 "metadata": {
  "kernelspec": {
   "display_name": "Python 3 (ipykernel)",
   "language": "python",
   "name": "python3"
  },
  "language_info": {
   "codemirror_mode": {
    "name": "ipython",
    "version": 3
   },
   "file_extension": ".py",
   "mimetype": "text/x-python",
   "name": "python",
   "nbconvert_exporter": "python",
   "pygments_lexer": "ipython3",
   "version": "3.9.7"
  }
 },
 "nbformat": 4,
 "nbformat_minor": 5
}
