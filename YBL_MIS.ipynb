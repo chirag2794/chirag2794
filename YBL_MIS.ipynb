{
 "cells": [
  {
   "cell_type": "markdown",
   "id": "62a92b27",
   "metadata": {},
   "source": [
    "# YES_MIS"
   ]
  },
  {
   "cell_type": "markdown",
   "id": "654ffadd",
   "metadata": {},
   "source": [
    "Importing Libraries"
   ]
  },
  {
   "cell_type": "code",
   "execution_count": 254,
   "id": "ceba5f27",
   "metadata": {},
   "outputs": [],
   "source": [
    "import numpy as np \n",
    "import pandas as pd \n",
    "import os \n",
    "import matplotlib.pyplot as plt \n",
    "import seaborn as sns\n",
    "import missingno "
   ]
  },
  {
   "cell_type": "markdown",
   "id": "34b715d6",
   "metadata": {},
   "source": [
    "Fetching Data from Excel"
   ]
  },
  {
   "cell_type": "code",
   "execution_count": 255,
   "id": "8d17751e",
   "metadata": {},
   "outputs": [],
   "source": [
    "df=pd.read_excel('YES_BANK_MIS_REPORT.xlsx')"
   ]
  },
  {
   "cell_type": "code",
   "execution_count": 256,
   "id": "02bd97ba",
   "metadata": {},
   "outputs": [
    {
     "data": {
      "text/html": [
       "<div>\n",
       "<style scoped>\n",
       "    .dataframe tbody tr th:only-of-type {\n",
       "        vertical-align: middle;\n",
       "    }\n",
       "\n",
       "    .dataframe tbody tr th {\n",
       "        vertical-align: top;\n",
       "    }\n",
       "\n",
       "    .dataframe thead th {\n",
       "        text-align: right;\n",
       "    }\n",
       "</style>\n",
       "<table border=\"1\" class=\"dataframe\">\n",
       "  <thead>\n",
       "    <tr style=\"text-align: right;\">\n",
       "      <th></th>\n",
       "      <th>App_ID</th>\n",
       "      <th>UniqueID</th>\n",
       "      <th>CounterPartyName</th>\n",
       "      <th>Department</th>\n",
       "      <th>AcknowledgeUserRole</th>\n",
       "      <th>UserName</th>\n",
       "      <th>Type Of Application</th>\n",
       "      <th>ApplicationStatus</th>\n",
       "      <th>RegionName</th>\n",
       "      <th>DateOfInput</th>\n",
       "      <th>Approval Date</th>\n",
       "      <th>ApplicatonRM</th>\n",
       "      <th>ApplicationAnalyst</th>\n",
       "      <th>ApplicationAnalystStartDate</th>\n",
       "      <th>ApplicationEndDate</th>\n",
       "      <th>CAMFinalizationDate</th>\n",
       "      <th>Amount</th>\n",
       "    </tr>\n",
       "  </thead>\n",
       "  <tbody>\n",
       "    <tr>\n",
       "      <th>0</th>\n",
       "      <td>APP-1277</td>\n",
       "      <td>CTPT-2425</td>\n",
       "      <td>Stainox Alloys Pvt Ltd</td>\n",
       "      <td>Emerging Local Corporates - MEB - BU</td>\n",
       "      <td>Relationship Manager</td>\n",
       "      <td>Geeta Naik</td>\n",
       "      <td>Renewal</td>\n",
       "      <td>WIP</td>\n",
       "      <td>WEST</td>\n",
       "      <td>2020-01-31</td>\n",
       "      <td>NaT</td>\n",
       "      <td>NaN</td>\n",
       "      <td>NaN</td>\n",
       "      <td>NaT</td>\n",
       "      <td>NaT</td>\n",
       "      <td>NaT</td>\n",
       "      <td>0.0</td>\n",
       "    </tr>\n",
       "    <tr>\n",
       "      <th>1</th>\n",
       "      <td>APP-1278</td>\n",
       "      <td>CTPT-2426</td>\n",
       "      <td>Xyz Ltd</td>\n",
       "      <td>Emerging Local Corporates - MEB - BU</td>\n",
       "      <td>Relationship Manager</td>\n",
       "      <td>Shashwat Krishn</td>\n",
       "      <td>Fresh</td>\n",
       "      <td>WIP</td>\n",
       "      <td>NORTH</td>\n",
       "      <td>2020-01-31</td>\n",
       "      <td>NaT</td>\n",
       "      <td>NaN</td>\n",
       "      <td>NaN</td>\n",
       "      <td>NaT</td>\n",
       "      <td>NaT</td>\n",
       "      <td>NaT</td>\n",
       "      <td>100000000.0</td>\n",
       "    </tr>\n",
       "    <tr>\n",
       "      <th>2</th>\n",
       "      <td>APP-1282</td>\n",
       "      <td>CTPT-2430</td>\n",
       "      <td>Sunland Recycling Industries Limited</td>\n",
       "      <td>Emerging Local Corporates - MEB - BU</td>\n",
       "      <td>Relationship Manager</td>\n",
       "      <td>Nikhil Phuria</td>\n",
       "      <td>Renewal</td>\n",
       "      <td>WIP</td>\n",
       "      <td>WEST</td>\n",
       "      <td>2020-01-31</td>\n",
       "      <td>NaT</td>\n",
       "      <td>NaN</td>\n",
       "      <td>NaN</td>\n",
       "      <td>NaT</td>\n",
       "      <td>NaT</td>\n",
       "      <td>NaT</td>\n",
       "      <td>0.0</td>\n",
       "    </tr>\n",
       "    <tr>\n",
       "      <th>3</th>\n",
       "      <td>APP-1283</td>\n",
       "      <td>CTPT-2422</td>\n",
       "      <td>E-con Packaging Pvt Ltd</td>\n",
       "      <td>Emerging Local Corporates - MEB - BU</td>\n",
       "      <td>Relationship Manager</td>\n",
       "      <td>priya rm2</td>\n",
       "      <td>Renewal</td>\n",
       "      <td>WIP</td>\n",
       "      <td>WEST</td>\n",
       "      <td>2020-01-31</td>\n",
       "      <td>NaT</td>\n",
       "      <td>NaN</td>\n",
       "      <td>NaN</td>\n",
       "      <td>NaT</td>\n",
       "      <td>NaT</td>\n",
       "      <td>NaT</td>\n",
       "      <td>0.0</td>\n",
       "    </tr>\n",
       "    <tr>\n",
       "      <th>4</th>\n",
       "      <td>APP-1284</td>\n",
       "      <td>CTPT-2419</td>\n",
       "      <td>Abhay Ispat</td>\n",
       "      <td>Emerging Local Corporates - MEB - BU</td>\n",
       "      <td>Relationship Manager</td>\n",
       "      <td>Neelesh Agarwal</td>\n",
       "      <td>Fresh</td>\n",
       "      <td>WIP</td>\n",
       "      <td>WEST</td>\n",
       "      <td>2020-01-31</td>\n",
       "      <td>NaT</td>\n",
       "      <td>NaN</td>\n",
       "      <td>NaN</td>\n",
       "      <td>NaT</td>\n",
       "      <td>NaT</td>\n",
       "      <td>NaT</td>\n",
       "      <td>510000000.0</td>\n",
       "    </tr>\n",
       "  </tbody>\n",
       "</table>\n",
       "</div>"
      ],
      "text/plain": [
       "     App_ID   UniqueID                      CounterPartyName  \\\n",
       "0  APP-1277  CTPT-2425                Stainox Alloys Pvt Ltd   \n",
       "1  APP-1278  CTPT-2426                               Xyz Ltd   \n",
       "2  APP-1282  CTPT-2430  Sunland Recycling Industries Limited   \n",
       "3  APP-1283  CTPT-2422               E-con Packaging Pvt Ltd   \n",
       "4  APP-1284  CTPT-2419                           Abhay Ispat   \n",
       "\n",
       "                             Department   AcknowledgeUserRole  \\\n",
       "0  Emerging Local Corporates - MEB - BU  Relationship Manager   \n",
       "1  Emerging Local Corporates - MEB - BU  Relationship Manager   \n",
       "2  Emerging Local Corporates - MEB - BU  Relationship Manager   \n",
       "3  Emerging Local Corporates - MEB - BU  Relationship Manager   \n",
       "4  Emerging Local Corporates - MEB - BU  Relationship Manager   \n",
       "\n",
       "          UserName Type Of Application ApplicationStatus RegionName  \\\n",
       "0       Geeta Naik             Renewal               WIP       WEST   \n",
       "1  Shashwat Krishn               Fresh               WIP      NORTH   \n",
       "2    Nikhil Phuria             Renewal               WIP       WEST   \n",
       "3        priya rm2             Renewal               WIP       WEST   \n",
       "4  Neelesh Agarwal               Fresh               WIP       WEST   \n",
       "\n",
       "  DateOfInput Approval Date ApplicatonRM ApplicationAnalyst  \\\n",
       "0  2020-01-31           NaT          NaN                NaN   \n",
       "1  2020-01-31           NaT          NaN                NaN   \n",
       "2  2020-01-31           NaT          NaN                NaN   \n",
       "3  2020-01-31           NaT          NaN                NaN   \n",
       "4  2020-01-31           NaT          NaN                NaN   \n",
       "\n",
       "  ApplicationAnalystStartDate ApplicationEndDate CAMFinalizationDate  \\\n",
       "0                         NaT                NaT                 NaT   \n",
       "1                         NaT                NaT                 NaT   \n",
       "2                         NaT                NaT                 NaT   \n",
       "3                         NaT                NaT                 NaT   \n",
       "4                         NaT                NaT                 NaT   \n",
       "\n",
       "        Amount  \n",
       "0          0.0  \n",
       "1  100000000.0  \n",
       "2          0.0  \n",
       "3          0.0  \n",
       "4  510000000.0  "
      ]
     },
     "execution_count": 256,
     "metadata": {},
     "output_type": "execute_result"
    }
   ],
   "source": [
    "df.head()"
   ]
  },
  {
   "cell_type": "code",
   "execution_count": 257,
   "id": "802fabfe",
   "metadata": {},
   "outputs": [
    {
     "name": "stdout",
     "output_type": "stream",
     "text": [
      "<class 'pandas.core.frame.DataFrame'>\n",
      "RangeIndex: 427 entries, 0 to 426\n",
      "Data columns (total 17 columns):\n",
      " #   Column                       Non-Null Count  Dtype         \n",
      "---  ------                       --------------  -----         \n",
      " 0   App_ID                       427 non-null    object        \n",
      " 1   UniqueID                     425 non-null    object        \n",
      " 2   CounterPartyName             425 non-null    object        \n",
      " 3   Department                   425 non-null    object        \n",
      " 4   AcknowledgeUserRole          233 non-null    object        \n",
      " 5   UserName                     192 non-null    object        \n",
      " 6   Type Of Application          425 non-null    object        \n",
      " 7   ApplicationStatus            425 non-null    object        \n",
      " 8   RegionName                   425 non-null    object        \n",
      " 9   DateOfInput                  425 non-null    datetime64[ns]\n",
      " 10  Approval Date                95 non-null     datetime64[ns]\n",
      " 11  ApplicatonRM                 412 non-null    object        \n",
      " 12  ApplicationAnalyst           199 non-null    object        \n",
      " 13  ApplicationAnalystStartDate  199 non-null    datetime64[ns]\n",
      " 14  ApplicationEndDate           192 non-null    datetime64[ns]\n",
      " 15  CAMFinalizationDate          194 non-null    datetime64[ns]\n",
      " 16  Amount                       425 non-null    float64       \n",
      "dtypes: datetime64[ns](5), float64(1), object(11)\n",
      "memory usage: 56.8+ KB\n"
     ]
    }
   ],
   "source": [
    "df.info()"
   ]
  },
  {
   "cell_type": "code",
   "execution_count": 258,
   "id": "6cf7491d",
   "metadata": {},
   "outputs": [
    {
     "data": {
      "text/plain": [
       "Index(['App_ID', 'UniqueID', 'CounterPartyName', 'Department',\n",
       "       'AcknowledgeUserRole', 'UserName', 'Type Of Application',\n",
       "       'ApplicationStatus', 'RegionName', 'DateOfInput', 'Approval Date',\n",
       "       'ApplicatonRM', 'ApplicationAnalyst', 'ApplicationAnalystStartDate',\n",
       "       'ApplicationEndDate', 'CAMFinalizationDate', 'Amount'],\n",
       "      dtype='object')"
      ]
     },
     "execution_count": 258,
     "metadata": {},
     "output_type": "execute_result"
    }
   ],
   "source": [
    " df.columns"
   ]
  },
  {
   "cell_type": "code",
   "execution_count": 259,
   "id": "79424d16",
   "metadata": {},
   "outputs": [
    {
     "data": {
      "text/html": [
       "<div>\n",
       "<style scoped>\n",
       "    .dataframe tbody tr th:only-of-type {\n",
       "        vertical-align: middle;\n",
       "    }\n",
       "\n",
       "    .dataframe tbody tr th {\n",
       "        vertical-align: top;\n",
       "    }\n",
       "\n",
       "    .dataframe thead th {\n",
       "        text-align: right;\n",
       "    }\n",
       "</style>\n",
       "<table border=\"1\" class=\"dataframe\">\n",
       "  <thead>\n",
       "    <tr style=\"text-align: right;\">\n",
       "      <th></th>\n",
       "      <th>Amount</th>\n",
       "    </tr>\n",
       "  </thead>\n",
       "  <tbody>\n",
       "    <tr>\n",
       "      <th>count</th>\n",
       "      <td>4.250000e+02</td>\n",
       "    </tr>\n",
       "    <tr>\n",
       "      <th>mean</th>\n",
       "      <td>4.379813e+11</td>\n",
       "    </tr>\n",
       "    <tr>\n",
       "      <th>std</th>\n",
       "      <td>6.926782e+12</td>\n",
       "    </tr>\n",
       "    <tr>\n",
       "      <th>min</th>\n",
       "      <td>0.000000e+00</td>\n",
       "    </tr>\n",
       "    <tr>\n",
       "      <th>25%</th>\n",
       "      <td>1.100000e+07</td>\n",
       "    </tr>\n",
       "    <tr>\n",
       "      <th>50%</th>\n",
       "      <td>4.400000e+07</td>\n",
       "    </tr>\n",
       "    <tr>\n",
       "      <th>75%</th>\n",
       "      <td>4.750000e+08</td>\n",
       "    </tr>\n",
       "    <tr>\n",
       "      <th>max</th>\n",
       "      <td>1.400000e+14</td>\n",
       "    </tr>\n",
       "  </tbody>\n",
       "</table>\n",
       "</div>"
      ],
      "text/plain": [
       "             Amount\n",
       "count  4.250000e+02\n",
       "mean   4.379813e+11\n",
       "std    6.926782e+12\n",
       "min    0.000000e+00\n",
       "25%    1.100000e+07\n",
       "50%    4.400000e+07\n",
       "75%    4.750000e+08\n",
       "max    1.400000e+14"
      ]
     },
     "execution_count": 259,
     "metadata": {},
     "output_type": "execute_result"
    }
   ],
   "source": [
    "df.describe()"
   ]
  },
  {
   "cell_type": "markdown",
   "id": "f3d9cc8f",
   "metadata": {},
   "source": [
    "### 1. Checking for missing values\n"
   ]
  },
  {
   "cell_type": "code",
   "execution_count": 260,
   "id": "746b3617",
   "metadata": {},
   "outputs": [
    {
     "data": {
      "text/plain": [
       "App_ID                           0\n",
       "UniqueID                         2\n",
       "CounterPartyName                 2\n",
       "Department                       2\n",
       "AcknowledgeUserRole            194\n",
       "UserName                       235\n",
       "Type Of Application              2\n",
       "ApplicationStatus                2\n",
       "RegionName                       2\n",
       "DateOfInput                      2\n",
       "Approval Date                  332\n",
       "ApplicatonRM                    15\n",
       "ApplicationAnalyst             228\n",
       "ApplicationAnalystStartDate    228\n",
       "ApplicationEndDate             235\n",
       "CAMFinalizationDate            233\n",
       "Amount                           2\n",
       "dtype: int64"
      ]
     },
     "execution_count": 260,
     "metadata": {},
     "output_type": "execute_result"
    }
   ],
   "source": [
    "df.isna().sum()"
   ]
  },
  {
   "cell_type": "markdown",
   "id": "6b5cacec",
   "metadata": {},
   "source": [
    "# Data Cleaning"
   ]
  },
  {
   "cell_type": "markdown",
   "id": "b177d506",
   "metadata": {},
   "source": [
    "### Dropping Features which having 80% Null values"
   ]
  },
  {
   "cell_type": "code",
   "execution_count": 261,
   "id": "029a7f9d",
   "metadata": {},
   "outputs": [],
   "source": [
    "null_morethan_20= df.isna().sum()/len(df)*100 > 20"
   ]
  },
  {
   "cell_type": "code",
   "execution_count": 262,
   "id": "5a38b11a",
   "metadata": {},
   "outputs": [],
   "source": [
    "dropping_features=null_morethan_20[null_morethan_20==1].index"
   ]
  },
  {
   "cell_type": "code",
   "execution_count": 263,
   "id": "5fb5f546",
   "metadata": {},
   "outputs": [
    {
     "data": {
      "text/plain": [
       "Index(['AcknowledgeUserRole', 'UserName', 'Approval Date',\n",
       "       'ApplicationAnalyst', 'ApplicationAnalystStartDate',\n",
       "       'ApplicationEndDate', 'CAMFinalizationDate'],\n",
       "      dtype='object')"
      ]
     },
     "execution_count": 263,
     "metadata": {},
     "output_type": "execute_result"
    }
   ],
   "source": [
    "dropping_features"
   ]
  },
  {
   "cell_type": "code",
   "execution_count": 264,
   "id": "6cab8582",
   "metadata": {},
   "outputs": [],
   "source": [
    "df=df.drop(dropping_features,axis=1)"
   ]
  },
  {
   "cell_type": "code",
   "execution_count": 265,
   "id": "c2351fab",
   "metadata": {},
   "outputs": [
    {
     "data": {
      "text/html": [
       "<div>\n",
       "<style scoped>\n",
       "    .dataframe tbody tr th:only-of-type {\n",
       "        vertical-align: middle;\n",
       "    }\n",
       "\n",
       "    .dataframe tbody tr th {\n",
       "        vertical-align: top;\n",
       "    }\n",
       "\n",
       "    .dataframe thead th {\n",
       "        text-align: right;\n",
       "    }\n",
       "</style>\n",
       "<table border=\"1\" class=\"dataframe\">\n",
       "  <thead>\n",
       "    <tr style=\"text-align: right;\">\n",
       "      <th></th>\n",
       "      <th>App_ID</th>\n",
       "      <th>UniqueID</th>\n",
       "      <th>CounterPartyName</th>\n",
       "      <th>Department</th>\n",
       "      <th>Type Of Application</th>\n",
       "      <th>ApplicationStatus</th>\n",
       "      <th>RegionName</th>\n",
       "      <th>DateOfInput</th>\n",
       "      <th>ApplicatonRM</th>\n",
       "      <th>Amount</th>\n",
       "    </tr>\n",
       "  </thead>\n",
       "  <tbody>\n",
       "    <tr>\n",
       "      <th>0</th>\n",
       "      <td>APP-1277</td>\n",
       "      <td>CTPT-2425</td>\n",
       "      <td>Stainox Alloys Pvt Ltd</td>\n",
       "      <td>Emerging Local Corporates - MEB - BU</td>\n",
       "      <td>Renewal</td>\n",
       "      <td>WIP</td>\n",
       "      <td>WEST</td>\n",
       "      <td>2020-01-31</td>\n",
       "      <td>NaN</td>\n",
       "      <td>0.0</td>\n",
       "    </tr>\n",
       "    <tr>\n",
       "      <th>1</th>\n",
       "      <td>APP-1278</td>\n",
       "      <td>CTPT-2426</td>\n",
       "      <td>Xyz Ltd</td>\n",
       "      <td>Emerging Local Corporates - MEB - BU</td>\n",
       "      <td>Fresh</td>\n",
       "      <td>WIP</td>\n",
       "      <td>NORTH</td>\n",
       "      <td>2020-01-31</td>\n",
       "      <td>NaN</td>\n",
       "      <td>100000000.0</td>\n",
       "    </tr>\n",
       "    <tr>\n",
       "      <th>2</th>\n",
       "      <td>APP-1282</td>\n",
       "      <td>CTPT-2430</td>\n",
       "      <td>Sunland Recycling Industries Limited</td>\n",
       "      <td>Emerging Local Corporates - MEB - BU</td>\n",
       "      <td>Renewal</td>\n",
       "      <td>WIP</td>\n",
       "      <td>WEST</td>\n",
       "      <td>2020-01-31</td>\n",
       "      <td>NaN</td>\n",
       "      <td>0.0</td>\n",
       "    </tr>\n",
       "    <tr>\n",
       "      <th>3</th>\n",
       "      <td>APP-1283</td>\n",
       "      <td>CTPT-2422</td>\n",
       "      <td>E-con Packaging Pvt Ltd</td>\n",
       "      <td>Emerging Local Corporates - MEB - BU</td>\n",
       "      <td>Renewal</td>\n",
       "      <td>WIP</td>\n",
       "      <td>WEST</td>\n",
       "      <td>2020-01-31</td>\n",
       "      <td>NaN</td>\n",
       "      <td>0.0</td>\n",
       "    </tr>\n",
       "    <tr>\n",
       "      <th>4</th>\n",
       "      <td>APP-1284</td>\n",
       "      <td>CTPT-2419</td>\n",
       "      <td>Abhay Ispat</td>\n",
       "      <td>Emerging Local Corporates - MEB - BU</td>\n",
       "      <td>Fresh</td>\n",
       "      <td>WIP</td>\n",
       "      <td>WEST</td>\n",
       "      <td>2020-01-31</td>\n",
       "      <td>NaN</td>\n",
       "      <td>510000000.0</td>\n",
       "    </tr>\n",
       "  </tbody>\n",
       "</table>\n",
       "</div>"
      ],
      "text/plain": [
       "     App_ID   UniqueID                      CounterPartyName  \\\n",
       "0  APP-1277  CTPT-2425                Stainox Alloys Pvt Ltd   \n",
       "1  APP-1278  CTPT-2426                               Xyz Ltd   \n",
       "2  APP-1282  CTPT-2430  Sunland Recycling Industries Limited   \n",
       "3  APP-1283  CTPT-2422               E-con Packaging Pvt Ltd   \n",
       "4  APP-1284  CTPT-2419                           Abhay Ispat   \n",
       "\n",
       "                             Department Type Of Application ApplicationStatus  \\\n",
       "0  Emerging Local Corporates - MEB - BU             Renewal               WIP   \n",
       "1  Emerging Local Corporates - MEB - BU               Fresh               WIP   \n",
       "2  Emerging Local Corporates - MEB - BU             Renewal               WIP   \n",
       "3  Emerging Local Corporates - MEB - BU             Renewal               WIP   \n",
       "4  Emerging Local Corporates - MEB - BU               Fresh               WIP   \n",
       "\n",
       "  RegionName DateOfInput ApplicatonRM       Amount  \n",
       "0       WEST  2020-01-31          NaN          0.0  \n",
       "1      NORTH  2020-01-31          NaN  100000000.0  \n",
       "2       WEST  2020-01-31          NaN          0.0  \n",
       "3       WEST  2020-01-31          NaN          0.0  \n",
       "4       WEST  2020-01-31          NaN  510000000.0  "
      ]
     },
     "execution_count": 265,
     "metadata": {},
     "output_type": "execute_result"
    }
   ],
   "source": [
    "df.head()"
   ]
  },
  {
   "cell_type": "code",
   "execution_count": 266,
   "id": "51f6e4e7",
   "metadata": {},
   "outputs": [
    {
     "data": {
      "text/plain": [
       "Index(['App_ID', 'UniqueID', 'CounterPartyName', 'Department',\n",
       "       'Type Of Application', 'ApplicationStatus', 'RegionName', 'DateOfInput',\n",
       "       'ApplicatonRM', 'Amount'],\n",
       "      dtype='object')"
      ]
     },
     "execution_count": 266,
     "metadata": {},
     "output_type": "execute_result"
    }
   ],
   "source": [
    "df.columns"
   ]
  },
  {
   "cell_type": "markdown",
   "id": "2bee5ba8",
   "metadata": {},
   "source": [
    "### Dropping some Unwanted Columns"
   ]
  },
  {
   "cell_type": "code",
   "execution_count": 267,
   "id": "557f8335",
   "metadata": {},
   "outputs": [],
   "source": [
    "unw_cols=['App_ID', 'UniqueID','DateOfInput']"
   ]
  },
  {
   "cell_type": "code",
   "execution_count": 268,
   "id": "d7085f6e",
   "metadata": {},
   "outputs": [],
   "source": [
    "df=df.drop(unw_cols,axis=1)"
   ]
  },
  {
   "cell_type": "code",
   "execution_count": 269,
   "id": "d83a865b",
   "metadata": {},
   "outputs": [
    {
     "data": {
      "text/html": [
       "<div>\n",
       "<style scoped>\n",
       "    .dataframe tbody tr th:only-of-type {\n",
       "        vertical-align: middle;\n",
       "    }\n",
       "\n",
       "    .dataframe tbody tr th {\n",
       "        vertical-align: top;\n",
       "    }\n",
       "\n",
       "    .dataframe thead th {\n",
       "        text-align: right;\n",
       "    }\n",
       "</style>\n",
       "<table border=\"1\" class=\"dataframe\">\n",
       "  <thead>\n",
       "    <tr style=\"text-align: right;\">\n",
       "      <th></th>\n",
       "      <th>CounterPartyName</th>\n",
       "      <th>Department</th>\n",
       "      <th>Type Of Application</th>\n",
       "      <th>ApplicationStatus</th>\n",
       "      <th>RegionName</th>\n",
       "      <th>ApplicatonRM</th>\n",
       "      <th>Amount</th>\n",
       "    </tr>\n",
       "  </thead>\n",
       "  <tbody>\n",
       "    <tr>\n",
       "      <th>0</th>\n",
       "      <td>Stainox Alloys Pvt Ltd</td>\n",
       "      <td>Emerging Local Corporates - MEB - BU</td>\n",
       "      <td>Renewal</td>\n",
       "      <td>WIP</td>\n",
       "      <td>WEST</td>\n",
       "      <td>NaN</td>\n",
       "      <td>0.0</td>\n",
       "    </tr>\n",
       "    <tr>\n",
       "      <th>1</th>\n",
       "      <td>Xyz Ltd</td>\n",
       "      <td>Emerging Local Corporates - MEB - BU</td>\n",
       "      <td>Fresh</td>\n",
       "      <td>WIP</td>\n",
       "      <td>NORTH</td>\n",
       "      <td>NaN</td>\n",
       "      <td>100000000.0</td>\n",
       "    </tr>\n",
       "    <tr>\n",
       "      <th>2</th>\n",
       "      <td>Sunland Recycling Industries Limited</td>\n",
       "      <td>Emerging Local Corporates - MEB - BU</td>\n",
       "      <td>Renewal</td>\n",
       "      <td>WIP</td>\n",
       "      <td>WEST</td>\n",
       "      <td>NaN</td>\n",
       "      <td>0.0</td>\n",
       "    </tr>\n",
       "    <tr>\n",
       "      <th>3</th>\n",
       "      <td>E-con Packaging Pvt Ltd</td>\n",
       "      <td>Emerging Local Corporates - MEB - BU</td>\n",
       "      <td>Renewal</td>\n",
       "      <td>WIP</td>\n",
       "      <td>WEST</td>\n",
       "      <td>NaN</td>\n",
       "      <td>0.0</td>\n",
       "    </tr>\n",
       "    <tr>\n",
       "      <th>4</th>\n",
       "      <td>Abhay Ispat</td>\n",
       "      <td>Emerging Local Corporates - MEB - BU</td>\n",
       "      <td>Fresh</td>\n",
       "      <td>WIP</td>\n",
       "      <td>WEST</td>\n",
       "      <td>NaN</td>\n",
       "      <td>510000000.0</td>\n",
       "    </tr>\n",
       "  </tbody>\n",
       "</table>\n",
       "</div>"
      ],
      "text/plain": [
       "                       CounterPartyName                            Department  \\\n",
       "0                Stainox Alloys Pvt Ltd  Emerging Local Corporates - MEB - BU   \n",
       "1                               Xyz Ltd  Emerging Local Corporates - MEB - BU   \n",
       "2  Sunland Recycling Industries Limited  Emerging Local Corporates - MEB - BU   \n",
       "3               E-con Packaging Pvt Ltd  Emerging Local Corporates - MEB - BU   \n",
       "4                           Abhay Ispat  Emerging Local Corporates - MEB - BU   \n",
       "\n",
       "  Type Of Application ApplicationStatus RegionName ApplicatonRM       Amount  \n",
       "0             Renewal               WIP       WEST          NaN          0.0  \n",
       "1               Fresh               WIP      NORTH          NaN  100000000.0  \n",
       "2             Renewal               WIP       WEST          NaN          0.0  \n",
       "3             Renewal               WIP       WEST          NaN          0.0  \n",
       "4               Fresh               WIP       WEST          NaN  510000000.0  "
      ]
     },
     "execution_count": 269,
     "metadata": {},
     "output_type": "execute_result"
    }
   ],
   "source": [
    "df.head()"
   ]
  },
  {
   "cell_type": "code",
   "execution_count": 270,
   "id": "7778e779",
   "metadata": {},
   "outputs": [
    {
     "data": {
      "text/plain": [
       "CounterPartyName        2\n",
       "Department              2\n",
       "Type Of Application     2\n",
       "ApplicationStatus       2\n",
       "RegionName              2\n",
       "ApplicatonRM           15\n",
       "Amount                  2\n",
       "dtype: int64"
      ]
     },
     "execution_count": 270,
     "metadata": {},
     "output_type": "execute_result"
    }
   ],
   "source": [
    "df.isna().sum()"
   ]
  },
  {
   "cell_type": "code",
   "execution_count": 271,
   "id": "cd4c4057",
   "metadata": {},
   "outputs": [
    {
     "name": "stdout",
     "output_type": "stream",
     "text": [
      "<class 'pandas.core.frame.DataFrame'>\n",
      "RangeIndex: 427 entries, 0 to 426\n",
      "Data columns (total 7 columns):\n",
      " #   Column               Non-Null Count  Dtype  \n",
      "---  ------               --------------  -----  \n",
      " 0   CounterPartyName     425 non-null    object \n",
      " 1   Department           425 non-null    object \n",
      " 2   Type Of Application  425 non-null    object \n",
      " 3   ApplicationStatus    425 non-null    object \n",
      " 4   RegionName           425 non-null    object \n",
      " 5   ApplicatonRM         412 non-null    object \n",
      " 6   Amount               425 non-null    float64\n",
      "dtypes: float64(1), object(6)\n",
      "memory usage: 23.5+ KB\n"
     ]
    }
   ],
   "source": [
    "df.info()"
   ]
  },
  {
   "cell_type": "code",
   "execution_count": 272,
   "id": "77a2cd4b",
   "metadata": {},
   "outputs": [
    {
     "data": {
      "text/html": [
       "<div>\n",
       "<style scoped>\n",
       "    .dataframe tbody tr th:only-of-type {\n",
       "        vertical-align: middle;\n",
       "    }\n",
       "\n",
       "    .dataframe tbody tr th {\n",
       "        vertical-align: top;\n",
       "    }\n",
       "\n",
       "    .dataframe thead th {\n",
       "        text-align: right;\n",
       "    }\n",
       "</style>\n",
       "<table border=\"1\" class=\"dataframe\">\n",
       "  <thead>\n",
       "    <tr style=\"text-align: right;\">\n",
       "      <th></th>\n",
       "      <th>CounterPartyName</th>\n",
       "      <th>Department</th>\n",
       "      <th>Type Of Application</th>\n",
       "      <th>ApplicationStatus</th>\n",
       "      <th>RegionName</th>\n",
       "      <th>ApplicatonRM</th>\n",
       "      <th>Amount</th>\n",
       "    </tr>\n",
       "  </thead>\n",
       "  <tbody>\n",
       "    <tr>\n",
       "      <th>425</th>\n",
       "      <td>NaN</td>\n",
       "      <td>NaN</td>\n",
       "      <td>NaN</td>\n",
       "      <td>NaN</td>\n",
       "      <td>NaN</td>\n",
       "      <td>NaN</td>\n",
       "      <td>NaN</td>\n",
       "    </tr>\n",
       "    <tr>\n",
       "      <th>426</th>\n",
       "      <td>NaN</td>\n",
       "      <td>NaN</td>\n",
       "      <td>NaN</td>\n",
       "      <td>NaN</td>\n",
       "      <td>NaN</td>\n",
       "      <td>NaN</td>\n",
       "      <td>NaN</td>\n",
       "    </tr>\n",
       "  </tbody>\n",
       "</table>\n",
       "</div>"
      ],
      "text/plain": [
       "    CounterPartyName Department Type Of Application ApplicationStatus  \\\n",
       "425              NaN        NaN                 NaN               NaN   \n",
       "426              NaN        NaN                 NaN               NaN   \n",
       "\n",
       "    RegionName ApplicatonRM  Amount  \n",
       "425        NaN          NaN     NaN  \n",
       "426        NaN          NaN     NaN  "
      ]
     },
     "execution_count": 272,
     "metadata": {},
     "output_type": "execute_result"
    }
   ],
   "source": [
    "df[df['Amount'].isnull()]"
   ]
  },
  {
   "cell_type": "code",
   "execution_count": 273,
   "id": "a23893b9",
   "metadata": {},
   "outputs": [
    {
     "data": {
      "text/html": [
       "<div>\n",
       "<style scoped>\n",
       "    .dataframe tbody tr th:only-of-type {\n",
       "        vertical-align: middle;\n",
       "    }\n",
       "\n",
       "    .dataframe tbody tr th {\n",
       "        vertical-align: top;\n",
       "    }\n",
       "\n",
       "    .dataframe thead th {\n",
       "        text-align: right;\n",
       "    }\n",
       "</style>\n",
       "<table border=\"1\" class=\"dataframe\">\n",
       "  <thead>\n",
       "    <tr style=\"text-align: right;\">\n",
       "      <th></th>\n",
       "      <th>CounterPartyName</th>\n",
       "      <th>Department</th>\n",
       "      <th>Type Of Application</th>\n",
       "      <th>ApplicationStatus</th>\n",
       "      <th>RegionName</th>\n",
       "      <th>ApplicatonRM</th>\n",
       "      <th>Amount</th>\n",
       "    </tr>\n",
       "  </thead>\n",
       "  <tbody>\n",
       "    <tr>\n",
       "      <th>0</th>\n",
       "      <td>Stainox Alloys Pvt Ltd</td>\n",
       "      <td>Emerging Local Corporates - MEB - BU</td>\n",
       "      <td>Renewal</td>\n",
       "      <td>WIP</td>\n",
       "      <td>WEST</td>\n",
       "      <td>NaN</td>\n",
       "      <td>0.0</td>\n",
       "    </tr>\n",
       "    <tr>\n",
       "      <th>1</th>\n",
       "      <td>Xyz Ltd</td>\n",
       "      <td>Emerging Local Corporates - MEB - BU</td>\n",
       "      <td>Fresh</td>\n",
       "      <td>WIP</td>\n",
       "      <td>NORTH</td>\n",
       "      <td>NaN</td>\n",
       "      <td>100000000.0</td>\n",
       "    </tr>\n",
       "    <tr>\n",
       "      <th>2</th>\n",
       "      <td>Sunland Recycling Industries Limited</td>\n",
       "      <td>Emerging Local Corporates - MEB - BU</td>\n",
       "      <td>Renewal</td>\n",
       "      <td>WIP</td>\n",
       "      <td>WEST</td>\n",
       "      <td>NaN</td>\n",
       "      <td>0.0</td>\n",
       "    </tr>\n",
       "    <tr>\n",
       "      <th>3</th>\n",
       "      <td>E-con Packaging Pvt Ltd</td>\n",
       "      <td>Emerging Local Corporates - MEB - BU</td>\n",
       "      <td>Renewal</td>\n",
       "      <td>WIP</td>\n",
       "      <td>WEST</td>\n",
       "      <td>NaN</td>\n",
       "      <td>0.0</td>\n",
       "    </tr>\n",
       "    <tr>\n",
       "      <th>4</th>\n",
       "      <td>Abhay Ispat</td>\n",
       "      <td>Emerging Local Corporates - MEB - BU</td>\n",
       "      <td>Fresh</td>\n",
       "      <td>WIP</td>\n",
       "      <td>WEST</td>\n",
       "      <td>NaN</td>\n",
       "      <td>510000000.0</td>\n",
       "    </tr>\n",
       "  </tbody>\n",
       "</table>\n",
       "</div>"
      ],
      "text/plain": [
       "                       CounterPartyName                            Department  \\\n",
       "0                Stainox Alloys Pvt Ltd  Emerging Local Corporates - MEB - BU   \n",
       "1                               Xyz Ltd  Emerging Local Corporates - MEB - BU   \n",
       "2  Sunland Recycling Industries Limited  Emerging Local Corporates - MEB - BU   \n",
       "3               E-con Packaging Pvt Ltd  Emerging Local Corporates - MEB - BU   \n",
       "4                           Abhay Ispat  Emerging Local Corporates - MEB - BU   \n",
       "\n",
       "  Type Of Application ApplicationStatus RegionName ApplicatonRM       Amount  \n",
       "0             Renewal               WIP       WEST          NaN          0.0  \n",
       "1               Fresh               WIP      NORTH          NaN  100000000.0  \n",
       "2             Renewal               WIP       WEST          NaN          0.0  \n",
       "3             Renewal               WIP       WEST          NaN          0.0  \n",
       "4               Fresh               WIP       WEST          NaN  510000000.0  "
      ]
     },
     "execution_count": 273,
     "metadata": {},
     "output_type": "execute_result"
    }
   ],
   "source": [
    "df.head()"
   ]
  },
  {
   "cell_type": "code",
   "execution_count": 274,
   "id": "3a77dda6",
   "metadata": {},
   "outputs": [
    {
     "data": {
      "text/plain": [
       "CounterPartyName        2\n",
       "Department              2\n",
       "Type Of Application     2\n",
       "ApplicationStatus       2\n",
       "RegionName              2\n",
       "ApplicatonRM           15\n",
       "Amount                  2\n",
       "dtype: int64"
      ]
     },
     "execution_count": 274,
     "metadata": {},
     "output_type": "execute_result"
    }
   ],
   "source": [
    "df.isna().sum()"
   ]
  },
  {
   "cell_type": "code",
   "execution_count": 275,
   "id": "961154a6",
   "metadata": {},
   "outputs": [],
   "source": [
    "df=df[~(df['Amount'].isna())]"
   ]
  },
  {
   "cell_type": "code",
   "execution_count": 276,
   "id": "db614f0b",
   "metadata": {},
   "outputs": [
    {
     "data": {
      "text/plain": [
       "CounterPartyName        0\n",
       "Department              0\n",
       "Type Of Application     0\n",
       "ApplicationStatus       0\n",
       "RegionName              0\n",
       "ApplicatonRM           13\n",
       "Amount                  0\n",
       "dtype: int64"
      ]
     },
     "execution_count": 276,
     "metadata": {},
     "output_type": "execute_result"
    }
   ],
   "source": [
    "df.isna().sum()"
   ]
  },
  {
   "cell_type": "code",
   "execution_count": 277,
   "id": "d637e231",
   "metadata": {},
   "outputs": [
    {
     "data": {
      "text/plain": [
       "array([nan, 'Anish Lakhotiya', 'Gaurav Kumar', 'yblmeb -rm',\n",
       "       'siddhish gb', 'Priya RM', 'priya rm2', 'Sheetal SG', 'Soumya RM',\n",
       "       'Ahana Aadiswan', 'Mitul aadiswan', 'AS Admin', 'Suresh P',\n",
       "       'AbhinayFName AbhinayLName', 'Abhishek Bafna',\n",
       "       'AkashFName AkashLName', 'Anirudh Kowtha', 'Gourab Datta',\n",
       "       'Harsh Jhaveri', 'Hiten Modi', 'Jyoti Mehta', 'Mohit Gaurav Sinha',\n",
       "       'Nikunj Negandhi', 'Nisarg Joshi', 'Partha Paul',\n",
       "       'Pratik Patankar', 'Ramesh Bhanushali', 'Raunak Rao',\n",
       "       'Rohit Bharate', 'Rohit Kumar Chitambar Shastry Yelleswarapu',\n",
       "       'Sajan Shah', 'Sandeep Jain', 'Sangramsingh Powar',\n",
       "       'Sanjana Agrawal', 'Srishti Goyal', 'Vedvyas Nayak',\n",
       "       'Arnab KR Ghosh', 'Karan Pahwa', 'Mihir Gupta', 'Nikhil Awasthi',\n",
       "       'Nitin Mehta', 'Omkar Tawde', 'Parul Singh',\n",
       "       'Renu Balwada Balwada', 'Vineet Arora', 'Shyam Bhagwat', 'PV user',\n",
       "       'Nabeel Shaikh', 'Vivek Mishra', 'meghana reddy', 'Gopal Agrawal',\n",
       "       'Meghana Reddy'], dtype=object)"
      ]
     },
     "execution_count": 277,
     "metadata": {},
     "output_type": "execute_result"
    }
   ],
   "source": [
    "df['ApplicatonRM'].unique()"
   ]
  },
  {
   "cell_type": "code",
   "execution_count": 278,
   "id": "e3618883",
   "metadata": {},
   "outputs": [],
   "source": [
    "df=df.drop(['ApplicatonRM'],axis=1)"
   ]
  },
  {
   "cell_type": "code",
   "execution_count": 279,
   "id": "0f3846c6",
   "metadata": {},
   "outputs": [
    {
     "data": {
      "text/plain": [
       "Index(['CounterPartyName', 'Department', 'Type Of Application',\n",
       "       'ApplicationStatus', 'RegionName', 'Amount'],\n",
       "      dtype='object')"
      ]
     },
     "execution_count": 279,
     "metadata": {},
     "output_type": "execute_result"
    }
   ],
   "source": [
    "df.columns"
   ]
  },
  {
   "cell_type": "code",
   "execution_count": 280,
   "id": "9254546a",
   "metadata": {},
   "outputs": [
    {
     "data": {
      "text/plain": [
       "CounterPartyName       0\n",
       "Department             0\n",
       "Type Of Application    0\n",
       "ApplicationStatus      0\n",
       "RegionName             0\n",
       "Amount                 0\n",
       "dtype: int64"
      ]
     },
     "execution_count": 280,
     "metadata": {},
     "output_type": "execute_result"
    }
   ],
   "source": [
    "df.isna().sum()"
   ]
  },
  {
   "cell_type": "markdown",
   "id": "95715159",
   "metadata": {},
   "source": [
    "## AMOUNT is Target Variable"
   ]
  },
  {
   "cell_type": "code",
   "execution_count": 281,
   "id": "48ef709a",
   "metadata": {},
   "outputs": [],
   "source": [
    "x=df.drop('Amount',axis=1)"
   ]
  },
  {
   "cell_type": "code",
   "execution_count": 282,
   "id": "b83eb1a0",
   "metadata": {},
   "outputs": [],
   "source": [
    "y=df.Amount"
   ]
  },
  {
   "cell_type": "markdown",
   "id": "4c15f322",
   "metadata": {},
   "source": [
    "# Performing Label Encoding on Categorical Features\n"
   ]
  },
  {
   "cell_type": "code",
   "execution_count": 283,
   "id": "711c28d1",
   "metadata": {},
   "outputs": [],
   "source": [
    "from sklearn import preprocessing\n"
   ]
  },
  {
   "cell_type": "code",
   "execution_count": 284,
   "id": "376f044f",
   "metadata": {},
   "outputs": [],
   "source": [
    "def MultiLabelEncoder(columnlist,dataframe):\n",
    "    for i in columnlist:\n",
    "\n",
    "        le_X=preprocessing.LabelEncoder()\n",
    "        dataframe[i]=le_X.fit_transform(dataframe[i])"
   ]
  },
  {
   "cell_type": "code",
   "execution_count": 285,
   "id": "9be72e13",
   "metadata": {},
   "outputs": [
    {
     "data": {
      "text/plain": [
       "Index(['CounterPartyName', 'Department', 'Type Of Application',\n",
       "       'ApplicationStatus', 'RegionName'],\n",
       "      dtype='object')"
      ]
     },
     "execution_count": 285,
     "metadata": {},
     "output_type": "execute_result"
    }
   ],
   "source": [
    "x.columns"
   ]
  },
  {
   "cell_type": "code",
   "execution_count": 287,
   "id": "d68e2ef9",
   "metadata": {},
   "outputs": [
    {
     "name": "stdout",
     "output_type": "stream",
     "text": [
      "<class 'pandas.core.frame.DataFrame'>\n",
      "Int64Index: 425 entries, 0 to 424\n",
      "Data columns (total 5 columns):\n",
      " #   Column               Non-Null Count  Dtype \n",
      "---  ------               --------------  ----- \n",
      " 0   CounterPartyName     425 non-null    object\n",
      " 1   Department           425 non-null    object\n",
      " 2   Type Of Application  425 non-null    object\n",
      " 3   ApplicationStatus    425 non-null    object\n",
      " 4   RegionName           425 non-null    object\n",
      "dtypes: object(5)\n",
      "memory usage: 19.9+ KB\n"
     ]
    }
   ],
   "source": [
    "x.info()"
   ]
  },
  {
   "cell_type": "code",
   "execution_count": 288,
   "id": "340cd0e9",
   "metadata": {},
   "outputs": [],
   "source": [
    " le_X=preprocessing.LabelEncoder()"
   ]
  },
  {
   "cell_type": "code",
   "execution_count": 289,
   "id": "c7d991e4",
   "metadata": {},
   "outputs": [],
   "source": [
    "x['RegionName']=le_X.fit_transform(x['RegionName'])"
   ]
  },
  {
   "cell_type": "code",
   "execution_count": 290,
   "id": "622fea05",
   "metadata": {},
   "outputs": [],
   "source": [
    "x['Department']=le_X.fit_transform(x['Department'])"
   ]
  },
  {
   "cell_type": "code",
   "execution_count": 291,
   "id": "1b466247",
   "metadata": {},
   "outputs": [],
   "source": [
    "x['Type Of Application']=le_X.fit_transform(x['Type Of Application'])"
   ]
  },
  {
   "cell_type": "code",
   "execution_count": 292,
   "id": "dbc48f7b",
   "metadata": {},
   "outputs": [],
   "source": [
    "x['ApplicationStatus']=le_X.fit_transform(x['ApplicationStatus'])"
   ]
  },
  {
   "cell_type": "code",
   "execution_count": 298,
   "id": "da487fe2",
   "metadata": {},
   "outputs": [],
   "source": [
    "x['CounterPartyName ']=le_X.fit_transform(x['CounterPartyName'])"
   ]
  },
  {
   "cell_type": "code",
   "execution_count": 294,
   "id": "c49cb5ea",
   "metadata": {},
   "outputs": [
    {
     "data": {
      "text/plain": [
       "array(['Stainox Alloys Pvt Ltd', 'Xyz Ltd',\n",
       "       'Sunland Recycling Industries Limited', 'E-con Packaging Pvt Ltd',\n",
       "       'Abhay Ispat', 'ABC P L', 'Amarjit parihar',\n",
       "       'Onward Technologies Limited', 'PQR Limited',\n",
       "       'Hamilton Housewares Pvt. Ltd.', 'OPOS', 'Test 2 March 2020',\n",
       "       'TEST 3 MARCH', 'Test validation', 'Test val 2', 'Loki', 'Vintage',\n",
       "       'Gaurav_Test01', 'IOM_test1', 'Testlc', 'Town', 'Prime',\n",
       "       datetime.datetime(2008, 10, 1, 0, 0), 'Puma Fashion',\n",
       "       'Mahashila Jewellery', 'Test 21 Nov 2019', 'GB_BU_test1',\n",
       "       'Nexus_test_Abee', 'Ajio', 'Reebok International Limited',\n",
       "       'Mahindra Finance', 'HSBC', 'Seven eleven', 'Apple INC.',\n",
       "       'RAROC_Lokesh_Test', 'Cisco Inc.', 'Suvidha Pvt Ltd',\n",
       "       'Radius Systems Limited', 'Cipla Limited', 'Titan Comapny Ltd',\n",
       "       'Tem Plates', 'Test_Ajith', 'Test_02_Ajit', 'Delaware Inc',\n",
       "       'RAROC Limited', 'Intellect Software solutions Pvt Ltd',\n",
       "       'Abee_Intellect Software soltn', 'Addwf_test1',\n",
       "       'Test Contact Person', 'AddWF_test2', 'AddWF_test3', 'AddWFTest4',\n",
       "       'AddWF_test5', 'Vijay Sales', 'Test 1204', 'YG Ent', 'Cred8',\n",
       "       'Shiva', 'Zee', 'Skybloom Ltd', 'DEMO', 'IOm_New1',\n",
       "       'Reference rate check', 'Psl_Cust01', 'Test0106', 'Psl_new_cust',\n",
       "       'Intel L', 'Uat new case', 'Apple', 'Test Company Ltd', 'Virus',\n",
       "       'Shyam Bhagwat Group Company', 'RAROC cal', 'Tata Industries',\n",
       "       'L&T', 'CAM TESTING RBL', 'Hello', 'Gaurav B(Upadted)',\n",
       "       'Elearning', 'Link updated', 'JK', 'Arctic 50', 'Reliance Telecom',\n",
       "       'Loadout', 'Abee_test', 'Quartz', 'Date proposed', 'Synechron',\n",
       "       'Final CAM', 'Showdiff check', 'VJD 2502222', 'Conditions check',\n",
       "       'Ayur pvt ltd', 'Bhavna_Test', 'YES CAM 25022022', 'Testng',\n",
       "       'Stream S', 'Naver Corp', 'BigHit Ent', 'Dora pvt ltd',\n",
       "       'Vedanta Academy', 'Raroc User01', 'Zensar Technologies',\n",
       "       'Nandan Denim', 'Addtnl_WF_Abee1', 'Titan Company Limited',\n",
       "       'Superia', 'Malliga furniture', 'CEAT', 'Skyway RMC Ltd', 'RSWM',\n",
       "       'Bajaj Finance Limited', 'Samsung', 'Cera Sanitaryware',\n",
       "       'Accenture', 'ALTAS', 'Test1503', 'Dynamite B', 'Core C',\n",
       "       'Bulletproof B', 'Test_08', 'Copper', 'BSNL B', 'Primary P',\n",
       "       'Airbnb', 'Hype H', 'Fin F', 'Test_2506', 'Remote R', 'OP',\n",
       "       'Wellness Forever', 'Mnet', 'Overcast', 'Bcctest', 'NCT', 'Campdf',\n",
       "       'SM Ent', 'CAM', 'Intel', 'MCD', 'J. Chemistry', 'Exo', 'PSL',\n",
       "       'Seba Med', 'New', 'H&M', 'Minimalist', 'Gen', 'Tonymoly',\n",
       "       'Logitech', 'Modern', 'Newton', 'Ikonic', 'Sony', 'Neopack',\n",
       "       'Seagate', 'Wion', 'Nivea', 'Tea shelf', 'Philips', 'Simple',\n",
       "       'Icare Pharma', 'Test_Aj', 'P Jewellers Pvt Ltd',\n",
       "       'KALYAN JEWWLLERS', 'Bhagwat Group of compnay',\n",
       "       'One Point One Solutions Limited', 'AKASH Industries',\n",
       "       'ABC Technologies Limited', 'Ashtech India Private imited', 'Who',\n",
       "       'Chemco plastic industries private limited', 'Jyoti Shine Pvt Ltd',\n",
       "       'Bharat Insulation Company India Private Limited',\n",
       "       'Pyramid Technoplast Pvt Ltd', 'Hindustan Composites Ltd',\n",
       "       'Code Pvt. Ltd.', 'M K Jokai Agri Plantations Private Limited',\n",
       "       'Ashtech India Private Limited', 'Empire Industries Limited',\n",
       "       'Nexus Petrochem Pvt. Ltd.', 'Reliance Industries private limited',\n",
       "       'COASTAL MARINE CONSTRUCTION AND ENGINEERING LIMITED',\n",
       "       'Test Company', 'Silver Emporium Private Limited',\n",
       "       'Swarnsarita Gems Ltd', 'SSF Plastics India Pvt Ltd', 'New Case',\n",
       "       'Test 23 April UAT', 'Vedvyas Private Limited',\n",
       "       'West coast opticable limited', 'Bhakti Enterprise Pvt Ltd',\n",
       "       'Mukta', 'KGR Enterprises Pvt Ltd', 'ABC Inc',\n",
       "       'Jewelex India Private Limited', 'Faze Three Limited',\n",
       "       'Dharma Productions Private Limited', 'TEST_CUST_01', 'Test31-05',\n",
       "       'TestSCGI', 'Viki', 'Ray', 'Psl_Custsgci', 'Sun Farma Ltd',\n",
       "       'Reliance Industries', 'Sun Pharmaceuticals', 'Tanishq',\n",
       "       'Surya Wooden', 'Tata Fin Serv', 'RelianceFresh Mart', 'Nescafe',\n",
       "       'Boomerang', 'Tokyo KKBK', 'Symphony', 'Test_03_Ajit',\n",
       "       'Test04_Ajit', 'Test_05_Ajit', 'Test_ex', 'TEST_EX2', 'EX01',\n",
       "       'EX02', 'Ex03', 'EX03', 'EXT_01', 'Test_001', 'Ex_d1', 'XYZ',\n",
       "       'Case_DM', 'T1_Demo', 'Maya Ele', 'DTDC', 'IIBtest', 'Canon', 'A'],\n",
       "      dtype=object)"
      ]
     },
     "execution_count": 294,
     "metadata": {},
     "output_type": "execute_result"
    }
   ],
   "source": [
    "x['CounterPartyName'].unique()"
   ]
  },
  {
   "cell_type": "code",
   "execution_count": 297,
   "id": "2e7e1a0b",
   "metadata": {},
   "outputs": [],
   "source": [
    "x['CounterPartyName']=x['CounterPartyName'].astype(str)\n"
   ]
  },
  {
   "cell_type": "code",
   "execution_count": 299,
   "id": "b32d60f3",
   "metadata": {},
   "outputs": [
    {
     "data": {
      "text/html": [
       "<div>\n",
       "<style scoped>\n",
       "    .dataframe tbody tr th:only-of-type {\n",
       "        vertical-align: middle;\n",
       "    }\n",
       "\n",
       "    .dataframe tbody tr th {\n",
       "        vertical-align: top;\n",
       "    }\n",
       "\n",
       "    .dataframe thead th {\n",
       "        text-align: right;\n",
       "    }\n",
       "</style>\n",
       "<table border=\"1\" class=\"dataframe\">\n",
       "  <thead>\n",
       "    <tr style=\"text-align: right;\">\n",
       "      <th></th>\n",
       "      <th>CounterPartyName</th>\n",
       "      <th>Department</th>\n",
       "      <th>Type Of Application</th>\n",
       "      <th>ApplicationStatus</th>\n",
       "      <th>RegionName</th>\n",
       "      <th>CounterPartyName</th>\n",
       "    </tr>\n",
       "  </thead>\n",
       "  <tbody>\n",
       "    <tr>\n",
       "      <th>0</th>\n",
       "      <td>Stainox Alloys Pvt Ltd</td>\n",
       "      <td>2</td>\n",
       "      <td>7</td>\n",
       "      <td>5</td>\n",
       "      <td>2</td>\n",
       "      <td>167</td>\n",
       "    </tr>\n",
       "    <tr>\n",
       "      <th>1</th>\n",
       "      <td>Xyz Ltd</td>\n",
       "      <td>2</td>\n",
       "      <td>1</td>\n",
       "      <td>5</td>\n",
       "      <td>0</td>\n",
       "      <td>230</td>\n",
       "    </tr>\n",
       "    <tr>\n",
       "      <th>2</th>\n",
       "      <td>Sunland Recycling Industries Limited</td>\n",
       "      <td>2</td>\n",
       "      <td>7</td>\n",
       "      <td>5</td>\n",
       "      <td>2</td>\n",
       "      <td>171</td>\n",
       "    </tr>\n",
       "    <tr>\n",
       "      <th>3</th>\n",
       "      <td>E-con Packaging Pvt Ltd</td>\n",
       "      <td>2</td>\n",
       "      <td>7</td>\n",
       "      <td>5</td>\n",
       "      <td>2</td>\n",
       "      <td>59</td>\n",
       "    </tr>\n",
       "    <tr>\n",
       "      <th>4</th>\n",
       "      <td>Abhay Ispat</td>\n",
       "      <td>2</td>\n",
       "      <td>1</td>\n",
       "      <td>5</td>\n",
       "      <td>2</td>\n",
       "      <td>9</td>\n",
       "    </tr>\n",
       "  </tbody>\n",
       "</table>\n",
       "</div>"
      ],
      "text/plain": [
       "                       CounterPartyName  Department  Type Of Application  \\\n",
       "0                Stainox Alloys Pvt Ltd           2                    7   \n",
       "1                               Xyz Ltd           2                    1   \n",
       "2  Sunland Recycling Industries Limited           2                    7   \n",
       "3               E-con Packaging Pvt Ltd           2                    7   \n",
       "4                           Abhay Ispat           2                    1   \n",
       "\n",
       "   ApplicationStatus  RegionName  CounterPartyName   \n",
       "0                  5           2                167  \n",
       "1                  5           0                230  \n",
       "2                  5           2                171  \n",
       "3                  5           2                 59  \n",
       "4                  5           2                  9  "
      ]
     },
     "execution_count": 299,
     "metadata": {},
     "output_type": "execute_result"
    }
   ],
   "source": [
    "x.head()"
   ]
  },
  {
   "cell_type": "code",
   "execution_count": 300,
   "id": "9c38a574",
   "metadata": {},
   "outputs": [],
   "source": [
    "x_bkp=x"
   ]
  },
  {
   "cell_type": "code",
   "execution_count": 301,
   "id": "64bc6a85",
   "metadata": {},
   "outputs": [],
   "source": [
    "x=x.drop('CounterPartyName',axis=1)"
   ]
  },
  {
   "cell_type": "code",
   "execution_count": 302,
   "id": "5730c9d1",
   "metadata": {},
   "outputs": [
    {
     "data": {
      "text/html": [
       "<div>\n",
       "<style scoped>\n",
       "    .dataframe tbody tr th:only-of-type {\n",
       "        vertical-align: middle;\n",
       "    }\n",
       "\n",
       "    .dataframe tbody tr th {\n",
       "        vertical-align: top;\n",
       "    }\n",
       "\n",
       "    .dataframe thead th {\n",
       "        text-align: right;\n",
       "    }\n",
       "</style>\n",
       "<table border=\"1\" class=\"dataframe\">\n",
       "  <thead>\n",
       "    <tr style=\"text-align: right;\">\n",
       "      <th></th>\n",
       "      <th>Department</th>\n",
       "      <th>Type Of Application</th>\n",
       "      <th>ApplicationStatus</th>\n",
       "      <th>RegionName</th>\n",
       "      <th>CounterPartyName</th>\n",
       "    </tr>\n",
       "  </thead>\n",
       "  <tbody>\n",
       "    <tr>\n",
       "      <th>0</th>\n",
       "      <td>2</td>\n",
       "      <td>7</td>\n",
       "      <td>5</td>\n",
       "      <td>2</td>\n",
       "      <td>167</td>\n",
       "    </tr>\n",
       "    <tr>\n",
       "      <th>1</th>\n",
       "      <td>2</td>\n",
       "      <td>1</td>\n",
       "      <td>5</td>\n",
       "      <td>0</td>\n",
       "      <td>230</td>\n",
       "    </tr>\n",
       "    <tr>\n",
       "      <th>2</th>\n",
       "      <td>2</td>\n",
       "      <td>7</td>\n",
       "      <td>5</td>\n",
       "      <td>2</td>\n",
       "      <td>171</td>\n",
       "    </tr>\n",
       "    <tr>\n",
       "      <th>3</th>\n",
       "      <td>2</td>\n",
       "      <td>7</td>\n",
       "      <td>5</td>\n",
       "      <td>2</td>\n",
       "      <td>59</td>\n",
       "    </tr>\n",
       "    <tr>\n",
       "      <th>4</th>\n",
       "      <td>2</td>\n",
       "      <td>1</td>\n",
       "      <td>5</td>\n",
       "      <td>2</td>\n",
       "      <td>9</td>\n",
       "    </tr>\n",
       "  </tbody>\n",
       "</table>\n",
       "</div>"
      ],
      "text/plain": [
       "   Department  Type Of Application  ApplicationStatus  RegionName  \\\n",
       "0           2                    7                  5           2   \n",
       "1           2                    1                  5           0   \n",
       "2           2                    7                  5           2   \n",
       "3           2                    7                  5           2   \n",
       "4           2                    1                  5           2   \n",
       "\n",
       "   CounterPartyName   \n",
       "0                167  \n",
       "1                230  \n",
       "2                171  \n",
       "3                 59  \n",
       "4                  9  "
      ]
     },
     "execution_count": 302,
     "metadata": {},
     "output_type": "execute_result"
    }
   ],
   "source": [
    "x.head()"
   ]
  },
  {
   "cell_type": "markdown",
   "id": "57392367",
   "metadata": {},
   "source": [
    "### Splitting Dataset into Train & Test Datasets "
   ]
  },
  {
   "cell_type": "code",
   "execution_count": 303,
   "id": "617f4c16",
   "metadata": {},
   "outputs": [
    {
     "data": {
      "text/plain": [
       "((297, 5), (128, 5), (297,), (128,))"
      ]
     },
     "execution_count": 303,
     "metadata": {},
     "output_type": "execute_result"
    }
   ],
   "source": [
    "from sklearn.model_selection import train_test_split\n",
    "X_train, X_test, y_train, y_test = train_test_split(\n",
    "    x,\n",
    "    y,\n",
    "    test_size=0.3,\n",
    "    random_state=0)\n",
    "\n",
    "X_train.shape, X_test.shape, y_train.shape, y_test.shape"
   ]
  },
  {
   "cell_type": "markdown",
   "id": "3c8fde9b",
   "metadata": {},
   "source": [
    "### Performing Linear Regression Model "
   ]
  },
  {
   "cell_type": "code",
   "execution_count": 304,
   "id": "9f21dc34",
   "metadata": {},
   "outputs": [],
   "source": [
    "from sklearn import  linear_model, metrics\n"
   ]
  },
  {
   "cell_type": "code",
   "execution_count": 305,
   "id": "9d0b6c9e",
   "metadata": {},
   "outputs": [],
   "source": [
    "reg = linear_model.LinearRegression()\n"
   ]
  },
  {
   "cell_type": "code",
   "execution_count": 306,
   "id": "e97d6546",
   "metadata": {},
   "outputs": [
    {
     "data": {
      "text/plain": [
       "LinearRegression()"
      ]
     },
     "execution_count": 306,
     "metadata": {},
     "output_type": "execute_result"
    }
   ],
   "source": [
    "reg.fit(X_train, y_train)\n"
   ]
  },
  {
   "cell_type": "code",
   "execution_count": 307,
   "id": "cd503063",
   "metadata": {},
   "outputs": [],
   "source": [
    "y_pred=reg.predict(X_test)\n"
   ]
  },
  {
   "cell_type": "code",
   "execution_count": 308,
   "id": "96fef87a",
   "metadata": {},
   "outputs": [
    {
     "data": {
      "text/plain": [
       "array([-1.90399261e+11,  5.98738361e+11, -9.39975028e+10,  6.24518281e+11,\n",
       "       -1.40134963e+11,  6.06104052e+11, -7.74246972e+10,  6.17152589e+11,\n",
       "        5.67434173e+11, -1.23961917e+11,  8.28916216e+11, -9.95217713e+10,\n",
       "        9.80231073e+10,  6.26359704e+11,  8.29240102e+11,  4.91935836e+11,\n",
       "        7.81245886e+10,  2.23099796e+11, -2.03405891e+10,  4.27486037e+11,\n",
       "       -5.26164332e+10, -1.93758222e+11, -2.15757927e+11,  7.28318989e+11,\n",
       "        1.28050221e+10,  4.48304193e+11, -1.29748977e+10,  9.93518957e+10,\n",
       "       -5.75948200e+10,  6.34406424e+11,  9.71865876e+10,  1.62705412e+11,\n",
       "       -4.61205089e+10,  2.16106674e+11, -5.16447774e+10,  5.95055515e+11,\n",
       "        7.62624994e+11,  1.12241856e+11,  2.62625206e+09,  2.23099796e+11,\n",
       "       -9.87766320e+10, -5.72771876e+09, -2.68062906e+11,  7.93929182e+11,\n",
       "        7.28075355e+09,  1.35287359e+10,  1.14083278e+11, -2.64380060e+11,\n",
       "       -7.92661201e+10, -4.64443942e+10, -6.91892388e+10,  3.11978250e+10,\n",
       "       -3.31642938e+11,  1.78533078e+11,  5.36129984e+11,  1.99485253e+11,\n",
       "        1.25131816e+11, -1.51081611e+11,  1.16648415e+11,  8.30757639e+11,\n",
       "        2.85183843e+11,  2.10582406e+11, -1.10570308e+11,  1.52731733e+11,\n",
       "        6.13469744e+11, -5.75948200e+10,  2.06002661e+11,  7.01442786e+11,\n",
       "       -3.13891262e+10,  1.64546835e+11,  5.85848401e+11, -1.62130148e+11,\n",
       "       -3.35298525e+11, -7.74246972e+10, -1.85198878e+11,  5.33775927e+11,\n",
       "        8.27790901e+10,  6.81602389e+11, -1.51081611e+11, -4.05962404e+10,\n",
       "        6.25263420e+11, -1.16213089e+11, -1.60288725e+11,  2.42261288e+10,\n",
       "        2.93778277e+10,  8.49716571e+10,  8.32599062e+11,  6.25234388e+10,\n",
       "        2.07995843e+11,  1.20547562e+11, -8.84732343e+10,  2.16106674e+11,\n",
       "       -6.45347373e+10, -1.36452117e+11,  1.49070312e+11,  8.73317028e+10,\n",
       "        5.35617350e+11,  6.25234388e+10,  2.33775763e+11,  5.95055515e+11,\n",
       "       -8.66318114e+10,  1.80374501e+11,  1.58277427e+11,  6.00067149e+11,\n",
       "        2.23099796e+11,  5.67434173e+11, -3.13891262e+10,  2.06002661e+11,\n",
       "        7.90962444e+10, -3.50719718e+10,  1.78533078e+11,  7.99660115e+10,\n",
       "       -1.44687575e+11, -7.92661201e+10, -1.52923034e+11, -6.26933145e+10,\n",
       "        1.93264461e+11, -1.06887463e+11, -9.95217713e+10,  9.27313437e+10,\n",
       "       -2.25386295e+11, -2.31234449e+11,  5.70604384e+11, -1.30927848e+11,\n",
       "        7.03699463e+11, -1.62130148e+11,  5.95055515e+11, -1.17936000e+11])"
      ]
     },
     "execution_count": 308,
     "metadata": {},
     "output_type": "execute_result"
    }
   ],
   "source": [
    "y_pred"
   ]
  },
  {
   "cell_type": "code",
   "execution_count": 309,
   "id": "6f7e1d07",
   "metadata": {},
   "outputs": [
    {
     "data": {
      "text/plain": [
       "0      0.000000e+00\n",
       "1      1.000000e+08\n",
       "2      0.000000e+00\n",
       "3      0.000000e+00\n",
       "4      5.100000e+08\n",
       "           ...     \n",
       "420    2.000000e+09\n",
       "421    2.400000e+07\n",
       "422    1.400000e+07\n",
       "423    1.100000e+07\n",
       "424    1.100000e+07\n",
       "Name: Amount, Length: 425, dtype: float64"
      ]
     },
     "execution_count": 309,
     "metadata": {},
     "output_type": "execute_result"
    }
   ],
   "source": [
    "y"
   ]
  },
  {
   "cell_type": "code",
   "execution_count": 310,
   "id": "8da51c35",
   "metadata": {},
   "outputs": [],
   "source": [
    "y_df=pd.DataFrame(y)"
   ]
  },
  {
   "cell_type": "code",
   "execution_count": 311,
   "id": "ad6f4479",
   "metadata": {},
   "outputs": [
    {
     "data": {
      "text/plain": [
       "array([0.0000000e+00, 1.0000000e+08, 5.1000000e+08, 2.0000000e+08,\n",
       "       1.3500000e+08, 4.4000000e+07, 4.0000000e+07, 1.6000000e+08,\n",
       "       1.2000000e+06, 1.0000000e+06, 1.1000000e+07, 8.8000000e+07,\n",
       "       1.2000000e+07, 2.3000000e+07, 5.7450000e+08, 3.8500000e+08,\n",
       "       3.4000000e+07, 1.3000000e+07, 2.5000000e+09, 5.0076700e+09,\n",
       "       5.0000000e+12, 3.1000000e+08, 5.0000000e+08, 5.4628000e+08,\n",
       "       6.8000000e+08, 7.0000000e+08, 2.5076700e+09, 2.0000000e+09,\n",
       "       1.9000000e+11, 1.5000000e+08, 4.5000000e+07, 3.7320000e+09,\n",
       "       1.2340000e+09, 2.0000000e+06, 8.0000000e+06, 8.5250000e+09,\n",
       "       2.0000000e+07, 6.4550000e+09, 8.5750000e+09, 2.2000000e+07,\n",
       "       1.9100000e+08, 1.2000000e+08, 3.5400000e+08, 7.5000000e+07,\n",
       "       3.9000000e+07, 1.3000000e+08, 1.2400000e+08, 3.2400000e+08,\n",
       "       6.5800000e+08, 1.3800000e+09, 1.5700000e+08, 4.7500000e+08,\n",
       "       6.7500000e+08, 1.2000000e+09, 4.5270000e+09, 1.3860000e+09,\n",
       "       1.5000000e+07, 3.1050000e+08, 8.0400000e+08, 3.0550000e+08,\n",
       "       1.4120000e+09, 4.4130000e+09, 2.0201000e+10, 2.2947000e+10,\n",
       "       1.0144000e+10, 1.5000000e+10, 1.5002000e+10, 1.5620000e+11,\n",
       "       3.0000000e+08, 1.5000000e+09, 2.1000000e+08, 1.6900000e+08,\n",
       "       1.3480000e+09, 2.5240000e+09, 3.6900000e+08, 4.3900000e+08,\n",
       "       2.2000000e+08, 9.6770000e+09, 8.7000000e+07, 6.7000000e+07,\n",
       "       4.8000000e+07, 6.5000000e+07, 1.0000000e+07, 1.5107000e+10,\n",
       "       1.1000100e+08, 9.6650000e+09, 3.8000000e+07, 6.5481000e+10,\n",
       "       6.5491000e+10, 6.5856000e+10, 1.5900000e+08, 1.5100000e+08,\n",
       "       6.1000000e+08, 5.0650000e+09, 1.1100000e+08, 1.8500000e+08,\n",
       "       5.0000000e+07, 6.4000000e+07, 5.9000000e+07, 7.0000000e+07,\n",
       "       3.0000000e+07, 2.7000000e+07, 7.3000000e+07, 5.4000000e+07,\n",
       "       4.2000000e+07, 1.1400000e+08, 7.6000000e+07, 4.2400000e+08,\n",
       "       2.5800000e+08, 8.9000000e+07, 3.4200000e+08, 3.4400000e+08,\n",
       "       4.1300000e+08, 2.3222000e+10, 1.4000000e+14, 8.6000000e+07,\n",
       "       1.2300000e+08, 3.2000000e+07, 3.9000000e+09, 4.5500000e+09,\n",
       "       1.2500000e+09, 9.5000000e+08, 8.0000000e+07, 1.5020000e+10,\n",
       "       1.6000000e+07, 5.0000000e+10, 2.0000000e+13, 2.5000000e+10,\n",
       "       2.0002332e+13, 2.3240000e+09, 2.3210000e+09, 2.3120000e+09,\n",
       "       3.1210000e+09, 2.3000000e+09, 3.2000000e+10, 1.2110000e+09,\n",
       "       1.2900000e+09, 3.6210000e+09, 2.2900000e+09, 3.2900000e+09,\n",
       "       6.7900000e+09, 1.1000000e+09, 2.2000000e+09, 3.0000000e+09,\n",
       "       4.5000000e+09, 6.0000000e+09, 2.4000000e+07, 1.4000000e+07])"
      ]
     },
     "execution_count": 311,
     "metadata": {},
     "output_type": "execute_result"
    }
   ],
   "source": [
    "y.unique()"
   ]
  },
  {
   "cell_type": "code",
   "execution_count": 312,
   "id": "be244495",
   "metadata": {},
   "outputs": [
    {
     "data": {
      "text/html": [
       "<div>\n",
       "<style scoped>\n",
       "    .dataframe tbody tr th:only-of-type {\n",
       "        vertical-align: middle;\n",
       "    }\n",
       "\n",
       "    .dataframe tbody tr th {\n",
       "        vertical-align: top;\n",
       "    }\n",
       "\n",
       "    .dataframe thead th {\n",
       "        text-align: right;\n",
       "    }\n",
       "</style>\n",
       "<table border=\"1\" class=\"dataframe\">\n",
       "  <thead>\n",
       "    <tr style=\"text-align: right;\">\n",
       "      <th></th>\n",
       "      <th>Amount</th>\n",
       "    </tr>\n",
       "  </thead>\n",
       "  <tbody>\n",
       "    <tr>\n",
       "      <th>0</th>\n",
       "      <td>0.000000e+00</td>\n",
       "    </tr>\n",
       "    <tr>\n",
       "      <th>1</th>\n",
       "      <td>1.000000e+08</td>\n",
       "    </tr>\n",
       "    <tr>\n",
       "      <th>2</th>\n",
       "      <td>0.000000e+00</td>\n",
       "    </tr>\n",
       "    <tr>\n",
       "      <th>3</th>\n",
       "      <td>0.000000e+00</td>\n",
       "    </tr>\n",
       "    <tr>\n",
       "      <th>4</th>\n",
       "      <td>5.100000e+08</td>\n",
       "    </tr>\n",
       "    <tr>\n",
       "      <th>...</th>\n",
       "      <td>...</td>\n",
       "    </tr>\n",
       "    <tr>\n",
       "      <th>420</th>\n",
       "      <td>2.000000e+09</td>\n",
       "    </tr>\n",
       "    <tr>\n",
       "      <th>421</th>\n",
       "      <td>2.400000e+07</td>\n",
       "    </tr>\n",
       "    <tr>\n",
       "      <th>422</th>\n",
       "      <td>1.400000e+07</td>\n",
       "    </tr>\n",
       "    <tr>\n",
       "      <th>423</th>\n",
       "      <td>1.100000e+07</td>\n",
       "    </tr>\n",
       "    <tr>\n",
       "      <th>424</th>\n",
       "      <td>1.100000e+07</td>\n",
       "    </tr>\n",
       "  </tbody>\n",
       "</table>\n",
       "<p>425 rows × 1 columns</p>\n",
       "</div>"
      ],
      "text/plain": [
       "           Amount\n",
       "0    0.000000e+00\n",
       "1    1.000000e+08\n",
       "2    0.000000e+00\n",
       "3    0.000000e+00\n",
       "4    5.100000e+08\n",
       "..            ...\n",
       "420  2.000000e+09\n",
       "421  2.400000e+07\n",
       "422  1.400000e+07\n",
       "423  1.100000e+07\n",
       "424  1.100000e+07\n",
       "\n",
       "[425 rows x 1 columns]"
      ]
     },
     "execution_count": 312,
     "metadata": {},
     "output_type": "execute_result"
    }
   ],
   "source": [
    "y_df"
   ]
  },
  {
   "cell_type": "markdown",
   "id": "05571860",
   "metadata": {},
   "source": [
    "### Performing MinMax Scaling on Target Variable\n"
   ]
  },
  {
   "cell_type": "code",
   "execution_count": 313,
   "id": "67e143a2",
   "metadata": {},
   "outputs": [],
   "source": [
    "from sklearn.preprocessing import MinMaxScaler\n",
    "scaler_norm = MinMaxScaler()\n"
   ]
  },
  {
   "cell_type": "code",
   "execution_count": 314,
   "id": "dd3e8b4b",
   "metadata": {},
   "outputs": [],
   "source": [
    " scaler_norm.fit(y_df)\n",
    "y_df_norm = scaler_norm.transform(y_df) \n"
   ]
  },
  {
   "cell_type": "code",
   "execution_count": 315,
   "id": "f5020426",
   "metadata": {},
   "outputs": [
    {
     "data": {
      "text/plain": [
       "((297, 5), (128, 5), (297, 1), (128, 1))"
      ]
     },
     "execution_count": 315,
     "metadata": {},
     "output_type": "execute_result"
    }
   ],
   "source": [
    "from sklearn.model_selection import train_test_split\n",
    "X_train_norm, X_test_norm, y_train_norm, y_test_norm = train_test_split(\n",
    "    x,\n",
    "    y_df_norm,\n",
    "    test_size=0.3,\n",
    "    random_state=0)\n",
    "\n",
    "X_train_norm.shape, X_test_norm.shape, y_train_norm.shape, y_test_norm.shape"
   ]
  },
  {
   "cell_type": "code",
   "execution_count": 316,
   "id": "c43b2a8a",
   "metadata": {},
   "outputs": [
    {
     "data": {
      "text/plain": [
       "LinearRegression()"
      ]
     },
     "execution_count": 316,
     "metadata": {},
     "output_type": "execute_result"
    }
   ],
   "source": [
    "reg.fit(X_train_norm, y_train_norm)\n"
   ]
  },
  {
   "cell_type": "code",
   "execution_count": 317,
   "id": "23b09f74",
   "metadata": {},
   "outputs": [],
   "source": [
    "y_pred_norm=reg.predict(X_test_norm)\n"
   ]
  },
  {
   "cell_type": "code",
   "execution_count": 318,
   "id": "1e7d2792",
   "metadata": {},
   "outputs": [],
   "source": [
    "from sklearn.metrics import mean_absolute_error,mean_squared_error,r2_score"
   ]
  },
  {
   "cell_type": "code",
   "execution_count": 319,
   "id": "28100d01",
   "metadata": {},
   "outputs": [
    {
     "name": "stdout",
     "output_type": "stream",
     "text": [
      "MAE 1344849054835.724\n"
     ]
    }
   ],
   "source": [
    "print(\"MAE\",mean_absolute_error(y_test,y_pred))"
   ]
  },
  {
   "cell_type": "code",
   "execution_count": 320,
   "id": "3ee03605",
   "metadata": {},
   "outputs": [
    {
     "name": "stdout",
     "output_type": "stream",
     "text": [
      "NORM_MAE 0.00960606467739802\n"
     ]
    }
   ],
   "source": [
    "print(\"NORM_MAE\",mean_absolute_error(y_test_norm,y_pred_norm))"
   ]
  },
  {
   "cell_type": "code",
   "execution_count": 321,
   "id": "c91e74d7",
   "metadata": {},
   "outputs": [
    {
     "data": {
      "text/plain": [
       "array([[-1.35999472e-03],\n",
       "       [ 4.27670258e-03],\n",
       "       [-6.71410734e-04],\n",
       "       [ 4.46084486e-03],\n",
       "       [-1.00096402e-03],\n",
       "       [ 4.32931466e-03],\n",
       "       [-5.53033552e-04],\n",
       "       [ 4.40823278e-03],\n",
       "       [ 4.05310123e-03],\n",
       "       [-8.85442262e-04],\n",
       "       [ 5.92083012e-03],\n",
       "       [-7.10869795e-04],\n",
       "       [ 7.00165052e-04],\n",
       "       [ 4.47399788e-03],\n",
       "       [ 5.92314358e-03],\n",
       "       [ 3.51382740e-03],\n",
       "       [ 5.58032776e-04],\n",
       "       [ 1.59356997e-03],\n",
       "       [-1.45289922e-04],\n",
       "       [ 3.05347169e-03],\n",
       "       [-3.75831666e-04],\n",
       "       [-1.38398730e-03],\n",
       "       [-1.54112805e-03],\n",
       "       [ 5.20227849e-03],\n",
       "       [ 9.14644434e-05],\n",
       "       [ 3.20217281e-03],\n",
       "       [-9.26778409e-05],\n",
       "       [ 7.09656398e-04],\n",
       "       [-4.11391571e-04],\n",
       "       [ 4.53147446e-03],\n",
       "       [ 6.94189911e-04],\n",
       "       [ 1.16218151e-03],\n",
       "       [-3.29432206e-04],\n",
       "       [ 1.54361910e-03],\n",
       "       [-3.68891267e-04],\n",
       "       [ 4.25039654e-03],\n",
       "       [ 5.44732139e-03],\n",
       "       [ 8.01727540e-04],\n",
       "       [ 1.87589433e-05],\n",
       "       [ 1.59356997e-03],\n",
       "       [-7.05547371e-04],\n",
       "       [-4.09122769e-05],\n",
       "       [-1.91473504e-03],\n",
       "       [ 5.67092273e-03],\n",
       "       [ 5.20053825e-05],\n",
       "       [ 9.66338279e-05],\n",
       "       [ 8.14880560e-04],\n",
       "       [-1.88842900e-03],\n",
       "       [-5.66186572e-04],\n",
       "       [-3.31745673e-04],\n",
       "       [-4.94208849e-04],\n",
       "       [ 2.22841607e-04],\n",
       "       [-2.36887813e-03],\n",
       "       [ 1.27523627e-03],\n",
       "       [ 3.82949989e-03],\n",
       "       [ 1.42489467e-03],\n",
       "       [ 8.93798682e-04],\n",
       "       [-1.07915436e-03],\n",
       "       [ 8.33202965e-04],\n",
       "       [ 5.93398314e-03],\n",
       "       [ 2.03702745e-03],\n",
       "       [ 1.50416004e-03],\n",
       "       [-7.89787917e-04],\n",
       "       [ 1.09094095e-03],\n",
       "       [ 4.38192674e-03],\n",
       "       [-4.11391571e-04],\n",
       "       [ 1.47144758e-03],\n",
       "       [ 5.01030561e-03],\n",
       "       [-2.24208044e-04],\n",
       "       [ 1.17533453e-03],\n",
       "       [ 4.18463144e-03],\n",
       "       [-1.15807249e-03],\n",
       "       [-2.39498947e-03],\n",
       "       [-5.53033552e-04],\n",
       "       [-1.32284913e-03],\n",
       "       [ 3.81268519e-03],\n",
       "       [ 5.91279215e-04],\n",
       "       [ 4.86858849e-03],\n",
       "       [-1.07915436e-03],\n",
       "       [-2.89973145e-04],\n",
       "       [ 4.46616729e-03],\n",
       "       [-8.30093495e-04],\n",
       "       [-1.14491947e-03],\n",
       "       [ 1.73043777e-04],\n",
       "       [ 2.09841626e-04],\n",
       "       [ 6.06940408e-04],\n",
       "       [ 5.94713616e-03],\n",
       "       [ 4.46595992e-04],\n",
       "       [ 1.48568460e-03],\n",
       "       [ 8.61054014e-04],\n",
       "       [-6.31951673e-04],\n",
       "       [ 1.54361910e-03],\n",
       "       [-4.60962409e-04],\n",
       "       [-9.74657978e-04],\n",
       "       [ 1.06478795e-03],\n",
       "       [ 6.23797877e-04],\n",
       "       [ 3.82583821e-03],\n",
       "       [ 4.46595992e-04],\n",
       "       [ 1.66982688e-03],\n",
       "       [ 4.25039654e-03],\n",
       "       [-6.18798653e-04],\n",
       "       [ 1.28838929e-03],\n",
       "       [ 1.13055305e-03],\n",
       "       [ 4.28619392e-03],\n",
       "       [ 1.59356997e-03],\n",
       "       [ 4.05310123e-03],\n",
       "       [-2.24208044e-04],\n",
       "       [ 1.47144758e-03],\n",
       "       [ 5.64973174e-04],\n",
       "       [-2.50514085e-04],\n",
       "       [ 1.27523627e-03],\n",
       "       [ 5.71185796e-04],\n",
       "       [-1.03348268e-03],\n",
       "       [-5.66186572e-04],\n",
       "       [-1.09230738e-03],\n",
       "       [-4.47809389e-04],\n",
       "       [ 1.38046043e-03],\n",
       "       [-7.63481877e-04],\n",
       "       [-7.10869795e-04],\n",
       "       [ 6.62366741e-04],\n",
       "       [-1.60990211e-03],\n",
       "       [-1.65167464e-03],\n",
       "       [ 4.07574560e-03],\n",
       "       [-9.35198917e-04],\n",
       "       [ 5.02642474e-03],\n",
       "       [-1.15807249e-03],\n",
       "       [ 4.25039654e-03],\n",
       "       [-8.42399998e-04]])"
      ]
     },
     "execution_count": 321,
     "metadata": {},
     "output_type": "execute_result"
    }
   ],
   "source": [
    "y_pred_norm"
   ]
  },
  {
   "cell_type": "code",
   "execution_count": 322,
   "id": "623be834",
   "metadata": {},
   "outputs": [],
   "source": [
    "from sklearn import preprocessing\n",
    "label_encoder = preprocessing.LabelEncoder()"
   ]
  },
  {
   "cell_type": "code",
   "execution_count": 323,
   "id": "bbf4f4a7",
   "metadata": {},
   "outputs": [],
   "source": [
    "def decoding(colmns):\n",
    "    c_list=list(df[colmns])\n",
    "    c_value=label_encoder.fit_transform(c_list)\n",
    "    c_keys=label_encoder.inverse_transform(label_encoder.fit_transform(c_list))\n",
    "    mergeLists_c = dict(zip( c_value,c_keys))\n",
    "    print(mergeLists_c)\n"
   ]
  },
  {
   "cell_type": "code",
   "execution_count": 324,
   "id": "a1a9fce0",
   "metadata": {},
   "outputs": [],
   "source": [
    "df['CounterPartyName']=df['CounterPartyName'].astype('str')"
   ]
  },
  {
   "cell_type": "code",
   "execution_count": 325,
   "id": "37fc3c4b",
   "metadata": {},
   "outputs": [
    {
     "data": {
      "text/html": [
       "<div>\n",
       "<style scoped>\n",
       "    .dataframe tbody tr th:only-of-type {\n",
       "        vertical-align: middle;\n",
       "    }\n",
       "\n",
       "    .dataframe tbody tr th {\n",
       "        vertical-align: top;\n",
       "    }\n",
       "\n",
       "    .dataframe thead th {\n",
       "        text-align: right;\n",
       "    }\n",
       "</style>\n",
       "<table border=\"1\" class=\"dataframe\">\n",
       "  <thead>\n",
       "    <tr style=\"text-align: right;\">\n",
       "      <th></th>\n",
       "      <th>CounterPartyName</th>\n",
       "      <th>Department</th>\n",
       "      <th>Type Of Application</th>\n",
       "      <th>ApplicationStatus</th>\n",
       "      <th>RegionName</th>\n",
       "      <th>Amount</th>\n",
       "    </tr>\n",
       "  </thead>\n",
       "  <tbody>\n",
       "    <tr>\n",
       "      <th>0</th>\n",
       "      <td>Stainox Alloys Pvt Ltd</td>\n",
       "      <td>Emerging Local Corporates - MEB - BU</td>\n",
       "      <td>Renewal</td>\n",
       "      <td>WIP</td>\n",
       "      <td>WEST</td>\n",
       "      <td>0.0</td>\n",
       "    </tr>\n",
       "    <tr>\n",
       "      <th>1</th>\n",
       "      <td>Xyz Ltd</td>\n",
       "      <td>Emerging Local Corporates - MEB - BU</td>\n",
       "      <td>Fresh</td>\n",
       "      <td>WIP</td>\n",
       "      <td>NORTH</td>\n",
       "      <td>100000000.0</td>\n",
       "    </tr>\n",
       "    <tr>\n",
       "      <th>2</th>\n",
       "      <td>Sunland Recycling Industries Limited</td>\n",
       "      <td>Emerging Local Corporates - MEB - BU</td>\n",
       "      <td>Renewal</td>\n",
       "      <td>WIP</td>\n",
       "      <td>WEST</td>\n",
       "      <td>0.0</td>\n",
       "    </tr>\n",
       "    <tr>\n",
       "      <th>3</th>\n",
       "      <td>E-con Packaging Pvt Ltd</td>\n",
       "      <td>Emerging Local Corporates - MEB - BU</td>\n",
       "      <td>Renewal</td>\n",
       "      <td>WIP</td>\n",
       "      <td>WEST</td>\n",
       "      <td>0.0</td>\n",
       "    </tr>\n",
       "    <tr>\n",
       "      <th>4</th>\n",
       "      <td>Abhay Ispat</td>\n",
       "      <td>Emerging Local Corporates - MEB - BU</td>\n",
       "      <td>Fresh</td>\n",
       "      <td>WIP</td>\n",
       "      <td>WEST</td>\n",
       "      <td>510000000.0</td>\n",
       "    </tr>\n",
       "  </tbody>\n",
       "</table>\n",
       "</div>"
      ],
      "text/plain": [
       "                       CounterPartyName                            Department  \\\n",
       "0                Stainox Alloys Pvt Ltd  Emerging Local Corporates - MEB - BU   \n",
       "1                               Xyz Ltd  Emerging Local Corporates - MEB - BU   \n",
       "2  Sunland Recycling Industries Limited  Emerging Local Corporates - MEB - BU   \n",
       "3               E-con Packaging Pvt Ltd  Emerging Local Corporates - MEB - BU   \n",
       "4                           Abhay Ispat  Emerging Local Corporates - MEB - BU   \n",
       "\n",
       "  Type Of Application ApplicationStatus RegionName       Amount  \n",
       "0             Renewal               WIP       WEST          0.0  \n",
       "1               Fresh               WIP      NORTH  100000000.0  \n",
       "2             Renewal               WIP       WEST          0.0  \n",
       "3             Renewal               WIP       WEST          0.0  \n",
       "4               Fresh               WIP       WEST  510000000.0  "
      ]
     },
     "execution_count": 325,
     "metadata": {},
     "output_type": "execute_result"
    }
   ],
   "source": [
    "df.head()"
   ]
  },
  {
   "cell_type": "code",
   "execution_count": 326,
   "id": "dbdf659c",
   "metadata": {},
   "outputs": [
    {
     "data": {
      "text/plain": [
       "Index(['CounterPartyName', 'Department', 'Type Of Application',\n",
       "       'ApplicationStatus', 'RegionName', 'Amount'],\n",
       "      dtype='object')"
      ]
     },
     "execution_count": 326,
     "metadata": {},
     "output_type": "execute_result"
    }
   ],
   "source": [
    "df.columns"
   ]
  },
  {
   "cell_type": "code",
   "execution_count": 327,
   "id": "d28e6c7d",
   "metadata": {},
   "outputs": [
    {
     "name": "stdout",
     "output_type": "stream",
     "text": [
      "{2: 'Emerging Local Corporates - MEB - BU', 5: 'LC/Large Corporate - LC - BU', 0: 'CB/Corporate Banking - CB - BU', 3: 'GB/Government Banking - GB - BU', 6: 'MCB/Multi National Corporate Banking - MCB - BU', 1: 'ECB/Emerging Corporates Banking - ECB - BU', 7: 'Strategic Client Group I - SCGI - BU', 4: 'Institutional and International Banking - IIB - BU'}\n"
     ]
    }
   ],
   "source": [
    "decoding('Department')"
   ]
  },
  {
   "cell_type": "code",
   "execution_count": 328,
   "id": "72263726",
   "metadata": {},
   "outputs": [
    {
     "name": "stdout",
     "output_type": "stream",
     "text": [
      "{7: 'Renewal', 1: 'Fresh', 4: 'In Process', 0: 'Enhancement', 6: 'Modification in Facilities', 3: 'IOM Limit Extension', 8: 'Term Loan-Review', 2: 'IOM', 5: 'Inter Office Memorandum'}\n"
     ]
    }
   ],
   "source": [
    "decoding('Type Of Application')"
   ]
  },
  {
   "cell_type": "code",
   "execution_count": 329,
   "id": "fa9b5910",
   "metadata": {},
   "outputs": [
    {
     "name": "stdout",
     "output_type": "stream",
     "text": [
      "{5: 'WIP', 2: 'DECLINE', 0: 'APPROVE', 1: 'APPROVE WITH CONDITION', 4: 'RECOMMENDED', 3: 'PENDING'}\n"
     ]
    }
   ],
   "source": [
    "decoding('ApplicationStatus')"
   ]
  },
  {
   "cell_type": "code",
   "execution_count": 330,
   "id": "144071b2",
   "metadata": {},
   "outputs": [
    {
     "name": "stdout",
     "output_type": "stream",
     "text": [
      "{2: 'WEST', 0: 'NORTH', 1: 'SOUTH'}\n"
     ]
    }
   ],
   "source": [
    "decoding('RegionName')"
   ]
  },
  {
   "cell_type": "code",
   "execution_count": 334,
   "id": "93975022",
   "metadata": {},
   "outputs": [
    {
     "name": "stdout",
     "output_type": "stream",
     "text": [
      "{167: 'Stainox Alloys Pvt Ltd', 230: 'Xyz Ltd', 171: 'Sunland Recycling Industries Limited', 59: 'E-con Packaging Pvt Ltd', 9: 'Abhay Ispat', 3: 'ABC P L', 19: 'Amarjit parihar', 125: 'Onward Technologies Limited', 128: 'PQR Limited', 78: 'Hamilton Housewares Pvt. Ltd.', 123: 'OPOS', 188: 'Test 2 March 2020', 179: 'TEST 3 MARCH', 195: 'Test validation', 194: 'Test val 2', 100: 'Loki', 223: 'Vintage', 74: 'Gaurav_Test01', 83: 'IOM_test1', 210: 'Testlc', 216: 'Town', 132: 'Prime', 0: '2008-10-01 00:00:00', 136: 'Puma Fashion', 103: 'Mahashila Jewellery', 189: 'Test 21 Nov 2019', 72: 'GB_BU_test1', 120: 'Nexus_test_Abee', 18: 'Ajio', 146: 'Reebok International Limited', 104: 'Mahindra Finance', 77: 'HSBC', 158: 'Seven eleven', 21: 'Apple INC.', 141: 'RAROC_Lokesh_Test', 46: 'Cisco Inc.', 174: 'Suvidha Pvt Ltd', 143: 'Radius Systems Limited', 45: 'Cipla Limited', 212: 'Titan Comapny Ltd', 186: 'Tem Plates', 208: 'Test_Ajith', 202: 'Test_02_Ajit', 55: 'Delaware Inc', 139: 'RAROC Limited', 89: 'Intellect Software solutions Pvt Ltd', 7: 'Abee_Intellect Software soltn', 16: 'Addwf_test1', 193: 'Test Contact Person', 12: 'AddWF_test2', 13: 'AddWF_test3', 11: 'AddWFTest4', 14: 'AddWF_test5', 221: 'Vijay Sales', 187: 'Test 1204', 232: 'YG Ent', 51: 'Cred8', 159: 'Shiva', 233: 'Zee', 164: 'Skybloom Ltd', 52: 'DEMO', 84: 'IOm_New1', 147: 'Reference rate check', 133: 'Psl_Cust01', 196: 'Test0106', 135: 'Psl_new_cust', 88: 'Intel L', 217: 'Uat new case', 20: 'Apple', 192: 'Test Company Ltd', 224: 'Virus', 161: 'Shyam Bhagwat Group Company', 140: 'RAROC cal', 184: 'Tata Industries', 96: 'L&T', 37: 'CAM TESTING RBL', 79: 'Hello', 73: 'Gaurav B(Upadted)', 64: 'Elearning', 97: 'Link updated', 91: 'JK', 22: 'Arctic 50', 150: 'Reliance Telecom', 98: 'Loadout', 8: 'Abee_test', 138: 'Quartz', 54: 'Date proposed', 177: 'Synechron', 71: 'Final CAM', 160: 'Showdiff check', 218: 'VJD 2502222', 48: 'Conditions check', 25: 'Ayur pvt ltd', 32: 'Bhavna_Test', 231: 'YES CAM 25022022', 211: 'Testng', 168: 'Stream S', 113: 'Naver Corp', 33: 'BigHit Ent', 57: 'Dora pvt ltd', 219: 'Vedanta Academy', 144: 'Raroc User01', 234: 'Zensar Technologies', 112: 'Nandan Denim', 15: 'Addtnl_WF_Abee1', 213: 'Titan Company Limited', 172: 'Superia', 105: 'Malliga furniture', 38: 'CEAT', 165: 'Skyway RMC Ltd', 142: 'RSWM', 27: 'Bajaj Finance Limited', 155: 'Samsung', 43: 'Cera Sanitaryware', 10: 'Accenture', 6: 'ALTAS', 198: 'Test1503', 58: 'Dynamite B', 50: 'Core C', 35: 'Bulletproof B', 205: 'Test_08', 49: 'Copper', 26: 'BSNL B', 131: 'Primary P', 17: 'Airbnb', 81: 'Hype H', 70: 'Fin F', 206: 'Test_2506', 152: 'Remote R', 122: 'OP', 225: 'Wellness Forever', 108: 'Mnet', 126: 'Overcast', 28: 'Bcctest', 111: 'NCT', 40: 'Campdf', 153: 'SM Ent', 36: 'CAM', 87: 'Intel', 102: 'MCD', 90: 'J. Chemistry', 68: 'Exo', 129: 'PSL', 157: 'Seba Med', 116: 'New', 76: 'H&M', 107: 'Minimalist', 75: 'Gen', 215: 'Tonymoly', 99: 'Logitech', 109: 'Modern', 118: 'Newton', 86: 'Ikonic', 166: 'Sony', 114: 'Neopack', 156: 'Seagate', 228: 'Wion', 121: 'Nivea', 185: 'Tea shelf', 130: 'Philips', 163: 'Simple', 85: 'Icare Pharma', 207: 'Test_Aj', 127: 'P Jewellers Pvt Ltd', 94: 'KALYAN JEWWLLERS', 29: 'Bhagwat Group of compnay', 124: 'One Point One Solutions Limited', 5: 'AKASH Industries', 4: 'ABC Technologies Limited', 24: 'Ashtech India Private imited', 227: 'Who', 44: 'Chemco plastic industries private limited', 93: 'Jyoti Shine Pvt Ltd', 31: 'Bharat Insulation Company India Private Limited', 137: 'Pyramid Technoplast Pvt Ltd', 80: 'Hindustan Composites Ltd', 47: 'Code Pvt. Ltd.', 101: 'M K Jokai Agri Plantations Private Limited', 23: 'Ashtech India Private Limited', 65: 'Empire Industries Limited', 119: 'Nexus Petrochem Pvt. Ltd.', 149: 'Reliance Industries private limited', 39: 'COASTAL MARINE CONSTRUCTION AND ENGINEERING LIMITED', 191: 'Test Company', 162: 'Silver Emporium Private Limited', 175: 'Swarnsarita Gems Ltd', 154: 'SSF Plastics India Pvt Ltd', 117: 'New Case', 190: 'Test 23 April UAT', 220: 'Vedvyas Private Limited', 226: 'West coast opticable limited', 30: 'Bhakti Enterprise Pvt Ltd', 110: 'Mukta', 95: 'KGR Enterprises Pvt Ltd', 2: 'ABC Inc', 92: 'Jewelex India Private Limited', 69: 'Faze Three Limited', 56: 'Dharma Productions Private Limited', 180: 'TEST_CUST_01', 199: 'Test31-05', 200: 'TestSCGI', 222: 'Viki', 145: 'Ray', 134: 'Psl_Custsgci', 169: 'Sun Farma Ltd', 148: 'Reliance Industries', 170: 'Sun Pharmaceuticals', 182: 'Tanishq', 173: 'Surya Wooden', 183: 'Tata Fin Serv', 151: 'RelianceFresh Mart', 115: 'Nescafe', 34: 'Boomerang', 214: 'Tokyo KKBK', 176: 'Symphony', 203: 'Test_03_Ajit', 197: 'Test04_Ajit', 204: 'Test_05_Ajit', 209: 'Test_ex', 181: 'TEST_EX2', 60: 'EX01', 61: 'EX02', 66: 'Ex03', 62: 'EX03', 63: 'EXT_01', 201: 'Test_001', 67: 'Ex_d1', 229: 'XYZ', 42: 'Case_DM', 178: 'T1_Demo', 106: 'Maya Ele', 53: 'DTDC', 82: 'IIBtest', 41: 'Canon', 1: 'A'}\n"
     ]
    }
   ],
   "source": [
    "decoding('CounterPartyName')"
   ]
  },
  {
   "cell_type": "code",
   "execution_count": 335,
   "id": "4f5ce8f4",
   "metadata": {},
   "outputs": [
    {
     "data": {
      "text/plain": [
       "array([[0.00053932]])"
      ]
     },
     "execution_count": 335,
     "metadata": {},
     "output_type": "execute_result"
    }
   ],
   "source": [
    "reg.predict([[4,2,0,4,101]])\n"
   ]
  },
  {
   "cell_type": "code",
   "execution_count": 336,
   "id": "cee73054",
   "metadata": {},
   "outputs": [
    {
     "data": {
      "text/plain": [
       "array([[0.0000000e+00],\n",
       "       [1.0000000e+08],\n",
       "       [0.0000000e+00],\n",
       "       [0.0000000e+00],\n",
       "       [5.1000000e+08],\n",
       "       [2.0000000e+08],\n",
       "       [0.0000000e+00],\n",
       "       [0.0000000e+00],\n",
       "       [2.0000000e+08],\n",
       "       [0.0000000e+00],\n",
       "       [1.0000000e+08],\n",
       "       [1.0000000e+08],\n",
       "       [1.3500000e+08],\n",
       "       [4.4000000e+07],\n",
       "       [0.0000000e+00],\n",
       "       [4.0000000e+07],\n",
       "       [1.6000000e+08],\n",
       "       [4.4000000e+07],\n",
       "       [4.4000000e+07],\n",
       "       [4.0000000e+07],\n",
       "       [1.6000000e+08],\n",
       "       [1.6000000e+08],\n",
       "       [4.4000000e+07],\n",
       "       [4.4000000e+07],\n",
       "       [4.0000000e+07],\n",
       "       [4.0000000e+07],\n",
       "       [1.2000000e+06],\n",
       "       [1.0000000e+06],\n",
       "       [1.1000000e+07],\n",
       "       [1.0000000e+06],\n",
       "       [0.0000000e+00],\n",
       "       [8.8000000e+07],\n",
       "       [8.8000000e+07],\n",
       "       [8.8000000e+07],\n",
       "       [1.2000000e+07],\n",
       "       [2.3000000e+07],\n",
       "       [5.7450000e+08],\n",
       "       [5.7450000e+08],\n",
       "       [3.8500000e+08],\n",
       "       [1.0000000e+06],\n",
       "       [1.0000000e+06],\n",
       "       [1.2000000e+07],\n",
       "       [3.4000000e+07],\n",
       "       [1.3000000e+07],\n",
       "       [0.0000000e+00],\n",
       "       [2.5000000e+09],\n",
       "       [5.0076700e+09],\n",
       "       [1.2000000e+07],\n",
       "       [5.0000000e+12],\n",
       "       [1.0000000e+06],\n",
       "       [3.1000000e+08],\n",
       "       [5.0000000e+08],\n",
       "       [5.4628000e+08],\n",
       "       [6.8000000e+08],\n",
       "       [7.0000000e+08],\n",
       "       [2.5076700e+09],\n",
       "       [2.0000000e+09],\n",
       "       [1.9000000e+11],\n",
       "       [1.5000000e+08],\n",
       "       [1.1000000e+07],\n",
       "       [1.2000000e+07],\n",
       "       [1.2000000e+07],\n",
       "       [4.0000000e+07],\n",
       "       [4.5000000e+07],\n",
       "       [3.7320000e+09],\n",
       "       [1.2000000e+07],\n",
       "       [1.2340000e+09],\n",
       "       [1.0000000e+06],\n",
       "       [0.0000000e+00],\n",
       "       [1.0000000e+06],\n",
       "       [1.0000000e+06],\n",
       "       [2.0000000e+06],\n",
       "       [0.0000000e+00],\n",
       "       [1.0000000e+06],\n",
       "       [1.0000000e+06],\n",
       "       [1.0000000e+06],\n",
       "       [1.0000000e+06],\n",
       "       [1.0000000e+06],\n",
       "       [1.0000000e+06],\n",
       "       [1.0000000e+06],\n",
       "       [8.0000000e+06],\n",
       "       [1.0000000e+06],\n",
       "       [1.0000000e+06],\n",
       "       [1.0000000e+06],\n",
       "       [8.5250000e+09],\n",
       "       [2.0000000e+07],\n",
       "       [1.2000000e+07],\n",
       "       [6.4550000e+09],\n",
       "       [1.0000000e+06],\n",
       "       [1.0000000e+06],\n",
       "       [1.0000000e+06],\n",
       "       [1.2000000e+07],\n",
       "       [1.2000000e+07],\n",
       "       [8.0000000e+06],\n",
       "       [8.5750000e+09],\n",
       "       [1.0000000e+06],\n",
       "       [1.0000000e+06],\n",
       "       [2.2000000e+07],\n",
       "       [2.5000000e+09],\n",
       "       [1.9100000e+08],\n",
       "       [1.2000000e+08],\n",
       "       [3.5400000e+08],\n",
       "       [7.5000000e+07],\n",
       "       [3.9000000e+07],\n",
       "       [3.5400000e+08],\n",
       "       [2.0000000e+06],\n",
       "       [1.9100000e+08],\n",
       "       [1.9100000e+08],\n",
       "       [1.3000000e+08],\n",
       "       [1.2400000e+08],\n",
       "       [3.2400000e+08],\n",
       "       [6.5800000e+08],\n",
       "       [1.2400000e+08],\n",
       "       [1.3800000e+09],\n",
       "       [1.5700000e+08],\n",
       "       [4.7500000e+08],\n",
       "       [4.7500000e+08],\n",
       "       [4.7500000e+08],\n",
       "       [4.7500000e+08],\n",
       "       [4.7500000e+08],\n",
       "       [4.7500000e+08],\n",
       "       [6.7500000e+08],\n",
       "       [1.2000000e+09],\n",
       "       [7.0000000e+08],\n",
       "       [0.0000000e+00],\n",
       "       [7.0000000e+08],\n",
       "       [7.0000000e+08],\n",
       "       [1.2000000e+07],\n",
       "       [1.2000000e+07],\n",
       "       [4.5270000e+09],\n",
       "       [1.3860000e+09],\n",
       "       [6.8000000e+08],\n",
       "       [1.5000000e+07],\n",
       "       [1.3860000e+09],\n",
       "       [3.1050000e+08],\n",
       "       [8.0400000e+08],\n",
       "       [3.0550000e+08],\n",
       "       [1.4120000e+09],\n",
       "       [4.4130000e+09],\n",
       "       [1.4120000e+09],\n",
       "       [1.4120000e+09],\n",
       "       [2.0201000e+10],\n",
       "       [2.0000000e+08],\n",
       "       [2.2947000e+10],\n",
       "       [1.4120000e+09],\n",
       "       [1.2000000e+07],\n",
       "       [1.2000000e+07],\n",
       "       [2.0000000e+07],\n",
       "       [2.0000000e+07],\n",
       "       [2.0000000e+07],\n",
       "       [1.0144000e+10],\n",
       "       [4.4130000e+09],\n",
       "       [1.5000000e+10],\n",
       "       [1.5000000e+10],\n",
       "       [2.2947000e+10],\n",
       "       [1.2000000e+07],\n",
       "       [1.5002000e+10],\n",
       "       [1.0000000e+08],\n",
       "       [1.5620000e+11],\n",
       "       [3.0000000e+08],\n",
       "       [1.5000000e+09],\n",
       "       [3.0000000e+08],\n",
       "       [3.0000000e+08],\n",
       "       [1.5000000e+09],\n",
       "       [1.5000000e+09],\n",
       "       [2.0000000e+08],\n",
       "       [2.1000000e+08],\n",
       "       [0.0000000e+00],\n",
       "       [1.6900000e+08],\n",
       "       [1.3480000e+09],\n",
       "       [1.5000000e+10],\n",
       "       [2.5240000e+09],\n",
       "       [2.1000000e+08],\n",
       "       [2.1000000e+08],\n",
       "       [2.1000000e+08],\n",
       "       [2.1000000e+08],\n",
       "       [2.1000000e+08],\n",
       "       [1.6900000e+08],\n",
       "       [1.6900000e+08],\n",
       "       [1.6900000e+08],\n",
       "       [2.1000000e+08],\n",
       "       [2.1000000e+08],\n",
       "       [3.6900000e+08],\n",
       "       [4.3900000e+08],\n",
       "       [2.1000000e+08],\n",
       "       [2.2000000e+08],\n",
       "       [1.2000000e+07],\n",
       "       [1.0000000e+08],\n",
       "       [1.0000000e+08],\n",
       "       [9.6770000e+09],\n",
       "       [1.5000000e+09],\n",
       "       [1.5000000e+09],\n",
       "       [1.5000000e+08],\n",
       "       [1.1000000e+07],\n",
       "       [8.7000000e+07],\n",
       "       [1.1000000e+07],\n",
       "       [6.7000000e+07],\n",
       "       [1.0000000e+08],\n",
       "       [4.8000000e+07],\n",
       "       [6.5000000e+07],\n",
       "       [3.6900000e+08],\n",
       "       [4.0000000e+07],\n",
       "       [2.0000000e+07],\n",
       "       [1.0000000e+07],\n",
       "       [1.5107000e+10],\n",
       "       [1.1000100e+08],\n",
       "       [9.6650000e+09],\n",
       "       [3.8000000e+07],\n",
       "       [3.8000000e+07],\n",
       "       [3.8000000e+07],\n",
       "       [3.8000000e+07],\n",
       "       [3.8000000e+07],\n",
       "       [3.8000000e+07],\n",
       "       [3.8000000e+07],\n",
       "       [6.5481000e+10],\n",
       "       [2.0000000e+06],\n",
       "       [1.0000000e+06],\n",
       "       [1.0000000e+06],\n",
       "       [1.0000000e+06],\n",
       "       [1.0000000e+06],\n",
       "       [1.0000000e+06],\n",
       "       [6.5481000e+10],\n",
       "       [6.5491000e+10],\n",
       "       [6.5856000e+10],\n",
       "       [1.5900000e+08],\n",
       "       [1.5100000e+08],\n",
       "       [6.1000000e+08],\n",
       "       [1.0000000e+06],\n",
       "       [2.0000000e+06],\n",
       "       [2.2000000e+08],\n",
       "       [1.2000000e+08],\n",
       "       [1.2000000e+08],\n",
       "       [5.0650000e+09],\n",
       "       [5.0650000e+09],\n",
       "       [2.0000000e+07],\n",
       "       [4.4000000e+07],\n",
       "       [2.3000000e+07],\n",
       "       [2.3000000e+07],\n",
       "       [2.3000000e+07],\n",
       "       [2.2000000e+07],\n",
       "       [1.2000000e+07],\n",
       "       [2.2000000e+07],\n",
       "       [8.7000000e+07],\n",
       "       [3.4000000e+07],\n",
       "       [2.2000000e+07],\n",
       "       [2.2000000e+07],\n",
       "       [1.1100000e+08],\n",
       "       [1.2000000e+07],\n",
       "       [1.1000000e+07],\n",
       "       [1.8500000e+08],\n",
       "       [1.1100000e+08],\n",
       "       [2.2000000e+07],\n",
       "       [2.2000000e+07],\n",
       "       [2.2000000e+07],\n",
       "       [2.3000000e+07],\n",
       "       [1.1000000e+07],\n",
       "       [1.1000000e+07],\n",
       "       [4.0000000e+07],\n",
       "       [1.1000000e+07],\n",
       "       [5.0000000e+07],\n",
       "       [1.1000000e+07],\n",
       "       [1.1000000e+07],\n",
       "       [1.2000000e+07],\n",
       "       [2.2000000e+07],\n",
       "       [2.2000000e+07],\n",
       "       [2.2000000e+07],\n",
       "       [2.2000000e+07],\n",
       "       [2.2000000e+07],\n",
       "       [2.3000000e+07],\n",
       "       [1.1000000e+07],\n",
       "       [6.4000000e+07],\n",
       "       [5.9000000e+07],\n",
       "       [1.1000000e+07],\n",
       "       [1.1000000e+07],\n",
       "       [1.1000000e+07],\n",
       "       [7.0000000e+07],\n",
       "       [6.4000000e+07],\n",
       "       [2.3000000e+07],\n",
       "       [3.0000000e+07],\n",
       "       [4.5000000e+07],\n",
       "       [4.4000000e+07],\n",
       "       [2.7000000e+07],\n",
       "       [2.2000000e+07],\n",
       "       [1.2000000e+07],\n",
       "       [1.2000000e+07],\n",
       "       [1.1000000e+07],\n",
       "       [1.1000000e+07],\n",
       "       [2.2000000e+07],\n",
       "       [7.3000000e+07],\n",
       "       [0.0000000e+00],\n",
       "       [7.5000000e+07],\n",
       "       [1.1000000e+07],\n",
       "       [1.1000000e+07],\n",
       "       [1.1000000e+07],\n",
       "       [5.4000000e+07],\n",
       "       [3.4000000e+07],\n",
       "       [3.4000000e+07],\n",
       "       [1.1000000e+07],\n",
       "       [2.3000000e+07],\n",
       "       [2.3000000e+07],\n",
       "       [3.4000000e+07],\n",
       "       [0.0000000e+00],\n",
       "       [2.3000000e+07],\n",
       "       [2.3000000e+07],\n",
       "       [2.2000000e+07],\n",
       "       [2.3000000e+07],\n",
       "       [3.4000000e+07],\n",
       "       [2.3000000e+07],\n",
       "       [2.3000000e+07],\n",
       "       [2.3000000e+07],\n",
       "       [0.0000000e+00],\n",
       "       [4.2000000e+07],\n",
       "       [6.7000000e+07],\n",
       "       [1.1400000e+08],\n",
       "       [7.6000000e+07],\n",
       "       [4.2400000e+08],\n",
       "       [2.5800000e+08],\n",
       "       [2.7000000e+07],\n",
       "       [2.7000000e+07],\n",
       "       [8.9000000e+07],\n",
       "       [3.4200000e+08],\n",
       "       [3.4200000e+08],\n",
       "       [0.0000000e+00],\n",
       "       [3.4400000e+08],\n",
       "       [4.1300000e+08],\n",
       "       [2.3222000e+10],\n",
       "       [1.0000000e+08],\n",
       "       [0.0000000e+00],\n",
       "       [0.0000000e+00],\n",
       "       [2.0000000e+08],\n",
       "       [0.0000000e+00],\n",
       "       [1.0000000e+08],\n",
       "       [0.0000000e+00],\n",
       "       [0.0000000e+00],\n",
       "       [0.0000000e+00],\n",
       "       [0.0000000e+00],\n",
       "       [0.0000000e+00],\n",
       "       [0.0000000e+00],\n",
       "       [0.0000000e+00],\n",
       "       [0.0000000e+00],\n",
       "       [0.0000000e+00],\n",
       "       [0.0000000e+00],\n",
       "       [0.0000000e+00],\n",
       "       [0.0000000e+00],\n",
       "       [1.4000000e+14],\n",
       "       [0.0000000e+00],\n",
       "       [0.0000000e+00],\n",
       "       [5.0000000e+07],\n",
       "       [0.0000000e+00],\n",
       "       [0.0000000e+00],\n",
       "       [0.0000000e+00],\n",
       "       [0.0000000e+00],\n",
       "       [0.0000000e+00],\n",
       "       [0.0000000e+00],\n",
       "       [0.0000000e+00],\n",
       "       [0.0000000e+00],\n",
       "       [0.0000000e+00],\n",
       "       [0.0000000e+00],\n",
       "       [0.0000000e+00],\n",
       "       [0.0000000e+00],\n",
       "       [0.0000000e+00],\n",
       "       [0.0000000e+00],\n",
       "       [0.0000000e+00],\n",
       "       [2.3000000e+07],\n",
       "       [2.2000000e+07],\n",
       "       [8.6000000e+07],\n",
       "       [1.5000000e+07],\n",
       "       [1.2300000e+08],\n",
       "       [3.2000000e+07],\n",
       "       [3.9000000e+09],\n",
       "       [0.0000000e+00],\n",
       "       [4.5500000e+09],\n",
       "       [2.5000000e+09],\n",
       "       [1.2500000e+09],\n",
       "       [9.5000000e+08],\n",
       "       [1.2500000e+09],\n",
       "       [8.0000000e+07],\n",
       "       [1.5020000e+10],\n",
       "       [0.0000000e+00],\n",
       "       [0.0000000e+00],\n",
       "       [1.6000000e+07],\n",
       "       [3.0000000e+07],\n",
       "       [1.5000000e+07],\n",
       "       [2.0000000e+07],\n",
       "       [1.6000000e+07],\n",
       "       [4.5000000e+07],\n",
       "       [5.0000000e+10],\n",
       "       [2.0000000e+13],\n",
       "       [2.5000000e+10],\n",
       "       [1.0000000e+08],\n",
       "       [1.3000000e+07],\n",
       "       [2.0002332e+13],\n",
       "       [1.3000000e+07],\n",
       "       [2.3240000e+09],\n",
       "       [2.3210000e+09],\n",
       "       [2.3210000e+09],\n",
       "       [2.3120000e+09],\n",
       "       [3.1210000e+09],\n",
       "       [2.3000000e+09],\n",
       "       [2.3120000e+09],\n",
       "       [2.3210000e+09],\n",
       "       [3.2000000e+10],\n",
       "       [1.2110000e+09],\n",
       "       [1.0000000e+08],\n",
       "       [1.2900000e+09],\n",
       "       [1.2900000e+09],\n",
       "       [3.6210000e+09],\n",
       "       [2.2900000e+09],\n",
       "       [3.2900000e+09],\n",
       "       [6.7900000e+09],\n",
       "       [1.1000000e+09],\n",
       "       [2.2000000e+09],\n",
       "       [1.5000000e+09],\n",
       "       [3.0000000e+09],\n",
       "       [4.5000000e+09],\n",
       "       [6.0000000e+09],\n",
       "       [6.0000000e+09],\n",
       "       [6.0000000e+09],\n",
       "       [6.0000000e+09],\n",
       "       [2.3240000e+09],\n",
       "       [2.0000000e+09],\n",
       "       [2.4000000e+07],\n",
       "       [1.4000000e+07],\n",
       "       [1.1000000e+07],\n",
       "       [1.1000000e+07]])"
      ]
     },
     "execution_count": 336,
     "metadata": {},
     "output_type": "execute_result"
    }
   ],
   "source": [
    "scaler_norm.inverse_transform(y_df_norm)\n"
   ]
  },
  {
   "cell_type": "code",
   "execution_count": 339,
   "id": "20f06f7a",
   "metadata": {},
   "outputs": [
    {
     "data": {
      "text/plain": [
       "array([[7.55048e+10]])"
      ]
     },
     "execution_count": 339,
     "metadata": {},
     "output_type": "execute_result"
    }
   ],
   "source": [
    "scaler_norm.inverse_transform([[0.00053932]])\n"
   ]
  },
  {
   "cell_type": "code",
   "execution_count": 337,
   "id": "fbd83a77",
   "metadata": {},
   "outputs": [
    {
     "data": {
      "text/html": [
       "<div>\n",
       "<style scoped>\n",
       "    .dataframe tbody tr th:only-of-type {\n",
       "        vertical-align: middle;\n",
       "    }\n",
       "\n",
       "    .dataframe tbody tr th {\n",
       "        vertical-align: top;\n",
       "    }\n",
       "\n",
       "    .dataframe thead th {\n",
       "        text-align: right;\n",
       "    }\n",
       "</style>\n",
       "<table border=\"1\" class=\"dataframe\">\n",
       "  <thead>\n",
       "    <tr style=\"text-align: right;\">\n",
       "      <th></th>\n",
       "      <th>CounterPartyName</th>\n",
       "      <th>Department</th>\n",
       "      <th>Type Of Application</th>\n",
       "      <th>ApplicationStatus</th>\n",
       "      <th>RegionName</th>\n",
       "      <th>Amount</th>\n",
       "    </tr>\n",
       "  </thead>\n",
       "  <tbody>\n",
       "    <tr>\n",
       "      <th>0</th>\n",
       "      <td>Stainox Alloys Pvt Ltd</td>\n",
       "      <td>Emerging Local Corporates - MEB - BU</td>\n",
       "      <td>Renewal</td>\n",
       "      <td>WIP</td>\n",
       "      <td>WEST</td>\n",
       "      <td>0.0</td>\n",
       "    </tr>\n",
       "    <tr>\n",
       "      <th>1</th>\n",
       "      <td>Xyz Ltd</td>\n",
       "      <td>Emerging Local Corporates - MEB - BU</td>\n",
       "      <td>Fresh</td>\n",
       "      <td>WIP</td>\n",
       "      <td>NORTH</td>\n",
       "      <td>100000000.0</td>\n",
       "    </tr>\n",
       "    <tr>\n",
       "      <th>2</th>\n",
       "      <td>Sunland Recycling Industries Limited</td>\n",
       "      <td>Emerging Local Corporates - MEB - BU</td>\n",
       "      <td>Renewal</td>\n",
       "      <td>WIP</td>\n",
       "      <td>WEST</td>\n",
       "      <td>0.0</td>\n",
       "    </tr>\n",
       "    <tr>\n",
       "      <th>3</th>\n",
       "      <td>E-con Packaging Pvt Ltd</td>\n",
       "      <td>Emerging Local Corporates - MEB - BU</td>\n",
       "      <td>Renewal</td>\n",
       "      <td>WIP</td>\n",
       "      <td>WEST</td>\n",
       "      <td>0.0</td>\n",
       "    </tr>\n",
       "    <tr>\n",
       "      <th>4</th>\n",
       "      <td>Abhay Ispat</td>\n",
       "      <td>Emerging Local Corporates - MEB - BU</td>\n",
       "      <td>Fresh</td>\n",
       "      <td>WIP</td>\n",
       "      <td>WEST</td>\n",
       "      <td>510000000.0</td>\n",
       "    </tr>\n",
       "  </tbody>\n",
       "</table>\n",
       "</div>"
      ],
      "text/plain": [
       "                       CounterPartyName                            Department  \\\n",
       "0                Stainox Alloys Pvt Ltd  Emerging Local Corporates - MEB - BU   \n",
       "1                               Xyz Ltd  Emerging Local Corporates - MEB - BU   \n",
       "2  Sunland Recycling Industries Limited  Emerging Local Corporates - MEB - BU   \n",
       "3               E-con Packaging Pvt Ltd  Emerging Local Corporates - MEB - BU   \n",
       "4                           Abhay Ispat  Emerging Local Corporates - MEB - BU   \n",
       "\n",
       "  Type Of Application ApplicationStatus RegionName       Amount  \n",
       "0             Renewal               WIP       WEST          0.0  \n",
       "1               Fresh               WIP      NORTH  100000000.0  \n",
       "2             Renewal               WIP       WEST          0.0  \n",
       "3             Renewal               WIP       WEST          0.0  \n",
       "4               Fresh               WIP       WEST  510000000.0  "
      ]
     },
     "execution_count": 337,
     "metadata": {},
     "output_type": "execute_result"
    }
   ],
   "source": [
    "df.head()"
   ]
  },
  {
   "cell_type": "code",
   "execution_count": 340,
   "id": "03cfc056",
   "metadata": {},
   "outputs": [
    {
     "data": {
      "text/html": [
       "<div>\n",
       "<style scoped>\n",
       "    .dataframe tbody tr th:only-of-type {\n",
       "        vertical-align: middle;\n",
       "    }\n",
       "\n",
       "    .dataframe tbody tr th {\n",
       "        vertical-align: top;\n",
       "    }\n",
       "\n",
       "    .dataframe thead th {\n",
       "        text-align: right;\n",
       "    }\n",
       "</style>\n",
       "<table border=\"1\" class=\"dataframe\">\n",
       "  <thead>\n",
       "    <tr style=\"text-align: right;\">\n",
       "      <th></th>\n",
       "      <th>Department</th>\n",
       "      <th>Type Of Application</th>\n",
       "      <th>ApplicationStatus</th>\n",
       "      <th>RegionName</th>\n",
       "      <th>CounterPartyName</th>\n",
       "    </tr>\n",
       "  </thead>\n",
       "  <tbody>\n",
       "    <tr>\n",
       "      <th>0</th>\n",
       "      <td>2</td>\n",
       "      <td>7</td>\n",
       "      <td>5</td>\n",
       "      <td>2</td>\n",
       "      <td>167</td>\n",
       "    </tr>\n",
       "    <tr>\n",
       "      <th>1</th>\n",
       "      <td>2</td>\n",
       "      <td>1</td>\n",
       "      <td>5</td>\n",
       "      <td>0</td>\n",
       "      <td>230</td>\n",
       "    </tr>\n",
       "    <tr>\n",
       "      <th>2</th>\n",
       "      <td>2</td>\n",
       "      <td>7</td>\n",
       "      <td>5</td>\n",
       "      <td>2</td>\n",
       "      <td>171</td>\n",
       "    </tr>\n",
       "    <tr>\n",
       "      <th>3</th>\n",
       "      <td>2</td>\n",
       "      <td>7</td>\n",
       "      <td>5</td>\n",
       "      <td>2</td>\n",
       "      <td>59</td>\n",
       "    </tr>\n",
       "    <tr>\n",
       "      <th>4</th>\n",
       "      <td>2</td>\n",
       "      <td>1</td>\n",
       "      <td>5</td>\n",
       "      <td>2</td>\n",
       "      <td>9</td>\n",
       "    </tr>\n",
       "  </tbody>\n",
       "</table>\n",
       "</div>"
      ],
      "text/plain": [
       "   Department  Type Of Application  ApplicationStatus  RegionName  \\\n",
       "0           2                    7                  5           2   \n",
       "1           2                    1                  5           0   \n",
       "2           2                    7                  5           2   \n",
       "3           2                    7                  5           2   \n",
       "4           2                    1                  5           2   \n",
       "\n",
       "   CounterPartyName   \n",
       "0                167  \n",
       "1                230  \n",
       "2                171  \n",
       "3                 59  \n",
       "4                  9  "
      ]
     },
     "execution_count": 340,
     "metadata": {},
     "output_type": "execute_result"
    }
   ],
   "source": [
    "x.head()"
   ]
  },
  {
   "cell_type": "markdown",
   "id": "57b0791b",
   "metadata": {},
   "source": [
    "# K_means"
   ]
  },
  {
   "cell_type": "code",
   "execution_count": 341,
   "id": "f6a0896a",
   "metadata": {},
   "outputs": [],
   "source": [
    "df_kmeans=x.join(y)"
   ]
  },
  {
   "cell_type": "code",
   "execution_count": 342,
   "id": "04f785df",
   "metadata": {},
   "outputs": [
    {
     "data": {
      "text/html": [
       "<div>\n",
       "<style scoped>\n",
       "    .dataframe tbody tr th:only-of-type {\n",
       "        vertical-align: middle;\n",
       "    }\n",
       "\n",
       "    .dataframe tbody tr th {\n",
       "        vertical-align: top;\n",
       "    }\n",
       "\n",
       "    .dataframe thead th {\n",
       "        text-align: right;\n",
       "    }\n",
       "</style>\n",
       "<table border=\"1\" class=\"dataframe\">\n",
       "  <thead>\n",
       "    <tr style=\"text-align: right;\">\n",
       "      <th></th>\n",
       "      <th>Department</th>\n",
       "      <th>Type Of Application</th>\n",
       "      <th>ApplicationStatus</th>\n",
       "      <th>RegionName</th>\n",
       "      <th>CounterPartyName</th>\n",
       "      <th>Amount</th>\n",
       "    </tr>\n",
       "  </thead>\n",
       "  <tbody>\n",
       "    <tr>\n",
       "      <th>0</th>\n",
       "      <td>2</td>\n",
       "      <td>7</td>\n",
       "      <td>5</td>\n",
       "      <td>2</td>\n",
       "      <td>167</td>\n",
       "      <td>0.000000e+00</td>\n",
       "    </tr>\n",
       "    <tr>\n",
       "      <th>1</th>\n",
       "      <td>2</td>\n",
       "      <td>1</td>\n",
       "      <td>5</td>\n",
       "      <td>0</td>\n",
       "      <td>230</td>\n",
       "      <td>1.000000e+08</td>\n",
       "    </tr>\n",
       "    <tr>\n",
       "      <th>2</th>\n",
       "      <td>2</td>\n",
       "      <td>7</td>\n",
       "      <td>5</td>\n",
       "      <td>2</td>\n",
       "      <td>171</td>\n",
       "      <td>0.000000e+00</td>\n",
       "    </tr>\n",
       "    <tr>\n",
       "      <th>3</th>\n",
       "      <td>2</td>\n",
       "      <td>7</td>\n",
       "      <td>5</td>\n",
       "      <td>2</td>\n",
       "      <td>59</td>\n",
       "      <td>0.000000e+00</td>\n",
       "    </tr>\n",
       "    <tr>\n",
       "      <th>4</th>\n",
       "      <td>2</td>\n",
       "      <td>1</td>\n",
       "      <td>5</td>\n",
       "      <td>2</td>\n",
       "      <td>9</td>\n",
       "      <td>5.100000e+08</td>\n",
       "    </tr>\n",
       "    <tr>\n",
       "      <th>...</th>\n",
       "      <td>...</td>\n",
       "      <td>...</td>\n",
       "      <td>...</td>\n",
       "      <td>...</td>\n",
       "      <td>...</td>\n",
       "      <td>...</td>\n",
       "    </tr>\n",
       "    <tr>\n",
       "      <th>420</th>\n",
       "      <td>2</td>\n",
       "      <td>2</td>\n",
       "      <td>5</td>\n",
       "      <td>2</td>\n",
       "      <td>60</td>\n",
       "      <td>2.000000e+09</td>\n",
       "    </tr>\n",
       "    <tr>\n",
       "      <th>421</th>\n",
       "      <td>4</td>\n",
       "      <td>1</td>\n",
       "      <td>5</td>\n",
       "      <td>1</td>\n",
       "      <td>82</td>\n",
       "      <td>2.400000e+07</td>\n",
       "    </tr>\n",
       "    <tr>\n",
       "      <th>422</th>\n",
       "      <td>4</td>\n",
       "      <td>1</td>\n",
       "      <td>5</td>\n",
       "      <td>1</td>\n",
       "      <td>41</td>\n",
       "      <td>1.400000e+07</td>\n",
       "    </tr>\n",
       "    <tr>\n",
       "      <th>423</th>\n",
       "      <td>2</td>\n",
       "      <td>7</td>\n",
       "      <td>5</td>\n",
       "      <td>1</td>\n",
       "      <td>1</td>\n",
       "      <td>1.100000e+07</td>\n",
       "    </tr>\n",
       "    <tr>\n",
       "      <th>424</th>\n",
       "      <td>2</td>\n",
       "      <td>7</td>\n",
       "      <td>5</td>\n",
       "      <td>1</td>\n",
       "      <td>1</td>\n",
       "      <td>1.100000e+07</td>\n",
       "    </tr>\n",
       "  </tbody>\n",
       "</table>\n",
       "<p>425 rows × 6 columns</p>\n",
       "</div>"
      ],
      "text/plain": [
       "     Department  Type Of Application  ApplicationStatus  RegionName  \\\n",
       "0             2                    7                  5           2   \n",
       "1             2                    1                  5           0   \n",
       "2             2                    7                  5           2   \n",
       "3             2                    7                  5           2   \n",
       "4             2                    1                  5           2   \n",
       "..          ...                  ...                ...         ...   \n",
       "420           2                    2                  5           2   \n",
       "421           4                    1                  5           1   \n",
       "422           4                    1                  5           1   \n",
       "423           2                    7                  5           1   \n",
       "424           2                    7                  5           1   \n",
       "\n",
       "     CounterPartyName         Amount  \n",
       "0                  167  0.000000e+00  \n",
       "1                  230  1.000000e+08  \n",
       "2                  171  0.000000e+00  \n",
       "3                   59  0.000000e+00  \n",
       "4                    9  5.100000e+08  \n",
       "..                 ...           ...  \n",
       "420                 60  2.000000e+09  \n",
       "421                 82  2.400000e+07  \n",
       "422                 41  1.400000e+07  \n",
       "423                  1  1.100000e+07  \n",
       "424                  1  1.100000e+07  \n",
       "\n",
       "[425 rows x 6 columns]"
      ]
     },
     "execution_count": 342,
     "metadata": {},
     "output_type": "execute_result"
    }
   ],
   "source": [
    "df_kmeans"
   ]
  },
  {
   "cell_type": "code",
   "execution_count": 343,
   "id": "be465dbc",
   "metadata": {},
   "outputs": [],
   "source": [
    "from sklearn.cluster import KMeans"
   ]
  },
  {
   "cell_type": "code",
   "execution_count": 344,
   "id": "30ec779b",
   "metadata": {},
   "outputs": [
    {
     "name": "stderr",
     "output_type": "stream",
     "text": [
      "C:\\Users\\chira\\anaconda3\\lib\\site-packages\\sklearn\\cluster\\_kmeans.py:881: UserWarning: KMeans is known to have a memory leak on Windows with MKL, when there are less chunks than available threads. You can avoid it by setting the environment variable OMP_NUM_THREADS=2.\n",
      "  warnings.warn(\n"
     ]
    }
   ],
   "source": [
    "wcss = []\n",
    "\n",
    "for i in range(1,11):\n",
    "    km = KMeans(n_clusters=i)\n",
    "    km.fit_predict(df_kmeans)\n",
    "    wcss.append(km.inertia_)"
   ]
  },
  {
   "cell_type": "code",
   "execution_count": 345,
   "id": "cbf528a1",
   "metadata": {},
   "outputs": [
    {
     "data": {
      "text/plain": [
       "[2.034365282434996e+28,\n",
       " 8.201581178001193e+26,\n",
       " 2.499694162022861e+25,\n",
       " 8.318330946147592e+22,\n",
       " 2.4838687427621217e+22,\n",
       " 6.251714306922818e+21,\n",
       " 2.021376343576339e+21,\n",
       " 1.3743980391215658e+21,\n",
       " 7.689269699560664e+20,\n",
       " 4.926630721134579e+20]"
      ]
     },
     "execution_count": 345,
     "metadata": {},
     "output_type": "execute_result"
    }
   ],
   "source": [
    "wcss"
   ]
  },
  {
   "cell_type": "code",
   "execution_count": 346,
   "id": "cb0d0073",
   "metadata": {},
   "outputs": [
    {
     "data": {
      "text/plain": [
       "[<matplotlib.lines.Line2D at 0x2154e75c9a0>]"
      ]
     },
     "execution_count": 346,
     "metadata": {},
     "output_type": "execute_result"
    },
    {
     "data": {
      "image/png": "[encoded data removed]",
      "text/plain": [
       "<Figure size 432x288 with 1 Axes>"
      ]
     },
     "metadata": {
      "needs_background": "light"
     },
     "output_type": "display_data"
    }
   ],
   "source": [
    "plt.plot(range(1,11),wcss)"
   ]
  },
  {
   "cell_type": "code",
   "execution_count": 347,
   "id": "7c0932af",
   "metadata": {},
   "outputs": [
    {
     "data": {
      "text/plain": [
       "array([[2.00e+00, 7.00e+00, 5.00e+00, 2.00e+00, 1.67e+02, 0.00e+00],\n",
       "       [2.00e+00, 1.00e+00, 5.00e+00, 0.00e+00, 2.30e+02, 1.00e+08],\n",
       "       [2.00e+00, 7.00e+00, 5.00e+00, 2.00e+00, 1.71e+02, 0.00e+00],\n",
       "       ...,\n",
       "       [4.00e+00, 1.00e+00, 5.00e+00, 1.00e+00, 4.10e+01, 1.40e+07],\n",
       "       [2.00e+00, 7.00e+00, 5.00e+00, 1.00e+00, 1.00e+00, 1.10e+07],\n",
       "       [2.00e+00, 7.00e+00, 5.00e+00, 1.00e+00, 1.00e+00, 1.10e+07]])"
      ]
     },
     "execution_count": 347,
     "metadata": {},
     "output_type": "execute_result"
    }
   ],
   "source": [
    "X_means = df_kmeans.iloc[:,:].values\n",
    "X_means"
   ]
  },
  {
   "cell_type": "code",
   "execution_count": 348,
   "id": "e8a3e5b1",
   "metadata": {},
   "outputs": [],
   "source": [
    "km = KMeans(n_clusters=3)\n"
   ]
  },
  {
   "cell_type": "code",
   "execution_count": 349,
   "id": "b5249b2d",
   "metadata": {},
   "outputs": [],
   "source": [
    "y_means = km.fit_predict(X_means)"
   ]
  },
  {
   "cell_type": "code",
   "execution_count": 350,
   "id": "3bfd6ee3",
   "metadata": {},
   "outputs": [
    {
     "data": {
      "text/plain": [
       "array([0, 0, 0, 0, 0, 0, 0, 0, 0, 0, 0, 0, 0, 0, 0, 0, 0, 0, 0, 0, 0, 0,\n",
       "       0, 0, 0, 0, 0, 0, 0, 0, 0, 0, 0, 0, 0, 0, 0, 0, 0, 0, 0, 0, 0, 0,\n",
       "       0, 0, 0, 0, 0, 0, 0, 0, 0, 0, 0, 0, 0, 0, 0, 0, 0, 0, 0, 0, 0, 0,\n",
       "       0, 0, 0, 0, 0, 0, 0, 0, 0, 0, 0, 0, 0, 0, 0, 0, 0, 0, 0, 0, 0, 0,\n",
       "       0, 0, 0, 0, 0, 0, 0, 0, 0, 0, 0, 0, 0, 0, 0, 0, 0, 0, 0, 0, 0, 0,\n",
       "       0, 0, 0, 0, 0, 0, 0, 0, 0, 0, 0, 0, 0, 0, 0, 0, 0, 0, 0, 0, 0, 0,\n",
       "       0, 0, 0, 0, 0, 0, 0, 0, 0, 0, 0, 0, 0, 0, 0, 0, 0, 0, 0, 0, 0, 0,\n",
       "       0, 0, 0, 0, 0, 0, 0, 0, 0, 0, 0, 0, 0, 0, 0, 0, 0, 0, 0, 0, 0, 0,\n",
       "       0, 0, 0, 0, 0, 0, 0, 0, 0, 0, 0, 0, 0, 0, 0, 0, 0, 0, 0, 0, 0, 0,\n",
       "       0, 0, 0, 0, 0, 0, 0, 0, 0, 0, 0, 0, 0, 0, 0, 0, 0, 0, 0, 0, 0, 0,\n",
       "       0, 0, 0, 0, 0, 0, 0, 0, 0, 0, 0, 0, 0, 0, 0, 0, 0, 0, 0, 0, 0, 0,\n",
       "       0, 0, 0, 0, 0, 0, 0, 0, 0, 0, 0, 0, 0, 0, 0, 0, 0, 0, 0, 0, 0, 0,\n",
       "       0, 0, 0, 0, 0, 0, 0, 0, 0, 0, 0, 0, 0, 0, 0, 0, 0, 0, 0, 0, 0, 0,\n",
       "       0, 0, 0, 0, 0, 0, 0, 0, 0, 0, 0, 0, 0, 0, 0, 0, 0, 0, 0, 0, 0, 0,\n",
       "       0, 0, 0, 0, 0, 0, 0, 0, 0, 0, 0, 0, 0, 0, 0, 0, 0, 0, 0, 0, 0, 0,\n",
       "       0, 0, 0, 0, 0, 0, 0, 0, 0, 0, 0, 0, 0, 0, 1, 0, 0, 0, 0, 0, 0, 0,\n",
       "       0, 0, 0, 0, 0, 0, 0, 0, 0, 0, 0, 0, 0, 0, 0, 0, 0, 0, 0, 0, 0, 0,\n",
       "       0, 0, 0, 0, 0, 0, 0, 0, 0, 0, 0, 0, 0, 2, 0, 0, 0, 2, 0, 0, 0, 0,\n",
       "       0, 0, 0, 0, 0, 0, 0, 0, 0, 0, 0, 0, 0, 0, 0, 0, 0, 0, 0, 0, 0, 0,\n",
       "       0, 0, 0, 0, 0, 0, 0])"
      ]
     },
     "execution_count": 350,
     "metadata": {},
     "output_type": "execute_result"
    }
   ],
   "source": [
    "y_means"
   ]
  },
  {
   "cell_type": "code",
   "execution_count": 353,
   "id": "64bbde7f",
   "metadata": {},
   "outputs": [
    {
     "data": {
      "text/plain": [
       "3"
      ]
     },
     "execution_count": 353,
     "metadata": {},
     "output_type": "execute_result"
    }
   ],
   "source": [
    "np.count_nonzero(y_means)"
   ]
  },
  {
   "cell_type": "code",
   "execution_count": 354,
   "id": "5d4058d4",
   "metadata": {},
   "outputs": [],
   "source": [
    "df_kmeans['cluster']=y_means\n"
   ]
  },
  {
   "cell_type": "code",
   "execution_count": 355,
   "id": "5a8c3e03",
   "metadata": {},
   "outputs": [
    {
     "data": {
      "text/html": [
       "<div>\n",
       "<style scoped>\n",
       "    .dataframe tbody tr th:only-of-type {\n",
       "        vertical-align: middle;\n",
       "    }\n",
       "\n",
       "    .dataframe tbody tr th {\n",
       "        vertical-align: top;\n",
       "    }\n",
       "\n",
       "    .dataframe thead th {\n",
       "        text-align: right;\n",
       "    }\n",
       "</style>\n",
       "<table border=\"1\" class=\"dataframe\">\n",
       "  <thead>\n",
       "    <tr style=\"text-align: right;\">\n",
       "      <th></th>\n",
       "      <th>Department</th>\n",
       "      <th>Type Of Application</th>\n",
       "      <th>ApplicationStatus</th>\n",
       "      <th>RegionName</th>\n",
       "      <th>CounterPartyName</th>\n",
       "      <th>Amount</th>\n",
       "      <th>cluster</th>\n",
       "    </tr>\n",
       "  </thead>\n",
       "  <tbody>\n",
       "    <tr>\n",
       "      <th>0</th>\n",
       "      <td>2</td>\n",
       "      <td>7</td>\n",
       "      <td>5</td>\n",
       "      <td>2</td>\n",
       "      <td>167</td>\n",
       "      <td>0.0</td>\n",
       "      <td>0</td>\n",
       "    </tr>\n",
       "    <tr>\n",
       "      <th>1</th>\n",
       "      <td>2</td>\n",
       "      <td>1</td>\n",
       "      <td>5</td>\n",
       "      <td>0</td>\n",
       "      <td>230</td>\n",
       "      <td>100000000.0</td>\n",
       "      <td>0</td>\n",
       "    </tr>\n",
       "    <tr>\n",
       "      <th>2</th>\n",
       "      <td>2</td>\n",
       "      <td>7</td>\n",
       "      <td>5</td>\n",
       "      <td>2</td>\n",
       "      <td>171</td>\n",
       "      <td>0.0</td>\n",
       "      <td>0</td>\n",
       "    </tr>\n",
       "    <tr>\n",
       "      <th>3</th>\n",
       "      <td>2</td>\n",
       "      <td>7</td>\n",
       "      <td>5</td>\n",
       "      <td>2</td>\n",
       "      <td>59</td>\n",
       "      <td>0.0</td>\n",
       "      <td>0</td>\n",
       "    </tr>\n",
       "    <tr>\n",
       "      <th>4</th>\n",
       "      <td>2</td>\n",
       "      <td>1</td>\n",
       "      <td>5</td>\n",
       "      <td>2</td>\n",
       "      <td>9</td>\n",
       "      <td>510000000.0</td>\n",
       "      <td>0</td>\n",
       "    </tr>\n",
       "  </tbody>\n",
       "</table>\n",
       "</div>"
      ],
      "text/plain": [
       "   Department  Type Of Application  ApplicationStatus  RegionName  \\\n",
       "0           2                    7                  5           2   \n",
       "1           2                    1                  5           0   \n",
       "2           2                    7                  5           2   \n",
       "3           2                    7                  5           2   \n",
       "4           2                    1                  5           2   \n",
       "\n",
       "   CounterPartyName        Amount  cluster  \n",
       "0                167          0.0        0  \n",
       "1                230  100000000.0        0  \n",
       "2                171          0.0        0  \n",
       "3                 59          0.0        0  \n",
       "4                  9  510000000.0        0  "
      ]
     },
     "execution_count": 355,
     "metadata": {},
     "output_type": "execute_result"
    }
   ],
   "source": [
    "df_kmeans.head()"
   ]
  },
  {
   "cell_type": "code",
   "execution_count": 356,
   "id": "e16f54de",
   "metadata": {},
   "outputs": [
    {
     "data": {
      "text/plain": [
       "0    422\n",
       "2      2\n",
       "1      1\n",
       "Name: cluster, dtype: int64"
      ]
     },
     "execution_count": 356,
     "metadata": {},
     "output_type": "execute_result"
    }
   ],
   "source": [
    "df_kmeans['cluster'].value_counts()"
   ]
  },
  {
   "cell_type": "markdown",
   "id": "6bbc0e57",
   "metadata": {},
   "source": [
    "### Scaling the data"
   ]
  },
  {
   "cell_type": "code",
   "execution_count": 357,
   "id": "e1935180",
   "metadata": {},
   "outputs": [
    {
     "data": {
      "text/html": [
       "<div>\n",
       "<style scoped>\n",
       "    .dataframe tbody tr th:only-of-type {\n",
       "        vertical-align: middle;\n",
       "    }\n",
       "\n",
       "    .dataframe tbody tr th {\n",
       "        vertical-align: top;\n",
       "    }\n",
       "\n",
       "    .dataframe thead th {\n",
       "        text-align: right;\n",
       "    }\n",
       "</style>\n",
       "<table border=\"1\" class=\"dataframe\">\n",
       "  <thead>\n",
       "    <tr style=\"text-align: right;\">\n",
       "      <th></th>\n",
       "      <th>Department</th>\n",
       "      <th>Type Of Application</th>\n",
       "      <th>ApplicationStatus</th>\n",
       "      <th>RegionName</th>\n",
       "      <th>CounterPartyName</th>\n",
       "      <th>Amount</th>\n",
       "      <th>cluster</th>\n",
       "    </tr>\n",
       "  </thead>\n",
       "  <tbody>\n",
       "    <tr>\n",
       "      <th>0</th>\n",
       "      <td>2</td>\n",
       "      <td>7</td>\n",
       "      <td>5</td>\n",
       "      <td>2</td>\n",
       "      <td>167</td>\n",
       "      <td>0.0</td>\n",
       "      <td>0</td>\n",
       "    </tr>\n",
       "    <tr>\n",
       "      <th>1</th>\n",
       "      <td>2</td>\n",
       "      <td>1</td>\n",
       "      <td>5</td>\n",
       "      <td>0</td>\n",
       "      <td>230</td>\n",
       "      <td>100000000.0</td>\n",
       "      <td>0</td>\n",
       "    </tr>\n",
       "    <tr>\n",
       "      <th>2</th>\n",
       "      <td>2</td>\n",
       "      <td>7</td>\n",
       "      <td>5</td>\n",
       "      <td>2</td>\n",
       "      <td>171</td>\n",
       "      <td>0.0</td>\n",
       "      <td>0</td>\n",
       "    </tr>\n",
       "    <tr>\n",
       "      <th>3</th>\n",
       "      <td>2</td>\n",
       "      <td>7</td>\n",
       "      <td>5</td>\n",
       "      <td>2</td>\n",
       "      <td>59</td>\n",
       "      <td>0.0</td>\n",
       "      <td>0</td>\n",
       "    </tr>\n",
       "    <tr>\n",
       "      <th>4</th>\n",
       "      <td>2</td>\n",
       "      <td>1</td>\n",
       "      <td>5</td>\n",
       "      <td>2</td>\n",
       "      <td>9</td>\n",
       "      <td>510000000.0</td>\n",
       "      <td>0</td>\n",
       "    </tr>\n",
       "  </tbody>\n",
       "</table>\n",
       "</div>"
      ],
      "text/plain": [
       "   Department  Type Of Application  ApplicationStatus  RegionName  \\\n",
       "0           2                    7                  5           2   \n",
       "1           2                    1                  5           0   \n",
       "2           2                    7                  5           2   \n",
       "3           2                    7                  5           2   \n",
       "4           2                    1                  5           2   \n",
       "\n",
       "   CounterPartyName        Amount  cluster  \n",
       "0                167          0.0        0  \n",
       "1                230  100000000.0        0  \n",
       "2                171          0.0        0  \n",
       "3                 59          0.0        0  \n",
       "4                  9  510000000.0        0  "
      ]
     },
     "execution_count": 357,
     "metadata": {},
     "output_type": "execute_result"
    }
   ],
   "source": [
    "df_kmeans.head()"
   ]
  },
  {
   "cell_type": "code",
   "execution_count": 358,
   "id": "a2923bbb",
   "metadata": {},
   "outputs": [],
   "source": [
    "df_kmeans=df_kmeans.drop('cluster',axis=1)"
   ]
  },
  {
   "cell_type": "code",
   "execution_count": 359,
   "id": "72dfeb89",
   "metadata": {},
   "outputs": [
    {
     "data": {
      "text/html": [
       "<div>\n",
       "<style scoped>\n",
       "    .dataframe tbody tr th:only-of-type {\n",
       "        vertical-align: middle;\n",
       "    }\n",
       "\n",
       "    .dataframe tbody tr th {\n",
       "        vertical-align: top;\n",
       "    }\n",
       "\n",
       "    .dataframe thead th {\n",
       "        text-align: right;\n",
       "    }\n",
       "</style>\n",
       "<table border=\"1\" class=\"dataframe\">\n",
       "  <thead>\n",
       "    <tr style=\"text-align: right;\">\n",
       "      <th></th>\n",
       "      <th>Department</th>\n",
       "      <th>Type Of Application</th>\n",
       "      <th>ApplicationStatus</th>\n",
       "      <th>RegionName</th>\n",
       "      <th>CounterPartyName</th>\n",
       "      <th>Amount</th>\n",
       "    </tr>\n",
       "  </thead>\n",
       "  <tbody>\n",
       "    <tr>\n",
       "      <th>0</th>\n",
       "      <td>2</td>\n",
       "      <td>7</td>\n",
       "      <td>5</td>\n",
       "      <td>2</td>\n",
       "      <td>167</td>\n",
       "      <td>0.0</td>\n",
       "    </tr>\n",
       "    <tr>\n",
       "      <th>1</th>\n",
       "      <td>2</td>\n",
       "      <td>1</td>\n",
       "      <td>5</td>\n",
       "      <td>0</td>\n",
       "      <td>230</td>\n",
       "      <td>100000000.0</td>\n",
       "    </tr>\n",
       "    <tr>\n",
       "      <th>2</th>\n",
       "      <td>2</td>\n",
       "      <td>7</td>\n",
       "      <td>5</td>\n",
       "      <td>2</td>\n",
       "      <td>171</td>\n",
       "      <td>0.0</td>\n",
       "    </tr>\n",
       "    <tr>\n",
       "      <th>3</th>\n",
       "      <td>2</td>\n",
       "      <td>7</td>\n",
       "      <td>5</td>\n",
       "      <td>2</td>\n",
       "      <td>59</td>\n",
       "      <td>0.0</td>\n",
       "    </tr>\n",
       "    <tr>\n",
       "      <th>4</th>\n",
       "      <td>2</td>\n",
       "      <td>1</td>\n",
       "      <td>5</td>\n",
       "      <td>2</td>\n",
       "      <td>9</td>\n",
       "      <td>510000000.0</td>\n",
       "    </tr>\n",
       "  </tbody>\n",
       "</table>\n",
       "</div>"
      ],
      "text/plain": [
       "   Department  Type Of Application  ApplicationStatus  RegionName  \\\n",
       "0           2                    7                  5           2   \n",
       "1           2                    1                  5           0   \n",
       "2           2                    7                  5           2   \n",
       "3           2                    7                  5           2   \n",
       "4           2                    1                  5           2   \n",
       "\n",
       "   CounterPartyName        Amount  \n",
       "0                167          0.0  \n",
       "1                230  100000000.0  \n",
       "2                171          0.0  \n",
       "3                 59          0.0  \n",
       "4                  9  510000000.0  "
      ]
     },
     "execution_count": 359,
     "metadata": {},
     "output_type": "execute_result"
    }
   ],
   "source": [
    "df_kmeans.head()"
   ]
  },
  {
   "cell_type": "code",
   "execution_count": 360,
   "id": "24f80ddb",
   "metadata": {},
   "outputs": [],
   "source": [
    " scaler_norm.fit(df_kmeans)\n",
    "df_kmeans_norm = scaler_norm.transform(df_kmeans) "
   ]
  },
  {
   "cell_type": "code",
   "execution_count": 364,
   "id": "94b842b5",
   "metadata": {},
   "outputs": [],
   "source": [
    "df_kmeans_norm_df=pd.DataFrame(df_kmeans_norm,columns=df_kmeans.columns)"
   ]
  },
  {
   "cell_type": "code",
   "execution_count": 365,
   "id": "d28bf5cd",
   "metadata": {},
   "outputs": [
    {
     "data": {
      "text/html": [
       "<div>\n",
       "<style scoped>\n",
       "    .dataframe tbody tr th:only-of-type {\n",
       "        vertical-align: middle;\n",
       "    }\n",
       "\n",
       "    .dataframe tbody tr th {\n",
       "        vertical-align: top;\n",
       "    }\n",
       "\n",
       "    .dataframe thead th {\n",
       "        text-align: right;\n",
       "    }\n",
       "</style>\n",
       "<table border=\"1\" class=\"dataframe\">\n",
       "  <thead>\n",
       "    <tr style=\"text-align: right;\">\n",
       "      <th></th>\n",
       "      <th>Department</th>\n",
       "      <th>Type Of Application</th>\n",
       "      <th>ApplicationStatus</th>\n",
       "      <th>RegionName</th>\n",
       "      <th>CounterPartyName</th>\n",
       "      <th>Amount</th>\n",
       "    </tr>\n",
       "  </thead>\n",
       "  <tbody>\n",
       "    <tr>\n",
       "      <th>0</th>\n",
       "      <td>0.285714</td>\n",
       "      <td>0.875</td>\n",
       "      <td>1.0</td>\n",
       "      <td>1.0</td>\n",
       "      <td>0.713675</td>\n",
       "      <td>0.000000e+00</td>\n",
       "    </tr>\n",
       "    <tr>\n",
       "      <th>1</th>\n",
       "      <td>0.285714</td>\n",
       "      <td>0.125</td>\n",
       "      <td>1.0</td>\n",
       "      <td>0.0</td>\n",
       "      <td>0.982906</td>\n",
       "      <td>7.142857e-07</td>\n",
       "    </tr>\n",
       "    <tr>\n",
       "      <th>2</th>\n",
       "      <td>0.285714</td>\n",
       "      <td>0.875</td>\n",
       "      <td>1.0</td>\n",
       "      <td>1.0</td>\n",
       "      <td>0.730769</td>\n",
       "      <td>0.000000e+00</td>\n",
       "    </tr>\n",
       "    <tr>\n",
       "      <th>3</th>\n",
       "      <td>0.285714</td>\n",
       "      <td>0.875</td>\n",
       "      <td>1.0</td>\n",
       "      <td>1.0</td>\n",
       "      <td>0.252137</td>\n",
       "      <td>0.000000e+00</td>\n",
       "    </tr>\n",
       "    <tr>\n",
       "      <th>4</th>\n",
       "      <td>0.285714</td>\n",
       "      <td>0.125</td>\n",
       "      <td>1.0</td>\n",
       "      <td>1.0</td>\n",
       "      <td>0.038462</td>\n",
       "      <td>3.642857e-06</td>\n",
       "    </tr>\n",
       "  </tbody>\n",
       "</table>\n",
       "</div>"
      ],
      "text/plain": [
       "   Department  Type Of Application  ApplicationStatus  RegionName  \\\n",
       "0    0.285714                0.875                1.0         1.0   \n",
       "1    0.285714                0.125                1.0         0.0   \n",
       "2    0.285714                0.875                1.0         1.0   \n",
       "3    0.285714                0.875                1.0         1.0   \n",
       "4    0.285714                0.125                1.0         1.0   \n",
       "\n",
       "   CounterPartyName         Amount  \n",
       "0           0.713675  0.000000e+00  \n",
       "1           0.982906  7.142857e-07  \n",
       "2           0.730769  0.000000e+00  \n",
       "3           0.252137  0.000000e+00  \n",
       "4           0.038462  3.642857e-06  "
      ]
     },
     "execution_count": 365,
     "metadata": {},
     "output_type": "execute_result"
    }
   ],
   "source": [
    "df_kmeans_norm_df.head()"
   ]
  },
  {
   "cell_type": "code",
   "execution_count": 366,
   "id": "200b516f",
   "metadata": {},
   "outputs": [
    {
     "name": "stderr",
     "output_type": "stream",
     "text": [
      "C:\\Users\\chira\\anaconda3\\lib\\site-packages\\sklearn\\cluster\\_kmeans.py:881: UserWarning: KMeans is known to have a memory leak on Windows with MKL, when there are less chunks than available threads. You can avoid it by setting the environment variable OMP_NUM_THREADS=2.\n",
      "  warnings.warn(\n"
     ]
    }
   ],
   "source": [
    "wcss = []\n",
    "\n",
    "for i in range(1,11):\n",
    "    km = KMeans(n_clusters=i)\n",
    "    km.fit_predict(df_kmeans_norm_df)\n",
    "    wcss.append(km.inertia_)"
   ]
  },
  {
   "cell_type": "code",
   "execution_count": 367,
   "id": "288828df",
   "metadata": {},
   "outputs": [
    {
     "data": {
      "text/plain": [
       "[150.747273461625,\n",
       " 80.69900907208954,\n",
       " 60.647930339628125,\n",
       " 48.10879274868661,\n",
       " 39.49769342010434,\n",
       " 34.41271026622248,\n",
       " 29.35161169958489,\n",
       " 24.581045503107614,\n",
       " 21.65616321180246,\n",
       " 20.717799426588137]"
      ]
     },
     "execution_count": 367,
     "metadata": {},
     "output_type": "execute_result"
    }
   ],
   "source": [
    "wcss"
   ]
  },
  {
   "cell_type": "code",
   "execution_count": 368,
   "id": "09c0e43d",
   "metadata": {},
   "outputs": [
    {
     "data": {
      "text/plain": [
       "[<matplotlib.lines.Line2D at 0x215497ff970>]"
      ]
     },
     "execution_count": 368,
     "metadata": {},
     "output_type": "execute_result"
    },
    {
     "data": {
      "image/png": "[encoded data removed]",
      "text/plain": [
       "<Figure size 432x288 with 1 Axes>"
      ]
     },
     "metadata": {
      "needs_background": "light"
     },
     "output_type": "display_data"
    }
   ],
   "source": [
    "plt.plot(range(1,11),wcss)"
   ]
  },
  {
   "cell_type": "code",
   "execution_count": 369,
   "id": "a679869e",
   "metadata": {},
   "outputs": [
    {
     "data": {
      "text/plain": [
       "array([[2.85714286e-01, 8.75000000e-01, 1.00000000e+00, 1.00000000e+00,\n",
       "        7.13675214e-01, 0.00000000e+00],\n",
       "       [2.85714286e-01, 1.25000000e-01, 1.00000000e+00, 0.00000000e+00,\n",
       "        9.82905983e-01, 7.14285714e-07],\n",
       "       [2.85714286e-01, 8.75000000e-01, 1.00000000e+00, 1.00000000e+00,\n",
       "        7.30769231e-01, 0.00000000e+00],\n",
       "       ...,\n",
       "       [5.71428571e-01, 1.25000000e-01, 1.00000000e+00, 5.00000000e-01,\n",
       "        1.75213675e-01, 1.00000000e-07],\n",
       "       [2.85714286e-01, 8.75000000e-01, 1.00000000e+00, 5.00000000e-01,\n",
       "        4.27350427e-03, 7.85714286e-08],\n",
       "       [2.85714286e-01, 8.75000000e-01, 1.00000000e+00, 5.00000000e-01,\n",
       "        4.27350427e-03, 7.85714286e-08]])"
      ]
     },
     "execution_count": 369,
     "metadata": {},
     "output_type": "execute_result"
    }
   ],
   "source": [
    "X_means_norm = df_kmeans_norm_df.iloc[:,:].values\n",
    "X_means_norm"
   ]
  },
  {
   "cell_type": "code",
   "execution_count": 370,
   "id": "b47522b0",
   "metadata": {},
   "outputs": [],
   "source": [
    "km = KMeans(n_clusters=3)\n"
   ]
  },
  {
   "cell_type": "code",
   "execution_count": 371,
   "id": "861a58be",
   "metadata": {},
   "outputs": [],
   "source": [
    "y_means_norm = km.fit_predict(X_means_norm)"
   ]
  },
  {
   "cell_type": "code",
   "execution_count": 372,
   "id": "dfdc328c",
   "metadata": {},
   "outputs": [
    {
     "data": {
      "text/plain": [
       "array([2, 2, 2, 0, 0, 0, 0, 2, 2, 0, 2, 2, 2, 2, 2, 0, 1, 2, 2, 0, 2, 1,\n",
       "       2, 2, 0, 0, 0, 0, 2, 1, 1, 2, 1, 2, 0, 2, 0, 0, 2, 0, 0, 2, 0, 0,\n",
       "       2, 1, 1, 2, 1, 2, 0, 2, 1, 1, 0, 0, 1, 2, 1, 2, 2, 2, 1, 0, 2, 0,\n",
       "       0, 0, 1, 0, 0, 0, 1, 0, 0, 1, 0, 0, 1, 1, 0, 2, 1, 2, 2, 2, 0, 2,\n",
       "       0, 2, 2, 0, 0, 0, 2, 1, 1, 2, 0, 0, 2, 1, 2, 0, 2, 0, 0, 0, 2, 2,\n",
       "       2, 2, 0, 0, 2, 1, 2, 1, 1, 1, 1, 1, 0, 1, 1, 1, 1, 1, 2, 2, 1, 2,\n",
       "       1, 1, 1, 1, 2, 1, 1, 0, 0, 0, 0, 1, 0, 1, 2, 1, 1, 0, 1, 1, 1, 0,\n",
       "       1, 1, 1, 0, 2, 1, 0, 1, 0, 0, 0, 2, 1, 1, 0, 2, 2, 0, 0, 0, 0, 0,\n",
       "       0, 0, 0, 0, 0, 0, 0, 0, 0, 0, 1, 0, 0, 2, 0, 0, 1, 1, 1, 0, 2, 0,\n",
       "       1, 2, 0, 2, 1, 0, 0, 2, 2, 1, 1, 1, 0, 1, 1, 0, 0, 1, 2, 2, 2, 2,\n",
       "       2, 0, 0, 0, 0, 0, 2, 2, 0, 0, 2, 2, 1, 0, 0, 1, 1, 1, 1, 1, 0, 1,\n",
       "       1, 1, 1, 1, 1, 1, 1, 1, 0, 1, 2, 1, 1, 1, 1, 0, 1, 1, 1, 0, 0, 0,\n",
       "       0, 1, 1, 1, 2, 1, 1, 0, 1, 0, 0, 2, 0, 1, 2, 0, 2, 2, 0, 0, 1, 0,\n",
       "       0, 0, 0, 1, 2, 0, 0, 0, 0, 0, 2, 0, 1, 1, 1, 1, 2, 2, 0, 2, 2, 2,\n",
       "       2, 2, 0, 2, 2, 2, 2, 2, 0, 2, 2, 2, 2, 2, 2, 2, 2, 2, 2, 0, 0, 0,\n",
       "       2, 1, 0, 0, 2, 0, 0, 0, 2, 0, 0, 0, 0, 0, 2, 2, 0, 2, 2, 2, 2, 2,\n",
       "       2, 2, 2, 0, 0, 0, 0, 0, 0, 0, 1, 2, 2, 2, 2, 2, 2, 2, 2, 2, 2, 1,\n",
       "       2, 1, 0, 0, 0, 2, 1, 2, 2, 2, 0, 2, 2, 1, 1, 2, 1, 1, 2, 0, 0, 0,\n",
       "       0, 0, 0, 1, 0, 2, 0, 1, 0, 0, 2, 0, 0, 0, 1, 0, 0, 0, 0, 0, 0, 0,\n",
       "       0, 0, 0, 0, 0, 0, 0])"
      ]
     },
     "execution_count": 372,
     "metadata": {},
     "output_type": "execute_result"
    }
   ],
   "source": [
    "y_means_norm"
   ]
  },
  {
   "cell_type": "code",
   "execution_count": 373,
   "id": "8c6805dd",
   "metadata": {},
   "outputs": [],
   "source": [
    "df_kmeans_norm_df['scalin_cluster']=y_means_norm\n"
   ]
  },
  {
   "cell_type": "code",
   "execution_count": 374,
   "id": "ebe86d8d",
   "metadata": {},
   "outputs": [
    {
     "data": {
      "text/html": [
       "<div>\n",
       "<style scoped>\n",
       "    .dataframe tbody tr th:only-of-type {\n",
       "        vertical-align: middle;\n",
       "    }\n",
       "\n",
       "    .dataframe tbody tr th {\n",
       "        vertical-align: top;\n",
       "    }\n",
       "\n",
       "    .dataframe thead th {\n",
       "        text-align: right;\n",
       "    }\n",
       "</style>\n",
       "<table border=\"1\" class=\"dataframe\">\n",
       "  <thead>\n",
       "    <tr style=\"text-align: right;\">\n",
       "      <th></th>\n",
       "      <th>Department</th>\n",
       "      <th>Type Of Application</th>\n",
       "      <th>ApplicationStatus</th>\n",
       "      <th>RegionName</th>\n",
       "      <th>CounterPartyName</th>\n",
       "      <th>Amount</th>\n",
       "      <th>scalin_cluster</th>\n",
       "    </tr>\n",
       "  </thead>\n",
       "  <tbody>\n",
       "    <tr>\n",
       "      <th>0</th>\n",
       "      <td>0.285714</td>\n",
       "      <td>0.875</td>\n",
       "      <td>1.0</td>\n",
       "      <td>1.0</td>\n",
       "      <td>0.713675</td>\n",
       "      <td>0.000000e+00</td>\n",
       "      <td>2</td>\n",
       "    </tr>\n",
       "    <tr>\n",
       "      <th>1</th>\n",
       "      <td>0.285714</td>\n",
       "      <td>0.125</td>\n",
       "      <td>1.0</td>\n",
       "      <td>0.0</td>\n",
       "      <td>0.982906</td>\n",
       "      <td>7.142857e-07</td>\n",
       "      <td>2</td>\n",
       "    </tr>\n",
       "    <tr>\n",
       "      <th>2</th>\n",
       "      <td>0.285714</td>\n",
       "      <td>0.875</td>\n",
       "      <td>1.0</td>\n",
       "      <td>1.0</td>\n",
       "      <td>0.730769</td>\n",
       "      <td>0.000000e+00</td>\n",
       "      <td>2</td>\n",
       "    </tr>\n",
       "    <tr>\n",
       "      <th>3</th>\n",
       "      <td>0.285714</td>\n",
       "      <td>0.875</td>\n",
       "      <td>1.0</td>\n",
       "      <td>1.0</td>\n",
       "      <td>0.252137</td>\n",
       "      <td>0.000000e+00</td>\n",
       "      <td>0</td>\n",
       "    </tr>\n",
       "    <tr>\n",
       "      <th>4</th>\n",
       "      <td>0.285714</td>\n",
       "      <td>0.125</td>\n",
       "      <td>1.0</td>\n",
       "      <td>1.0</td>\n",
       "      <td>0.038462</td>\n",
       "      <td>3.642857e-06</td>\n",
       "      <td>0</td>\n",
       "    </tr>\n",
       "    <tr>\n",
       "      <th>...</th>\n",
       "      <td>...</td>\n",
       "      <td>...</td>\n",
       "      <td>...</td>\n",
       "      <td>...</td>\n",
       "      <td>...</td>\n",
       "      <td>...</td>\n",
       "      <td>...</td>\n",
       "    </tr>\n",
       "    <tr>\n",
       "      <th>420</th>\n",
       "      <td>0.285714</td>\n",
       "      <td>0.250</td>\n",
       "      <td>1.0</td>\n",
       "      <td>1.0</td>\n",
       "      <td>0.256410</td>\n",
       "      <td>1.428571e-05</td>\n",
       "      <td>0</td>\n",
       "    </tr>\n",
       "    <tr>\n",
       "      <th>421</th>\n",
       "      <td>0.571429</td>\n",
       "      <td>0.125</td>\n",
       "      <td>1.0</td>\n",
       "      <td>0.5</td>\n",
       "      <td>0.350427</td>\n",
       "      <td>1.714286e-07</td>\n",
       "      <td>0</td>\n",
       "    </tr>\n",
       "    <tr>\n",
       "      <th>422</th>\n",
       "      <td>0.571429</td>\n",
       "      <td>0.125</td>\n",
       "      <td>1.0</td>\n",
       "      <td>0.5</td>\n",
       "      <td>0.175214</td>\n",
       "      <td>1.000000e-07</td>\n",
       "      <td>0</td>\n",
       "    </tr>\n",
       "    <tr>\n",
       "      <th>423</th>\n",
       "      <td>0.285714</td>\n",
       "      <td>0.875</td>\n",
       "      <td>1.0</td>\n",
       "      <td>0.5</td>\n",
       "      <td>0.004274</td>\n",
       "      <td>7.857143e-08</td>\n",
       "      <td>0</td>\n",
       "    </tr>\n",
       "    <tr>\n",
       "      <th>424</th>\n",
       "      <td>0.285714</td>\n",
       "      <td>0.875</td>\n",
       "      <td>1.0</td>\n",
       "      <td>0.5</td>\n",
       "      <td>0.004274</td>\n",
       "      <td>7.857143e-08</td>\n",
       "      <td>0</td>\n",
       "    </tr>\n",
       "  </tbody>\n",
       "</table>\n",
       "<p>425 rows × 7 columns</p>\n",
       "</div>"
      ],
      "text/plain": [
       "     Department  Type Of Application  ApplicationStatus  RegionName  \\\n",
       "0      0.285714                0.875                1.0         1.0   \n",
       "1      0.285714                0.125                1.0         0.0   \n",
       "2      0.285714                0.875                1.0         1.0   \n",
       "3      0.285714                0.875                1.0         1.0   \n",
       "4      0.285714                0.125                1.0         1.0   \n",
       "..          ...                  ...                ...         ...   \n",
       "420    0.285714                0.250                1.0         1.0   \n",
       "421    0.571429                0.125                1.0         0.5   \n",
       "422    0.571429                0.125                1.0         0.5   \n",
       "423    0.285714                0.875                1.0         0.5   \n",
       "424    0.285714                0.875                1.0         0.5   \n",
       "\n",
       "     CounterPartyName         Amount  scalin_cluster  \n",
       "0             0.713675  0.000000e+00               2  \n",
       "1             0.982906  7.142857e-07               2  \n",
       "2             0.730769  0.000000e+00               2  \n",
       "3             0.252137  0.000000e+00               0  \n",
       "4             0.038462  3.642857e-06               0  \n",
       "..                 ...           ...             ...  \n",
       "420           0.256410  1.428571e-05               0  \n",
       "421           0.350427  1.714286e-07               0  \n",
       "422           0.175214  1.000000e-07               0  \n",
       "423           0.004274  7.857143e-08               0  \n",
       "424           0.004274  7.857143e-08               0  \n",
       "\n",
       "[425 rows x 7 columns]"
      ]
     },
     "execution_count": 374,
     "metadata": {},
     "output_type": "execute_result"
    }
   ],
   "source": [
    "df_kmeans_norm_df"
   ]
  },
  {
   "cell_type": "code",
   "execution_count": 377,
   "id": "797bee05",
   "metadata": {},
   "outputs": [
    {
     "data": {
      "text/plain": [
       "0    175\n",
       "2    136\n",
       "1    114\n",
       "Name: scalin_cluster, dtype: int64"
      ]
     },
     "execution_count": 377,
     "metadata": {},
     "output_type": "execute_result"
    }
   ],
   "source": [
    "df_kmeans_norm_df['scalin_cluster'].value_counts()"
   ]
  },
  {
   "cell_type": "code",
   "execution_count": 380,
   "id": "8b7b2e4c",
   "metadata": {},
   "outputs": [
    {
     "data": {
      "text/plain": [
       "Index(['Department', 'Type Of Application', 'ApplicationStatus', 'RegionName',\n",
       "       'CounterPartyName ', 'Amount', 'scalin_cluster'],\n",
       "      dtype='object')"
      ]
     },
     "execution_count": 380,
     "metadata": {},
     "output_type": "execute_result"
    }
   ],
   "source": [
    "df_kmeans_norm_df.columns"
   ]
  },
  {
   "cell_type": "code",
   "execution_count": 379,
   "id": "25b830fc",
   "metadata": {},
   "outputs": [],
   "source": [
    "df_kmeans_norm_df1 = df_kmeans_norm_df[df_kmeans_norm_df.scalin_cluster==0]\n",
    "df_kmeans_norm_df2 = df_kmeans_norm_df[df_kmeans_norm_df.scalin_cluster==1]\n",
    "df_kmeans_norm_df3 = df_kmeans_norm_df[df_kmeans_norm_df.scalin_cluster==2]"
   ]
  },
  {
   "cell_type": "code",
   "execution_count": 381,
   "id": "4ebe0637",
   "metadata": {},
   "outputs": [
    {
     "name": "stderr",
     "output_type": "stream",
     "text": [
      "No handles with labels found to put in legend.\n"
     ]
    },
    {
     "data": {
      "text/plain": [
       "<matplotlib.legend.Legend at 0x2154f4cd340>"
      ]
     },
     "execution_count": 381,
     "metadata": {},
     "output_type": "execute_result"
    },
    {
     "data": {
      "image/png": "[encoded data removed]",
      "text/plain": [
       "<Figure size 432x288 with 1 Axes>"
      ]
     },
     "metadata": {
      "needs_background": "light"
     },
     "output_type": "display_data"
    }
   ],
   "source": [
    "plt.bar(df_kmeans_norm_df1['RegionName'],df_kmeans_norm_df1['Amount'],color='green')\n",
    "plt.bar(df_kmeans_norm_df2['RegionName'],df_kmeans_norm_df2['Amount'],color='red')\n",
    "plt.bar(df_kmeans_norm_df3['RegionName'],df_kmeans_norm_df3['Amount'],color='black')\n",
    "\n",
    "plt.xlabel('RegionName')\n",
    "plt.ylabel('Amount')\n",
    "plt.legend()"
   ]
  },
  {
   "cell_type": "code",
   "execution_count": 382,
   "id": "87911cfb",
   "metadata": {},
   "outputs": [
    {
     "data": {
      "text/plain": [
       "<BarContainer object of 114 artists>"
      ]
     },
     "execution_count": 382,
     "metadata": {},
     "output_type": "execute_result"
    },
    {
     "data": {
      "image/png": "[encoded data removed]",
      "text/plain": [
       "<Figure size 432x288 with 1 Axes>"
      ]
     },
     "metadata": {
      "needs_background": "light"
     },
     "output_type": "display_data"
    }
   ],
   "source": [
    "plt.bar(df_kmeans_norm_df2['RegionName'],df_kmeans_norm_df2['Amount'],color='red')\n"
   ]
  },
  {
   "cell_type": "code",
   "execution_count": 384,
   "id": "6f2a5f2d",
   "metadata": {},
   "outputs": [
    {
     "data": {
      "text/html": [
       "<div>\n",
       "<style scoped>\n",
       "    .dataframe tbody tr th:only-of-type {\n",
       "        vertical-align: middle;\n",
       "    }\n",
       "\n",
       "    .dataframe tbody tr th {\n",
       "        vertical-align: top;\n",
       "    }\n",
       "\n",
       "    .dataframe thead th {\n",
       "        text-align: right;\n",
       "    }\n",
       "</style>\n",
       "<table border=\"1\" class=\"dataframe\">\n",
       "  <thead>\n",
       "    <tr style=\"text-align: right;\">\n",
       "      <th></th>\n",
       "      <th>scalin_cluster</th>\n",
       "      <th>Department</th>\n",
       "      <th>Type Of Application</th>\n",
       "      <th>ApplicationStatus</th>\n",
       "      <th>RegionName</th>\n",
       "      <th>CounterPartyName</th>\n",
       "      <th>Amount</th>\n",
       "    </tr>\n",
       "  </thead>\n",
       "  <tbody>\n",
       "    <tr>\n",
       "      <th>0</th>\n",
       "      <td>0</td>\n",
       "      <td>0.293061</td>\n",
       "      <td>0.260000</td>\n",
       "      <td>0.987429</td>\n",
       "      <td>0.982857</td>\n",
       "      <td>0.239341</td>\n",
       "      <td>0.000018</td>\n",
       "    </tr>\n",
       "    <tr>\n",
       "      <th>1</th>\n",
       "      <td>1</td>\n",
       "      <td>0.285714</td>\n",
       "      <td>0.199561</td>\n",
       "      <td>0.080702</td>\n",
       "      <td>1.000000</td>\n",
       "      <td>0.537412</td>\n",
       "      <td>0.002829</td>\n",
       "    </tr>\n",
       "    <tr>\n",
       "      <th>2</th>\n",
       "      <td>2</td>\n",
       "      <td>0.327731</td>\n",
       "      <td>0.294118</td>\n",
       "      <td>0.994118</td>\n",
       "      <td>0.977941</td>\n",
       "      <td>0.748775</td>\n",
       "      <td>0.007382</td>\n",
       "    </tr>\n",
       "  </tbody>\n",
       "</table>\n",
       "</div>"
      ],
      "text/plain": [
       "   scalin_cluster  Department  Type Of Application  ApplicationStatus  \\\n",
       "0               0    0.293061             0.260000           0.987429   \n",
       "1               1    0.285714             0.199561           0.080702   \n",
       "2               2    0.327731             0.294118           0.994118   \n",
       "\n",
       "   RegionName  CounterPartyName     Amount  \n",
       "0    0.982857           0.239341  0.000018  \n",
       "1    1.000000           0.537412  0.002829  \n",
       "2    0.977941           0.748775  0.007382  "
      ]
     },
     "execution_count": 384,
     "metadata": {},
     "output_type": "execute_result"
    }
   ],
   "source": [
    "clust_mean=df_kmeans_norm_df.groupby('scalin_cluster').mean().reset_index()\n",
    "clust_mean"
   ]
  },
  {
   "cell_type": "code",
   "execution_count": 387,
   "id": "6cf568c7",
   "metadata": {},
   "outputs": [
    {
     "data": {
      "text/html": [
       "<div>\n",
       "<style scoped>\n",
       "    .dataframe tbody tr th:only-of-type {\n",
       "        vertical-align: middle;\n",
       "    }\n",
       "\n",
       "    .dataframe tbody tr th {\n",
       "        vertical-align: top;\n",
       "    }\n",
       "\n",
       "    .dataframe thead th {\n",
       "        text-align: right;\n",
       "    }\n",
       "</style>\n",
       "<table border=\"1\" class=\"dataframe\">\n",
       "  <thead>\n",
       "    <tr style=\"text-align: right;\">\n",
       "      <th></th>\n",
       "      <th>scalin_cluster</th>\n",
       "      <th>Department</th>\n",
       "      <th>Type Of Application</th>\n",
       "      <th>ApplicationStatus</th>\n",
       "      <th>RegionName</th>\n",
       "      <th>CounterPartyName</th>\n",
       "      <th>Amount</th>\n",
       "      <th>freq</th>\n",
       "    </tr>\n",
       "  </thead>\n",
       "  <tbody>\n",
       "    <tr>\n",
       "      <th>0</th>\n",
       "      <td>0</td>\n",
       "      <td>0.293061</td>\n",
       "      <td>0.260000</td>\n",
       "      <td>0.987429</td>\n",
       "      <td>0.982857</td>\n",
       "      <td>0.239341</td>\n",
       "      <td>0.000018</td>\n",
       "      <td>175</td>\n",
       "    </tr>\n",
       "    <tr>\n",
       "      <th>1</th>\n",
       "      <td>1</td>\n",
       "      <td>0.285714</td>\n",
       "      <td>0.199561</td>\n",
       "      <td>0.080702</td>\n",
       "      <td>1.000000</td>\n",
       "      <td>0.537412</td>\n",
       "      <td>0.002829</td>\n",
       "      <td>114</td>\n",
       "    </tr>\n",
       "    <tr>\n",
       "      <th>2</th>\n",
       "      <td>2</td>\n",
       "      <td>0.327731</td>\n",
       "      <td>0.294118</td>\n",
       "      <td>0.994118</td>\n",
       "      <td>0.977941</td>\n",
       "      <td>0.748775</td>\n",
       "      <td>0.007382</td>\n",
       "      <td>136</td>\n",
       "    </tr>\n",
       "  </tbody>\n",
       "</table>\n",
       "</div>"
      ],
      "text/plain": [
       "   scalin_cluster  Department  Type Of Application  ApplicationStatus  \\\n",
       "0               0    0.293061             0.260000           0.987429   \n",
       "1               1    0.285714             0.199561           0.080702   \n",
       "2               2    0.327731             0.294118           0.994118   \n",
       "\n",
       "   RegionName  CounterPartyName     Amount  freq  \n",
       "0    0.982857           0.239341  0.000018   175  \n",
       "1    1.000000           0.537412  0.002829   114  \n",
       "2    0.977941           0.748775  0.007382   136  "
      ]
     },
     "execution_count": 387,
     "metadata": {},
     "output_type": "execute_result"
    }
   ],
   "source": [
    "clust_mean['freq']=df_kmeans_norm_df['scalin_cluster'].value_counts().sort_index()\n",
    "clust_mean"
   ]
  },
  {
   "cell_type": "code",
   "execution_count": 389,
   "id": "501d11bc",
   "metadata": {},
   "outputs": [
    {
     "data": {
      "text/plain": [
       "<BarContainer object of 3 artists>"
      ]
     },
     "execution_count": 389,
     "metadata": {},
     "output_type": "execute_result"
    },
    {
     "data": {
      "image/png": "[encoded data removed]",
      "text/plain": [
       "<Figure size 432x288 with 1 Axes>"
      ]
     },
     "metadata": {
      "needs_background": "light"
     },
     "output_type": "display_data"
    }
   ],
   "source": [
    "plt.bar(clust_mean.scalin_cluster,clust_mean['Amount'])\n"
   ]
  },
  {
   "cell_type": "code",
   "execution_count": 390,
   "id": "d4598803",
   "metadata": {},
   "outputs": [
    {
     "data": {
      "text/plain": [
       "<BarContainer object of 3 artists>"
      ]
     },
     "execution_count": 390,
     "metadata": {},
     "output_type": "execute_result"
    },
    {
     "data": {
      "image/png": "[encoded data removed]",
      "text/plain": [
       "<Figure size 432x288 with 1 Axes>"
      ]
     },
     "metadata": {
      "needs_background": "light"
     },
     "output_type": "display_data"
    }
   ],
   "source": [
    "plt.bar(clust_mean.scalin_cluster,clust_mean['freq'])\n"
   ]
  },
  {
   "cell_type": "code",
   "execution_count": 394,
   "id": "842ff9a4",
   "metadata": {},
   "outputs": [
    {
     "data": {
      "text/html": [
       "<div>\n",
       "<style scoped>\n",
       "    .dataframe tbody tr th:only-of-type {\n",
       "        vertical-align: middle;\n",
       "    }\n",
       "\n",
       "    .dataframe tbody tr th {\n",
       "        vertical-align: top;\n",
       "    }\n",
       "\n",
       "    .dataframe thead th {\n",
       "        text-align: right;\n",
       "    }\n",
       "</style>\n",
       "<table border=\"1\" class=\"dataframe\">\n",
       "  <thead>\n",
       "    <tr style=\"text-align: right;\">\n",
       "      <th></th>\n",
       "      <th>Department</th>\n",
       "      <th>Type Of Application</th>\n",
       "      <th>ApplicationStatus</th>\n",
       "      <th>RegionName</th>\n",
       "      <th>CounterPartyName</th>\n",
       "      <th>Amount</th>\n",
       "    </tr>\n",
       "    <tr>\n",
       "      <th>scalin_cluster</th>\n",
       "      <th></th>\n",
       "      <th></th>\n",
       "      <th></th>\n",
       "      <th></th>\n",
       "      <th></th>\n",
       "      <th></th>\n",
       "    </tr>\n",
       "  </thead>\n",
       "  <tbody>\n",
       "    <tr>\n",
       "      <th>0</th>\n",
       "      <td>0.857143</td>\n",
       "      <td>1.000</td>\n",
       "      <td>1.0</td>\n",
       "      <td>1.0</td>\n",
       "      <td>0.504274</td>\n",
       "      <td>0.000470</td>\n",
       "    </tr>\n",
       "    <tr>\n",
       "      <th>1</th>\n",
       "      <td>0.714286</td>\n",
       "      <td>0.875</td>\n",
       "      <td>0.4</td>\n",
       "      <td>1.0</td>\n",
       "      <td>0.995726</td>\n",
       "      <td>0.142874</td>\n",
       "    </tr>\n",
       "    <tr>\n",
       "      <th>2</th>\n",
       "      <td>1.000000</td>\n",
       "      <td>1.000</td>\n",
       "      <td>1.0</td>\n",
       "      <td>1.0</td>\n",
       "      <td>1.000000</td>\n",
       "      <td>1.000000</td>\n",
       "    </tr>\n",
       "  </tbody>\n",
       "</table>\n",
       "</div>"
      ],
      "text/plain": [
       "                Department  Type Of Application  ApplicationStatus  \\\n",
       "scalin_cluster                                                       \n",
       "0                 0.857143                1.000                1.0   \n",
       "1                 0.714286                0.875                0.4   \n",
       "2                 1.000000                1.000                1.0   \n",
       "\n",
       "                RegionName  CounterPartyName     Amount  \n",
       "scalin_cluster                                           \n",
       "0                      1.0           0.504274  0.000470  \n",
       "1                      1.0           0.995726  0.142874  \n",
       "2                      1.0           1.000000  1.000000  "
      ]
     },
     "execution_count": 394,
     "metadata": {},
     "output_type": "execute_result"
    }
   ],
   "source": [
    "df_kmeans_norm_df.groupby('scalin_cluster').max()"
   ]
  },
  {
   "cell_type": "code",
   "execution_count": 395,
   "id": "2a6e3b9d",
   "metadata": {},
   "outputs": [
    {
     "data": {
      "text/html": [
       "<div>\n",
       "<style scoped>\n",
       "    .dataframe tbody tr th:only-of-type {\n",
       "        vertical-align: middle;\n",
       "    }\n",
       "\n",
       "    .dataframe tbody tr th {\n",
       "        vertical-align: top;\n",
       "    }\n",
       "\n",
       "    .dataframe thead th {\n",
       "        text-align: right;\n",
       "    }\n",
       "</style>\n",
       "<table border=\"1\" class=\"dataframe\">\n",
       "  <thead>\n",
       "    <tr style=\"text-align: right;\">\n",
       "      <th></th>\n",
       "      <th>Department</th>\n",
       "      <th>Type Of Application</th>\n",
       "      <th>ApplicationStatus</th>\n",
       "      <th>RegionName</th>\n",
       "      <th>CounterPartyName</th>\n",
       "      <th>Amount</th>\n",
       "    </tr>\n",
       "    <tr>\n",
       "      <th>scalin_cluster</th>\n",
       "      <th></th>\n",
       "      <th></th>\n",
       "      <th></th>\n",
       "      <th></th>\n",
       "      <th></th>\n",
       "      <th></th>\n",
       "    </tr>\n",
       "  </thead>\n",
       "  <tbody>\n",
       "    <tr>\n",
       "      <th>0</th>\n",
       "      <td>0.293061</td>\n",
       "      <td>0.260000</td>\n",
       "      <td>0.987429</td>\n",
       "      <td>0.982857</td>\n",
       "      <td>0.239341</td>\n",
       "      <td>0.000018</td>\n",
       "    </tr>\n",
       "    <tr>\n",
       "      <th>1</th>\n",
       "      <td>0.285714</td>\n",
       "      <td>0.199561</td>\n",
       "      <td>0.080702</td>\n",
       "      <td>1.000000</td>\n",
       "      <td>0.537412</td>\n",
       "      <td>0.002829</td>\n",
       "    </tr>\n",
       "    <tr>\n",
       "      <th>2</th>\n",
       "      <td>0.327731</td>\n",
       "      <td>0.294118</td>\n",
       "      <td>0.994118</td>\n",
       "      <td>0.977941</td>\n",
       "      <td>0.748775</td>\n",
       "      <td>0.007382</td>\n",
       "    </tr>\n",
       "  </tbody>\n",
       "</table>\n",
       "</div>"
      ],
      "text/plain": [
       "                Department  Type Of Application  ApplicationStatus  \\\n",
       "scalin_cluster                                                       \n",
       "0                 0.293061             0.260000           0.987429   \n",
       "1                 0.285714             0.199561           0.080702   \n",
       "2                 0.327731             0.294118           0.994118   \n",
       "\n",
       "                RegionName  CounterPartyName     Amount  \n",
       "scalin_cluster                                           \n",
       "0                 0.982857           0.239341  0.000018  \n",
       "1                 1.000000           0.537412  0.002829  \n",
       "2                 0.977941           0.748775  0.007382  "
      ]
     },
     "execution_count": 395,
     "metadata": {},
     "output_type": "execute_result"
    }
   ],
   "source": [
    "df_kmeans_norm_df.groupby('scalin_cluster').mean()"
   ]
  },
  {
   "cell_type": "code",
   "execution_count": 396,
   "id": "5aaf3dd1",
   "metadata": {},
   "outputs": [
    {
     "data": {
      "text/html": [
       "<div>\n",
       "<style scoped>\n",
       "    .dataframe tbody tr th:only-of-type {\n",
       "        vertical-align: middle;\n",
       "    }\n",
       "\n",
       "    .dataframe tbody tr th {\n",
       "        vertical-align: top;\n",
       "    }\n",
       "\n",
       "    .dataframe thead th {\n",
       "        text-align: right;\n",
       "    }\n",
       "</style>\n",
       "<table border=\"1\" class=\"dataframe\">\n",
       "  <thead>\n",
       "    <tr style=\"text-align: right;\">\n",
       "      <th></th>\n",
       "      <th>Department</th>\n",
       "      <th>Type Of Application</th>\n",
       "      <th>ApplicationStatus</th>\n",
       "      <th>RegionName</th>\n",
       "      <th>CounterPartyName</th>\n",
       "      <th>Amount</th>\n",
       "    </tr>\n",
       "    <tr>\n",
       "      <th>scalin_cluster</th>\n",
       "      <th></th>\n",
       "      <th></th>\n",
       "      <th></th>\n",
       "      <th></th>\n",
       "      <th></th>\n",
       "      <th></th>\n",
       "    </tr>\n",
       "  </thead>\n",
       "  <tbody>\n",
       "    <tr>\n",
       "      <th>0</th>\n",
       "      <td>0.0</td>\n",
       "      <td>0.0</td>\n",
       "      <td>0.6</td>\n",
       "      <td>0.0</td>\n",
       "      <td>0.000000</td>\n",
       "      <td>0.0</td>\n",
       "    </tr>\n",
       "    <tr>\n",
       "      <th>1</th>\n",
       "      <td>0.0</td>\n",
       "      <td>0.0</td>\n",
       "      <td>0.0</td>\n",
       "      <td>1.0</td>\n",
       "      <td>0.021368</td>\n",
       "      <td>0.0</td>\n",
       "    </tr>\n",
       "    <tr>\n",
       "      <th>2</th>\n",
       "      <td>0.0</td>\n",
       "      <td>0.0</td>\n",
       "      <td>0.6</td>\n",
       "      <td>0.0</td>\n",
       "      <td>0.495726</td>\n",
       "      <td>0.0</td>\n",
       "    </tr>\n",
       "  </tbody>\n",
       "</table>\n",
       "</div>"
      ],
      "text/plain": [
       "                Department  Type Of Application  ApplicationStatus  \\\n",
       "scalin_cluster                                                       \n",
       "0                      0.0                  0.0                0.6   \n",
       "1                      0.0                  0.0                0.0   \n",
       "2                      0.0                  0.0                0.6   \n",
       "\n",
       "                RegionName  CounterPartyName   Amount  \n",
       "scalin_cluster                                         \n",
       "0                      0.0           0.000000     0.0  \n",
       "1                      1.0           0.021368     0.0  \n",
       "2                      0.0           0.495726     0.0  "
      ]
     },
     "execution_count": 396,
     "metadata": {},
     "output_type": "execute_result"
    }
   ],
   "source": [
    "df_kmeans_norm_df.groupby('scalin_cluster').min()"
   ]
  },
  {
   "cell_type": "code",
   "execution_count": 397,
   "id": "09952916",
   "metadata": {},
   "outputs": [
    {
     "data": {
      "image/png": "[encoded data removed]",
      "text/plain": [
       "<Figure size 576x576 with 1 Axes>"
      ]
     },
     "metadata": {},
     "output_type": "display_data"
    }
   ],
   "source": [
    "colors = sns.color_palette('bright')\n",
    "plt.figure(figsize=(8,8))\n",
    "\n",
    "plt.pie(clust_mean['freq'], labels=clust_mean['scalin_cluster'],autopct='%1.1f%%',shadow=True, startangle=45, colors=colors)\n",
    "plt.show()"
   ]
  },
  {
   "cell_type": "code",
   "execution_count": 399,
   "id": "56c801a6",
   "metadata": {},
   "outputs": [],
   "source": [
    "df_kmeans['scalin_cluster']=y_means_norm"
   ]
  },
  {
   "cell_type": "code",
   "execution_count": 400,
   "id": "dd6ecbd5",
   "metadata": {},
   "outputs": [
    {
     "data": {
      "text/html": [
       "<div>\n",
       "<style scoped>\n",
       "    .dataframe tbody tr th:only-of-type {\n",
       "        vertical-align: middle;\n",
       "    }\n",
       "\n",
       "    .dataframe tbody tr th {\n",
       "        vertical-align: top;\n",
       "    }\n",
       "\n",
       "    .dataframe thead th {\n",
       "        text-align: right;\n",
       "    }\n",
       "</style>\n",
       "<table border=\"1\" class=\"dataframe\">\n",
       "  <thead>\n",
       "    <tr style=\"text-align: right;\">\n",
       "      <th></th>\n",
       "      <th>Department</th>\n",
       "      <th>Type Of Application</th>\n",
       "      <th>ApplicationStatus</th>\n",
       "      <th>RegionName</th>\n",
       "      <th>CounterPartyName</th>\n",
       "      <th>Amount</th>\n",
       "      <th>scalin_cluster</th>\n",
       "    </tr>\n",
       "  </thead>\n",
       "  <tbody>\n",
       "    <tr>\n",
       "      <th>0</th>\n",
       "      <td>2</td>\n",
       "      <td>7</td>\n",
       "      <td>5</td>\n",
       "      <td>2</td>\n",
       "      <td>167</td>\n",
       "      <td>0.000000e+00</td>\n",
       "      <td>2</td>\n",
       "    </tr>\n",
       "    <tr>\n",
       "      <th>1</th>\n",
       "      <td>2</td>\n",
       "      <td>1</td>\n",
       "      <td>5</td>\n",
       "      <td>0</td>\n",
       "      <td>230</td>\n",
       "      <td>1.000000e+08</td>\n",
       "      <td>2</td>\n",
       "    </tr>\n",
       "    <tr>\n",
       "      <th>2</th>\n",
       "      <td>2</td>\n",
       "      <td>7</td>\n",
       "      <td>5</td>\n",
       "      <td>2</td>\n",
       "      <td>171</td>\n",
       "      <td>0.000000e+00</td>\n",
       "      <td>2</td>\n",
       "    </tr>\n",
       "    <tr>\n",
       "      <th>3</th>\n",
       "      <td>2</td>\n",
       "      <td>7</td>\n",
       "      <td>5</td>\n",
       "      <td>2</td>\n",
       "      <td>59</td>\n",
       "      <td>0.000000e+00</td>\n",
       "      <td>0</td>\n",
       "    </tr>\n",
       "    <tr>\n",
       "      <th>4</th>\n",
       "      <td>2</td>\n",
       "      <td>1</td>\n",
       "      <td>5</td>\n",
       "      <td>2</td>\n",
       "      <td>9</td>\n",
       "      <td>5.100000e+08</td>\n",
       "      <td>0</td>\n",
       "    </tr>\n",
       "    <tr>\n",
       "      <th>...</th>\n",
       "      <td>...</td>\n",
       "      <td>...</td>\n",
       "      <td>...</td>\n",
       "      <td>...</td>\n",
       "      <td>...</td>\n",
       "      <td>...</td>\n",
       "      <td>...</td>\n",
       "    </tr>\n",
       "    <tr>\n",
       "      <th>420</th>\n",
       "      <td>2</td>\n",
       "      <td>2</td>\n",
       "      <td>5</td>\n",
       "      <td>2</td>\n",
       "      <td>60</td>\n",
       "      <td>2.000000e+09</td>\n",
       "      <td>0</td>\n",
       "    </tr>\n",
       "    <tr>\n",
       "      <th>421</th>\n",
       "      <td>4</td>\n",
       "      <td>1</td>\n",
       "      <td>5</td>\n",
       "      <td>1</td>\n",
       "      <td>82</td>\n",
       "      <td>2.400000e+07</td>\n",
       "      <td>0</td>\n",
       "    </tr>\n",
       "    <tr>\n",
       "      <th>422</th>\n",
       "      <td>4</td>\n",
       "      <td>1</td>\n",
       "      <td>5</td>\n",
       "      <td>1</td>\n",
       "      <td>41</td>\n",
       "      <td>1.400000e+07</td>\n",
       "      <td>0</td>\n",
       "    </tr>\n",
       "    <tr>\n",
       "      <th>423</th>\n",
       "      <td>2</td>\n",
       "      <td>7</td>\n",
       "      <td>5</td>\n",
       "      <td>1</td>\n",
       "      <td>1</td>\n",
       "      <td>1.100000e+07</td>\n",
       "      <td>0</td>\n",
       "    </tr>\n",
       "    <tr>\n",
       "      <th>424</th>\n",
       "      <td>2</td>\n",
       "      <td>7</td>\n",
       "      <td>5</td>\n",
       "      <td>1</td>\n",
       "      <td>1</td>\n",
       "      <td>1.100000e+07</td>\n",
       "      <td>0</td>\n",
       "    </tr>\n",
       "  </tbody>\n",
       "</table>\n",
       "<p>425 rows × 7 columns</p>\n",
       "</div>"
      ],
      "text/plain": [
       "     Department  Type Of Application  ApplicationStatus  RegionName  \\\n",
       "0             2                    7                  5           2   \n",
       "1             2                    1                  5           0   \n",
       "2             2                    7                  5           2   \n",
       "3             2                    7                  5           2   \n",
       "4             2                    1                  5           2   \n",
       "..          ...                  ...                ...         ...   \n",
       "420           2                    2                  5           2   \n",
       "421           4                    1                  5           1   \n",
       "422           4                    1                  5           1   \n",
       "423           2                    7                  5           1   \n",
       "424           2                    7                  5           1   \n",
       "\n",
       "     CounterPartyName         Amount  scalin_cluster  \n",
       "0                  167  0.000000e+00               2  \n",
       "1                  230  1.000000e+08               2  \n",
       "2                  171  0.000000e+00               2  \n",
       "3                   59  0.000000e+00               0  \n",
       "4                    9  5.100000e+08               0  \n",
       "..                 ...           ...             ...  \n",
       "420                 60  2.000000e+09               0  \n",
       "421                 82  2.400000e+07               0  \n",
       "422                 41  1.400000e+07               0  \n",
       "423                  1  1.100000e+07               0  \n",
       "424                  1  1.100000e+07               0  \n",
       "\n",
       "[425 rows x 7 columns]"
      ]
     },
     "execution_count": 400,
     "metadata": {},
     "output_type": "execute_result"
    }
   ],
   "source": [
    "df_kmeans"
   ]
  },
  {
   "cell_type": "code",
   "execution_count": 401,
   "id": "6ea5d2f8",
   "metadata": {},
   "outputs": [
    {
     "data": {
      "text/html": [
       "<div>\n",
       "<style scoped>\n",
       "    .dataframe tbody tr th:only-of-type {\n",
       "        vertical-align: middle;\n",
       "    }\n",
       "\n",
       "    .dataframe tbody tr th {\n",
       "        vertical-align: top;\n",
       "    }\n",
       "\n",
       "    .dataframe thead th {\n",
       "        text-align: right;\n",
       "    }\n",
       "</style>\n",
       "<table border=\"1\" class=\"dataframe\">\n",
       "  <thead>\n",
       "    <tr style=\"text-align: right;\">\n",
       "      <th></th>\n",
       "      <th>Department</th>\n",
       "      <th>Type Of Application</th>\n",
       "      <th>ApplicationStatus</th>\n",
       "      <th>RegionName</th>\n",
       "      <th>CounterPartyName</th>\n",
       "      <th>Amount</th>\n",
       "    </tr>\n",
       "    <tr>\n",
       "      <th>scalin_cluster</th>\n",
       "      <th></th>\n",
       "      <th></th>\n",
       "      <th></th>\n",
       "      <th></th>\n",
       "      <th></th>\n",
       "      <th></th>\n",
       "    </tr>\n",
       "  </thead>\n",
       "  <tbody>\n",
       "    <tr>\n",
       "      <th>0</th>\n",
       "      <td>6</td>\n",
       "      <td>8</td>\n",
       "      <td>5</td>\n",
       "      <td>2</td>\n",
       "      <td>118</td>\n",
       "      <td>6.585600e+10</td>\n",
       "    </tr>\n",
       "    <tr>\n",
       "      <th>1</th>\n",
       "      <td>5</td>\n",
       "      <td>7</td>\n",
       "      <td>2</td>\n",
       "      <td>2</td>\n",
       "      <td>233</td>\n",
       "      <td>2.000233e+13</td>\n",
       "    </tr>\n",
       "    <tr>\n",
       "      <th>2</th>\n",
       "      <td>7</td>\n",
       "      <td>8</td>\n",
       "      <td>5</td>\n",
       "      <td>2</td>\n",
       "      <td>234</td>\n",
       "      <td>1.400000e+14</td>\n",
       "    </tr>\n",
       "  </tbody>\n",
       "</table>\n",
       "</div>"
      ],
      "text/plain": [
       "                Department  Type Of Application  ApplicationStatus  \\\n",
       "scalin_cluster                                                       \n",
       "0                        6                    8                  5   \n",
       "1                        5                    7                  2   \n",
       "2                        7                    8                  5   \n",
       "\n",
       "                RegionName  CounterPartyName         Amount  \n",
       "scalin_cluster                                               \n",
       "0                        2                118  6.585600e+10  \n",
       "1                        2                233  2.000233e+13  \n",
       "2                        2                234  1.400000e+14  "
      ]
     },
     "execution_count": 401,
     "metadata": {},
     "output_type": "execute_result"
    }
   ],
   "source": [
    "df_kmeans.groupby('scalin_cluster').max()"
   ]
  },
  {
   "cell_type": "code",
   "execution_count": 402,
   "id": "fdc9b43b",
   "metadata": {},
   "outputs": [
    {
     "data": {
      "text/html": [
       "<div>\n",
       "<style scoped>\n",
       "    .dataframe tbody tr th:only-of-type {\n",
       "        vertical-align: middle;\n",
       "    }\n",
       "\n",
       "    .dataframe tbody tr th {\n",
       "        vertical-align: top;\n",
       "    }\n",
       "\n",
       "    .dataframe thead th {\n",
       "        text-align: right;\n",
       "    }\n",
       "</style>\n",
       "<table border=\"1\" class=\"dataframe\">\n",
       "  <thead>\n",
       "    <tr style=\"text-align: right;\">\n",
       "      <th></th>\n",
       "      <th>Department</th>\n",
       "      <th>Type Of Application</th>\n",
       "      <th>ApplicationStatus</th>\n",
       "      <th>RegionName</th>\n",
       "      <th>CounterPartyName</th>\n",
       "      <th>Amount</th>\n",
       "    </tr>\n",
       "    <tr>\n",
       "      <th>scalin_cluster</th>\n",
       "      <th></th>\n",
       "      <th></th>\n",
       "      <th></th>\n",
       "      <th></th>\n",
       "      <th></th>\n",
       "      <th></th>\n",
       "    </tr>\n",
       "  </thead>\n",
       "  <tbody>\n",
       "    <tr>\n",
       "      <th>0</th>\n",
       "      <td>2.051429</td>\n",
       "      <td>2.080000</td>\n",
       "      <td>4.937143</td>\n",
       "      <td>1.965714</td>\n",
       "      <td>56.005714</td>\n",
       "      <td>2.509136e+09</td>\n",
       "    </tr>\n",
       "    <tr>\n",
       "      <th>1</th>\n",
       "      <td>2.000000</td>\n",
       "      <td>1.596491</td>\n",
       "      <td>0.403509</td>\n",
       "      <td>2.000000</td>\n",
       "      <td>125.754386</td>\n",
       "      <td>3.961231e+11</td>\n",
       "    </tr>\n",
       "    <tr>\n",
       "      <th>2</th>\n",
       "      <td>2.294118</td>\n",
       "      <td>2.352941</td>\n",
       "      <td>4.970588</td>\n",
       "      <td>1.955882</td>\n",
       "      <td>175.213235</td>\n",
       "      <td>1.033418e+12</td>\n",
       "    </tr>\n",
       "  </tbody>\n",
       "</table>\n",
       "</div>"
      ],
      "text/plain": [
       "                Department  Type Of Application  ApplicationStatus  \\\n",
       "scalin_cluster                                                       \n",
       "0                 2.051429             2.080000           4.937143   \n",
       "1                 2.000000             1.596491           0.403509   \n",
       "2                 2.294118             2.352941           4.970588   \n",
       "\n",
       "                RegionName  CounterPartyName         Amount  \n",
       "scalin_cluster                                               \n",
       "0                 1.965714          56.005714  2.509136e+09  \n",
       "1                 2.000000         125.754386  3.961231e+11  \n",
       "2                 1.955882         175.213235  1.033418e+12  "
      ]
     },
     "execution_count": 402,
     "metadata": {},
     "output_type": "execute_result"
    }
   ],
   "source": [
    "df_kmeans.groupby('scalin_cluster').mean()"
   ]
  },
  {
   "cell_type": "code",
   "execution_count": 403,
   "id": "8f448e47",
   "metadata": {},
   "outputs": [
    {
     "data": {
      "text/html": [
       "<div>\n",
       "<style scoped>\n",
       "    .dataframe tbody tr th:only-of-type {\n",
       "        vertical-align: middle;\n",
       "    }\n",
       "\n",
       "    .dataframe tbody tr th {\n",
       "        vertical-align: top;\n",
       "    }\n",
       "\n",
       "    .dataframe thead th {\n",
       "        text-align: right;\n",
       "    }\n",
       "</style>\n",
       "<table border=\"1\" class=\"dataframe\">\n",
       "  <thead>\n",
       "    <tr style=\"text-align: right;\">\n",
       "      <th></th>\n",
       "      <th>Department</th>\n",
       "      <th>Type Of Application</th>\n",
       "      <th>ApplicationStatus</th>\n",
       "      <th>RegionName</th>\n",
       "      <th>CounterPartyName</th>\n",
       "      <th>Amount</th>\n",
       "    </tr>\n",
       "    <tr>\n",
       "      <th>scalin_cluster</th>\n",
       "      <th></th>\n",
       "      <th></th>\n",
       "      <th></th>\n",
       "      <th></th>\n",
       "      <th></th>\n",
       "      <th></th>\n",
       "    </tr>\n",
       "  </thead>\n",
       "  <tbody>\n",
       "    <tr>\n",
       "      <th>0</th>\n",
       "      <td>0</td>\n",
       "      <td>0</td>\n",
       "      <td>3</td>\n",
       "      <td>0</td>\n",
       "      <td>0</td>\n",
       "      <td>0.0</td>\n",
       "    </tr>\n",
       "    <tr>\n",
       "      <th>1</th>\n",
       "      <td>0</td>\n",
       "      <td>0</td>\n",
       "      <td>0</td>\n",
       "      <td>2</td>\n",
       "      <td>5</td>\n",
       "      <td>0.0</td>\n",
       "    </tr>\n",
       "    <tr>\n",
       "      <th>2</th>\n",
       "      <td>0</td>\n",
       "      <td>0</td>\n",
       "      <td>3</td>\n",
       "      <td>0</td>\n",
       "      <td>116</td>\n",
       "      <td>0.0</td>\n",
       "    </tr>\n",
       "  </tbody>\n",
       "</table>\n",
       "</div>"
      ],
      "text/plain": [
       "                Department  Type Of Application  ApplicationStatus  \\\n",
       "scalin_cluster                                                       \n",
       "0                        0                    0                  3   \n",
       "1                        0                    0                  0   \n",
       "2                        0                    0                  3   \n",
       "\n",
       "                RegionName  CounterPartyName   Amount  \n",
       "scalin_cluster                                         \n",
       "0                        0                  0     0.0  \n",
       "1                        2                  5     0.0  \n",
       "2                        0                116     0.0  "
      ]
     },
     "execution_count": 403,
     "metadata": {},
     "output_type": "execute_result"
    }
   ],
   "source": [
    "df_kmeans.groupby('scalin_cluster').min()"
   ]
  },
  {
   "cell_type": "markdown",
   "id": "ebdd2393",
   "metadata": {},
   "source": [
    "##  The insights from the project work are written to give a personal view about the work we did."
   ]
  },
  {
   "cell_type": "markdown",
   "id": "d627db28",
   "metadata": {},
   "source": [
    "1.The Counterparty Newton from Department MCB/Multi National Corporate Banking - MCB - BU in WEST Region belongs to Term Loan-Review Application having maximum Sanctioned Amount"
   ]
  },
  {
   "cell_type": "markdown",
   "id": "17718e89",
   "metadata": {},
   "source": [
    "2.The Swarnsarita Gems Ltd from Emerging Local Corporates - MEB - BU in WEST Region belongs to IOM Application having Average Sanctioned Amount"
   ]
  },
  {
   "cell_type": "code",
   "execution_count": null,
   "id": "1fb6ab0b",
   "metadata": {},
   "outputs": [],
   "source": []
  }
 ],
 "metadata": {
  "kernelspec": {
   "display_name": "Python 3 (ipykernel)",
   "language": "python",
   "name": "python3"
  },
  "language_info": {
   "codemirror_mode": {
    "name": "ipython",
    "version": 3
   },
   "file_extension": ".py",
   "mimetype": "text/x-python",
   "name": "python",
   "nbconvert_exporter": "python",
   "pygments_lexer": "ipython3",
   "version": "3.9.7"
  }
 },
 "nbformat": 4,
 "nbformat_minor": 5
}
